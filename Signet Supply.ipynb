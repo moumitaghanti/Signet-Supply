{
 "cells": [
  {
   "cell_type": "markdown",
   "id": "59747314",
   "metadata": {},
   "source": [
    "# Signet Supply Model"
   ]
  },
  {
   "cell_type": "markdown",
   "id": "95702170",
   "metadata": {},
   "source": [
    "## Library"
   ]
  },
  {
   "cell_type": "code",
   "execution_count": 1,
   "id": "19bca4eb",
   "metadata": {},
   "outputs": [],
   "source": [
    "import pypyodbc as podbc\n",
    "import pandas as pd\n",
    "from pandas import DataFrame\n",
    "import datetime\n",
    "from datetime import date\n",
    "import matplotlib.pyplot as plt\n",
    "# import statsmodels.api as sm\n",
    "import plotly.express as px\n",
    "\n",
    "import optuna\n",
    "import lightgbm as lgb\n",
    "import numpy as np\n",
    "from sklearn.model_selection import TimeSeriesSplit\n",
    "from sklearn.metrics import mean_absolute_error, mean_squared_error, r2_score\n",
    "\n",
    "import seaborn as sns"
   ]
  },
  {
   "cell_type": "markdown",
   "id": "f640696f",
   "metadata": {},
   "source": [
    "## Load Data"
   ]
  },
  {
   "cell_type": "code",
   "execution_count": null,
   "id": "f5980fdc",
   "metadata": {},
   "outputs": [],
   "source": [
    "# # NOTE: Signet Supply Report\n",
    "# #      Signet Utilization Report\n",
    "\n",
    "# # Load utilization data\n",
    "# df_Utilization= pd.read_excel(r\"Signet_utilization_score.xlsx\", sheet_name=\"Utilization Detail\")\n",
    "\n",
    "# # Load supply data\n",
    "# df_Supplyorder= pd.read_excel(r\"Signet_supply order.xlsx\", sheet_name=\"Supply\")"
   ]
  },
  {
   "cell_type": "code",
   "execution_count": 175,
   "id": "68edf72a",
   "metadata": {},
   "outputs": [],
   "source": [
    "# NOTE: Signet Supply Report\n",
    "#      Signet Utilization Report\n",
    "\n",
    "# Load utilization data\n",
    "df_Utilization= pd.read_excel(r\"Signet_Summary.xlsx\", sheet_name=\"Report 9\", header = 1)\n",
    "df_Utilization = df_Utilization.drop('Unnamed: 0', axis = 1)\n",
    "\n",
    "# Load supply data\n",
    "# df_Supplyorder= pd.read_excel(r\"Signet_supply order.xlsx\", sheet_name=\"Supply\")"
   ]
  },
  {
   "cell_type": "markdown",
   "id": "1ac91e28",
   "metadata": {},
   "source": [
    "## Supply"
   ]
  },
  {
   "cell_type": "markdown",
   "id": "679ac12c",
   "metadata": {},
   "source": [
    "### Data Cleaning and Feature Engineering"
   ]
  },
  {
   "cell_type": "code",
   "execution_count": null,
   "id": "da78b9f4",
   "metadata": {},
   "outputs": [],
   "source": [
    "df_Supplyorder['Brand'] = df_Supplyorder['Brand'].str.strip()\n",
    "df_Supplyorder['Model (Attr)'] = df_Supplyorder['Model (Attr)'].str.strip()\n",
    "\n",
    "# Identifying the numerical and categorical columns in the supply data\n",
    "supply_numerical_cols = df_Supplyorder.select_dtypes(include='number').columns.tolist()\n",
    "supply_categorical_cols = df_Supplyorder.columns[~df_Supplyorder.columns.isin(supply_numerical_cols)].to_list()\n",
    "\n",
    "df_Supplyorder['month'] = pd.to_datetime(df_Supplyorder['Created On']).dt.month\n",
    "df_Supplyorder['day'] = pd.to_datetime(df_Supplyorder['Created On']).dt.day\n",
    "df_Supplyorder['day_num'] = pd.to_datetime(df_Supplyorder['Created On']).dt.day_of_week"
   ]
  },
  {
   "cell_type": "code",
   "execution_count": 46,
   "id": "46d93e41",
   "metadata": {},
   "outputs": [],
   "source": [
    "# grouping the supply data\n",
    "df_supply_group = df_Supplyorder.groupby(supply_categorical_cols).sum().reset_index()\n",
    "\n",
    "df_supply_group_special = df_Supplyorder[['Created On', 'Brand', 'Model (Attr)', 'Ship To Name', 'Color', 'month', 'day', 'day_num', 'Total Read', 'ZYIELD', 'Line Count']].groupby(\n",
    "    ['Created On', 'Brand', 'Model (Attr)', 'Ship To Name', 'Color', 'month', 'day', 'day_num',]\n",
    ").sum().reset_index()"
   ]
  },
  {
   "cell_type": "code",
   "execution_count": 47,
   "id": "b11fb80c",
   "metadata": {},
   "outputs": [],
   "source": [
    "from sklearn.preprocessing import LabelEncoder\n",
    "le = LabelEncoder()\n",
    "df_supply_group_special['brand_encoded'] = le.fit_transform(df_supply_group_special['Brand'])\n",
    "df_supply_group_special['color_encoded'] = le.fit_transform(df_supply_group_special['Color'])\n",
    "df_supply_group_special['model_encoded'] = le.fit_transform(df_supply_group_special['Model (Attr)'])\n",
    "df_supply_group_special['ship_to_name_encoded'] = le.fit_transform(df_supply_group_special['Ship To Name'])"
   ]
  },
  {
   "cell_type": "code",
   "execution_count": 48,
   "id": "4b2e3f30",
   "metadata": {},
   "outputs": [],
   "source": [
    "supply_group_features = ['month', 'day',\n",
    "       'day_num', 'Total Read', 'ZYIELD', 'brand_encoded',\n",
    "       'color_encoded', 'model_encoded', \n",
    "       'ship_to_name_encoded'\n",
    "       ]"
   ]
  },
  {
   "cell_type": "markdown",
   "id": "50ad43eb",
   "metadata": {},
   "source": [
    "#### Supply Group Model"
   ]
  },
  {
   "cell_type": "code",
   "execution_count": 49,
   "id": "24c978c0",
   "metadata": {},
   "outputs": [
    {
     "name": "stderr",
     "output_type": "stream",
     "text": [
      "[I 2025-07-29 13:52:47,334] A new study created in memory with name: no-name-d47338ed-9ebb-4737-8f8f-7bca7b8ce576\n",
      "[I 2025-07-29 13:52:49,530] Trial 0 finished with value: 0.5417564916051982 and parameters: {'learning_rate': 0.04296637886559061, 'num_leaves': 49, 'max_depth': 5, 'min_data_in_leaf': 20, 'feature_fraction': 0.8948120888215659, 'bagging_fraction': 0.9087632782827403, 'lambda_l1': 1.8148990162603507, 'lambda_l2': 3.076468374998758}. Best is trial 0 with value: 0.5417564916051982.\n",
      "[I 2025-07-29 13:52:51,576] Trial 1 finished with value: 0.5464997825734934 and parameters: {'learning_rate': 0.08734569541763687, 'num_leaves': 20, 'max_depth': 4, 'min_data_in_leaf': 29, 'feature_fraction': 0.8182875255083816, 'bagging_fraction': 0.6010576852308607, 'lambda_l1': 2.848890455260613, 'lambda_l2': 1.9704509870211524}. Best is trial 0 with value: 0.5417564916051982.\n",
      "[I 2025-07-29 13:52:57,150] Trial 2 finished with value: 0.5301388220106635 and parameters: {'learning_rate': 0.09137761400629142, 'num_leaves': 55, 'max_depth': 7, 'min_data_in_leaf': 32, 'feature_fraction': 0.6952745923564578, 'bagging_fraction': 0.7385242230482483, 'lambda_l1': 2.168634675878789, 'lambda_l2': 1.2955324755418869}. Best is trial 2 with value: 0.5301388220106635.\n",
      "[I 2025-07-29 13:53:03,289] Trial 3 finished with value: 0.5402024837312409 and parameters: {'learning_rate': 0.051958538984620654, 'num_leaves': 44, 'max_depth': 10, 'min_data_in_leaf': 32, 'feature_fraction': 0.9230859731231302, 'bagging_fraction': 0.9796683804778683, 'lambda_l1': 2.0273324669142645, 'lambda_l2': 1.246676713233592}. Best is trial 2 with value: 0.5301388220106635.\n",
      "[I 2025-07-29 13:53:06,848] Trial 4 finished with value: 0.5873041012030736 and parameters: {'learning_rate': 0.09314993964696767, 'num_leaves': 27, 'max_depth': 7, 'min_data_in_leaf': 18, 'feature_fraction': 0.9997685722415152, 'bagging_fraction': 0.6148283332055381, 'lambda_l1': 1.8893756567557758, 'lambda_l2': 1.98242039272376}. Best is trial 2 with value: 0.5301388220106635.\n",
      "[I 2025-07-29 13:53:14,153] Trial 5 finished with value: 0.5290666163365694 and parameters: {'learning_rate': 0.04536483563932361, 'num_leaves': 40, 'max_depth': 10, 'min_data_in_leaf': 30, 'feature_fraction': 0.7243520855093931, 'bagging_fraction': 0.9710171317150323, 'lambda_l1': 0.4482558989517005, 'lambda_l2': 4.363641488067986}. Best is trial 5 with value: 0.5290666163365694.\n",
      "[I 2025-07-29 13:53:16,889] Trial 6 finished with value: 0.5377749152599043 and parameters: {'learning_rate': 0.04800672025850045, 'num_leaves': 48, 'max_depth': 6, 'min_data_in_leaf': 35, 'feature_fraction': 0.8747978888300243, 'bagging_fraction': 0.9338001458417444, 'lambda_l1': 3.4074469080379783, 'lambda_l2': 4.365309672275383}. Best is trial 5 with value: 0.5290666163365694.\n",
      "[I 2025-07-29 13:53:20,212] Trial 7 finished with value: 0.5749476068743045 and parameters: {'learning_rate': 0.09825771356261834, 'num_leaves': 47, 'max_depth': 9, 'min_data_in_leaf': 44, 'feature_fraction': 0.8888151965088522, 'bagging_fraction': 0.7246272715508595, 'lambda_l1': 0.24081367958148858, 'lambda_l2': 0.6061932475554871}. Best is trial 5 with value: 0.5290666163365694.\n",
      "[I 2025-07-29 13:53:23,317] Trial 8 finished with value: 0.5612791841836036 and parameters: {'learning_rate': 0.03608186390656933, 'num_leaves': 41, 'max_depth': 10, 'min_data_in_leaf': 48, 'feature_fraction': 0.9619897733206233, 'bagging_fraction': 0.762833615460613, 'lambda_l1': 1.1693271850525933, 'lambda_l2': 1.5687609438654655}. Best is trial 5 with value: 0.5290666163365694.\n",
      "[I 2025-07-29 13:53:26,559] Trial 9 finished with value: 0.5283557379216693 and parameters: {'learning_rate': 0.02662067872721597, 'num_leaves': 53, 'max_depth': 9, 'min_data_in_leaf': 43, 'feature_fraction': 0.8181556925572221, 'bagging_fraction': 0.6467251670428453, 'lambda_l1': 2.272990405306471, 'lambda_l2': 4.822972528122105}. Best is trial 9 with value: 0.5283557379216693.\n",
      "[I 2025-07-29 13:53:28,660] Trial 10 finished with value: 0.5155085292717035 and parameters: {'learning_rate': 0.01677886234474483, 'num_leaves': 60, 'max_depth': 8, 'min_data_in_leaf': 41, 'feature_fraction': 0.7776760112885348, 'bagging_fraction': 0.8504480888042388, 'lambda_l1': 4.696613891139995, 'lambda_l2': 3.2504767434271056}. Best is trial 10 with value: 0.5155085292717035.\n",
      "[I 2025-07-29 13:53:30,909] Trial 11 finished with value: 0.5162293631924013 and parameters: {'learning_rate': 0.01088066513203896, 'num_leaves': 60, 'max_depth': 8, 'min_data_in_leaf': 42, 'feature_fraction': 0.601177556329848, 'bagging_fraction': 0.8434635438839336, 'lambda_l1': 4.913329628976213, 'lambda_l2': 3.211479299321768}. Best is trial 10 with value: 0.5155085292717035.\n",
      "[I 2025-07-29 13:53:33,299] Trial 12 finished with value: 0.5099294232595054 and parameters: {'learning_rate': 0.014077203603543385, 'num_leaves': 60, 'max_depth': 8, 'min_data_in_leaf': 40, 'feature_fraction': 0.6030809551165928, 'bagging_fraction': 0.849040880420005, 'lambda_l1': 4.88263371500387, 'lambda_l2': 3.106504735457124}. Best is trial 12 with value: 0.5099294232595054.\n",
      "[I 2025-07-29 13:53:36,428] Trial 13 finished with value: 0.5152394618669323 and parameters: {'learning_rate': 0.010992293126030487, 'num_leaves': 60, 'max_depth': 8, 'min_data_in_leaf': 39, 'feature_fraction': 0.6119953064256755, 'bagging_fraction': 0.853499897930676, 'lambda_l1': 4.948310627617472, 'lambda_l2': 3.2161463542617286}. Best is trial 12 with value: 0.5099294232595054.\n",
      "[I 2025-07-29 13:53:39,594] Trial 14 finished with value: 0.5163740227514649 and parameters: {'learning_rate': 0.026247837668098125, 'num_leaves': 37, 'max_depth': 6, 'min_data_in_leaf': 50, 'feature_fraction': 0.6040852762192576, 'bagging_fraction': 0.8286394059924439, 'lambda_l1': 4.032125109478375, 'lambda_l2': 2.6902231217881845}. Best is trial 12 with value: 0.5099294232595054.\n",
      "[I 2025-07-29 13:53:41,637] Trial 15 finished with value: 0.5233524827883358 and parameters: {'learning_rate': 0.06564639738404969, 'num_leaves': 56, 'max_depth': 3, 'min_data_in_leaf': 25, 'feature_fraction': 0.6630927754102016, 'bagging_fraction': 0.8885583837211123, 'lambda_l1': 4.06955471821503, 'lambda_l2': 3.768945675088553}. Best is trial 12 with value: 0.5099294232595054.\n",
      "[I 2025-07-29 13:53:45,803] Trial 16 finished with value: 0.5367809736022887 and parameters: {'learning_rate': 0.07215312806312466, 'num_leaves': 32, 'max_depth': 8, 'min_data_in_leaf': 38, 'feature_fraction': 0.6463843383915836, 'bagging_fraction': 0.767306750210111, 'lambda_l1': 4.204765641478378, 'lambda_l2': 3.6843698622452252}. Best is trial 12 with value: 0.5099294232595054.\n",
      "[I 2025-07-29 13:53:49,998] Trial 17 finished with value: 0.534267480509762 and parameters: {'learning_rate': 0.024969482852646645, 'num_leaves': 52, 'max_depth': 9, 'min_data_in_leaf': 12, 'feature_fraction': 0.7423463105467689, 'bagging_fraction': 0.8026687038886954, 'lambda_l1': 3.5246444830699684, 'lambda_l2': 2.6573303943587105}. Best is trial 12 with value: 0.5099294232595054.\n",
      "[I 2025-07-29 13:53:53,370] Trial 18 finished with value: 0.5141746845218755 and parameters: {'learning_rate': 0.010273136123566041, 'num_leaves': 60, 'max_depth': 7, 'min_data_in_leaf': 37, 'feature_fraction': 0.6517851470057264, 'bagging_fraction': 0.6795779277483065, 'lambda_l1': 4.553784852672315, 'lambda_l2': 0.034195738063183434}. Best is trial 12 with value: 0.5099294232595054.\n",
      "[I 2025-07-29 13:53:57,159] Trial 19 finished with value: 0.5246950220130392 and parameters: {'learning_rate': 0.03493664936241789, 'num_leaves': 56, 'max_depth': 5, 'min_data_in_leaf': 36, 'feature_fraction': 0.6646252746211487, 'bagging_fraction': 0.6844318387082879, 'lambda_l1': 3.191953976676233, 'lambda_l2': 0.11241875846369222}. Best is trial 12 with value: 0.5099294232595054.\n",
      "[I 2025-07-29 13:54:04,931] Trial 20 finished with value: 0.52955732120114 and parameters: {'learning_rate': 0.06099915266423776, 'num_leaves': 50, 'max_depth': 7, 'min_data_in_leaf': 26, 'feature_fraction': 0.7121291992751881, 'bagging_fraction': 0.6859720238202773, 'lambda_l1': 4.455460108065773, 'lambda_l2': 0.0013694409222546333}. Best is trial 12 with value: 0.5099294232595054.\n",
      "[I 2025-07-29 13:54:22,870] Trial 21 finished with value: 0.5135532386402797 and parameters: {'learning_rate': 0.01168727164513848, 'num_leaves': 60, 'max_depth': 8, 'min_data_in_leaf': 38, 'feature_fraction': 0.646631640162671, 'bagging_fraction': 0.8689244000441566, 'lambda_l1': 4.899038690023462, 'lambda_l2': 2.3995360838234587}. Best is trial 12 with value: 0.5099294232595054.\n",
      "[I 2025-07-29 13:54:29,733] Trial 22 finished with value: 0.515886202090933 and parameters: {'learning_rate': 0.018740112875782648, 'num_leaves': 56, 'max_depth': 6, 'min_data_in_leaf': 45, 'feature_fraction': 0.6382066557020014, 'bagging_fraction': 0.8829517170687247, 'lambda_l1': 3.84234039134089, 'lambda_l2': 0.6336392533531721}. Best is trial 12 with value: 0.5099294232595054.\n",
      "[I 2025-07-29 13:54:34,229] Trial 23 finished with value: 0.5082719639008455 and parameters: {'learning_rate': 0.017204708400549742, 'num_leaves': 58, 'max_depth': 7, 'min_data_in_leaf': 36, 'feature_fraction': 0.684892439421228, 'bagging_fraction': 0.8001753160171816, 'lambda_l1': 4.366830353561678, 'lambda_l2': 2.175165390559252}. Best is trial 23 with value: 0.5082719639008455.\n",
      "[I 2025-07-29 13:54:37,910] Trial 24 finished with value: 0.5101823198814892 and parameters: {'learning_rate': 0.021098419085030504, 'num_leaves': 53, 'max_depth': 9, 'min_data_in_leaf': 34, 'feature_fraction': 0.6970903502121049, 'bagging_fraction': 0.795015589727712, 'lambda_l1': 4.992555976866252, 'lambda_l2': 2.1602228780980193}. Best is trial 23 with value: 0.5082719639008455.\n",
      "[I 2025-07-29 13:54:41,920] Trial 25 finished with value: 0.5251368340303251 and parameters: {'learning_rate': 0.0335734281107368, 'num_leaves': 53, 'max_depth': 9, 'min_data_in_leaf': 34, 'feature_fraction': 0.765826010420475, 'bagging_fraction': 0.7998212031987171, 'lambda_l1': 4.415353517093774, 'lambda_l2': 2.1576080802732376}. Best is trial 23 with value: 0.5082719639008455.\n",
      "[I 2025-07-29 13:54:46,588] Trial 26 finished with value: 0.508322718205148 and parameters: {'learning_rate': 0.02023939836954205, 'num_leaves': 46, 'max_depth': 9, 'min_data_in_leaf': 27, 'feature_fraction': 0.6882434277081346, 'bagging_fraction': 0.8092113111239083, 'lambda_l1': 3.584253284008906, 'lambda_l2': 1.6523205117766013}. Best is trial 23 with value: 0.5082719639008455.\n",
      "[I 2025-07-29 13:54:49,246] Trial 27 finished with value: 0.5216063226616032 and parameters: {'learning_rate': 0.03128732967228108, 'num_leaves': 44, 'max_depth': 5, 'min_data_in_leaf': 26, 'feature_fraction': 0.6837348772435257, 'bagging_fraction': 0.8188415030117031, 'lambda_l1': 2.821637563277299, 'lambda_l2': 1.6128118262256002}. Best is trial 23 with value: 0.5082719639008455.\n",
      "[I 2025-07-29 13:54:53,943] Trial 28 finished with value: 0.5230012681621501 and parameters: {'learning_rate': 0.020091710418400133, 'num_leaves': 37, 'max_depth': 8, 'min_data_in_leaf': 21, 'feature_fraction': 0.7417310187762971, 'bagging_fraction': 0.758026761575222, 'lambda_l1': 3.716816404190167, 'lambda_l2': 0.9496854891893702}. Best is trial 23 with value: 0.5082719639008455.\n",
      "[I 2025-07-29 13:54:58,005] Trial 29 finished with value: 0.5327578708458692 and parameters: {'learning_rate': 0.04013470491838364, 'num_leaves': 46, 'max_depth': 7, 'min_data_in_leaf': 20, 'feature_fraction': 0.6279256654668682, 'bagging_fraction': 0.9067308377384647, 'lambda_l1': 3.061704050686527, 'lambda_l2': 2.815741007603782}. Best is trial 23 with value: 0.5082719639008455.\n",
      "[I 2025-07-29 13:55:01,340] Trial 30 finished with value: 0.5347239853759539 and parameters: {'learning_rate': 0.07879186799874552, 'num_leaves': 50, 'max_depth': 6, 'min_data_in_leaf': 23, 'feature_fraction': 0.6815998216118081, 'bagging_fraction': 0.9335798280728281, 'lambda_l1': 1.5546506231563106, 'lambda_l2': 1.6715788246001466}. Best is trial 23 with value: 0.5082719639008455.\n",
      "[I 2025-07-29 13:55:04,751] Trial 31 finished with value: 0.5055605759871574 and parameters: {'learning_rate': 0.018740345337200457, 'num_leaves': 57, 'max_depth': 9, 'min_data_in_leaf': 29, 'feature_fraction': 0.6976437307532328, 'bagging_fraction': 0.7917161621958948, 'lambda_l1': 4.308193475027047, 'lambda_l2': 2.3199018428663876}. Best is trial 31 with value: 0.5055605759871574.\n",
      "[I 2025-07-29 13:55:08,672] Trial 32 finished with value: 0.5240804055482351 and parameters: {'learning_rate': 0.027395366402250286, 'num_leaves': 57, 'max_depth': 9, 'min_data_in_leaf': 28, 'feature_fraction': 0.852007817400709, 'bagging_fraction': 0.7843888705145177, 'lambda_l1': 4.272568856826032, 'lambda_l2': 2.41643060374607}. Best is trial 31 with value: 0.5055605759871574.\n",
      "[I 2025-07-29 13:55:11,844] Trial 33 finished with value: 0.511311598549025 and parameters: {'learning_rate': 0.016535099632828898, 'num_leaves': 57, 'max_depth': 10, 'min_data_in_leaf': 31, 'feature_fraction': 0.7852069379224407, 'bagging_fraction': 0.7341209746472899, 'lambda_l1': 3.8283225683267137, 'lambda_l2': 2.9405506092812166}. Best is trial 31 with value: 0.5055605759871574.\n",
      "[I 2025-07-29 13:55:14,468] Trial 34 finished with value: 0.5330843301016601 and parameters: {'learning_rate': 0.022250102630344517, 'num_leaves': 22, 'max_depth': 8, 'min_data_in_leaf': 15, 'feature_fraction': 0.742928603946228, 'bagging_fraction': 0.8226494370854104, 'lambda_l1': 2.6758194298576385, 'lambda_l2': 3.495619498194138}. Best is trial 31 with value: 0.5055605759871574.\n",
      "[I 2025-07-29 13:55:17,464] Trial 35 finished with value: 0.5247250556272415 and parameters: {'learning_rate': 0.039656768463626646, 'num_leaves': 51, 'max_depth': 9, 'min_data_in_leaf': 28, 'feature_fraction': 0.7084079400085953, 'bagging_fraction': 0.7827912546203312, 'lambda_l1': 4.58424056455228, 'lambda_l2': 2.004322989913112}. Best is trial 31 with value: 0.5055605759871574.\n",
      "[I 2025-07-29 13:55:20,532] Trial 36 finished with value: 0.5061231588958923 and parameters: {'learning_rate': 0.015369943986766771, 'num_leaves': 44, 'max_depth': 7, 'min_data_in_leaf': 32, 'feature_fraction': 0.6222398595559266, 'bagging_fraction': 0.7170067769055383, 'lambda_l1': 3.3997251356208293, 'lambda_l2': 1.2447840051261216}. Best is trial 31 with value: 0.5055605759871574.\n",
      "[I 2025-07-29 13:55:22,368] Trial 37 finished with value: 0.5206778968835286 and parameters: {'learning_rate': 0.03019668957466888, 'num_leaves': 43, 'max_depth': 4, 'min_data_in_leaf': 32, 'feature_fraction': 0.6791453473118805, 'bagging_fraction': 0.7152593153763703, 'lambda_l1': 3.4028140816148613, 'lambda_l2': 1.182058716693094}. Best is trial 31 with value: 0.5055605759871574.\n",
      "[I 2025-07-29 13:55:25,235] Trial 38 finished with value: 0.5305121796436344 and parameters: {'learning_rate': 0.052070948232280104, 'num_leaves': 37, 'max_depth': 7, 'min_data_in_leaf': 29, 'feature_fraction': 0.7249813968600899, 'bagging_fraction': 0.6992485968100746, 'lambda_l1': 3.0299129567890506, 'lambda_l2': 1.80206867508441}. Best is trial 31 with value: 0.5055605759871574.\n",
      "[I 2025-07-29 13:55:28,680] Trial 39 finished with value: 0.5128435734292512 and parameters: {'learning_rate': 0.023206267917653012, 'num_leaves': 34, 'max_depth': 10, 'min_data_in_leaf': 24, 'feature_fraction': 0.6251780122280137, 'bagging_fraction': 0.7500486398902788, 'lambda_l1': 2.4729720634043733, 'lambda_l2': 0.9433874301938345}. Best is trial 31 with value: 0.5055605759871574.\n",
      "[I 2025-07-29 13:55:30,418] Trial 40 finished with value: 0.5187774826834486 and parameters: {'learning_rate': 0.016306532629452457, 'num_leaves': 47, 'max_depth': 4, 'min_data_in_leaf': 33, 'feature_fraction': 0.810750607852883, 'bagging_fraction': 0.631502574260067, 'lambda_l1': 3.6284170218776333, 'lambda_l2': 1.4036235179211316}. Best is trial 31 with value: 0.5055605759871574.\n",
      "[I 2025-07-29 13:55:32,878] Trial 41 finished with value: 0.5104361417660117 and parameters: {'learning_rate': 0.01689839730533796, 'num_leaves': 58, 'max_depth': 7, 'min_data_in_leaf': 40, 'feature_fraction': 0.6239570667535939, 'bagging_fraction': 0.8166279626368858, 'lambda_l1': 3.9468164413651747, 'lambda_l2': 2.3181735821312435}. Best is trial 31 with value: 0.5055605759871574.\n",
      "[I 2025-07-29 13:55:36,117] Trial 42 finished with value: 0.5069457400487647 and parameters: {'learning_rate': 0.014548449598530156, 'num_leaves': 54, 'max_depth': 8, 'min_data_in_leaf': 30, 'feature_fraction': 0.6642615258884244, 'bagging_fraction': 0.7791882948586383, 'lambda_l1': 4.189843973316816, 'lambda_l2': 1.7671658595506525}. Best is trial 31 with value: 0.5055605759871574.\n",
      "[I 2025-07-29 13:55:38,885] Trial 43 finished with value: 0.5136813250950694 and parameters: {'learning_rate': 0.029616252355984182, 'num_leaves': 54, 'max_depth': 7, 'min_data_in_leaf': 30, 'feature_fraction': 0.6648769519528845, 'bagging_fraction': 0.6595358425509584, 'lambda_l1': 4.217213414121103, 'lambda_l2': 1.8031209615702792}. Best is trial 31 with value: 0.5055605759871574.\n",
      "[I 2025-07-29 13:55:41,351] Trial 44 finished with value: 0.511605859321771 and parameters: {'learning_rate': 0.022669430846510286, 'num_leaves': 45, 'max_depth': 6, 'min_data_in_leaf': 27, 'feature_fraction': 0.7010519356573602, 'bagging_fraction': 0.7781732911041903, 'lambda_l1': 3.297486762296918, 'lambda_l2': 1.4383056929882838}. Best is trial 31 with value: 0.5055605759871574.\n",
      "[I 2025-07-29 13:55:44,382] Trial 45 finished with value: 0.5141574686721573 and parameters: {'learning_rate': 0.014644402742771543, 'num_leaves': 41, 'max_depth': 10, 'min_data_in_leaf': 22, 'feature_fraction': 0.7288869257806998, 'bagging_fraction': 0.7381728817750977, 'lambda_l1': 3.6283347711911302, 'lambda_l2': 1.954560757460402}. Best is trial 31 with value: 0.5055605759871574.\n",
      "[I 2025-07-29 13:55:47,982] Trial 46 finished with value: 0.5373886998259139 and parameters: {'learning_rate': 0.04639743598379302, 'num_leaves': 49, 'max_depth': 9, 'min_data_in_leaf': 31, 'feature_fraction': 0.8397350796503243, 'bagging_fraction': 0.753857432513192, 'lambda_l1': 0.7281329842200202, 'lambda_l2': 1.0649050066124497}. Best is trial 31 with value: 0.5055605759871574.\n",
      "[I 2025-07-29 13:55:51,041] Trial 47 finished with value: 0.5090320596774214 and parameters: {'learning_rate': 0.013786430332740452, 'num_leaves': 43, 'max_depth': 8, 'min_data_in_leaf': 35, 'feature_fraction': 0.6819422803730093, 'bagging_fraction': 0.8394566793726292, 'lambda_l1': 4.721256951637582, 'lambda_l2': 0.6485544464919897}. Best is trial 31 with value: 0.5055605759871574.\n",
      "[I 2025-07-29 13:55:54,028] Trial 48 finished with value: 0.5472847941355516 and parameters: {'learning_rate': 0.03851288875329738, 'num_leaves': 48, 'max_depth': 8, 'min_data_in_leaf': 19, 'feature_fraction': 0.9309480433627317, 'bagging_fraction': 0.7252652322675882, 'lambda_l1': 4.056394335683756, 'lambda_l2': 2.178095638106168}. Best is trial 31 with value: 0.5055605759871574.\n",
      "[I 2025-07-29 13:55:56,871] Trial 49 finished with value: 0.5165545275020688 and parameters: {'learning_rate': 0.02534016067752258, 'num_leaves': 58, 'max_depth': 9, 'min_data_in_leaf': 30, 'feature_fraction': 0.7642789989442357, 'bagging_fraction': 0.803811629773478, 'lambda_l1': 4.233996554902372, 'lambda_l2': 1.3214844462551838}. Best is trial 31 with value: 0.5055605759871574.\n"
     ]
    },
    {
     "name": "stdout",
     "output_type": "stream",
     "text": [
      "Best Parameters: {'learning_rate': 0.018740345337200457, 'num_leaves': 57, 'max_depth': 9, 'min_data_in_leaf': 29, 'feature_fraction': 0.6976437307532328, 'bagging_fraction': 0.7917161621958948, 'lambda_l1': 4.308193475027047, 'lambda_l2': 2.3199018428663876, 'objective': 'regression', 'metric': 'mae', 'verbosity': -1}\n",
      "Final Model MAE: 0.0542\n",
      "Final Model RMSE: 0.2412\n",
      "Final Model R^2: 0.8583\n"
     ]
    }
   ],
   "source": [
    "# Supply group model\n",
    "\n",
    "target = 'Line Count'\n",
    "\n",
    "# Use only the training portion for tuning\n",
    "train_data = df_supply_group_special[(df_supply_group_special['Created On'] < '2025-01-01') ]\n",
    "test = df_supply_group_special[df_supply_group_special['Created On'] >= '2025-01-01']\n",
    "\n",
    "# TimeSeriesSplit setup\n",
    "tscv = TimeSeriesSplit(n_splits=5)\n",
    "\n",
    "def objective(trial):\n",
    "    params = {\n",
    "        'objective': 'regression',\n",
    "        'metric': 'mae',\n",
    "        'verbosity': -1,\n",
    "        'boosting_type': 'gbdt',\n",
    "        'learning_rate': trial.suggest_float('learning_rate', 0.01, 0.1),\n",
    "        'num_leaves': trial.suggest_int('num_leaves', 20, 60),\n",
    "        'max_depth': trial.suggest_int('max_depth', 3, 10),\n",
    "        'min_data_in_leaf': trial.suggest_int('min_data_in_leaf', 10, 50),\n",
    "        'min_sum_hessian_in_leaf': 1e-3,\n",
    "        'feature_fraction': trial.suggest_float('feature_fraction', 0.6, 1.0),\n",
    "        'bagging_fraction': trial.suggest_float('bagging_fraction', 0.6, 1.0),\n",
    "        'lambda_l1': trial.suggest_float('lambda_l1', 0.0, 5.0),\n",
    "        'lambda_l2': trial.suggest_float('lambda_l2', 0.0, 5.0),\n",
    "        'force_row_wise': True\n",
    "    }\n",
    "\n",
    "    rmses = []\n",
    "\n",
    "    for train_idx, val_idx in tscv.split(train_data):\n",
    "        train_fold = train_data.iloc[train_idx]\n",
    "        val_fold = train_data.iloc[val_idx]\n",
    "\n",
    "        lgb_train = lgb.Dataset(train_fold[supply_group_features], label=train_fold[target], categorical_feature=['color_encoded', 'brand_encoded', 'model_encoded', 'ship_to_name_encoded'])\n",
    "        lgb_val = lgb.Dataset(val_fold[supply_group_features], label=val_fold[target], reference=lgb_train)\n",
    "\n",
    "        model = lgb.train(params, lgb_train, valid_sets=[lgb_val], )\n",
    "        preds = np.clip(model.predict(val_fold[supply_group_features]), 0, None)\n",
    "        rmse = np.sqrt(mean_squared_error(val_fold[target], preds))\n",
    "        rmses.append(rmse)\n",
    "\n",
    "    return np.mean(rmses)\n",
    "\n",
    "# Run optimization\n",
    "study = optuna.create_study(direction='minimize')\n",
    "study.optimize(objective, n_trials=50)\n",
    "\n",
    "# Get best parameters\n",
    "best_params = study.best_params\n",
    "best_params.update({'objective': 'regression', 'metric': 'mae', 'verbosity': -1})\n",
    "\n",
    "# Train on full training set\n",
    "train_final = df_supply_group_special[df_supply_group_special['Created On'] < '2025-01-01']\n",
    "test_final = df_supply_group_special[df_supply_group_special['Created On'] >= '2025-01-01']\n",
    "\n",
    "lgb_train = lgb.Dataset(train_final[supply_group_features], label=train_final[target], categorical_feature=['color_encoded', 'brand_encoded', 'model_encoded', 'ship_to_name_encoded'])\n",
    "lgb_test = lgb.Dataset(test_final[supply_group_features], label=test_final[target], reference=lgb_train)\n",
    "\n",
    "model = lgb.train(best_params, lgb_train, valid_sets=[lgb_test], )\n",
    "\n",
    "# Evaluate\n",
    "preds = np.clip(model.predict(test_final[supply_group_features]), 0, None)\n",
    "mae = mean_absolute_error(test_final[target], preds)\n",
    "rmse = np.sqrt(mean_squared_error(test_final[target], preds))\n",
    "r2 = r2_score(test_final[target], preds)\n",
    "\n",
    "print(\"Best Parameters:\", best_params)\n",
    "print(f\"Final Model MAE: {mae:.4f}\")\n",
    "print(f\"Final Model RMSE: {rmse:.4f}\")\n",
    "print(f\"Final Model R^2: {r2:.4f}\")"
   ]
  },
  {
   "cell_type": "markdown",
   "id": "f4c57abb",
   "metadata": {},
   "source": [
    "Best Parameters: {'learning_rate': 0.018740345337200457, 'num_leaves': 57, 'max_depth': 9, 'min_data_in_leaf': 29, 'feature_fraction': 0.6976437307532328, 'bagging_fraction': 0.7917161621958948, 'lambda_l1': 4.308193475027047, 'lambda_l2': 2.3199018428663876, 'objective': 'regression', 'metric': 'mae', 'verbosity': -1}\n",
    "Final Model MAE: 0.0542\n",
    "Final Model RMSE: 0.2412\n",
    "Final Model R^2: 0.8583"
   ]
  },
  {
   "cell_type": "markdown",
   "id": "f8432b0d",
   "metadata": {},
   "source": [
    "##### Supply Group Feature Importance"
   ]
  },
  {
   "cell_type": "code",
   "execution_count": 50,
   "id": "250ce7a4",
   "metadata": {},
   "outputs": [
    {
     "data": {
      "application/vnd.plotly.v1+json": {
       "config": {
        "plotlyServerURL": "https://plot.ly"
       },
       "data": [
        {
         "hovertemplate": "Importance Score=%{x}<br>Feature=%{y}<extra></extra>",
         "legendgroup": "",
         "marker": {
          "color": "#636efa",
          "pattern": {
           "shape": ""
          }
         },
         "name": "",
         "orientation": "h",
         "showlegend": false,
         "textposition": "auto",
         "type": "bar",
         "x": {
          "bdata": "0gIAAL8CAABzAgAAEwIAAAUCAAB7AQAAkAAAAIMAAAA5AAAA",
          "dtype": "i4"
         },
         "xaxis": "x",
         "y": [
          "day",
          "month",
          "ship_to_name_encoded",
          "ZYIELD",
          "Total_Read",
          "day_num",
          "model_encoded",
          "brand_encoded",
          "color_encoded"
         ],
         "yaxis": "y"
        }
       ],
       "layout": {
        "barmode": "relative",
        "legend": {
         "tracegroupgap": 0
        },
        "template": {
         "data": {
          "bar": [
           {
            "error_x": {
             "color": "#f2f5fa"
            },
            "error_y": {
             "color": "#f2f5fa"
            },
            "marker": {
             "line": {
              "color": "rgb(17,17,17)",
              "width": 0.5
             },
             "pattern": {
              "fillmode": "overlay",
              "size": 10,
              "solidity": 0.2
             }
            },
            "type": "bar"
           }
          ],
          "barpolar": [
           {
            "marker": {
             "line": {
              "color": "rgb(17,17,17)",
              "width": 0.5
             },
             "pattern": {
              "fillmode": "overlay",
              "size": 10,
              "solidity": 0.2
             }
            },
            "type": "barpolar"
           }
          ],
          "carpet": [
           {
            "aaxis": {
             "endlinecolor": "#A2B1C6",
             "gridcolor": "#506784",
             "linecolor": "#506784",
             "minorgridcolor": "#506784",
             "startlinecolor": "#A2B1C6"
            },
            "baxis": {
             "endlinecolor": "#A2B1C6",
             "gridcolor": "#506784",
             "linecolor": "#506784",
             "minorgridcolor": "#506784",
             "startlinecolor": "#A2B1C6"
            },
            "type": "carpet"
           }
          ],
          "choropleth": [
           {
            "colorbar": {
             "outlinewidth": 0,
             "ticks": ""
            },
            "type": "choropleth"
           }
          ],
          "contour": [
           {
            "colorbar": {
             "outlinewidth": 0,
             "ticks": ""
            },
            "colorscale": [
             [
              0,
              "#0d0887"
             ],
             [
              0.1111111111111111,
              "#46039f"
             ],
             [
              0.2222222222222222,
              "#7201a8"
             ],
             [
              0.3333333333333333,
              "#9c179e"
             ],
             [
              0.4444444444444444,
              "#bd3786"
             ],
             [
              0.5555555555555556,
              "#d8576b"
             ],
             [
              0.6666666666666666,
              "#ed7953"
             ],
             [
              0.7777777777777778,
              "#fb9f3a"
             ],
             [
              0.8888888888888888,
              "#fdca26"
             ],
             [
              1,
              "#f0f921"
             ]
            ],
            "type": "contour"
           }
          ],
          "contourcarpet": [
           {
            "colorbar": {
             "outlinewidth": 0,
             "ticks": ""
            },
            "type": "contourcarpet"
           }
          ],
          "heatmap": [
           {
            "colorbar": {
             "outlinewidth": 0,
             "ticks": ""
            },
            "colorscale": [
             [
              0,
              "#0d0887"
             ],
             [
              0.1111111111111111,
              "#46039f"
             ],
             [
              0.2222222222222222,
              "#7201a8"
             ],
             [
              0.3333333333333333,
              "#9c179e"
             ],
             [
              0.4444444444444444,
              "#bd3786"
             ],
             [
              0.5555555555555556,
              "#d8576b"
             ],
             [
              0.6666666666666666,
              "#ed7953"
             ],
             [
              0.7777777777777778,
              "#fb9f3a"
             ],
             [
              0.8888888888888888,
              "#fdca26"
             ],
             [
              1,
              "#f0f921"
             ]
            ],
            "type": "heatmap"
           }
          ],
          "histogram": [
           {
            "marker": {
             "pattern": {
              "fillmode": "overlay",
              "size": 10,
              "solidity": 0.2
             }
            },
            "type": "histogram"
           }
          ],
          "histogram2d": [
           {
            "colorbar": {
             "outlinewidth": 0,
             "ticks": ""
            },
            "colorscale": [
             [
              0,
              "#0d0887"
             ],
             [
              0.1111111111111111,
              "#46039f"
             ],
             [
              0.2222222222222222,
              "#7201a8"
             ],
             [
              0.3333333333333333,
              "#9c179e"
             ],
             [
              0.4444444444444444,
              "#bd3786"
             ],
             [
              0.5555555555555556,
              "#d8576b"
             ],
             [
              0.6666666666666666,
              "#ed7953"
             ],
             [
              0.7777777777777778,
              "#fb9f3a"
             ],
             [
              0.8888888888888888,
              "#fdca26"
             ],
             [
              1,
              "#f0f921"
             ]
            ],
            "type": "histogram2d"
           }
          ],
          "histogram2dcontour": [
           {
            "colorbar": {
             "outlinewidth": 0,
             "ticks": ""
            },
            "colorscale": [
             [
              0,
              "#0d0887"
             ],
             [
              0.1111111111111111,
              "#46039f"
             ],
             [
              0.2222222222222222,
              "#7201a8"
             ],
             [
              0.3333333333333333,
              "#9c179e"
             ],
             [
              0.4444444444444444,
              "#bd3786"
             ],
             [
              0.5555555555555556,
              "#d8576b"
             ],
             [
              0.6666666666666666,
              "#ed7953"
             ],
             [
              0.7777777777777778,
              "#fb9f3a"
             ],
             [
              0.8888888888888888,
              "#fdca26"
             ],
             [
              1,
              "#f0f921"
             ]
            ],
            "type": "histogram2dcontour"
           }
          ],
          "mesh3d": [
           {
            "colorbar": {
             "outlinewidth": 0,
             "ticks": ""
            },
            "type": "mesh3d"
           }
          ],
          "parcoords": [
           {
            "line": {
             "colorbar": {
              "outlinewidth": 0,
              "ticks": ""
             }
            },
            "type": "parcoords"
           }
          ],
          "pie": [
           {
            "automargin": true,
            "type": "pie"
           }
          ],
          "scatter": [
           {
            "marker": {
             "line": {
              "color": "#283442"
             }
            },
            "type": "scatter"
           }
          ],
          "scatter3d": [
           {
            "line": {
             "colorbar": {
              "outlinewidth": 0,
              "ticks": ""
             }
            },
            "marker": {
             "colorbar": {
              "outlinewidth": 0,
              "ticks": ""
             }
            },
            "type": "scatter3d"
           }
          ],
          "scattercarpet": [
           {
            "marker": {
             "colorbar": {
              "outlinewidth": 0,
              "ticks": ""
             }
            },
            "type": "scattercarpet"
           }
          ],
          "scattergeo": [
           {
            "marker": {
             "colorbar": {
              "outlinewidth": 0,
              "ticks": ""
             }
            },
            "type": "scattergeo"
           }
          ],
          "scattergl": [
           {
            "marker": {
             "line": {
              "color": "#283442"
             }
            },
            "type": "scattergl"
           }
          ],
          "scattermap": [
           {
            "marker": {
             "colorbar": {
              "outlinewidth": 0,
              "ticks": ""
             }
            },
            "type": "scattermap"
           }
          ],
          "scattermapbox": [
           {
            "marker": {
             "colorbar": {
              "outlinewidth": 0,
              "ticks": ""
             }
            },
            "type": "scattermapbox"
           }
          ],
          "scatterpolar": [
           {
            "marker": {
             "colorbar": {
              "outlinewidth": 0,
              "ticks": ""
             }
            },
            "type": "scatterpolar"
           }
          ],
          "scatterpolargl": [
           {
            "marker": {
             "colorbar": {
              "outlinewidth": 0,
              "ticks": ""
             }
            },
            "type": "scatterpolargl"
           }
          ],
          "scatterternary": [
           {
            "marker": {
             "colorbar": {
              "outlinewidth": 0,
              "ticks": ""
             }
            },
            "type": "scatterternary"
           }
          ],
          "surface": [
           {
            "colorbar": {
             "outlinewidth": 0,
             "ticks": ""
            },
            "colorscale": [
             [
              0,
              "#0d0887"
             ],
             [
              0.1111111111111111,
              "#46039f"
             ],
             [
              0.2222222222222222,
              "#7201a8"
             ],
             [
              0.3333333333333333,
              "#9c179e"
             ],
             [
              0.4444444444444444,
              "#bd3786"
             ],
             [
              0.5555555555555556,
              "#d8576b"
             ],
             [
              0.6666666666666666,
              "#ed7953"
             ],
             [
              0.7777777777777778,
              "#fb9f3a"
             ],
             [
              0.8888888888888888,
              "#fdca26"
             ],
             [
              1,
              "#f0f921"
             ]
            ],
            "type": "surface"
           }
          ],
          "table": [
           {
            "cells": {
             "fill": {
              "color": "#506784"
             },
             "line": {
              "color": "rgb(17,17,17)"
             }
            },
            "header": {
             "fill": {
              "color": "#2a3f5f"
             },
             "line": {
              "color": "rgb(17,17,17)"
             }
            },
            "type": "table"
           }
          ]
         },
         "layout": {
          "annotationdefaults": {
           "arrowcolor": "#f2f5fa",
           "arrowhead": 0,
           "arrowwidth": 1
          },
          "autotypenumbers": "strict",
          "coloraxis": {
           "colorbar": {
            "outlinewidth": 0,
            "ticks": ""
           }
          },
          "colorscale": {
           "diverging": [
            [
             0,
             "#8e0152"
            ],
            [
             0.1,
             "#c51b7d"
            ],
            [
             0.2,
             "#de77ae"
            ],
            [
             0.3,
             "#f1b6da"
            ],
            [
             0.4,
             "#fde0ef"
            ],
            [
             0.5,
             "#f7f7f7"
            ],
            [
             0.6,
             "#e6f5d0"
            ],
            [
             0.7,
             "#b8e186"
            ],
            [
             0.8,
             "#7fbc41"
            ],
            [
             0.9,
             "#4d9221"
            ],
            [
             1,
             "#276419"
            ]
           ],
           "sequential": [
            [
             0,
             "#0d0887"
            ],
            [
             0.1111111111111111,
             "#46039f"
            ],
            [
             0.2222222222222222,
             "#7201a8"
            ],
            [
             0.3333333333333333,
             "#9c179e"
            ],
            [
             0.4444444444444444,
             "#bd3786"
            ],
            [
             0.5555555555555556,
             "#d8576b"
            ],
            [
             0.6666666666666666,
             "#ed7953"
            ],
            [
             0.7777777777777778,
             "#fb9f3a"
            ],
            [
             0.8888888888888888,
             "#fdca26"
            ],
            [
             1,
             "#f0f921"
            ]
           ],
           "sequentialminus": [
            [
             0,
             "#0d0887"
            ],
            [
             0.1111111111111111,
             "#46039f"
            ],
            [
             0.2222222222222222,
             "#7201a8"
            ],
            [
             0.3333333333333333,
             "#9c179e"
            ],
            [
             0.4444444444444444,
             "#bd3786"
            ],
            [
             0.5555555555555556,
             "#d8576b"
            ],
            [
             0.6666666666666666,
             "#ed7953"
            ],
            [
             0.7777777777777778,
             "#fb9f3a"
            ],
            [
             0.8888888888888888,
             "#fdca26"
            ],
            [
             1,
             "#f0f921"
            ]
           ]
          },
          "colorway": [
           "#636efa",
           "#EF553B",
           "#00cc96",
           "#ab63fa",
           "#FFA15A",
           "#19d3f3",
           "#FF6692",
           "#B6E880",
           "#FF97FF",
           "#FECB52"
          ],
          "font": {
           "color": "#f2f5fa"
          },
          "geo": {
           "bgcolor": "rgb(17,17,17)",
           "lakecolor": "rgb(17,17,17)",
           "landcolor": "rgb(17,17,17)",
           "showlakes": true,
           "showland": true,
           "subunitcolor": "#506784"
          },
          "hoverlabel": {
           "align": "left"
          },
          "hovermode": "closest",
          "mapbox": {
           "style": "dark"
          },
          "paper_bgcolor": "rgb(17,17,17)",
          "plot_bgcolor": "rgb(17,17,17)",
          "polar": {
           "angularaxis": {
            "gridcolor": "#506784",
            "linecolor": "#506784",
            "ticks": ""
           },
           "bgcolor": "rgb(17,17,17)",
           "radialaxis": {
            "gridcolor": "#506784",
            "linecolor": "#506784",
            "ticks": ""
           }
          },
          "scene": {
           "xaxis": {
            "backgroundcolor": "rgb(17,17,17)",
            "gridcolor": "#506784",
            "gridwidth": 2,
            "linecolor": "#506784",
            "showbackground": true,
            "ticks": "",
            "zerolinecolor": "#C8D4E3"
           },
           "yaxis": {
            "backgroundcolor": "rgb(17,17,17)",
            "gridcolor": "#506784",
            "gridwidth": 2,
            "linecolor": "#506784",
            "showbackground": true,
            "ticks": "",
            "zerolinecolor": "#C8D4E3"
           },
           "zaxis": {
            "backgroundcolor": "rgb(17,17,17)",
            "gridcolor": "#506784",
            "gridwidth": 2,
            "linecolor": "#506784",
            "showbackground": true,
            "ticks": "",
            "zerolinecolor": "#C8D4E3"
           }
          },
          "shapedefaults": {
           "line": {
            "color": "#f2f5fa"
           }
          },
          "sliderdefaults": {
           "bgcolor": "#C8D4E3",
           "bordercolor": "rgb(17,17,17)",
           "borderwidth": 1,
           "tickwidth": 0
          },
          "ternary": {
           "aaxis": {
            "gridcolor": "#506784",
            "linecolor": "#506784",
            "ticks": ""
           },
           "baxis": {
            "gridcolor": "#506784",
            "linecolor": "#506784",
            "ticks": ""
           },
           "bgcolor": "rgb(17,17,17)",
           "caxis": {
            "gridcolor": "#506784",
            "linecolor": "#506784",
            "ticks": ""
           }
          },
          "title": {
           "x": 0.05
          },
          "updatemenudefaults": {
           "bgcolor": "#506784",
           "borderwidth": 0
          },
          "xaxis": {
           "automargin": true,
           "gridcolor": "#283442",
           "linecolor": "#506784",
           "ticks": "",
           "title": {
            "standoff": 15
           },
           "zerolinecolor": "#283442",
           "zerolinewidth": 2
          },
          "yaxis": {
           "automargin": true,
           "gridcolor": "#283442",
           "linecolor": "#506784",
           "ticks": "",
           "title": {
            "standoff": 15
           },
           "zerolinecolor": "#283442",
           "zerolinewidth": 2
          }
         }
        },
        "title": {
         "text": "Feature Importance (LightGBM)"
        },
        "xaxis": {
         "anchor": "y",
         "domain": [
          0,
          1
         ],
         "title": {
          "text": "Importance Score"
         }
        },
        "yaxis": {
         "anchor": "x",
         "categoryorder": "total ascending",
         "domain": [
          0,
          1
         ],
         "title": {
          "text": "Feature"
         }
        }
       }
      }
     },
     "metadata": {},
     "output_type": "display_data"
    }
   ],
   "source": [
    "# Extract feature importances and feature names\n",
    "importances = model.feature_importance()\n",
    "feature_names = model.feature_name()\n",
    "\n",
    "# Create a DataFrame\n",
    "importance_df = pd.DataFrame({\n",
    "    'Feature': feature_names,\n",
    "    'Importance': importances\n",
    "}).sort_values(by='Importance', ascending=False)\n",
    "\n",
    "# Plot with Plotly\n",
    "fig = px.bar(importance_df, x='Importance', y='Feature', orientation='h', template = 'plotly_dark', \n",
    "             title='Feature Importance (LightGBM)',\n",
    "             labels={'Importance': 'Importance Score', 'Feature': 'Feature'},\n",
    "            #  height=800\n",
    "             )\n",
    "\n",
    "fig.update_layout(yaxis={'categoryorder':'total ascending'})\n",
    "fig.show()"
   ]
  },
  {
   "cell_type": "markdown",
   "id": "e7b2df99",
   "metadata": {},
   "source": [
    "##### Supply Group Actual vs Predicted"
   ]
  },
  {
   "cell_type": "code",
   "execution_count": 51,
   "id": "78de91de",
   "metadata": {},
   "outputs": [
    {
     "data": {
      "image/png": "[encoded data removed]",
      "text/plain": [
       "<Figure size 1200x600 with 1 Axes>"
      ]
     },
     "metadata": {},
     "output_type": "display_data"
    }
   ],
   "source": [
    "# Plot actual vs predicted\n",
    "plot_df = test[['Created On', 'Line Count']].copy()\n",
    "plot_df['Predicted'] = preds\n",
    "plot_df = plot_df.rename(columns={'Line Count': 'Actual'})\n",
    "\n",
    "plot_df = plot_df.sort_values('Created On')\n",
    "\n",
    "plot_df_melted = plot_df.melt(id_vars='Created On', value_vars=['Actual', 'Predicted'],\n",
    "                              var_name='Type', value_name='Line Count')\n",
    "\n",
    "import matplotlib.pyplot as plt\n",
    "\n",
    "# Enable dark mode\n",
    "plt.style.use('dark_background')\n",
    "\n",
    "# Create the plot\n",
    "plt.figure(figsize=(12, 6), dpi=100)  # High resolution\n",
    "plt.plot(plot_df['Created On'], plot_df['Actual'], label='Actual', alpha=0.7, linewidth=1.2)\n",
    "plt.plot(plot_df['Created On'], plot_df['Predicted'], label='Predicted', alpha=0.7, linewidth=1.2)\n",
    "\n",
    "# Customize labels and title\n",
    "plt.xlabel('Time', fontsize=12)\n",
    "plt.ylabel('Contact Count', fontsize=12)\n",
    "plt.title('Actual vs Predicted Contact Count Over Time', fontsize=14)\n",
    "plt.legend()\n",
    "plt.grid(True, linestyle='--', alpha=0.3)\n",
    "plt.tight_layout()\n",
    "plt.show()"
   ]
  },
  {
   "cell_type": "markdown",
   "id": "299715d3",
   "metadata": {},
   "source": [
    "##### Supply Group Correlation Matrix Heatmap"
   ]
  },
  {
   "cell_type": "code",
   "execution_count": 52,
   "id": "c404ea89",
   "metadata": {},
   "outputs": [
    {
     "data": {
      "application/vnd.plotly.v1+json": {
       "config": {
        "plotlyServerURL": "https://plot.ly"
       },
       "data": [
        {
         "coloraxis": "coloraxis",
         "hovertemplate": "x: %{x}<br>y: %{y}<br>color: %{z}<extra></extra>",
         "name": "0",
         "texttemplate": "%{z}",
         "type": "heatmap",
         "x": [
          "month",
          "day",
          "day_num",
          "Total Read",
          "ZYIELD",
          "brand_encoded",
          "color_encoded",
          "model_encoded",
          "ship_to_name_encoded",
          "Line Count"
         ],
         "xaxis": "x",
         "y": [
          "month",
          "day",
          "day_num",
          "Total Read",
          "ZYIELD",
          "brand_encoded",
          "color_encoded",
          "model_encoded",
          "ship_to_name_encoded",
          "Line Count"
         ],
         "yaxis": "y",
         "z": {
          "bdata": "AAAAAAAA8D+4HoXrUbieP3sUrkfheqQ/exSuR+F6lD97FK5H4XqEP3sUrkfhepS/exSuR+F6pD8AAAAAAAAAgHsUrkfhepS/exSuR+F6hL+4HoXrUbiePwAAAAAAAPA/exSuR+F6hL97FK5H4XqEv3sUrkfheoS/AAAAAAAAAIAAAAAAAAAAAHsUrkfhepS/AAAAAAAAAIB7FK5H4XqUP3sUrkfheqQ/exSuR+F6hL8AAAAAAADwPwAAAAAAAACAexSuR+F6hL97FK5H4Xqkv3sUrkfheqQ/mpmZmZmZqT97FK5H4Xqkv3sUrkfhepS/exSuR+F6lD97FK5H4XqEvwAAAAAAAACAAAAAAAAA8D+amZmZmZnZP3sUrkfherQ/pHA9CtejwL97FK5H4XqkP3sUrkfherQ/mpmZmZmZ2T97FK5H4XqEP3sUrkfheoS/exSuR+F6hL+amZmZmZnZPwAAAAAAAPA/4XoUrkfhyr+kcD0K16Pgv+xRuB6F69E/mpmZmZmZyb8K16NwPQq3P3sUrkfhepS/AAAAAAAAAIB7FK5H4Xqkv3sUrkfherQ/4XoUrkfhyr8AAAAAAADwP3sUrkfhetS/mpmZmZmZqb+4HoXrUbjuP+xRuB6F68G/exSuR+F6pD8AAAAAAAAAAHsUrkfheqQ/pHA9CtejwL+kcD0K16Pgv3sUrkfhetS/AAAAAAAA8D+kcD0K16PAv3sUrkfhetS/UrgehetRyD8AAAAAAAAAgHsUrkfhepS/mpmZmZmZqT97FK5H4XqkP+xRuB6F69E/mpmZmZmZqb+kcD0K16PAvwAAAAAAAPA/exSuR+F6pL+4HoXrUbiuv3sUrkfhepS/AAAAAAAAAIB7FK5H4Xqkv3sUrkfherQ/mpmZmZmZyb+4HoXrUbjuP3sUrkfhetS/exSuR+F6pL8AAAAAAADwP6RwPQrXo8C/exSuR+F6hL97FK5H4XqUP3sUrkfhepS/mpmZmZmZ2T8K16NwPQq3P+xRuB6F68G/UrgehetRyD+4HoXrUbiuv6RwPQrXo8C/AAAAAAAA8D8=",
          "dtype": "f8",
          "shape": "10, 10"
         }
        }
       ],
       "layout": {
        "coloraxis": {
         "cmax": 1,
         "cmin": -1,
         "colorscale": [
          [
           0,
           "rgb(5,48,97)"
          ],
          [
           0.1,
           "rgb(33,102,172)"
          ],
          [
           0.2,
           "rgb(67,147,195)"
          ],
          [
           0.3,
           "rgb(146,197,222)"
          ],
          [
           0.4,
           "rgb(209,229,240)"
          ],
          [
           0.5,
           "rgb(247,247,247)"
          ],
          [
           0.6,
           "rgb(253,219,199)"
          ],
          [
           0.7,
           "rgb(244,165,130)"
          ],
          [
           0.8,
           "rgb(214,96,77)"
          ],
          [
           0.9,
           "rgb(178,24,43)"
          ],
          [
           1,
           "rgb(103,0,31)"
          ]
         ]
        },
        "height": 800,
        "template": {
         "data": {
          "bar": [
           {
            "error_x": {
             "color": "#f2f5fa"
            },
            "error_y": {
             "color": "#f2f5fa"
            },
            "marker": {
             "line": {
              "color": "rgb(17,17,17)",
              "width": 0.5
             },
             "pattern": {
              "fillmode": "overlay",
              "size": 10,
              "solidity": 0.2
             }
            },
            "type": "bar"
           }
          ],
          "barpolar": [
           {
            "marker": {
             "line": {
              "color": "rgb(17,17,17)",
              "width": 0.5
             },
             "pattern": {
              "fillmode": "overlay",
              "size": 10,
              "solidity": 0.2
             }
            },
            "type": "barpolar"
           }
          ],
          "carpet": [
           {
            "aaxis": {
             "endlinecolor": "#A2B1C6",
             "gridcolor": "#506784",
             "linecolor": "#506784",
             "minorgridcolor": "#506784",
             "startlinecolor": "#A2B1C6"
            },
            "baxis": {
             "endlinecolor": "#A2B1C6",
             "gridcolor": "#506784",
             "linecolor": "#506784",
             "minorgridcolor": "#506784",
             "startlinecolor": "#A2B1C6"
            },
            "type": "carpet"
           }
          ],
          "choropleth": [
           {
            "colorbar": {
             "outlinewidth": 0,
             "ticks": ""
            },
            "type": "choropleth"
           }
          ],
          "contour": [
           {
            "colorbar": {
             "outlinewidth": 0,
             "ticks": ""
            },
            "colorscale": [
             [
              0,
              "#0d0887"
             ],
             [
              0.1111111111111111,
              "#46039f"
             ],
             [
              0.2222222222222222,
              "#7201a8"
             ],
             [
              0.3333333333333333,
              "#9c179e"
             ],
             [
              0.4444444444444444,
              "#bd3786"
             ],
             [
              0.5555555555555556,
              "#d8576b"
             ],
             [
              0.6666666666666666,
              "#ed7953"
             ],
             [
              0.7777777777777778,
              "#fb9f3a"
             ],
             [
              0.8888888888888888,
              "#fdca26"
             ],
             [
              1,
              "#f0f921"
             ]
            ],
            "type": "contour"
           }
          ],
          "contourcarpet": [
           {
            "colorbar": {
             "outlinewidth": 0,
             "ticks": ""
            },
            "type": "contourcarpet"
           }
          ],
          "heatmap": [
           {
            "colorbar": {
             "outlinewidth": 0,
             "ticks": ""
            },
            "colorscale": [
             [
              0,
              "#0d0887"
             ],
             [
              0.1111111111111111,
              "#46039f"
             ],
             [
              0.2222222222222222,
              "#7201a8"
             ],
             [
              0.3333333333333333,
              "#9c179e"
             ],
             [
              0.4444444444444444,
              "#bd3786"
             ],
             [
              0.5555555555555556,
              "#d8576b"
             ],
             [
              0.6666666666666666,
              "#ed7953"
             ],
             [
              0.7777777777777778,
              "#fb9f3a"
             ],
             [
              0.8888888888888888,
              "#fdca26"
             ],
             [
              1,
              "#f0f921"
             ]
            ],
            "type": "heatmap"
           }
          ],
          "histogram": [
           {
            "marker": {
             "pattern": {
              "fillmode": "overlay",
              "size": 10,
              "solidity": 0.2
             }
            },
            "type": "histogram"
           }
          ],
          "histogram2d": [
           {
            "colorbar": {
             "outlinewidth": 0,
             "ticks": ""
            },
            "colorscale": [
             [
              0,
              "#0d0887"
             ],
             [
              0.1111111111111111,
              "#46039f"
             ],
             [
              0.2222222222222222,
              "#7201a8"
             ],
             [
              0.3333333333333333,
              "#9c179e"
             ],
             [
              0.4444444444444444,
              "#bd3786"
             ],
             [
              0.5555555555555556,
              "#d8576b"
             ],
             [
              0.6666666666666666,
              "#ed7953"
             ],
             [
              0.7777777777777778,
              "#fb9f3a"
             ],
             [
              0.8888888888888888,
              "#fdca26"
             ],
             [
              1,
              "#f0f921"
             ]
            ],
            "type": "histogram2d"
           }
          ],
          "histogram2dcontour": [
           {
            "colorbar": {
             "outlinewidth": 0,
             "ticks": ""
            },
            "colorscale": [
             [
              0,
              "#0d0887"
             ],
             [
              0.1111111111111111,
              "#46039f"
             ],
             [
              0.2222222222222222,
              "#7201a8"
             ],
             [
              0.3333333333333333,
              "#9c179e"
             ],
             [
              0.4444444444444444,
              "#bd3786"
             ],
             [
              0.5555555555555556,
              "#d8576b"
             ],
             [
              0.6666666666666666,
              "#ed7953"
             ],
             [
              0.7777777777777778,
              "#fb9f3a"
             ],
             [
              0.8888888888888888,
              "#fdca26"
             ],
             [
              1,
              "#f0f921"
             ]
            ],
            "type": "histogram2dcontour"
           }
          ],
          "mesh3d": [
           {
            "colorbar": {
             "outlinewidth": 0,
             "ticks": ""
            },
            "type": "mesh3d"
           }
          ],
          "parcoords": [
           {
            "line": {
             "colorbar": {
              "outlinewidth": 0,
              "ticks": ""
             }
            },
            "type": "parcoords"
           }
          ],
          "pie": [
           {
            "automargin": true,
            "type": "pie"
           }
          ],
          "scatter": [
           {
            "marker": {
             "line": {
              "color": "#283442"
             }
            },
            "type": "scatter"
           }
          ],
          "scatter3d": [
           {
            "line": {
             "colorbar": {
              "outlinewidth": 0,
              "ticks": ""
             }
            },
            "marker": {
             "colorbar": {
              "outlinewidth": 0,
              "ticks": ""
             }
            },
            "type": "scatter3d"
           }
          ],
          "scattercarpet": [
           {
            "marker": {
             "colorbar": {
              "outlinewidth": 0,
              "ticks": ""
             }
            },
            "type": "scattercarpet"
           }
          ],
          "scattergeo": [
           {
            "marker": {
             "colorbar": {
              "outlinewidth": 0,
              "ticks": ""
             }
            },
            "type": "scattergeo"
           }
          ],
          "scattergl": [
           {
            "marker": {
             "line": {
              "color": "#283442"
             }
            },
            "type": "scattergl"
           }
          ],
          "scattermap": [
           {
            "marker": {
             "colorbar": {
              "outlinewidth": 0,
              "ticks": ""
             }
            },
            "type": "scattermap"
           }
          ],
          "scattermapbox": [
           {
            "marker": {
             "colorbar": {
              "outlinewidth": 0,
              "ticks": ""
             }
            },
            "type": "scattermapbox"
           }
          ],
          "scatterpolar": [
           {
            "marker": {
             "colorbar": {
              "outlinewidth": 0,
              "ticks": ""
             }
            },
            "type": "scatterpolar"
           }
          ],
          "scatterpolargl": [
           {
            "marker": {
             "colorbar": {
              "outlinewidth": 0,
              "ticks": ""
             }
            },
            "type": "scatterpolargl"
           }
          ],
          "scatterternary": [
           {
            "marker": {
             "colorbar": {
              "outlinewidth": 0,
              "ticks": ""
             }
            },
            "type": "scatterternary"
           }
          ],
          "surface": [
           {
            "colorbar": {
             "outlinewidth": 0,
             "ticks": ""
            },
            "colorscale": [
             [
              0,
              "#0d0887"
             ],
             [
              0.1111111111111111,
              "#46039f"
             ],
             [
              0.2222222222222222,
              "#7201a8"
             ],
             [
              0.3333333333333333,
              "#9c179e"
             ],
             [
              0.4444444444444444,
              "#bd3786"
             ],
             [
              0.5555555555555556,
              "#d8576b"
             ],
             [
              0.6666666666666666,
              "#ed7953"
             ],
             [
              0.7777777777777778,
              "#fb9f3a"
             ],
             [
              0.8888888888888888,
              "#fdca26"
             ],
             [
              1,
              "#f0f921"
             ]
            ],
            "type": "surface"
           }
          ],
          "table": [
           {
            "cells": {
             "fill": {
              "color": "#506784"
             },
             "line": {
              "color": "rgb(17,17,17)"
             }
            },
            "header": {
             "fill": {
              "color": "#2a3f5f"
             },
             "line": {
              "color": "rgb(17,17,17)"
             }
            },
            "type": "table"
           }
          ]
         },
         "layout": {
          "annotationdefaults": {
           "arrowcolor": "#f2f5fa",
           "arrowhead": 0,
           "arrowwidth": 1
          },
          "autotypenumbers": "strict",
          "coloraxis": {
           "colorbar": {
            "outlinewidth": 0,
            "ticks": ""
           }
          },
          "colorscale": {
           "diverging": [
            [
             0,
             "#8e0152"
            ],
            [
             0.1,
             "#c51b7d"
            ],
            [
             0.2,
             "#de77ae"
            ],
            [
             0.3,
             "#f1b6da"
            ],
            [
             0.4,
             "#fde0ef"
            ],
            [
             0.5,
             "#f7f7f7"
            ],
            [
             0.6,
             "#e6f5d0"
            ],
            [
             0.7,
             "#b8e186"
            ],
            [
             0.8,
             "#7fbc41"
            ],
            [
             0.9,
             "#4d9221"
            ],
            [
             1,
             "#276419"
            ]
           ],
           "sequential": [
            [
             0,
             "#0d0887"
            ],
            [
             0.1111111111111111,
             "#46039f"
            ],
            [
             0.2222222222222222,
             "#7201a8"
            ],
            [
             0.3333333333333333,
             "#9c179e"
            ],
            [
             0.4444444444444444,
             "#bd3786"
            ],
            [
             0.5555555555555556,
             "#d8576b"
            ],
            [
             0.6666666666666666,
             "#ed7953"
            ],
            [
             0.7777777777777778,
             "#fb9f3a"
            ],
            [
             0.8888888888888888,
             "#fdca26"
            ],
            [
             1,
             "#f0f921"
            ]
           ],
           "sequentialminus": [
            [
             0,
             "#0d0887"
            ],
            [
             0.1111111111111111,
             "#46039f"
            ],
            [
             0.2222222222222222,
             "#7201a8"
            ],
            [
             0.3333333333333333,
             "#9c179e"
            ],
            [
             0.4444444444444444,
             "#bd3786"
            ],
            [
             0.5555555555555556,
             "#d8576b"
            ],
            [
             0.6666666666666666,
             "#ed7953"
            ],
            [
             0.7777777777777778,
             "#fb9f3a"
            ],
            [
             0.8888888888888888,
             "#fdca26"
            ],
            [
             1,
             "#f0f921"
            ]
           ]
          },
          "colorway": [
           "#636efa",
           "#EF553B",
           "#00cc96",
           "#ab63fa",
           "#FFA15A",
           "#19d3f3",
           "#FF6692",
           "#B6E880",
           "#FF97FF",
           "#FECB52"
          ],
          "font": {
           "color": "#f2f5fa"
          },
          "geo": {
           "bgcolor": "rgb(17,17,17)",
           "lakecolor": "rgb(17,17,17)",
           "landcolor": "rgb(17,17,17)",
           "showlakes": true,
           "showland": true,
           "subunitcolor": "#506784"
          },
          "hoverlabel": {
           "align": "left"
          },
          "hovermode": "closest",
          "mapbox": {
           "style": "dark"
          },
          "paper_bgcolor": "rgb(17,17,17)",
          "plot_bgcolor": "rgb(17,17,17)",
          "polar": {
           "angularaxis": {
            "gridcolor": "#506784",
            "linecolor": "#506784",
            "ticks": ""
           },
           "bgcolor": "rgb(17,17,17)",
           "radialaxis": {
            "gridcolor": "#506784",
            "linecolor": "#506784",
            "ticks": ""
           }
          },
          "scene": {
           "xaxis": {
            "backgroundcolor": "rgb(17,17,17)",
            "gridcolor": "#506784",
            "gridwidth": 2,
            "linecolor": "#506784",
            "showbackground": true,
            "ticks": "",
            "zerolinecolor": "#C8D4E3"
           },
           "yaxis": {
            "backgroundcolor": "rgb(17,17,17)",
            "gridcolor": "#506784",
            "gridwidth": 2,
            "linecolor": "#506784",
            "showbackground": true,
            "ticks": "",
            "zerolinecolor": "#C8D4E3"
           },
           "zaxis": {
            "backgroundcolor": "rgb(17,17,17)",
            "gridcolor": "#506784",
            "gridwidth": 2,
            "linecolor": "#506784",
            "showbackground": true,
            "ticks": "",
            "zerolinecolor": "#C8D4E3"
           }
          },
          "shapedefaults": {
           "line": {
            "color": "#f2f5fa"
           }
          },
          "sliderdefaults": {
           "bgcolor": "#C8D4E3",
           "bordercolor": "rgb(17,17,17)",
           "borderwidth": 1,
           "tickwidth": 0
          },
          "ternary": {
           "aaxis": {
            "gridcolor": "#506784",
            "linecolor": "#506784",
            "ticks": ""
           },
           "baxis": {
            "gridcolor": "#506784",
            "linecolor": "#506784",
            "ticks": ""
           },
           "bgcolor": "rgb(17,17,17)",
           "caxis": {
            "gridcolor": "#506784",
            "linecolor": "#506784",
            "ticks": ""
           }
          },
          "title": {
           "x": 0.05
          },
          "updatemenudefaults": {
           "bgcolor": "#506784",
           "borderwidth": 0
          },
          "xaxis": {
           "automargin": true,
           "gridcolor": "#283442",
           "linecolor": "#506784",
           "ticks": "",
           "title": {
            "standoff": 15
           },
           "zerolinecolor": "#283442",
           "zerolinewidth": 2
          },
          "yaxis": {
           "automargin": true,
           "gridcolor": "#283442",
           "linecolor": "#506784",
           "ticks": "",
           "title": {
            "standoff": 15
           },
           "zerolinecolor": "#283442",
           "zerolinewidth": 2
          }
         }
        },
        "title": {
         "text": "Correlation Matrix Heatmap"
        },
        "width": 800,
        "xaxis": {
         "anchor": "y",
         "domain": [
          0,
          1
         ]
        },
        "yaxis": {
         "anchor": "x",
         "autorange": "reversed",
         "domain": [
          0,
          1
         ]
        }
       }
      }
     },
     "metadata": {},
     "output_type": "display_data"
    }
   ],
   "source": [
    "# Select the relevant numeric columns\n",
    "columns = ['month', 'day', 'day_num', 'Total Read', 'ZYIELD', \n",
    "           'brand_encoded', 'color_encoded', 'model_encoded', \n",
    "           'ship_to_name_encoded', 'Line Count']\n",
    "\n",
    "# Filter the DataFrame\n",
    "dfsupply = df_supply_group_special[columns]\n",
    "\n",
    "# Compute the correlation matrix\n",
    "correlation_matrix = dfsupply.corr()\n",
    "\n",
    "# Round the correlation values to 2 decimal places\n",
    "correlation_matrix = correlation_matrix.round(2)\n",
    "\n",
    "\n",
    "# Create the heatmap using Plotly Express\n",
    "fig = px.imshow(correlation_matrix,\n",
    "                text_auto=True,\n",
    "                width=800, height=800,\n",
    "                color_continuous_scale='RdBu_r',\n",
    "                aspect='auto',\n",
    "                zmin=-1, zmax=1,\n",
    "                title='Correlation Matrix Heatmap', template='plotly_dark')\n",
    "\n",
    "fig.show()\n"
   ]
  },
  {
   "cell_type": "code",
   "execution_count": 53,
   "id": "ef328a36",
   "metadata": {},
   "outputs": [
    {
     "data": {
      "application/vnd.microsoft.datawrangler.viewer.v0+json": {
       "columns": [
        {
         "name": "index",
         "rawType": "int64",
         "type": "integer"
        },
        {
         "name": "Feature",
         "rawType": "object",
         "type": "string"
        },
        {
         "name": "Line Count",
         "rawType": "float64",
         "type": "float"
        }
       ],
       "ref": "4c466ae2-31d3-4484-bfae-c915ca1bd9cb",
       "rows": [
        [
         "0",
         "Line Count",
         "1.0"
        ],
        [
         "1",
         "Total Read",
         "0.4"
        ],
        [
         "2",
         "color_encoded",
         "0.19"
        ],
        [
         "3",
         "ZYIELD",
         "0.09"
        ],
        [
         "4",
         "day",
         "0.02"
        ],
        [
         "5",
         "month",
         "-0.01"
        ],
        [
         "6",
         "day_num",
         "-0.02"
        ],
        [
         "7",
         "model_encoded",
         "-0.06"
        ],
        [
         "8",
         "ship_to_name_encoded",
         "-0.13"
        ],
        [
         "9",
         "brand_encoded",
         "-0.14"
        ]
       ],
       "shape": {
        "columns": 2,
        "rows": 10
       }
      },
      "text/html": [
       "<div>\n",
       "<style scoped>\n",
       "    .dataframe tbody tr th:only-of-type {\n",
       "        vertical-align: middle;\n",
       "    }\n",
       "\n",
       "    .dataframe tbody tr th {\n",
       "        vertical-align: top;\n",
       "    }\n",
       "\n",
       "    .dataframe thead th {\n",
       "        text-align: right;\n",
       "    }\n",
       "</style>\n",
       "<table border=\"1\" class=\"dataframe\">\n",
       "  <thead>\n",
       "    <tr style=\"text-align: right;\">\n",
       "      <th></th>\n",
       "      <th>Feature</th>\n",
       "      <th>Line Count</th>\n",
       "    </tr>\n",
       "  </thead>\n",
       "  <tbody>\n",
       "    <tr>\n",
       "      <th>0</th>\n",
       "      <td>Line Count</td>\n",
       "      <td>1.00</td>\n",
       "    </tr>\n",
       "    <tr>\n",
       "      <th>1</th>\n",
       "      <td>Total Read</td>\n",
       "      <td>0.40</td>\n",
       "    </tr>\n",
       "    <tr>\n",
       "      <th>2</th>\n",
       "      <td>color_encoded</td>\n",
       "      <td>0.19</td>\n",
       "    </tr>\n",
       "    <tr>\n",
       "      <th>3</th>\n",
       "      <td>ZYIELD</td>\n",
       "      <td>0.09</td>\n",
       "    </tr>\n",
       "    <tr>\n",
       "      <th>4</th>\n",
       "      <td>day</td>\n",
       "      <td>0.02</td>\n",
       "    </tr>\n",
       "    <tr>\n",
       "      <th>5</th>\n",
       "      <td>month</td>\n",
       "      <td>-0.01</td>\n",
       "    </tr>\n",
       "    <tr>\n",
       "      <th>6</th>\n",
       "      <td>day_num</td>\n",
       "      <td>-0.02</td>\n",
       "    </tr>\n",
       "    <tr>\n",
       "      <th>7</th>\n",
       "      <td>model_encoded</td>\n",
       "      <td>-0.06</td>\n",
       "    </tr>\n",
       "    <tr>\n",
       "      <th>8</th>\n",
       "      <td>ship_to_name_encoded</td>\n",
       "      <td>-0.13</td>\n",
       "    </tr>\n",
       "    <tr>\n",
       "      <th>9</th>\n",
       "      <td>brand_encoded</td>\n",
       "      <td>-0.14</td>\n",
       "    </tr>\n",
       "  </tbody>\n",
       "</table>\n",
       "</div>"
      ],
      "text/plain": [
       "                Feature  Line Count\n",
       "0            Line Count        1.00\n",
       "1            Total Read        0.40\n",
       "2         color_encoded        0.19\n",
       "3                ZYIELD        0.09\n",
       "4                   day        0.02\n",
       "5                 month       -0.01\n",
       "6               day_num       -0.02\n",
       "7         model_encoded       -0.06\n",
       "8  ship_to_name_encoded       -0.13\n",
       "9         brand_encoded       -0.14"
      ]
     },
     "execution_count": 53,
     "metadata": {},
     "output_type": "execute_result"
    }
   ],
   "source": [
    "correlation_matrix['Line Count'].sort_values(ascending=False).reset_index().rename(columns={'index':'Feature'})"
   ]
  },
  {
   "cell_type": "code",
   "execution_count": 37,
   "id": "ec19c03d",
   "metadata": {},
   "outputs": [
    {
     "data": {
      "text/plain": [
       "['supply_model_r2_86.pkl']"
      ]
     },
     "execution_count": 37,
     "metadata": {},
     "output_type": "execute_result"
    }
   ],
   "source": [
    "import joblib\n",
    "\n",
    "# Save the model\n",
    "joblib.dump(model, 'supply_model_r2_86.pkl')"
   ]
  },
  {
   "cell_type": "markdown",
   "id": "f38f6136",
   "metadata": {},
   "source": [
    "## Utilization\n",
    "\n",
    "<span style = \"color>:gold\"> Get `days since last order` data"
   ]
  },
  {
   "cell_type": "markdown",
   "id": "fb047be1",
   "metadata": {},
   "source": [
    "### Feature Engineering"
   ]
  },
  {
   "cell_type": "code",
   "execution_count": null,
   "id": "98d89fd1",
   "metadata": {},
   "outputs": [],
   "source": [
    "# # Clean categorical data\n",
    "# df_Utilization['Brand'] = df_Utilization['Brand'].str.strip()\n",
    "# df_Utilization['Model (Attr)'] = df_Utilization['Model (Attr)'].str.strip()\n",
    "\n",
    "# # Identifying the numerical and categorical columns in the supply data\n",
    "# util_numerical_cols = df_Utilization.select_dtypes(include='number').columns.tolist()\n",
    "# util_categorical_cols = df_Utilization.columns[~df_Utilization.columns.isin(util_numerical_cols)].to_list()\n",
    "\n",
    "# # create month and day features\n",
    "# df_Utilization['month'] = pd.to_datetime(df_Utilization['Created On']).dt.month\n",
    "# df_Utilization['day'] = pd.to_datetime(df_Utilization['Created On']).dt.day\n",
    "# df_Utilization['day_num'] = pd.to_datetime(df_Utilization['Created On']).dt.day_of_week\n",
    "\n",
    "# # create utilization feature\n",
    "# df_Utilization['Utilization Score'] = df_Utilization['Total AMV']/(df_Utilization['ZYIELD']/2)\n",
    "\n",
    "# # grouping the util data\n",
    "# df_util_group = df_Utilization.groupby(util_categorical_cols).sum().reset_index()\n",
    "\n",
    "# df_util_group_special = df_Utilization[['Created On', 'Brand', 'Model (Attr)', 'Ship To Name', 'Color', 'month', 'day', 'day_num', 'Total Read', 'ZYIELD', 'Line Count','Utilization Score', 'Total AMV']].groupby(\n",
    "#     ['Created On', 'Brand', 'Model (Attr)', 'Ship To Name', 'Color', 'month', 'day', 'day_num',]\n",
    "# ).sum().reset_index()\n",
    "\n",
    "# # encode categorical features\n",
    "# from sklearn.preprocessing import LabelEncoder\n",
    "# le = LabelEncoder()\n",
    "# df_util_group_special['brand_encoded'] = le.fit_transform(df_util_group_special['Brand'])\n",
    "# df_util_group_special['color_encoded'] = le.fit_transform(df_util_group_special['Color'])\n",
    "# df_util_group_special['model_encoded'] = le.fit_transform(df_util_group_special['Model (Attr)'])\n",
    "# df_util_group_special['ship_to_name_encoded'] = le.fit_transform(df_util_group_special['Ship To Name'])"
   ]
  },
  {
   "cell_type": "markdown",
   "id": "f8f274bc",
   "metadata": {},
   "source": [
    "### Training Features"
   ]
  },
  {
   "cell_type": "code",
   "execution_count": null,
   "id": "ba5eb35a",
   "metadata": {},
   "outputs": [],
   "source": [
    "# # isolate training features\n",
    "# util_train_features = ['month', 'day',\n",
    "#        'day_num', 'Total Read', 'ZYIELD', 'brand_encoded',\n",
    "#        'color_encoded', 'model_encoded', \n",
    "#        'ship_to_name_encoded', 'Utilization Score', 'Total AMV'\n",
    "#        ]"
   ]
  },
  {
   "cell_type": "markdown",
   "id": "84ecf53a",
   "metadata": {},
   "source": [
    "### Split Train and Test and Identify Target Feature"
   ]
  },
  {
   "cell_type": "markdown",
   "id": "52cb0b43",
   "metadata": {},
   "source": [
    "<span style = \"color:gold\">Issue with this is that it is not accounting for zeros. When densified, the ammount of zeros overwhelm the model. However, without zeros, the forcast does not know how to predict days without values. "
   ]
  },
  {
   "cell_type": "code",
   "execution_count": 178,
   "id": "adbd2b5e",
   "metadata": {},
   "outputs": [],
   "source": [
    "# Clean categorical data\n",
    "df_Utilization['Brand'] = df_Utilization['Brand'].str.strip()\n",
    "df_Utilization['Model (Attr)'] = df_Utilization['Model (Attr)'].str.strip()\n",
    "\n",
    "# create month and day features\n",
    "df_Utilization['month'] = pd.to_datetime(df_Utilization['Created On']).dt.month\n",
    "df_Utilization['year'] = pd.to_datetime(df_Utilization['Created On']).dt.year\n",
    "df_Utilization['day'] = pd.to_datetime(df_Utilization['Created On']).dt.day\n",
    "df_Utilization['day_num'] = pd.to_datetime(df_Utilization['Created On']).dt.day_of_week\n",
    "\n",
    "# create utilization feature\n",
    "df_Utilization['Utilization Score'] = df_Utilization['Total AMV'] / (df_Utilization['ZYIELD'] / 2)\n",
    "\n",
    "# group the utilization data by a subset of columns\n",
    "df_util_group_special = df_Utilization[['Created On', 'Brand', 'Model (Attr)', 'Ship To Name', 'Color', 'year',\n",
    "                                        'month', 'day', 'day_num', 'Total Read', 'ZYIELD',\n",
    "                                        'Line Count', 'Utilization Score', 'Total AMV']].groupby(\n",
    "    ['Created On', 'Brand', 'Model (Attr)', 'Ship To Name', 'Color', 'year', 'month', 'day', 'day_num',]\n",
    ").sum().reset_index()\n",
    "\n",
    "# --- 2. Encode categorical features and store encoders (Refactored) ---\n",
    "# Create a dictionary to hold the label encoders\n",
    "encoders = {}\n",
    "categorical_features_to_encode = ['Brand', 'Model (Attr)', 'Color', 'Ship To Name']\n",
    "\n",
    "for feature in categorical_features_to_encode:\n",
    "    le = LabelEncoder()\n",
    "    df_util_group_special[f'{feature.replace(\" \", \"_\").replace(\"(\", \"\").replace(\")\", \"\").lower()}_encoded'] = le.fit_transform(df_util_group_special[feature])\n",
    "    encoders[feature] = le # Store the fitted encoder\n",
    "\n",
    "# isolate training features\n",
    "util_train_features = [\n",
    "    'year', 'month', 'day', 'day_num', 'Total Read', 'ZYIELD', 'Utilization Score', 'Total AMV',\n",
    "    'brand_encoded', 'color_encoded', 'model_attr_encoded', 'ship_to_name_encoded'\n",
    "]"
   ]
  },
  {
   "cell_type": "code",
   "execution_count": null,
   "id": "4f984293",
   "metadata": {},
   "outputs": [],
   "source": [
    "df_util_group_month = df_Utilization[['Brand', 'Model (Attr)', 'Ship To Name', 'Color', 'year',\n",
    "                                        'month', 'Total Read', 'ZYIELD',\n",
    "                                        'Line Count', 'Utilization Score', 'Total AMV']].groupby(\n",
    "    ['Brand', 'Model (Attr)', 'Ship To Name', 'Color', 'year', 'month']\n",
    ").sum().reset_index()\n",
    "\n",
    "df_util_group_month['year_month'] = df_util_group_month['year'].astype(str) + '-' + df_util_group_month['month'].astype(str)\n",
    "\n",
    "# --- 2. Encode categorical features and store encoders (Refactored) ---\n",
    "# Create a dictionary to hold the label encoders\n",
    "encoders = {}\n",
    "categorical_features_to_encode = ['Brand', 'Model (Attr)', 'Color', 'Ship To Name']\n",
    "\n",
    "for feature in categorical_features_to_encode:\n",
    "    le = LabelEncoder()\n",
    "    df_util_group_month[f'{feature.replace(\" \", \"_\").replace(\"(\", \"\").replace(\")\", \"\").lower()}_encoded'] = le.fit_transform(df_util_group_month[feature])\n",
    "    encoders[feature] = le # Store the fitted encoder\n",
    "\n",
    "# isolate training features\n",
    "util_train_features = [\n",
    "    'year', 'month', 'Total Read', 'ZYIELD', 'Utilization Score', 'Total AMV',\n",
    "    'brand_encoded', 'color_encoded', 'model_attr_encoded', 'ship_to_name_encoded'\n",
    "]\n",
    "\n",
    "# Utilization model\n",
    "\n",
    "target = 'Line Count'\n",
    "\n",
    "# Use only the training portion for tuning\n",
    "train_data = df_util_group_month[(df_util_group_month['year_month'] < '2025-01') ]\n",
    "test = df_util_group_month[df_util_group_month['year_month'] >= '2025-01']"
   ]
  },
  {
   "cell_type": "code",
   "execution_count": null,
   "id": "a645e1cb",
   "metadata": {},
   "outputs": [],
   "source": [
    "# Utilization model\n",
    "\n",
    "target = 'Line Count'\n",
    "\n",
    "# Use only the training portion for tuning\n",
    "train_data = df_util_group_special[(df_util_group_special['Created On'] < '2025-01-01') ]\n",
    "test = df_util_group_special[df_util_group_special['Created On'] >= '2025-01-01']"
   ]
  },
  {
   "cell_type": "markdown",
   "id": "06c6bf8d",
   "metadata": {},
   "source": [
    "### Build Model and Hyperparameter Tuning"
   ]
  },
  {
   "cell_type": "code",
   "execution_count": 208,
   "id": "a5e61dfb",
   "metadata": {},
   "outputs": [
    {
     "name": "stderr",
     "output_type": "stream",
     "text": [
      "[I 2025-08-06 22:05:05,235] A new study created in memory with name: no-name-0720ce94-f5b1-4a7f-a374-35cf0447c0d7\n",
      "[I 2025-08-06 22:05:07,274] Trial 0 finished with value: -0.2562244965726214 and parameters: {'learning_rate': 0.03554921316296943, 'num_leaves': 46, 'max_depth': 10, 'min_data_in_leaf': 29, 'feature_fraction': 0.6913161307031704, 'bagging_fraction': 0.935195365681313, 'lambda_l1': 0.9787981078817709, 'lambda_l2': 0.1922906584555789}. Best is trial 0 with value: -0.2562244965726214.\n",
      "[I 2025-08-06 22:05:08,816] Trial 1 finished with value: -0.3141672597256576 and parameters: {'learning_rate': 0.07706827574247761, 'num_leaves': 36, 'max_depth': 9, 'min_data_in_leaf': 17, 'feature_fraction': 0.9661217248118215, 'bagging_fraction': 0.783636541514881, 'lambda_l1': 3.685751435014664, 'lambda_l2': 4.251725649208531}. Best is trial 1 with value: -0.3141672597256576.\n",
      "[I 2025-08-06 22:05:10,548] Trial 2 finished with value: -0.18486309669733228 and parameters: {'learning_rate': 0.018799348486540007, 'num_leaves': 35, 'max_depth': 9, 'min_data_in_leaf': 44, 'feature_fraction': 0.9098966480514, 'bagging_fraction': 0.7023460430656296, 'lambda_l1': 1.1576749561879467, 'lambda_l2': 0.12593825018943128}. Best is trial 1 with value: -0.3141672597256576.\n",
      "[I 2025-08-06 22:05:12,170] Trial 3 finished with value: -0.28428291718501875 and parameters: {'learning_rate': 0.07015324113006914, 'num_leaves': 23, 'max_depth': 7, 'min_data_in_leaf': 24, 'feature_fraction': 0.817390435105739, 'bagging_fraction': 0.6373795549374331, 'lambda_l1': 0.7867576858699887, 'lambda_l2': 2.545168192099492}. Best is trial 1 with value: -0.3141672597256576.\n",
      "[I 2025-08-06 22:05:15,673] Trial 4 finished with value: -0.2467676059703349 and parameters: {'learning_rate': 0.0651634889436966, 'num_leaves': 33, 'max_depth': 10, 'min_data_in_leaf': 21, 'feature_fraction': 0.6285572496691857, 'bagging_fraction': 0.7411501314753579, 'lambda_l1': 4.250206925210088, 'lambda_l2': 4.6274883351962}. Best is trial 1 with value: -0.3141672597256576.\n",
      "[I 2025-08-06 22:05:17,412] Trial 5 pruned. Trial was pruned at iteration 78.\n",
      "[I 2025-08-06 22:05:18,412] Trial 6 pruned. Trial was pruned at iteration 5.\n",
      "[I 2025-08-06 22:05:19,597] Trial 7 pruned. Trial was pruned at iteration 5.\n",
      "[I 2025-08-06 22:05:21,835] Trial 8 finished with value: -0.31301016840544404 and parameters: {'learning_rate': 0.08090447757348537, 'num_leaves': 51, 'max_depth': 8, 'min_data_in_leaf': 28, 'feature_fraction': 0.8764917907194878, 'bagging_fraction': 0.9767549823411776, 'lambda_l1': 2.8012390457171072, 'lambda_l2': 3.446125628221066}. Best is trial 1 with value: -0.3141672597256576.\n",
      "[I 2025-08-06 22:05:22,388] Trial 9 pruned. Trial was pruned at iteration 5.\n",
      "[I 2025-08-06 22:05:23,407] Trial 10 finished with value: -0.2697289018135086 and parameters: {'learning_rate': 0.09883447427558924, 'num_leaves': 21, 'max_depth': 5, 'min_data_in_leaf': 13, 'feature_fraction': 0.9784227794247734, 'bagging_fraction': 0.8604911641942846, 'lambda_l1': 3.669542184727428, 'lambda_l2': 4.910117217437352}. Best is trial 1 with value: -0.3141672597256576.\n",
      "[I 2025-08-06 22:05:24,829] Trial 11 finished with value: -0.3129721985413467 and parameters: {'learning_rate': 0.09133044024271349, 'num_leaves': 56, 'max_depth': 8, 'min_data_in_leaf': 37, 'feature_fraction': 0.8756043887312221, 'bagging_fraction': 0.9980561436301246, 'lambda_l1': 3.351249088486905, 'lambda_l2': 3.719434440099933}. Best is trial 1 with value: -0.3141672597256576.\n",
      "[I 2025-08-06 22:05:26,273] Trial 12 finished with value: -0.3066572349169688 and parameters: {'learning_rate': 0.08339463449769942, 'num_leaves': 52, 'max_depth': 8, 'min_data_in_leaf': 11, 'feature_fraction': 0.8990408550817235, 'bagging_fraction': 0.84475534205347, 'lambda_l1': 3.1489390035639424, 'lambda_l2': 1.744903055900822}. Best is trial 1 with value: -0.3141672597256576.\n",
      "[I 2025-08-06 22:05:27,314] Trial 13 pruned. Trial was pruned at iteration 5.\n",
      "[I 2025-08-06 22:05:28,504] Trial 14 pruned. Trial was pruned at iteration 5.\n",
      "[I 2025-08-06 22:05:29,570] Trial 15 pruned. Trial was pruned at iteration 5.\n",
      "[I 2025-08-06 22:05:30,494] Trial 16 pruned. Trial was pruned at iteration 5.\n",
      "[I 2025-08-06 22:05:31,831] Trial 17 pruned. Trial was pruned at iteration 6.\n",
      "[I 2025-08-06 22:05:33,663] Trial 18 pruned. Trial was pruned at iteration 5.\n",
      "[I 2025-08-06 22:05:34,655] Trial 19 pruned. Trial was pruned at iteration 5.\n",
      "[I 2025-08-06 22:05:35,794] Trial 20 pruned. Trial was pruned at iteration 5.\n",
      "[I 2025-08-06 22:05:36,967] Trial 21 pruned. Trial was pruned at iteration 5.\n",
      "[I 2025-08-06 22:05:38,059] Trial 22 pruned. Trial was pruned at iteration 6.\n",
      "[I 2025-08-06 22:05:39,566] Trial 23 finished with value: -0.3297690485580096 and parameters: {'learning_rate': 0.09168994155935734, 'num_leaves': 48, 'max_depth': 9, 'min_data_in_leaf': 35, 'feature_fraction': 0.9658155643458074, 'bagging_fraction': 0.963583288937791, 'lambda_l1': 2.8329319925847845, 'lambda_l2': 2.7920021268495367}. Best is trial 23 with value: -0.3297690485580096.\n",
      "[I 2025-08-06 22:05:40,660] Trial 24 pruned. Trial was pruned at iteration 5.\n",
      "[I 2025-08-06 22:05:42,134] Trial 25 pruned. Trial was pruned at iteration 5.\n",
      "[I 2025-08-06 22:05:43,946] Trial 26 finished with value: -0.3037219896114723 and parameters: {'learning_rate': 0.09018723057396645, 'num_leaves': 48, 'max_depth': 9, 'min_data_in_leaf': 16, 'feature_fraction': 0.9678379336056293, 'bagging_fraction': 0.901664806657094, 'lambda_l1': 2.426601488353729, 'lambda_l2': 1.0745911869900246}. Best is trial 23 with value: -0.3297690485580096.\n",
      "[I 2025-08-06 22:05:45,488] Trial 27 finished with value: -0.32586359105522356 and parameters: {'learning_rate': 0.08085572162835214, 'num_leaves': 51, 'max_depth': 7, 'min_data_in_leaf': 31, 'feature_fraction': 0.9100164484559592, 'bagging_fraction': 0.8777810057896834, 'lambda_l1': 3.9518168392144126, 'lambda_l2': 3.069175075739246}. Best is trial 23 with value: -0.3297690485580096.\n",
      "[I 2025-08-06 22:05:46,307] Trial 28 pruned. Trial was pruned at iteration 5.\n",
      "[I 2025-08-06 22:05:47,190] Trial 29 pruned. Trial was pruned at iteration 5.\n",
      "[I 2025-08-06 22:05:49,480] Trial 30 pruned. Trial was pruned at iteration 5.\n",
      "[I 2025-08-06 22:05:50,830] Trial 31 pruned. Trial was pruned at iteration 30.\n",
      "[I 2025-08-06 22:05:52,345] Trial 32 finished with value: -0.3593294340956913 and parameters: {'learning_rate': 0.0946628579559136, 'num_leaves': 50, 'max_depth': 9, 'min_data_in_leaf': 40, 'feature_fraction': 0.9222831235787626, 'bagging_fraction': 0.9721742565437432, 'lambda_l1': 3.1989196961685056, 'lambda_l2': 2.7155281205198305}. Best is trial 32 with value: -0.3593294340956913.\n",
      "[I 2025-08-06 22:05:53,539] Trial 33 pruned. Trial was pruned at iteration 5.\n",
      "[I 2025-08-06 22:05:54,530] Trial 34 pruned. Trial was pruned at iteration 5.\n",
      "[I 2025-08-06 22:05:55,423] Trial 35 pruned. Trial was pruned at iteration 5.\n",
      "[I 2025-08-06 22:05:56,444] Trial 36 pruned. Trial was pruned at iteration 5.\n",
      "[I 2025-08-06 22:05:57,231] Trial 37 pruned. Trial was pruned at iteration 8.\n",
      "[I 2025-08-06 22:05:58,066] Trial 38 pruned. Trial was pruned at iteration 5.\n",
      "[I 2025-08-06 22:05:59,035] Trial 39 pruned. Trial was pruned at iteration 5.\n",
      "[I 2025-08-06 22:05:59,512] Trial 40 pruned. Trial was pruned at iteration 5.\n",
      "[I 2025-08-06 22:06:00,520] Trial 41 pruned. Trial was pruned at iteration 5.\n",
      "[I 2025-08-06 22:06:01,651] Trial 42 pruned. Trial was pruned at iteration 11.\n",
      "[I 2025-08-06 22:06:02,710] Trial 43 finished with value: -0.31547255471417274 and parameters: {'learning_rate': 0.09722564224620102, 'num_leaves': 33, 'max_depth': 7, 'min_data_in_leaf': 33, 'feature_fraction': 0.9506839010816717, 'bagging_fraction': 0.9401752979643376, 'lambda_l1': 3.5205205142182647, 'lambda_l2': 3.105158875336124}. Best is trial 32 with value: -0.3593294340956913.\n",
      "[I 2025-08-06 22:06:03,538] Trial 44 pruned. Trial was pruned at iteration 17.\n",
      "[I 2025-08-06 22:06:04,389] Trial 45 pruned. Trial was pruned at iteration 17.\n",
      "[I 2025-08-06 22:06:04,944] Trial 46 pruned. Trial was pruned at iteration 11.\n",
      "[I 2025-08-06 22:06:05,735] Trial 47 pruned. Trial was pruned at iteration 14.\n",
      "[I 2025-08-06 22:06:06,758] Trial 48 pruned. Trial was pruned at iteration 6.\n",
      "[I 2025-08-06 22:06:07,819] Trial 49 pruned. Trial was pruned at iteration 5.\n"
     ]
    },
    {
     "name": "stdout",
     "output_type": "stream",
     "text": [
      "Best Parameters: {'learning_rate': 0.0946628579559136, 'num_leaves': 50, 'max_depth': 9, 'min_data_in_leaf': 40, 'feature_fraction': 0.9222831235787626, 'bagging_fraction': 0.9721742565437432, 'lambda_l1': 3.1989196961685056, 'lambda_l2': 2.7155281205198305, 'objective': 'regression', 'metric': 'mae', 'verbosity': -1}\n",
      "Final Model MAE: 0.0530\n",
      "Final Model RMSE: 0.4229\n",
      "Final Model R^2: 0.9507\n"
     ]
    }
   ],
   "source": [
    "import optuna\n",
    "import lightgbm as lgb\n",
    "from sklearn.model_selection import TimeSeriesSplit\n",
    "from sklearn.metrics import r2_score\n",
    "from optuna.integration import LightGBMPruningCallback\n",
    "import warnings\n",
    "from lightgbm import early_stopping, log_evaluation\n",
    "import numpy as np\n",
    "\n",
    "# Suppress the specific Optuna warning\n",
    "warnings.filterwarnings(\"ignore\", category=UserWarning)\n",
    "\n",
    "# TimeSeriesSplit setup\n",
    "tscv = TimeSeriesSplit(n_splits=5)\n",
    "\n",
    "def objective(trial):\n",
    "    params = {\n",
    "        'objective': 'regression',\n",
    "        'metric': 'rmse', # 'mae',\n",
    "        'verbosity': -1,\n",
    "        'boosting_type': 'gbdt',\n",
    "        'learning_rate': trial.suggest_float('learning_rate', 0.01, 0.1),\n",
    "        'num_leaves': trial.suggest_int('num_leaves', 20, 60),\n",
    "        'max_depth': trial.suggest_int('max_depth', 3, 10),\n",
    "        'min_data_in_leaf': trial.suggest_int('min_data_in_leaf', 10, 50),\n",
    "        'min_sum_hessian_in_leaf': 1e-3,\n",
    "        'feature_fraction': trial.suggest_float('feature_fraction', 0.6, 1.0),\n",
    "        'bagging_fraction': trial.suggest_float('bagging_fraction', 0.6, 1.0),\n",
    "        'lambda_l1': trial.suggest_float('lambda_l1', 0.0, 5.0),\n",
    "        'lambda_l2': trial.suggest_float('lambda_l2', 0.0, 5.0),\n",
    "        'force_row_wise': True,\n",
    "    }\n",
    "\n",
    "    r2_scores = []\n",
    "    \n",
    "    # We will use the last fold for pruning, as it's the most recent data\n",
    "    for i, (train_idx, val_idx) in enumerate(tscv.split(train_data)):\n",
    "        train_fold = train_data.iloc[train_idx]\n",
    "        val_fold = train_data.iloc[val_idx]\n",
    "\n",
    "        lgb_train = lgb.Dataset(train_fold[util_train_features], label=train_fold[target])\n",
    "        lgb_val = lgb.Dataset(val_fold[util_train_features], label=val_fold[target], reference=lgb_train, categorical_feature=['color_encoded', 'brand_encoded', 'model_attr_encoded', 'ship_to_name_encoded'])\n",
    "\n",
    "        # Only pass the pruning callback to the last fold to avoid the warning\n",
    "        callbacks = [early_stopping(stopping_rounds=100, verbose=False),\n",
    "                     log_evaluation(period=0) # This will stop the verbose output\n",
    "                     ]\n",
    "        if i == tscv.get_n_splits() - 1:\n",
    "            callbacks.append(LightGBMPruningCallback(trial, \"rmse\"))\n",
    "\n",
    "        model = lgb.train(\n",
    "            params,\n",
    "            lgb_train,\n",
    "            valid_sets=[lgb_val],\n",
    "            callbacks=callbacks,\n",
    "            )\n",
    "        \n",
    "\n",
    "        preds = np.clip(model.predict(val_fold[util_train_features], num_iteration=model.best_iteration), 0, None)\n",
    "        r2 = r2_score(val_fold[target], preds)\n",
    "        r2_scores.append(r2)\n",
    "\n",
    "    return -np.mean(r2_scores)\n",
    "    #     rmse = np.sqrt(mean_squared_error(val_fold[target], preds))\n",
    "    #     rmses.append(rmse)\n",
    "\n",
    "    # return np.mean(rmses)\n",
    "\n",
    "# Run optimization\n",
    "study = optuna.create_study(\n",
    "    direction='minimize',\n",
    "    pruner=optuna.pruners.MedianPruner(n_warmup_steps=5)\n",
    ")\n",
    "study.optimize(objective, n_trials=50)\n",
    "\n",
    "# Get best parameters\n",
    "best_params = study.best_params\n",
    "best_params.update({'objective': 'regression', 'metric': 'mae', 'verbosity': -1})\n",
    "\n",
    "# # Train on full training set\n",
    "# train_final = df_util_group_special[df_util_group_special['Created On'] < '2025-01-01']\n",
    "# test_final = df_util_group_special[df_util_group_special['Created On'] >= '2025-01-01']\n",
    "\n",
    "# Train on full training set\n",
    "train_final = df_util_group_month[df_util_group_month['year_month'] < '2025-01']\n",
    "test_final = df_util_group_month[df_util_group_month['year_month'] >= '2025-01']\n",
    "\n",
    "lgb_train = lgb.Dataset(train_final[util_train_features], label=train_final[target])\n",
    "lgb_test = lgb.Dataset(test_final[util_train_features], label=test_final[target], reference=lgb_train, categorical_feature=['color_encoded', 'brand_encoded', 'model_attr_encoded', 'ship_to_name_encoded'])\n",
    "\n",
    "model = lgb.train(best_params, lgb_train, valid_sets=[lgb_test], )\n",
    "\n",
    "# Evaluate\n",
    "preds = np.clip(model.predict(test_final[util_train_features]), 0, None)\n",
    "mae = mean_absolute_error(test_final[target], preds)\n",
    "rmse = np.sqrt(mean_squared_error(test_final[target], preds))\n",
    "r2 = r2_score(test_final[target], preds)\n",
    "\n",
    "print(\"Best Parameters:\", best_params)\n",
    "print(f\"Final Model MAE: {mae:.4f}\")\n",
    "print(f\"Final Model RMSE: {rmse:.4f}\")\n",
    "print(f\"Final Model R^2: {r2:.4f}\")"
   ]
  },
  {
   "cell_type": "markdown",
   "id": "5f2d8281",
   "metadata": {},
   "source": [
    "Best Parameters: {'learning_rate': 0.014471751706276077, 'num_leaves': 48, 'max_depth': 5, 'min_data_in_leaf': 12, 'feature_fraction': 0.6374152229671644, 'bagging_fraction': 0.9289648476405755, 'lambda_l1': 0.27744527482706194, 'lambda_l2': 0.5473580520094363, 'objective': 'regression', 'metric': 'mae', 'verbosity': -1}\n",
    "Final Model MAE: 0.0607\n",
    "Final Model RMSE: 0.1517\n",
    "Final Model R^2: 0.9440"
   ]
  },
  {
   "cell_type": "markdown",
   "id": "4a6eb03c",
   "metadata": {},
   "source": [
    "Best Parameters: {'learning_rate': 0.062057525454152794, 'num_leaves': 39, 'max_depth': 8, 'min_data_in_leaf': 14, 'feature_fraction': 0.649343699507569, 'bagging_fraction': 0.9786031765968543, 'lambda_l1': 2.884396110827601, 'lambda_l2': 4.990429368824895, 'objective': 'regression', 'metric': 'mae', 'verbosity': -1}\n",
    "Final Model MAE: 0.0228\n",
    "Final Model RMSE: 0.1519\n",
    "Final Model R^2: 0.9438"
   ]
  },
  {
   "cell_type": "markdown",
   "id": "495e6d70",
   "metadata": {},
   "source": [
    "includes year - still not a great forecast\n",
    "\n",
    "Best Parameters: {'learning_rate': 0.0993988179837413, 'num_leaves': 49, 'max_depth': 8, 'min_data_in_leaf': 12, 'feature_fraction': 0.6763667290063162, 'bagging_fraction': 0.8760457182145337, 'lambda_l1': 1.032811833951817, 'lambda_l2': 1.3608864679245676, 'objective': 'regression', 'metric': 'mae', 'verbosity': -1}\n",
    "Final Model MAE: 0.0327\n",
    "Final Model RMSE: 0.1818\n",
    "Final Model R^2: 0.9195"
   ]
  },
  {
   "cell_type": "markdown",
   "id": "4351f555",
   "metadata": {},
   "source": [
    "from the monthly binned data\n",
    "\n",
    "Best Parameters: {'learning_rate': 0.0946628579559136, 'num_leaves': 50, 'max_depth': 9, 'min_data_in_leaf': 40, 'feature_fraction': 0.9222831235787626, 'bagging_fraction': 0.9721742565437432, 'lambda_l1': 3.1989196961685056, 'lambda_l2': 2.7155281205198305, 'objective': 'regression', 'metric': 'mae', 'verbosity': -1}\n",
    "Final Model MAE: 0.0530\n",
    "Final Model RMSE: 0.4229\n",
    "Final Model R^2: 0.9507"
   ]
  },
  {
   "cell_type": "markdown",
   "id": "62e9afb3",
   "metadata": {},
   "source": [
    "### Import Saved Model"
   ]
  },
  {
   "cell_type": "code",
   "execution_count": 13,
   "id": "d69d3499",
   "metadata": {},
   "outputs": [
    {
     "name": "stdout",
     "output_type": "stream",
     "text": [
      "Final Model MAE: 0.0614\n",
      "Final Model RMSE: 0.1692\n",
      "Final Model R^2: 0.9303\n"
     ]
    }
   ],
   "source": [
    "import joblib\n",
    "\n",
    "model = joblib.load('util_model_r2_93v2.pkl')\n",
    "\n",
    "# Train on full training set\n",
    "train_final = df_util_group_special[df_util_group_special['Created On'] < '2025-01-01']\n",
    "test_final = df_util_group_special[df_util_group_special['Created On'] >= '2025-01-01']\n",
    "\n",
    "# Evaluate\n",
    "preds = np.clip(model.predict(test_final[util_train_features]), 0, None)\n",
    "mae = mean_absolute_error(test_final[target], preds)\n",
    "rmse = np.sqrt(mean_squared_error(test_final[target], preds))\n",
    "r2 = r2_score(test_final[target], preds)\n",
    "\n",
    "# print(\"Best Parameters:\", best_params)\n",
    "print(f\"Final Model MAE: {mae:.4f}\")\n",
    "print(f\"Final Model RMSE: {rmse:.4f}\")\n",
    "print(f\"Final Model R^2: {r2:.4f}\")"
   ]
  },
  {
   "cell_type": "markdown",
   "id": "dc1e5397",
   "metadata": {},
   "source": [
    "### Feature Importance"
   ]
  },
  {
   "cell_type": "code",
   "execution_count": 209,
   "id": "adfd1e0d",
   "metadata": {},
   "outputs": [
    {
     "data": {
      "application/vnd.plotly.v1+json": {
       "config": {
        "plotlyServerURL": "https://plot.ly"
       },
       "data": [
        {
         "hovertemplate": "Importance Score=%{x}<br>Feature=%{y}<extra></extra>",
         "legendgroup": "",
         "marker": {
          "color": "#636efa",
          "pattern": {
           "shape": ""
          }
         },
         "name": "",
         "orientation": "h",
         "showlegend": false,
         "textposition": "auto",
         "type": "bar",
         "x": {
          "bdata": "yQEAAK4BAACOAQAASQEAADwBAAAWAQAArQAAAI0AAABlAAAAJwAAAA==",
          "dtype": "i4"
         },
         "xaxis": "x",
         "y": [
          "ZYIELD",
          "Total_AMV",
          "ship_to_name_encoded",
          "model_attr_encoded",
          "Total_Read",
          "month",
          "Utilization_Score",
          "brand_encoded",
          "year",
          "color_encoded"
         ],
         "yaxis": "y"
        }
       ],
       "layout": {
        "barmode": "relative",
        "legend": {
         "tracegroupgap": 0
        },
        "template": {
         "data": {
          "bar": [
           {
            "error_x": {
             "color": "#f2f5fa"
            },
            "error_y": {
             "color": "#f2f5fa"
            },
            "marker": {
             "line": {
              "color": "rgb(17,17,17)",
              "width": 0.5
             },
             "pattern": {
              "fillmode": "overlay",
              "size": 10,
              "solidity": 0.2
             }
            },
            "type": "bar"
           }
          ],
          "barpolar": [
           {
            "marker": {
             "line": {
              "color": "rgb(17,17,17)",
              "width": 0.5
             },
             "pattern": {
              "fillmode": "overlay",
              "size": 10,
              "solidity": 0.2
             }
            },
            "type": "barpolar"
           }
          ],
          "carpet": [
           {
            "aaxis": {
             "endlinecolor": "#A2B1C6",
             "gridcolor": "#506784",
             "linecolor": "#506784",
             "minorgridcolor": "#506784",
             "startlinecolor": "#A2B1C6"
            },
            "baxis": {
             "endlinecolor": "#A2B1C6",
             "gridcolor": "#506784",
             "linecolor": "#506784",
             "minorgridcolor": "#506784",
             "startlinecolor": "#A2B1C6"
            },
            "type": "carpet"
           }
          ],
          "choropleth": [
           {
            "colorbar": {
             "outlinewidth": 0,
             "ticks": ""
            },
            "type": "choropleth"
           }
          ],
          "contour": [
           {
            "colorbar": {
             "outlinewidth": 0,
             "ticks": ""
            },
            "colorscale": [
             [
              0,
              "#0d0887"
             ],
             [
              0.1111111111111111,
              "#46039f"
             ],
             [
              0.2222222222222222,
              "#7201a8"
             ],
             [
              0.3333333333333333,
              "#9c179e"
             ],
             [
              0.4444444444444444,
              "#bd3786"
             ],
             [
              0.5555555555555556,
              "#d8576b"
             ],
             [
              0.6666666666666666,
              "#ed7953"
             ],
             [
              0.7777777777777778,
              "#fb9f3a"
             ],
             [
              0.8888888888888888,
              "#fdca26"
             ],
             [
              1,
              "#f0f921"
             ]
            ],
            "type": "contour"
           }
          ],
          "contourcarpet": [
           {
            "colorbar": {
             "outlinewidth": 0,
             "ticks": ""
            },
            "type": "contourcarpet"
           }
          ],
          "heatmap": [
           {
            "colorbar": {
             "outlinewidth": 0,
             "ticks": ""
            },
            "colorscale": [
             [
              0,
              "#0d0887"
             ],
             [
              0.1111111111111111,
              "#46039f"
             ],
             [
              0.2222222222222222,
              "#7201a8"
             ],
             [
              0.3333333333333333,
              "#9c179e"
             ],
             [
              0.4444444444444444,
              "#bd3786"
             ],
             [
              0.5555555555555556,
              "#d8576b"
             ],
             [
              0.6666666666666666,
              "#ed7953"
             ],
             [
              0.7777777777777778,
              "#fb9f3a"
             ],
             [
              0.8888888888888888,
              "#fdca26"
             ],
             [
              1,
              "#f0f921"
             ]
            ],
            "type": "heatmap"
           }
          ],
          "histogram": [
           {
            "marker": {
             "pattern": {
              "fillmode": "overlay",
              "size": 10,
              "solidity": 0.2
             }
            },
            "type": "histogram"
           }
          ],
          "histogram2d": [
           {
            "colorbar": {
             "outlinewidth": 0,
             "ticks": ""
            },
            "colorscale": [
             [
              0,
              "#0d0887"
             ],
             [
              0.1111111111111111,
              "#46039f"
             ],
             [
              0.2222222222222222,
              "#7201a8"
             ],
             [
              0.3333333333333333,
              "#9c179e"
             ],
             [
              0.4444444444444444,
              "#bd3786"
             ],
             [
              0.5555555555555556,
              "#d8576b"
             ],
             [
              0.6666666666666666,
              "#ed7953"
             ],
             [
              0.7777777777777778,
              "#fb9f3a"
             ],
             [
              0.8888888888888888,
              "#fdca26"
             ],
             [
              1,
              "#f0f921"
             ]
            ],
            "type": "histogram2d"
           }
          ],
          "histogram2dcontour": [
           {
            "colorbar": {
             "outlinewidth": 0,
             "ticks": ""
            },
            "colorscale": [
             [
              0,
              "#0d0887"
             ],
             [
              0.1111111111111111,
              "#46039f"
             ],
             [
              0.2222222222222222,
              "#7201a8"
             ],
             [
              0.3333333333333333,
              "#9c179e"
             ],
             [
              0.4444444444444444,
              "#bd3786"
             ],
             [
              0.5555555555555556,
              "#d8576b"
             ],
             [
              0.6666666666666666,
              "#ed7953"
             ],
             [
              0.7777777777777778,
              "#fb9f3a"
             ],
             [
              0.8888888888888888,
              "#fdca26"
             ],
             [
              1,
              "#f0f921"
             ]
            ],
            "type": "histogram2dcontour"
           }
          ],
          "mesh3d": [
           {
            "colorbar": {
             "outlinewidth": 0,
             "ticks": ""
            },
            "type": "mesh3d"
           }
          ],
          "parcoords": [
           {
            "line": {
             "colorbar": {
              "outlinewidth": 0,
              "ticks": ""
             }
            },
            "type": "parcoords"
           }
          ],
          "pie": [
           {
            "automargin": true,
            "type": "pie"
           }
          ],
          "scatter": [
           {
            "marker": {
             "line": {
              "color": "#283442"
             }
            },
            "type": "scatter"
           }
          ],
          "scatter3d": [
           {
            "line": {
             "colorbar": {
              "outlinewidth": 0,
              "ticks": ""
             }
            },
            "marker": {
             "colorbar": {
              "outlinewidth": 0,
              "ticks": ""
             }
            },
            "type": "scatter3d"
           }
          ],
          "scattercarpet": [
           {
            "marker": {
             "colorbar": {
              "outlinewidth": 0,
              "ticks": ""
             }
            },
            "type": "scattercarpet"
           }
          ],
          "scattergeo": [
           {
            "marker": {
             "colorbar": {
              "outlinewidth": 0,
              "ticks": ""
             }
            },
            "type": "scattergeo"
           }
          ],
          "scattergl": [
           {
            "marker": {
             "line": {
              "color": "#283442"
             }
            },
            "type": "scattergl"
           }
          ],
          "scattermap": [
           {
            "marker": {
             "colorbar": {
              "outlinewidth": 0,
              "ticks": ""
             }
            },
            "type": "scattermap"
           }
          ],
          "scattermapbox": [
           {
            "marker": {
             "colorbar": {
              "outlinewidth": 0,
              "ticks": ""
             }
            },
            "type": "scattermapbox"
           }
          ],
          "scatterpolar": [
           {
            "marker": {
             "colorbar": {
              "outlinewidth": 0,
              "ticks": ""
             }
            },
            "type": "scatterpolar"
           }
          ],
          "scatterpolargl": [
           {
            "marker": {
             "colorbar": {
              "outlinewidth": 0,
              "ticks": ""
             }
            },
            "type": "scatterpolargl"
           }
          ],
          "scatterternary": [
           {
            "marker": {
             "colorbar": {
              "outlinewidth": 0,
              "ticks": ""
             }
            },
            "type": "scatterternary"
           }
          ],
          "surface": [
           {
            "colorbar": {
             "outlinewidth": 0,
             "ticks": ""
            },
            "colorscale": [
             [
              0,
              "#0d0887"
             ],
             [
              0.1111111111111111,
              "#46039f"
             ],
             [
              0.2222222222222222,
              "#7201a8"
             ],
             [
              0.3333333333333333,
              "#9c179e"
             ],
             [
              0.4444444444444444,
              "#bd3786"
             ],
             [
              0.5555555555555556,
              "#d8576b"
             ],
             [
              0.6666666666666666,
              "#ed7953"
             ],
             [
              0.7777777777777778,
              "#fb9f3a"
             ],
             [
              0.8888888888888888,
              "#fdca26"
             ],
             [
              1,
              "#f0f921"
             ]
            ],
            "type": "surface"
           }
          ],
          "table": [
           {
            "cells": {
             "fill": {
              "color": "#506784"
             },
             "line": {
              "color": "rgb(17,17,17)"
             }
            },
            "header": {
             "fill": {
              "color": "#2a3f5f"
             },
             "line": {
              "color": "rgb(17,17,17)"
             }
            },
            "type": "table"
           }
          ]
         },
         "layout": {
          "annotationdefaults": {
           "arrowcolor": "#f2f5fa",
           "arrowhead": 0,
           "arrowwidth": 1
          },
          "autotypenumbers": "strict",
          "coloraxis": {
           "colorbar": {
            "outlinewidth": 0,
            "ticks": ""
           }
          },
          "colorscale": {
           "diverging": [
            [
             0,
             "#8e0152"
            ],
            [
             0.1,
             "#c51b7d"
            ],
            [
             0.2,
             "#de77ae"
            ],
            [
             0.3,
             "#f1b6da"
            ],
            [
             0.4,
             "#fde0ef"
            ],
            [
             0.5,
             "#f7f7f7"
            ],
            [
             0.6,
             "#e6f5d0"
            ],
            [
             0.7,
             "#b8e186"
            ],
            [
             0.8,
             "#7fbc41"
            ],
            [
             0.9,
             "#4d9221"
            ],
            [
             1,
             "#276419"
            ]
           ],
           "sequential": [
            [
             0,
             "#0d0887"
            ],
            [
             0.1111111111111111,
             "#46039f"
            ],
            [
             0.2222222222222222,
             "#7201a8"
            ],
            [
             0.3333333333333333,
             "#9c179e"
            ],
            [
             0.4444444444444444,
             "#bd3786"
            ],
            [
             0.5555555555555556,
             "#d8576b"
            ],
            [
             0.6666666666666666,
             "#ed7953"
            ],
            [
             0.7777777777777778,
             "#fb9f3a"
            ],
            [
             0.8888888888888888,
             "#fdca26"
            ],
            [
             1,
             "#f0f921"
            ]
           ],
           "sequentialminus": [
            [
             0,
             "#0d0887"
            ],
            [
             0.1111111111111111,
             "#46039f"
            ],
            [
             0.2222222222222222,
             "#7201a8"
            ],
            [
             0.3333333333333333,
             "#9c179e"
            ],
            [
             0.4444444444444444,
             "#bd3786"
            ],
            [
             0.5555555555555556,
             "#d8576b"
            ],
            [
             0.6666666666666666,
             "#ed7953"
            ],
            [
             0.7777777777777778,
             "#fb9f3a"
            ],
            [
             0.8888888888888888,
             "#fdca26"
            ],
            [
             1,
             "#f0f921"
            ]
           ]
          },
          "colorway": [
           "#636efa",
           "#EF553B",
           "#00cc96",
           "#ab63fa",
           "#FFA15A",
           "#19d3f3",
           "#FF6692",
           "#B6E880",
           "#FF97FF",
           "#FECB52"
          ],
          "font": {
           "color": "#f2f5fa"
          },
          "geo": {
           "bgcolor": "rgb(17,17,17)",
           "lakecolor": "rgb(17,17,17)",
           "landcolor": "rgb(17,17,17)",
           "showlakes": true,
           "showland": true,
           "subunitcolor": "#506784"
          },
          "hoverlabel": {
           "align": "left"
          },
          "hovermode": "closest",
          "mapbox": {
           "style": "dark"
          },
          "paper_bgcolor": "rgb(17,17,17)",
          "plot_bgcolor": "rgb(17,17,17)",
          "polar": {
           "angularaxis": {
            "gridcolor": "#506784",
            "linecolor": "#506784",
            "ticks": ""
           },
           "bgcolor": "rgb(17,17,17)",
           "radialaxis": {
            "gridcolor": "#506784",
            "linecolor": "#506784",
            "ticks": ""
           }
          },
          "scene": {
           "xaxis": {
            "backgroundcolor": "rgb(17,17,17)",
            "gridcolor": "#506784",
            "gridwidth": 2,
            "linecolor": "#506784",
            "showbackground": true,
            "ticks": "",
            "zerolinecolor": "#C8D4E3"
           },
           "yaxis": {
            "backgroundcolor": "rgb(17,17,17)",
            "gridcolor": "#506784",
            "gridwidth": 2,
            "linecolor": "#506784",
            "showbackground": true,
            "ticks": "",
            "zerolinecolor": "#C8D4E3"
           },
           "zaxis": {
            "backgroundcolor": "rgb(17,17,17)",
            "gridcolor": "#506784",
            "gridwidth": 2,
            "linecolor": "#506784",
            "showbackground": true,
            "ticks": "",
            "zerolinecolor": "#C8D4E3"
           }
          },
          "shapedefaults": {
           "line": {
            "color": "#f2f5fa"
           }
          },
          "sliderdefaults": {
           "bgcolor": "#C8D4E3",
           "bordercolor": "rgb(17,17,17)",
           "borderwidth": 1,
           "tickwidth": 0
          },
          "ternary": {
           "aaxis": {
            "gridcolor": "#506784",
            "linecolor": "#506784",
            "ticks": ""
           },
           "baxis": {
            "gridcolor": "#506784",
            "linecolor": "#506784",
            "ticks": ""
           },
           "bgcolor": "rgb(17,17,17)",
           "caxis": {
            "gridcolor": "#506784",
            "linecolor": "#506784",
            "ticks": ""
           }
          },
          "title": {
           "x": 0.05
          },
          "updatemenudefaults": {
           "bgcolor": "#506784",
           "borderwidth": 0
          },
          "xaxis": {
           "automargin": true,
           "gridcolor": "#283442",
           "linecolor": "#506784",
           "ticks": "",
           "title": {
            "standoff": 15
           },
           "zerolinecolor": "#283442",
           "zerolinewidth": 2
          },
          "yaxis": {
           "automargin": true,
           "gridcolor": "#283442",
           "linecolor": "#506784",
           "ticks": "",
           "title": {
            "standoff": 15
           },
           "zerolinecolor": "#283442",
           "zerolinewidth": 2
          }
         }
        },
        "title": {
         "text": "Feature Importance (LightGBM)"
        },
        "xaxis": {
         "anchor": "y",
         "domain": [
          0,
          1
         ],
         "title": {
          "text": "Importance Score"
         }
        },
        "yaxis": {
         "anchor": "x",
         "categoryorder": "total ascending",
         "domain": [
          0,
          1
         ],
         "title": {
          "text": "Feature"
         }
        }
       }
      }
     },
     "metadata": {},
     "output_type": "display_data"
    }
   ],
   "source": [
    "# Extract feature importances and feature names\n",
    "importances = model.feature_importance()\n",
    "feature_names = model.feature_name()\n",
    "\n",
    "# Create a DataFrame\n",
    "importance_df = pd.DataFrame({\n",
    "    'Feature': feature_names,\n",
    "    'Importance': importances\n",
    "}).sort_values(by='Importance', ascending=False)\n",
    "\n",
    "# Plot with Plotly\n",
    "fig = px.bar(importance_df, x='Importance', y='Feature', orientation='h', template = 'plotly_dark', \n",
    "             title='Feature Importance (LightGBM)',\n",
    "             labels={'Importance': 'Importance Score', 'Feature': 'Feature'},\n",
    "            #  height=800\n",
    "             )\n",
    "\n",
    "fig.update_layout(yaxis={'categoryorder':'total ascending'})\n",
    "fig.show()"
   ]
  },
  {
   "cell_type": "markdown",
   "id": "7e1002c1",
   "metadata": {},
   "source": [
    "### Actual vs Predicted"
   ]
  },
  {
   "cell_type": "code",
   "execution_count": 210,
   "id": "809a72ef",
   "metadata": {},
   "outputs": [
    {
     "data": {
      "image/png": "[encoded data removed]",
      "text/plain": [
       "<Figure size 1200x600 with 1 Axes>"
      ]
     },
     "metadata": {},
     "output_type": "display_data"
    }
   ],
   "source": [
    "# Plot actual vs predicted\n",
    "\n",
    "date_style = 'year_month' # 'Created On'\n",
    "\n",
    "plot_df = test[[date_style, 'Line Count']].copy()\n",
    "plot_df['Predicted'] = preds\n",
    "plot_df = plot_df.rename(columns={'Line Count': 'Actual'})\n",
    "\n",
    "plot_df = plot_df.sort_values(date_style)\n",
    "\n",
    "plot_df_melted = plot_df.melt(id_vars=date_style, value_vars=['Actual', 'Predicted'],\n",
    "                              var_name='Type', value_name='Line Count')\n",
    "\n",
    "import matplotlib.pyplot as plt\n",
    "\n",
    "# Enable dark mode\n",
    "plt.style.use('dark_background')\n",
    "\n",
    "# Create the plot\n",
    "plt.figure(figsize=(12, 6), dpi=100)  # High resolution\n",
    "plt.plot(plot_df[date_style], plot_df['Actual'], label='Actual', alpha=0.7, linewidth=1.2)\n",
    "plt.plot(plot_df[date_style], plot_df['Predicted'], label='Predicted', alpha=0.7, linewidth=1.2)\n",
    "\n",
    "# Customize labels and title\n",
    "plt.xlabel('Time', fontsize=12)\n",
    "plt.ylabel('Line Count', fontsize=12)\n",
    "plt.title('Actual vs Predicted Line Count Over Time', fontsize=14)\n",
    "plt.legend()\n",
    "plt.grid(True, linestyle='--', alpha=0.3)\n",
    "plt.tight_layout()\n",
    "plt.show()"
   ]
  },
  {
   "cell_type": "markdown",
   "id": "2fe1a7be",
   "metadata": {},
   "source": [
    "### Correlation Matrix"
   ]
  },
  {
   "cell_type": "code",
   "execution_count": 211,
   "id": "79768512",
   "metadata": {},
   "outputs": [
    {
     "data": {
      "application/vnd.plotly.v1+json": {
       "config": {
        "plotlyServerURL": "https://plot.ly"
       },
       "data": [
        {
         "coloraxis": "coloraxis",
         "hovertemplate": "x: %{x}<br>y: %{y}<br>color: %{z}<extra></extra>",
         "name": "0",
         "texttemplate": "%{z}",
         "type": "heatmap",
         "x": [
          "year",
          "month",
          "Total Read",
          "ZYIELD",
          "brand_encoded",
          "color_encoded",
          "model_attr_encoded",
          "ship_to_name_encoded",
          "Utilization Score",
          "Total AMV",
          "Line Count"
         ],
         "xaxis": "x",
         "y": [
          "year",
          "month",
          "Total Read",
          "ZYIELD",
          "brand_encoded",
          "color_encoded",
          "model_attr_encoded",
          "ship_to_name_encoded",
          "Utilization Score",
          "Total AMV",
          "Line Count"
         ],
         "yaxis": "y",
         "z": {
          "bdata": "AAAAAAAA8D/2KFyPwvXYv3sUrkfheqQ/exSuR+F6xD97FK5H4XqUv1K4HoXrUci/7FG4HoXrwb97FK5H4XqUvwrXo3A9Crc/CtejcD0Ktz97FK5H4Xqkv/YoXI/C9di/AAAAAAAA8D97FK5H4XqEP3sUrkfheoQ/exSuR+F6lL+4HoXrUbiePwAAAAAAAACAexSuR+F6lL97FK5H4XqEv3sUrkfhepQ/AAAAAAAAAIB7FK5H4XqkP3sUrkfheoQ/AAAAAAAA8D8pXI/C9SjkP3sUrkfheqQ/exSuR+F6tL97FK5H4XqUP3sUrkfheqQ/CtejcD0K5z8zMzMzMzPrP2ZmZmZmZuY/exSuR+F6xD97FK5H4XqEPylcj8L1KOQ/AAAAAAAA8D8K16NwPQrHv65H4XoUrte/mpmZmZmZyT/D9Shcj8LFvwrXo3A9Cuc/ZmZmZmZm5j/2KFyPwvXgP3sUrkfhepS/exSuR+F6lL97FK5H4XqkPwrXo3A9Cse/AAAAAAAA8D8zMzMzMzPTv+xRuB6F67G/uB6F61G47j+kcD0K16PAP3sUrkfheoS/mpmZmZmZub9SuB6F61HIv7gehetRuJ4/exSuR+F6tL+uR+F6FK7XvzMzMzMzM9O/AAAAAAAA8D+4HoXrUbi+vzMzMzMzM9O/exSuR+F6xL97FK5H4Xq0v+xRuB6F68E/7FG4HoXrwb8AAAAAAAAAgHsUrkfhepQ/mpmZmZmZyT/sUbgeheuxv7gehetRuL6/AAAAAAAA8D/sUbgeheuxv5qZmZmZmam/exSuR+F6lL97FK5H4Xqkv3sUrkfhepS/exSuR+F6lL97FK5H4XqkP8P1KFyPwsW/uB6F61G47j8zMzMzMzPTv+xRuB6F67G/AAAAAAAA8D+kcD0K16PAP3sUrkfhepS/CtejcD0Kt78K16NwPQq3P3sUrkfheoS/CtejcD0K5z8K16NwPQrnP6RwPQrXo8A/exSuR+F6xL+amZmZmZmpv6RwPQrXo8A/AAAAAAAA8D8zMzMzMzPrP65H4XoUruc/CtejcD0Ktz97FK5H4XqUPzMzMzMzM+s/ZmZmZmZm5j97FK5H4XqEv3sUrkfherS/exSuR+F6lL97FK5H4XqUvzMzMzMzM+s/AAAAAAAA8D89CtejcD3qP3sUrkfheqS/AAAAAAAAAIBmZmZmZmbmP/YoXI/C9eA/mpmZmZmZub/sUbgehevBP3sUrkfheqS/CtejcD0Kt7+uR+F6FK7nPz0K16NwPeo/AAAAAAAA8D8=",
          "dtype": "f8",
          "shape": "11, 11"
         }
        }
       ],
       "layout": {
        "coloraxis": {
         "cmax": 1,
         "cmin": -1,
         "colorscale": [
          [
           0,
           "rgb(5,48,97)"
          ],
          [
           0.1,
           "rgb(33,102,172)"
          ],
          [
           0.2,
           "rgb(67,147,195)"
          ],
          [
           0.3,
           "rgb(146,197,222)"
          ],
          [
           0.4,
           "rgb(209,229,240)"
          ],
          [
           0.5,
           "rgb(247,247,247)"
          ],
          [
           0.6,
           "rgb(253,219,199)"
          ],
          [
           0.7,
           "rgb(244,165,130)"
          ],
          [
           0.8,
           "rgb(214,96,77)"
          ],
          [
           0.9,
           "rgb(178,24,43)"
          ],
          [
           1,
           "rgb(103,0,31)"
          ]
         ]
        },
        "height": 800,
        "template": {
         "data": {
          "bar": [
           {
            "error_x": {
             "color": "#f2f5fa"
            },
            "error_y": {
             "color": "#f2f5fa"
            },
            "marker": {
             "line": {
              "color": "rgb(17,17,17)",
              "width": 0.5
             },
             "pattern": {
              "fillmode": "overlay",
              "size": 10,
              "solidity": 0.2
             }
            },
            "type": "bar"
           }
          ],
          "barpolar": [
           {
            "marker": {
             "line": {
              "color": "rgb(17,17,17)",
              "width": 0.5
             },
             "pattern": {
              "fillmode": "overlay",
              "size": 10,
              "solidity": 0.2
             }
            },
            "type": "barpolar"
           }
          ],
          "carpet": [
           {
            "aaxis": {
             "endlinecolor": "#A2B1C6",
             "gridcolor": "#506784",
             "linecolor": "#506784",
             "minorgridcolor": "#506784",
             "startlinecolor": "#A2B1C6"
            },
            "baxis": {
             "endlinecolor": "#A2B1C6",
             "gridcolor": "#506784",
             "linecolor": "#506784",
             "minorgridcolor": "#506784",
             "startlinecolor": "#A2B1C6"
            },
            "type": "carpet"
           }
          ],
          "choropleth": [
           {
            "colorbar": {
             "outlinewidth": 0,
             "ticks": ""
            },
            "type": "choropleth"
           }
          ],
          "contour": [
           {
            "colorbar": {
             "outlinewidth": 0,
             "ticks": ""
            },
            "colorscale": [
             [
              0,
              "#0d0887"
             ],
             [
              0.1111111111111111,
              "#46039f"
             ],
             [
              0.2222222222222222,
              "#7201a8"
             ],
             [
              0.3333333333333333,
              "#9c179e"
             ],
             [
              0.4444444444444444,
              "#bd3786"
             ],
             [
              0.5555555555555556,
              "#d8576b"
             ],
             [
              0.6666666666666666,
              "#ed7953"
             ],
             [
              0.7777777777777778,
              "#fb9f3a"
             ],
             [
              0.8888888888888888,
              "#fdca26"
             ],
             [
              1,
              "#f0f921"
             ]
            ],
            "type": "contour"
           }
          ],
          "contourcarpet": [
           {
            "colorbar": {
             "outlinewidth": 0,
             "ticks": ""
            },
            "type": "contourcarpet"
           }
          ],
          "heatmap": [
           {
            "colorbar": {
             "outlinewidth": 0,
             "ticks": ""
            },
            "colorscale": [
             [
              0,
              "#0d0887"
             ],
             [
              0.1111111111111111,
              "#46039f"
             ],
             [
              0.2222222222222222,
              "#7201a8"
             ],
             [
              0.3333333333333333,
              "#9c179e"
             ],
             [
              0.4444444444444444,
              "#bd3786"
             ],
             [
              0.5555555555555556,
              "#d8576b"
             ],
             [
              0.6666666666666666,
              "#ed7953"
             ],
             [
              0.7777777777777778,
              "#fb9f3a"
             ],
             [
              0.8888888888888888,
              "#fdca26"
             ],
             [
              1,
              "#f0f921"
             ]
            ],
            "type": "heatmap"
           }
          ],
          "histogram": [
           {
            "marker": {
             "pattern": {
              "fillmode": "overlay",
              "size": 10,
              "solidity": 0.2
             }
            },
            "type": "histogram"
           }
          ],
          "histogram2d": [
           {
            "colorbar": {
             "outlinewidth": 0,
             "ticks": ""
            },
            "colorscale": [
             [
              0,
              "#0d0887"
             ],
             [
              0.1111111111111111,
              "#46039f"
             ],
             [
              0.2222222222222222,
              "#7201a8"
             ],
             [
              0.3333333333333333,
              "#9c179e"
             ],
             [
              0.4444444444444444,
              "#bd3786"
             ],
             [
              0.5555555555555556,
              "#d8576b"
             ],
             [
              0.6666666666666666,
              "#ed7953"
             ],
             [
              0.7777777777777778,
              "#fb9f3a"
             ],
             [
              0.8888888888888888,
              "#fdca26"
             ],
             [
              1,
              "#f0f921"
             ]
            ],
            "type": "histogram2d"
           }
          ],
          "histogram2dcontour": [
           {
            "colorbar": {
             "outlinewidth": 0,
             "ticks": ""
            },
            "colorscale": [
             [
              0,
              "#0d0887"
             ],
             [
              0.1111111111111111,
              "#46039f"
             ],
             [
              0.2222222222222222,
              "#7201a8"
             ],
             [
              0.3333333333333333,
              "#9c179e"
             ],
             [
              0.4444444444444444,
              "#bd3786"
             ],
             [
              0.5555555555555556,
              "#d8576b"
             ],
             [
              0.6666666666666666,
              "#ed7953"
             ],
             [
              0.7777777777777778,
              "#fb9f3a"
             ],
             [
              0.8888888888888888,
              "#fdca26"
             ],
             [
              1,
              "#f0f921"
             ]
            ],
            "type": "histogram2dcontour"
           }
          ],
          "mesh3d": [
           {
            "colorbar": {
             "outlinewidth": 0,
             "ticks": ""
            },
            "type": "mesh3d"
           }
          ],
          "parcoords": [
           {
            "line": {
             "colorbar": {
              "outlinewidth": 0,
              "ticks": ""
             }
            },
            "type": "parcoords"
           }
          ],
          "pie": [
           {
            "automargin": true,
            "type": "pie"
           }
          ],
          "scatter": [
           {
            "marker": {
             "line": {
              "color": "#283442"
             }
            },
            "type": "scatter"
           }
          ],
          "scatter3d": [
           {
            "line": {
             "colorbar": {
              "outlinewidth": 0,
              "ticks": ""
             }
            },
            "marker": {
             "colorbar": {
              "outlinewidth": 0,
              "ticks": ""
             }
            },
            "type": "scatter3d"
           }
          ],
          "scattercarpet": [
           {
            "marker": {
             "colorbar": {
              "outlinewidth": 0,
              "ticks": ""
             }
            },
            "type": "scattercarpet"
           }
          ],
          "scattergeo": [
           {
            "marker": {
             "colorbar": {
              "outlinewidth": 0,
              "ticks": ""
             }
            },
            "type": "scattergeo"
           }
          ],
          "scattergl": [
           {
            "marker": {
             "line": {
              "color": "#283442"
             }
            },
            "type": "scattergl"
           }
          ],
          "scattermap": [
           {
            "marker": {
             "colorbar": {
              "outlinewidth": 0,
              "ticks": ""
             }
            },
            "type": "scattermap"
           }
          ],
          "scattermapbox": [
           {
            "marker": {
             "colorbar": {
              "outlinewidth": 0,
              "ticks": ""
             }
            },
            "type": "scattermapbox"
           }
          ],
          "scatterpolar": [
           {
            "marker": {
             "colorbar": {
              "outlinewidth": 0,
              "ticks": ""
             }
            },
            "type": "scatterpolar"
           }
          ],
          "scatterpolargl": [
           {
            "marker": {
             "colorbar": {
              "outlinewidth": 0,
              "ticks": ""
             }
            },
            "type": "scatterpolargl"
           }
          ],
          "scatterternary": [
           {
            "marker": {
             "colorbar": {
              "outlinewidth": 0,
              "ticks": ""
             }
            },
            "type": "scatterternary"
           }
          ],
          "surface": [
           {
            "colorbar": {
             "outlinewidth": 0,
             "ticks": ""
            },
            "colorscale": [
             [
              0,
              "#0d0887"
             ],
             [
              0.1111111111111111,
              "#46039f"
             ],
             [
              0.2222222222222222,
              "#7201a8"
             ],
             [
              0.3333333333333333,
              "#9c179e"
             ],
             [
              0.4444444444444444,
              "#bd3786"
             ],
             [
              0.5555555555555556,
              "#d8576b"
             ],
             [
              0.6666666666666666,
              "#ed7953"
             ],
             [
              0.7777777777777778,
              "#fb9f3a"
             ],
             [
              0.8888888888888888,
              "#fdca26"
             ],
             [
              1,
              "#f0f921"
             ]
            ],
            "type": "surface"
           }
          ],
          "table": [
           {
            "cells": {
             "fill": {
              "color": "#506784"
             },
             "line": {
              "color": "rgb(17,17,17)"
             }
            },
            "header": {
             "fill": {
              "color": "#2a3f5f"
             },
             "line": {
              "color": "rgb(17,17,17)"
             }
            },
            "type": "table"
           }
          ]
         },
         "layout": {
          "annotationdefaults": {
           "arrowcolor": "#f2f5fa",
           "arrowhead": 0,
           "arrowwidth": 1
          },
          "autotypenumbers": "strict",
          "coloraxis": {
           "colorbar": {
            "outlinewidth": 0,
            "ticks": ""
           }
          },
          "colorscale": {
           "diverging": [
            [
             0,
             "#8e0152"
            ],
            [
             0.1,
             "#c51b7d"
            ],
            [
             0.2,
             "#de77ae"
            ],
            [
             0.3,
             "#f1b6da"
            ],
            [
             0.4,
             "#fde0ef"
            ],
            [
             0.5,
             "#f7f7f7"
            ],
            [
             0.6,
             "#e6f5d0"
            ],
            [
             0.7,
             "#b8e186"
            ],
            [
             0.8,
             "#7fbc41"
            ],
            [
             0.9,
             "#4d9221"
            ],
            [
             1,
             "#276419"
            ]
           ],
           "sequential": [
            [
             0,
             "#0d0887"
            ],
            [
             0.1111111111111111,
             "#46039f"
            ],
            [
             0.2222222222222222,
             "#7201a8"
            ],
            [
             0.3333333333333333,
             "#9c179e"
            ],
            [
             0.4444444444444444,
             "#bd3786"
            ],
            [
             0.5555555555555556,
             "#d8576b"
            ],
            [
             0.6666666666666666,
             "#ed7953"
            ],
            [
             0.7777777777777778,
             "#fb9f3a"
            ],
            [
             0.8888888888888888,
             "#fdca26"
            ],
            [
             1,
             "#f0f921"
            ]
           ],
           "sequentialminus": [
            [
             0,
             "#0d0887"
            ],
            [
             0.1111111111111111,
             "#46039f"
            ],
            [
             0.2222222222222222,
             "#7201a8"
            ],
            [
             0.3333333333333333,
             "#9c179e"
            ],
            [
             0.4444444444444444,
             "#bd3786"
            ],
            [
             0.5555555555555556,
             "#d8576b"
            ],
            [
             0.6666666666666666,
             "#ed7953"
            ],
            [
             0.7777777777777778,
             "#fb9f3a"
            ],
            [
             0.8888888888888888,
             "#fdca26"
            ],
            [
             1,
             "#f0f921"
            ]
           ]
          },
          "colorway": [
           "#636efa",
           "#EF553B",
           "#00cc96",
           "#ab63fa",
           "#FFA15A",
           "#19d3f3",
           "#FF6692",
           "#B6E880",
           "#FF97FF",
           "#FECB52"
          ],
          "font": {
           "color": "#f2f5fa"
          },
          "geo": {
           "bgcolor": "rgb(17,17,17)",
           "lakecolor": "rgb(17,17,17)",
           "landcolor": "rgb(17,17,17)",
           "showlakes": true,
           "showland": true,
           "subunitcolor": "#506784"
          },
          "hoverlabel": {
           "align": "left"
          },
          "hovermode": "closest",
          "mapbox": {
           "style": "dark"
          },
          "paper_bgcolor": "rgb(17,17,17)",
          "plot_bgcolor": "rgb(17,17,17)",
          "polar": {
           "angularaxis": {
            "gridcolor": "#506784",
            "linecolor": "#506784",
            "ticks": ""
           },
           "bgcolor": "rgb(17,17,17)",
           "radialaxis": {
            "gridcolor": "#506784",
            "linecolor": "#506784",
            "ticks": ""
           }
          },
          "scene": {
           "xaxis": {
            "backgroundcolor": "rgb(17,17,17)",
            "gridcolor": "#506784",
            "gridwidth": 2,
            "linecolor": "#506784",
            "showbackground": true,
            "ticks": "",
            "zerolinecolor": "#C8D4E3"
           },
           "yaxis": {
            "backgroundcolor": "rgb(17,17,17)",
            "gridcolor": "#506784",
            "gridwidth": 2,
            "linecolor": "#506784",
            "showbackground": true,
            "ticks": "",
            "zerolinecolor": "#C8D4E3"
           },
           "zaxis": {
            "backgroundcolor": "rgb(17,17,17)",
            "gridcolor": "#506784",
            "gridwidth": 2,
            "linecolor": "#506784",
            "showbackground": true,
            "ticks": "",
            "zerolinecolor": "#C8D4E3"
           }
          },
          "shapedefaults": {
           "line": {
            "color": "#f2f5fa"
           }
          },
          "sliderdefaults": {
           "bgcolor": "#C8D4E3",
           "bordercolor": "rgb(17,17,17)",
           "borderwidth": 1,
           "tickwidth": 0
          },
          "ternary": {
           "aaxis": {
            "gridcolor": "#506784",
            "linecolor": "#506784",
            "ticks": ""
           },
           "baxis": {
            "gridcolor": "#506784",
            "linecolor": "#506784",
            "ticks": ""
           },
           "bgcolor": "rgb(17,17,17)",
           "caxis": {
            "gridcolor": "#506784",
            "linecolor": "#506784",
            "ticks": ""
           }
          },
          "title": {
           "x": 0.05
          },
          "updatemenudefaults": {
           "bgcolor": "#506784",
           "borderwidth": 0
          },
          "xaxis": {
           "automargin": true,
           "gridcolor": "#283442",
           "linecolor": "#506784",
           "ticks": "",
           "title": {
            "standoff": 15
           },
           "zerolinecolor": "#283442",
           "zerolinewidth": 2
          },
          "yaxis": {
           "automargin": true,
           "gridcolor": "#283442",
           "linecolor": "#506784",
           "ticks": "",
           "title": {
            "standoff": 15
           },
           "zerolinecolor": "#283442",
           "zerolinewidth": 2
          }
         }
        },
        "title": {
         "text": "Correlation Matrix Heatmap"
        },
        "width": 800,
        "xaxis": {
         "anchor": "y",
         "domain": [
          0,
          1
         ]
        },
        "yaxis": {
         "anchor": "x",
         "autorange": "reversed",
         "domain": [
          0,
          1
         ]
        }
       }
      }
     },
     "metadata": {},
     "output_type": "display_data"
    }
   ],
   "source": [
    "# Select the relevant numeric columns\n",
    "# columns = ['year', 'month', 'day', 'day_num', 'Total Read', 'ZYIELD', \n",
    "#            'brand_encoded', 'color_encoded', 'model_attr_encoded', \n",
    "#            'ship_to_name_encoded', 'Utilization Score', 'Total AMV', 'Line Count']\n",
    "\n",
    "columns = ['year', 'month', 'Total Read', 'ZYIELD', \n",
    "           'brand_encoded', 'color_encoded', 'model_attr_encoded', \n",
    "           'ship_to_name_encoded', 'Utilization Score', 'Total AMV', 'Line Count']\n",
    "\n",
    "# Filter the DataFrame\n",
    "# dfutil = df_util_group_special[columns]\n",
    "\n",
    "# using month\n",
    "dfutil = df_util_group_month[columns]\n",
    "\n",
    "# Compute the correlation matrix\n",
    "correlation_matrix = dfutil.corr()\n",
    "\n",
    "# Round the correlation values to 2 decimal places\n",
    "correlation_matrix = correlation_matrix.round(2)\n",
    "\n",
    "\n",
    "# Create the heatmap using Plotly Express\n",
    "fig = px.imshow(correlation_matrix,\n",
    "                text_auto=True,\n",
    "                width=800, height=800,\n",
    "                color_continuous_scale='RdBu_r',\n",
    "                aspect='auto',\n",
    "                zmin=-1, zmax=1,\n",
    "                title='Correlation Matrix Heatmap', template='plotly_dark')\n",
    "\n",
    "fig.show()\n"
   ]
  },
  {
   "cell_type": "code",
   "execution_count": 212,
   "id": "03e35c28",
   "metadata": {},
   "outputs": [
    {
     "data": {
      "application/vnd.microsoft.datawrangler.viewer.v0+json": {
       "columns": [
        {
         "name": "index",
         "rawType": "int64",
         "type": "integer"
        },
        {
         "name": "Feature",
         "rawType": "object",
         "type": "string"
        },
        {
         "name": "Line Count",
         "rawType": "float64",
         "type": "float"
        }
       ],
       "ref": "62ecb771-6943-41fa-9fad-463037153bbb",
       "rows": [
        [
         "0",
         "Line Count",
         "1.0"
        ],
        [
         "1",
         "Total AMV",
         "0.82"
        ],
        [
         "2",
         "Utilization Score",
         "0.74"
        ],
        [
         "3",
         "Total Read",
         "0.7"
        ],
        [
         "4",
         "ZYIELD",
         "0.53"
        ],
        [
         "5",
         "color_encoded",
         "0.14"
        ],
        [
         "6",
         "month",
         "-0.0"
        ],
        [
         "7",
         "year",
         "-0.04"
        ],
        [
         "8",
         "model_attr_encoded",
         "-0.04"
        ],
        [
         "9",
         "ship_to_name_encoded",
         "-0.09"
        ],
        [
         "10",
         "brand_encoded",
         "-0.1"
        ]
       ],
       "shape": {
        "columns": 2,
        "rows": 11
       }
      },
      "text/html": [
       "<div>\n",
       "<style scoped>\n",
       "    .dataframe tbody tr th:only-of-type {\n",
       "        vertical-align: middle;\n",
       "    }\n",
       "\n",
       "    .dataframe tbody tr th {\n",
       "        vertical-align: top;\n",
       "    }\n",
       "\n",
       "    .dataframe thead th {\n",
       "        text-align: right;\n",
       "    }\n",
       "</style>\n",
       "<table border=\"1\" class=\"dataframe\">\n",
       "  <thead>\n",
       "    <tr style=\"text-align: right;\">\n",
       "      <th></th>\n",
       "      <th>Feature</th>\n",
       "      <th>Line Count</th>\n",
       "    </tr>\n",
       "  </thead>\n",
       "  <tbody>\n",
       "    <tr>\n",
       "      <th>0</th>\n",
       "      <td>Line Count</td>\n",
       "      <td>1.00</td>\n",
       "    </tr>\n",
       "    <tr>\n",
       "      <th>1</th>\n",
       "      <td>Total AMV</td>\n",
       "      <td>0.82</td>\n",
       "    </tr>\n",
       "    <tr>\n",
       "      <th>2</th>\n",
       "      <td>Utilization Score</td>\n",
       "      <td>0.74</td>\n",
       "    </tr>\n",
       "    <tr>\n",
       "      <th>3</th>\n",
       "      <td>Total Read</td>\n",
       "      <td>0.70</td>\n",
       "    </tr>\n",
       "    <tr>\n",
       "      <th>4</th>\n",
       "      <td>ZYIELD</td>\n",
       "      <td>0.53</td>\n",
       "    </tr>\n",
       "    <tr>\n",
       "      <th>5</th>\n",
       "      <td>color_encoded</td>\n",
       "      <td>0.14</td>\n",
       "    </tr>\n",
       "    <tr>\n",
       "      <th>6</th>\n",
       "      <td>month</td>\n",
       "      <td>-0.00</td>\n",
       "    </tr>\n",
       "    <tr>\n",
       "      <th>7</th>\n",
       "      <td>year</td>\n",
       "      <td>-0.04</td>\n",
       "    </tr>\n",
       "    <tr>\n",
       "      <th>8</th>\n",
       "      <td>model_attr_encoded</td>\n",
       "      <td>-0.04</td>\n",
       "    </tr>\n",
       "    <tr>\n",
       "      <th>9</th>\n",
       "      <td>ship_to_name_encoded</td>\n",
       "      <td>-0.09</td>\n",
       "    </tr>\n",
       "    <tr>\n",
       "      <th>10</th>\n",
       "      <td>brand_encoded</td>\n",
       "      <td>-0.10</td>\n",
       "    </tr>\n",
       "  </tbody>\n",
       "</table>\n",
       "</div>"
      ],
      "text/plain": [
       "                 Feature  Line Count\n",
       "0             Line Count        1.00\n",
       "1              Total AMV        0.82\n",
       "2      Utilization Score        0.74\n",
       "3             Total Read        0.70\n",
       "4                 ZYIELD        0.53\n",
       "5          color_encoded        0.14\n",
       "6                  month       -0.00\n",
       "7                   year       -0.04\n",
       "8     model_attr_encoded       -0.04\n",
       "9   ship_to_name_encoded       -0.09\n",
       "10         brand_encoded       -0.10"
      ]
     },
     "execution_count": 212,
     "metadata": {},
     "output_type": "execute_result"
    }
   ],
   "source": [
    "correlation_matrix['Line Count'].sort_values(ascending=False).reset_index().rename(columns={'index':'Feature'})"
   ]
  },
  {
   "cell_type": "markdown",
   "id": "54b5a918",
   "metadata": {},
   "source": [
    "### Save Model"
   ]
  },
  {
   "cell_type": "code",
   "execution_count": null,
   "id": "914b8da4",
   "metadata": {},
   "outputs": [
    {
     "data": {
      "text/plain": [
       "['util_month_model_r2_95.pkl']"
      ]
     },
     "execution_count": 229,
     "metadata": {},
     "output_type": "execute_result"
    }
   ],
   "source": [
    "# import joblib\n",
    "\n",
    "# # Save the model\n",
    "# joblib.dump(model, 'util_month_model_r2_95.pkl')"
   ]
  },
  {
   "cell_type": "markdown",
   "id": "d5c7427d",
   "metadata": {},
   "source": [
    "### Forcasting"
   ]
  },
  {
   "cell_type": "markdown",
   "id": "09159eb9",
   "metadata": {},
   "source": [
    "Forecasting Monthly"
   ]
  },
  {
   "cell_type": "code",
   "execution_count": 218,
   "id": "4e94d086",
   "metadata": {},
   "outputs": [],
   "source": [
    "# --- 5. The Forecasting Function ---\n",
    "def forecast_line_count(model, historical_df, encoders, n_months=1):\n",
    "    \"\"\"\n",
    "    Generates a forecast for Line Count for the next n_months for each unique\n",
    "    combination of Brand, Model, Color, and Ship To Name.\n",
    "    \"\"\"\n",
    "    # Use the last year_month from the historical data\n",
    "    last_year_month = pd.to_datetime(historical_df['year_month']).max()\n",
    "    \n",
    "    # Generate future year_month periods, not days\n",
    "    future_dates = pd.date_range(\n",
    "        start=last_year_month + pd.DateOffset(months=1), \n",
    "        periods=n_months, \n",
    "        freq='MS' # Use 'MS' for month start frequency\n",
    "    )\n",
    "    \n",
    "    # Create the future DataFrame with year_month and extract year and month\n",
    "    future_df = pd.DataFrame({'year_month': future_dates.strftime('%Y-%m')})\n",
    "    future_df['year'] = future_dates.year\n",
    "    future_df['month'] = future_dates.month\n",
    "    \n",
    "    unique_combinations = historical_df[['Brand', 'Model (Attr)', 'Color', 'Ship To Name']].drop_duplicates()\n",
    "\n",
    "    # Create the forecast grid by merging unique combinations with future dates\n",
    "    future_df_expanded = pd.DataFrame()\n",
    "    for _, row in unique_combinations.iterrows():\n",
    "        temp_df = future_df.copy()\n",
    "        for col in unique_combinations.columns:\n",
    "            temp_df[col] = row[col]\n",
    "        future_df_expanded = pd.concat([future_df_expanded, temp_df], ignore_index=True)\n",
    "\n",
    "    # Use the last known values for the numerical features for forecasting\n",
    "    last_values = historical_df.sort_values('year_month').groupby(\n",
    "        ['Brand', 'Model (Attr)', 'Color', 'Ship To Name']\n",
    "    ).tail(1).reset_index(drop=True)\n",
    "    \n",
    "    future_df_expanded = pd.merge(\n",
    "        future_df_expanded,\n",
    "        last_values[['Brand', 'Model (Attr)', 'Color', 'Ship To Name', 'Total Read', 'ZYIELD', 'Utilization Score', 'Total AMV']],\n",
    "        on=['Brand', 'Model (Attr)', 'Color', 'Ship To Name'],\n",
    "        how='left'\n",
    "    )\n",
    "    \n",
    "    # Fill any NaN values that might arise from new combinations with 0\n",
    "    for col in ['Total Read', 'ZYIELD', 'Utilization Score', 'Total AMV']:\n",
    "        future_df_expanded[col] = future_df_expanded[col].fillna(0)\n",
    "\n",
    "    for feature in categorical_features_to_encode:\n",
    "        encoded_col_name = f'{feature.replace(\" \", \"_\").replace(\"(\", \"\").replace(\")\", \"\").lower()}_encoded'\n",
    "        try:\n",
    "            future_df_expanded[encoded_col_name] = encoders[feature].transform(future_df_expanded[feature])\n",
    "        except ValueError:\n",
    "            future_df_expanded[encoded_col_name] = -1\n",
    "\n",
    "    future_features = future_df_expanded[util_train_features]\n",
    "    forecast_preds = np.clip(model.predict(future_features), 0, None)\n",
    "    future_df_expanded['Forecasted Line Count'] = forecast_preds\n",
    "    \n",
    "    return future_df_expanded[['year_month', 'Brand', 'Model (Attr)', 'Ship To Name', 'Color', 'Forecasted Line Count']]"
   ]
  },
  {
   "cell_type": "code",
   "execution_count": 219,
   "id": "a65723e4",
   "metadata": {},
   "outputs": [
    {
     "name": "stdout",
     "output_type": "stream",
     "text": [
      "\n",
      "==============================\n",
      "Generating 1-month forecast...\n",
      "==============================\n"
     ]
    }
   ],
   "source": [
    "# --- 6. Example Usage of the Forecasting Function ---\n",
    "print(\"\\n\" + \"=\"*30)\n",
    "print(\"Generating 1-month forecast...\")\n",
    "print(\"=\"*30)\n",
    "df_forecast = forecast_line_count(model, df_util_group_month, encoders, n_months=1)"
   ]
  },
  {
   "cell_type": "code",
   "execution_count": 228,
   "id": "c4a21b56",
   "metadata": {},
   "outputs": [
    {
     "data": {
      "application/vnd.microsoft.datawrangler.viewer.v0+json": {
       "columns": [
        {
         "name": "index",
         "rawType": "int64",
         "type": "integer"
        },
        {
         "name": "year_month",
         "rawType": "object",
         "type": "string"
        },
        {
         "name": "Brand",
         "rawType": "object",
         "type": "string"
        },
        {
         "name": "Model (Attr)",
         "rawType": "object",
         "type": "string"
        },
        {
         "name": "Ship To Name",
         "rawType": "object",
         "type": "string"
        },
        {
         "name": "Color",
         "rawType": "object",
         "type": "string"
        },
        {
         "name": "Forecasted Line Count",
         "rawType": "float64",
         "type": "float"
        },
        {
         "name": "forcasted_line_count_int",
         "rawType": "int32",
         "type": "integer"
        }
       ],
       "ref": "7057b5a9-795d-45e8-924f-2453345a5b85",
       "rows": [
        [
         "0",
         "2025-05",
         "03765 BANTER BY PIERCING PA",
         "BRMFCL2750",
         "03765 BANTER BY PIERCING PAGODA",
         "K",
         "1.0001360466129667",
         "1"
        ],
        [
         "1",
         "2025-05",
         "BANTER BY PIERCING PAGODA",
         "BRMFCL2750",
         "BANTER BY PIERCING PAGODA 2454",
         "K",
         "1.0053707128497038",
         "1"
        ],
        [
         "2",
         "2025-05",
         "BANTER BY PIERCING PAGODA",
         "BRMFCL2750",
         "BANTER BY PIERCING PAGODA 2511",
         "K",
         "1.0048172130676902",
         "1"
        ],
        [
         "3",
         "2025-05",
         "BANTER BY PIERCING PAGODA",
         "BRMFCL2750",
         "BANTER BY PIERCING PAGODA 2549",
         "K",
         "1.001957416918885",
         "1"
        ],
        [
         "4",
         "2025-05",
         "BANTER BY PIERCING PAGODA",
         "BRMFCL2750",
         "BANTER BY PIERCING PAGODA 2621",
         "K",
         "1.0053707128497038",
         "1"
        ],
        [
         "5",
         "2025-05",
         "BANTER BY PIERCING PAGODA",
         "BRMFCL2750",
         "BANTER BY PIERCING PAGODA 3704",
         "K",
         "1.0053707128497038",
         "1"
        ],
        [
         "6",
         "2025-05",
         "BANTER BY PIERCING PAGODA",
         "BRMFCL2750",
         "BANTER BY PIERCING PAGODA 3716",
         "K",
         "1.0053707128497038",
         "1"
        ],
        [
         "7",
         "2025-05",
         "BANTER BY PIERCING PAGODA",
         "BRMFCL2750",
         "BANTER BY PIERCING PAGODA 3719",
         "K",
         "1.0053707128497038",
         "1"
        ],
        [
         "8",
         "2025-05",
         "BANTER BY PIERCING PAGODA",
         "BRMFCL2750",
         "BANTER BY PIERCING PAGODA 3719",
         "Unknown",
         "1.01142347739482",
         "1"
        ],
        [
         "9",
         "2025-05",
         "BANTER BY PIERCING PAGODA",
         "BRMFCL2750",
         "BANTER BY PIERCING PAGODA 3916",
         "K",
         "1.0053707128497038",
         "1"
        ],
        [
         "10",
         "2025-05",
         "BANTER BY PIERCING PAGODA",
         "BRMFCL2750",
         "BANTER BY PIERCING PAGODA 5708",
         "K",
         "1.0053707128497038",
         "1"
        ],
        [
         "11",
         "2025-05",
         "BANTER BY PIERCING PAGODA",
         "BRMFCL2750",
         "BANTER BY PIERCING PAGODA 670",
         "K",
         "1.0053707128497038",
         "1"
        ],
        [
         "12",
         "2025-05",
         "BANTER BY PIERING PAGODA",
         "BRMFCL2750",
         "BANTER BY PIERING PAGODA 3732",
         "K",
         "1.0053707128497038",
         "1"
        ],
        [
         "13",
         "2025-05",
         "BANTER BY PIERING PAGODA",
         "BRMFCL2750",
         "BANTER BY PIERING PAGODA 3732",
         "Unknown",
         "1.01142347739482",
         "1"
        ],
        [
         "14",
         "2025-05",
         "BODY BY PAGODA",
         "BRMFCL2750",
         "BODY BY PAGODA 571",
         "K",
         "1.0053707128497038",
         "1"
        ],
        [
         "15",
         "2025-05",
         "BODY BY PAGODA",
         "BRMFCL2750",
         "BODY BY PAGODA 571",
         "Unknown",
         "1.01142347739482",
         "1"
        ],
        [
         "16",
         "2025-05",
         "CPT NETWORK SOLUT",
         "BIZ4020I",
         "CPT NETWORK SOLUTIONS",
         "K",
         "1.7568131975596242",
         "1"
        ],
        [
         "17",
         "2025-05",
         "GORDON'S JEWELERS",
         "BRMFCL2750",
         "GORDON'S JEWELERS 4473",
         "K",
         "1.0053707128497038",
         "1"
        ],
        [
         "18",
         "2025-05",
         "GORDON'S JEWELERS",
         "BRMFCL2750",
         "GORDON'S JEWELERS 4473",
         "Unknown",
         "1.0094751101965236",
         "1"
        ],
        [
         "19",
         "2025-05",
         "GORDON'S JEWELERS",
         "HPLJM1212NF",
         "GORDON'S JEWELERS 4415",
         "K",
         "1.6069211190132415",
         "1"
        ],
        [
         "20",
         "2025-05",
         "GORDONS JEWELERS",
         "BRMFCL2750",
         "GORDONS JEWELERS 4415",
         "K",
         "1.0025109167008985",
         "1"
        ],
        [
         "21",
         "2025-05",
         "GORDONS JEWELERS",
         "BRMFCL2750",
         "GORDONS JEWELERS 4415",
         "Unknown",
         "1.0016743084588313",
         "1"
        ],
        [
         "22",
         "2025-05",
         "JARED",
         "BIZ4020I",
         "JARED 4098",
         "K",
         "1.7568131975596242",
         "1"
        ],
        [
         "23",
         "2025-05",
         "JARED",
         "BIZ4020I",
         "JARED 495",
         "K",
         "1.7568131975596242",
         "1"
        ],
        [
         "24",
         "2025-05",
         "JARED",
         "BIZ4020I",
         "JARED 8371",
         "K",
         "1.7832080780820225",
         "1"
        ],
        [
         "25",
         "2025-05",
         "JARED",
         "BRHLL8360CDW",
         "JARED 2400",
         "C",
         "1.013296912514025",
         "1"
        ],
        [
         "26",
         "2025-05",
         "JARED",
         "BRHLL8360CDW",
         "JARED 2400",
         "Unknown",
         "1.5999001826127874",
         "1"
        ],
        [
         "27",
         "2025-05",
         "JARED",
         "BRHLL8360CDW",
         "JARED 2405",
         "Unknown",
         "1.5999001826127874",
         "1"
        ],
        [
         "28",
         "2025-05",
         "JARED",
         "BRHLL8360CDW",
         "JARED 2418",
         "Unknown",
         "1.5999001826127874",
         "1"
        ],
        [
         "29",
         "2025-05",
         "JARED",
         "BRHLL8360CDW",
         "JARED 2425",
         "Unknown",
         "1.5999001826127874",
         "1"
        ],
        [
         "30",
         "2025-05",
         "JARED",
         "BRHLL8360CDW",
         "JARED 2427",
         "Unknown",
         "1.5999001826127874",
         "1"
        ],
        [
         "31",
         "2025-05",
         "JARED",
         "BRHLL8360CDW",
         "JARED 2437",
         "Unknown",
         "1.5999001826127874",
         "1"
        ],
        [
         "32",
         "2025-05",
         "JARED",
         "BRHLL8360CDW",
         "JARED 2438",
         "Unknown",
         "1.5999001826127874",
         "1"
        ],
        [
         "33",
         "2025-05",
         "JARED",
         "BRHLL8360CDW",
         "JARED 2445",
         "Unknown",
         "1.5945015214993072",
         "1"
        ],
        [
         "34",
         "2025-05",
         "JARED",
         "BRHLL8360CDW",
         "JARED 2446",
         "Unknown",
         "1.5999001826127874",
         "1"
        ],
        [
         "35",
         "2025-05",
         "JARED",
         "BRHLL8360CDW",
         "JARED 2450",
         "Unknown",
         "1.5999001826127874",
         "1"
        ],
        [
         "36",
         "2025-05",
         "JARED",
         "BRHLL8360CDW",
         "JARED 2450",
         "Y",
         "1.0165217025642987",
         "1"
        ],
        [
         "37",
         "2025-05",
         "JARED",
         "BRHLL8360CDW",
         "JARED 2451",
         "Unknown",
         "1.5999001826127874",
         "1"
        ],
        [
         "38",
         "2025-05",
         "JARED",
         "BRHLL8360CDW",
         "JARED 2458",
         "C",
         "0.9644866772150863",
         "0"
        ],
        [
         "39",
         "2025-05",
         "JARED",
         "BRHLL8360CDW",
         "JARED 2458",
         "Unknown",
         "1.5220103705558492",
         "1"
        ],
        [
         "40",
         "2025-05",
         "JARED",
         "BRHLL8360CDW",
         "JARED 2459",
         "C",
         "1.013296912514025",
         "1"
        ],
        [
         "41",
         "2025-05",
         "JARED",
         "BRHLL8360CDW",
         "JARED 2459",
         "K",
         "1.0174487445040814",
         "1"
        ],
        [
         "42",
         "2025-05",
         "JARED",
         "BRHLL8360CDW",
         "JARED 2459",
         "M",
         "1.014834773723686",
         "1"
        ],
        [
         "43",
         "2025-05",
         "JARED",
         "BRHLL8360CDW",
         "JARED 2459",
         "Unknown",
         "1.5999001826127874",
         "1"
        ],
        [
         "44",
         "2025-05",
         "JARED",
         "BRHLL8360CDW",
         "JARED 2459",
         "Y",
         "1.0165217025642987",
         "1"
        ],
        [
         "45",
         "2025-05",
         "JARED",
         "BRHLL8360CDW",
         "JARED 2462",
         "Unknown",
         "1.5999001826127874",
         "1"
        ],
        [
         "46",
         "2025-05",
         "JARED",
         "BRHLL8360CDW",
         "JARED 2468",
         "Unknown",
         "1.5999001826127874",
         "1"
        ],
        [
         "47",
         "2025-05",
         "JARED",
         "BRHLL8360CDW",
         "JARED 2477",
         "C",
         "1.013296912514025",
         "1"
        ],
        [
         "48",
         "2025-05",
         "JARED",
         "BRHLL8360CDW",
         "JARED 2477",
         "K",
         "1.0174487445040814",
         "1"
        ],
        [
         "49",
         "2025-05",
         "JARED",
         "BRHLL8360CDW",
         "JARED 2477",
         "M",
         "1.014834773723686",
         "1"
        ]
       ],
       "shape": {
        "columns": 7,
        "rows": 6538
       }
      },
      "text/html": [
       "<div>\n",
       "<style scoped>\n",
       "    .dataframe tbody tr th:only-of-type {\n",
       "        vertical-align: middle;\n",
       "    }\n",
       "\n",
       "    .dataframe tbody tr th {\n",
       "        vertical-align: top;\n",
       "    }\n",
       "\n",
       "    .dataframe thead th {\n",
       "        text-align: right;\n",
       "    }\n",
       "</style>\n",
       "<table border=\"1\" class=\"dataframe\">\n",
       "  <thead>\n",
       "    <tr style=\"text-align: right;\">\n",
       "      <th></th>\n",
       "      <th>year_month</th>\n",
       "      <th>Brand</th>\n",
       "      <th>Model (Attr)</th>\n",
       "      <th>Ship To Name</th>\n",
       "      <th>Color</th>\n",
       "      <th>Forecasted Line Count</th>\n",
       "      <th>forcasted_line_count_int</th>\n",
       "    </tr>\n",
       "  </thead>\n",
       "  <tbody>\n",
       "    <tr>\n",
       "      <th>0</th>\n",
       "      <td>2025-05</td>\n",
       "      <td>03765 BANTER BY PIERCING PA</td>\n",
       "      <td>BRMFCL2750</td>\n",
       "      <td>03765 BANTER BY PIERCING PAGODA</td>\n",
       "      <td>K</td>\n",
       "      <td>1.000136</td>\n",
       "      <td>1</td>\n",
       "    </tr>\n",
       "    <tr>\n",
       "      <th>1</th>\n",
       "      <td>2025-05</td>\n",
       "      <td>BANTER BY PIERCING PAGODA</td>\n",
       "      <td>BRMFCL2750</td>\n",
       "      <td>BANTER BY PIERCING PAGODA 2454</td>\n",
       "      <td>K</td>\n",
       "      <td>1.005371</td>\n",
       "      <td>1</td>\n",
       "    </tr>\n",
       "    <tr>\n",
       "      <th>2</th>\n",
       "      <td>2025-05</td>\n",
       "      <td>BANTER BY PIERCING PAGODA</td>\n",
       "      <td>BRMFCL2750</td>\n",
       "      <td>BANTER BY PIERCING PAGODA 2511</td>\n",
       "      <td>K</td>\n",
       "      <td>1.004817</td>\n",
       "      <td>1</td>\n",
       "    </tr>\n",
       "    <tr>\n",
       "      <th>3</th>\n",
       "      <td>2025-05</td>\n",
       "      <td>BANTER BY PIERCING PAGODA</td>\n",
       "      <td>BRMFCL2750</td>\n",
       "      <td>BANTER BY PIERCING PAGODA 2549</td>\n",
       "      <td>K</td>\n",
       "      <td>1.001957</td>\n",
       "      <td>1</td>\n",
       "    </tr>\n",
       "    <tr>\n",
       "      <th>4</th>\n",
       "      <td>2025-05</td>\n",
       "      <td>BANTER BY PIERCING PAGODA</td>\n",
       "      <td>BRMFCL2750</td>\n",
       "      <td>BANTER BY PIERCING PAGODA 2621</td>\n",
       "      <td>K</td>\n",
       "      <td>1.005371</td>\n",
       "      <td>1</td>\n",
       "    </tr>\n",
       "    <tr>\n",
       "      <th>...</th>\n",
       "      <td>...</td>\n",
       "      <td>...</td>\n",
       "      <td>...</td>\n",
       "      <td>...</td>\n",
       "      <td>...</td>\n",
       "      <td>...</td>\n",
       "      <td>...</td>\n",
       "    </tr>\n",
       "    <tr>\n",
       "      <th>6533</th>\n",
       "      <td>2025-05</td>\n",
       "      <td>ZALES OUTLET</td>\n",
       "      <td>LXMX421</td>\n",
       "      <td>ZALES OUTLET 2864</td>\n",
       "      <td>K</td>\n",
       "      <td>1.131617</td>\n",
       "      <td>1</td>\n",
       "    </tr>\n",
       "    <tr>\n",
       "      <th>6534</th>\n",
       "      <td>2025-05</td>\n",
       "      <td>ZALES OUTLET</td>\n",
       "      <td>LXMX431</td>\n",
       "      <td>ZALES OUTLET 2810</td>\n",
       "      <td>K</td>\n",
       "      <td>1.077651</td>\n",
       "      <td>1</td>\n",
       "    </tr>\n",
       "    <tr>\n",
       "      <th>6535</th>\n",
       "      <td>2025-05</td>\n",
       "      <td>ZALES OUTLET</td>\n",
       "      <td>LXMX431</td>\n",
       "      <td>ZALES OUTLET 2810</td>\n",
       "      <td>Unknown</td>\n",
       "      <td>1.403505</td>\n",
       "      <td>1</td>\n",
       "    </tr>\n",
       "    <tr>\n",
       "      <th>6536</th>\n",
       "      <td>2025-05</td>\n",
       "      <td>ZALES REPAIR SHOP</td>\n",
       "      <td>BRHLL8360CDW</td>\n",
       "      <td>ZALES REPAIR SHOP 8600</td>\n",
       "      <td>Unknown</td>\n",
       "      <td>2.880587</td>\n",
       "      <td>2</td>\n",
       "    </tr>\n",
       "    <tr>\n",
       "      <th>6537</th>\n",
       "      <td>2025-05</td>\n",
       "      <td>ZALES REPAIR SHOP</td>\n",
       "      <td>C3300I</td>\n",
       "      <td>ZALES REPAIR SHOP 8600</td>\n",
       "      <td>Unknown</td>\n",
       "      <td>0.970359</td>\n",
       "      <td>0</td>\n",
       "    </tr>\n",
       "  </tbody>\n",
       "</table>\n",
       "<p>6538 rows × 7 columns</p>\n",
       "</div>"
      ],
      "text/plain": [
       "     year_month                        Brand  Model (Attr)  \\\n",
       "0       2025-05  03765 BANTER BY PIERCING PA    BRMFCL2750   \n",
       "1       2025-05    BANTER BY PIERCING PAGODA    BRMFCL2750   \n",
       "2       2025-05    BANTER BY PIERCING PAGODA    BRMFCL2750   \n",
       "3       2025-05    BANTER BY PIERCING PAGODA    BRMFCL2750   \n",
       "4       2025-05    BANTER BY PIERCING PAGODA    BRMFCL2750   \n",
       "...         ...                          ...           ...   \n",
       "6533    2025-05                 ZALES OUTLET       LXMX421   \n",
       "6534    2025-05                 ZALES OUTLET       LXMX431   \n",
       "6535    2025-05                 ZALES OUTLET       LXMX431   \n",
       "6536    2025-05            ZALES REPAIR SHOP  BRHLL8360CDW   \n",
       "6537    2025-05            ZALES REPAIR SHOP        C3300I   \n",
       "\n",
       "                         Ship To Name    Color  Forecasted Line Count  \\\n",
       "0     03765 BANTER BY PIERCING PAGODA        K               1.000136   \n",
       "1      BANTER BY PIERCING PAGODA 2454        K               1.005371   \n",
       "2      BANTER BY PIERCING PAGODA 2511        K               1.004817   \n",
       "3      BANTER BY PIERCING PAGODA 2549        K               1.001957   \n",
       "4      BANTER BY PIERCING PAGODA 2621        K               1.005371   \n",
       "...                               ...      ...                    ...   \n",
       "6533                ZALES OUTLET 2864        K               1.131617   \n",
       "6534                ZALES OUTLET 2810        K               1.077651   \n",
       "6535                ZALES OUTLET 2810  Unknown               1.403505   \n",
       "6536           ZALES REPAIR SHOP 8600  Unknown               2.880587   \n",
       "6537           ZALES REPAIR SHOP 8600  Unknown               0.970359   \n",
       "\n",
       "      forcasted_line_count_int  \n",
       "0                            1  \n",
       "1                            1  \n",
       "2                            1  \n",
       "3                            1  \n",
       "4                            1  \n",
       "...                        ...  \n",
       "6533                         1  \n",
       "6534                         1  \n",
       "6535                         1  \n",
       "6536                         2  \n",
       "6537                         0  \n",
       "\n",
       "[6538 rows x 7 columns]"
      ]
     },
     "execution_count": 228,
     "metadata": {},
     "output_type": "execute_result"
    }
   ],
   "source": [
    "df_forecast"
   ]
  },
  {
   "cell_type": "code",
   "execution_count": 226,
   "id": "c333ca16",
   "metadata": {},
   "outputs": [],
   "source": [
    "df_forecast['forcasted_line_count_int'] = np.floor(df_forecast['Forecasted Line Count']).astype(int)"
   ]
  },
  {
   "cell_type": "code",
   "execution_count": 234,
   "id": "c6c14fcc",
   "metadata": {},
   "outputs": [],
   "source": [
    "df_forecast[['Ship To Name', 'forcasted_line_count_int']].groupby('Ship To Name').sum().reset_index().sort_values('forcasted_line_count_int').to_csv('2025-05_month_forecast.csv')"
   ]
  },
  {
   "cell_type": "code",
   "execution_count": null,
   "id": "a0c0afbc",
   "metadata": {},
   "outputs": [],
   "source": []
  }
 ],
 "metadata": {
  "kernelspec": {
   "display_name": "venv",
   "language": "python",
   "name": "python3"
  },
  "language_info": {
   "codemirror_mode": {
    "name": "ipython",
    "version": 3
   },
   "file_extension": ".py",
   "mimetype": "text/x-python",
   "name": "python",
   "nbconvert_exporter": "python",
   "pygments_lexer": "ipython3",
   "version": "3.12.1"
  }
 },
 "nbformat": 4,
 "nbformat_minor": 5
}
