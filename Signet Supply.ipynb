{
 "cells": [
  {
   "cell_type": "markdown",
   "id": "59747314",
   "metadata": {},
   "source": [
    "# Signet Supply Model"
   ]
  },
  {
   "cell_type": "markdown",
   "id": "95702170",
   "metadata": {},
   "source": [
    "## Library"
   ]
  },
  {
   "cell_type": "code",
   "execution_count": 1,
   "id": "19bca4eb",
   "metadata": {},
   "outputs": [],
   "source": [
    "import pypyodbc as podbc\n",
    "import pandas as pd\n",
    "from pandas import DataFrame\n",
    "import datetime\n",
    "from datetime import date\n",
    "import matplotlib.pyplot as plt\n",
    "# import statsmodels.api as sm\n",
    "import plotly.express as px\n",
    "\n",
    "import optuna\n",
    "import lightgbm as lgb\n",
    "import numpy as np\n",
    "from sklearn.model_selection import TimeSeriesSplit\n",
    "from sklearn.metrics import mean_absolute_error, mean_squared_error, r2_score\n",
    "\n",
    "import seaborn as sns"
   ]
  },
  {
   "cell_type": "markdown",
   "id": "f640696f",
   "metadata": {},
   "source": [
    "## Load Data"
   ]
  },
  {
   "cell_type": "code",
   "execution_count": null,
   "id": "f5980fdc",
   "metadata": {},
   "outputs": [],
   "source": [
    "# # NOTE: Signet Supply Report\n",
    "# #      Signet Utilization Report\n",
    "\n",
    "# # Load utilization data\n",
    "# df_Utilization= pd.read_excel(r\"Signet_utilization_score.xlsx\", sheet_name=\"Utilization Detail\")\n",
    "\n",
    "# # Load supply data\n",
    "# df_Supplyorder= pd.read_excel(r\"Signet_supply order.xlsx\", sheet_name=\"Supply\")"
   ]
  },
  {
   "cell_type": "code",
   "execution_count": 2,
   "id": "68edf72a",
   "metadata": {},
   "outputs": [
    {
     "name": "stderr",
     "output_type": "stream",
     "text": [
      "C:\\Users\\JSpradlin\\AppData\\Roaming\\Python\\Python312\\site-packages\\openpyxl\\styles\\stylesheet.py:241: UserWarning: Workbook contains no default style, apply openpyxl's default\n",
      "  warn(\"Workbook contains no default style, apply openpyxl's default\")\n"
     ]
    }
   ],
   "source": [
    "# NOTE: Signet Supply Report\n",
    "#      Signet Utilization Report\n",
    "\n",
    "# Load utilization data\n",
    "df_Utilization= pd.read_excel(r\"Signet_Summary.xlsx\", sheet_name=\"Report 9\", header = 1)\n",
    "df_Utilization = df_Utilization.drop('Unnamed: 0', axis = 1)\n",
    "\n",
    "# Load supply data\n",
    "# df_Supplyorder= pd.read_excel(r\"Signet_supply order.xlsx\", sheet_name=\"Supply\")"
   ]
  },
  {
   "cell_type": "markdown",
   "id": "1ac91e28",
   "metadata": {},
   "source": [
    "## Supply"
   ]
  },
  {
   "cell_type": "markdown",
   "id": "679ac12c",
   "metadata": {},
   "source": [
    "### Data Cleaning and Feature Engineering"
   ]
  },
  {
   "cell_type": "code",
   "execution_count": null,
   "id": "da78b9f4",
   "metadata": {},
   "outputs": [],
   "source": [
    "df_Supplyorder['Brand'] = df_Supplyorder['Brand'].str.strip()\n",
    "df_Supplyorder['Model (Attr)'] = df_Supplyorder['Model (Attr)'].str.strip()\n",
    "\n",
    "# Identifying the numerical and categorical columns in the supply data\n",
    "supply_numerical_cols = df_Supplyorder.select_dtypes(include='number').columns.tolist()\n",
    "supply_categorical_cols = df_Supplyorder.columns[~df_Supplyorder.columns.isin(supply_numerical_cols)].to_list()\n",
    "\n",
    "df_Supplyorder['month'] = pd.to_datetime(df_Supplyorder['Created On']).dt.month\n",
    "df_Supplyorder['day'] = pd.to_datetime(df_Supplyorder['Created On']).dt.day\n",
    "df_Supplyorder['day_num'] = pd.to_datetime(df_Supplyorder['Created On']).dt.day_of_week"
   ]
  },
  {
   "cell_type": "code",
   "execution_count": 46,
   "id": "46d93e41",
   "metadata": {},
   "outputs": [],
   "source": [
    "# grouping the supply data\n",
    "df_supply_group = df_Supplyorder.groupby(supply_categorical_cols).sum().reset_index()\n",
    "\n",
    "df_supply_group_special = df_Supplyorder[['Created On', 'Brand', 'Model (Attr)', 'Ship To Name', 'Color', 'month', 'day', 'day_num', 'Total Read', 'ZYIELD', 'Line Count']].groupby(\n",
    "    ['Created On', 'Brand', 'Model (Attr)', 'Ship To Name', 'Color', 'month', 'day', 'day_num',]\n",
    ").sum().reset_index()"
   ]
  },
  {
   "cell_type": "code",
   "execution_count": 47,
   "id": "b11fb80c",
   "metadata": {},
   "outputs": [],
   "source": [
    "from sklearn.preprocessing import LabelEncoder\n",
    "le = LabelEncoder()\n",
    "df_supply_group_special['brand_encoded'] = le.fit_transform(df_supply_group_special['Brand'])\n",
    "df_supply_group_special['color_encoded'] = le.fit_transform(df_supply_group_special['Color'])\n",
    "df_supply_group_special['model_encoded'] = le.fit_transform(df_supply_group_special['Model (Attr)'])\n",
    "df_supply_group_special['ship_to_name_encoded'] = le.fit_transform(df_supply_group_special['Ship To Name'])"
   ]
  },
  {
   "cell_type": "code",
   "execution_count": 48,
   "id": "4b2e3f30",
   "metadata": {},
   "outputs": [],
   "source": [
    "supply_group_features = ['month', 'day',\n",
    "       'day_num', 'Total Read', 'ZYIELD', 'brand_encoded',\n",
    "       'color_encoded', 'model_encoded', \n",
    "       'ship_to_name_encoded'\n",
    "       ]"
   ]
  },
  {
   "cell_type": "markdown",
   "id": "50ad43eb",
   "metadata": {},
   "source": [
    "#### Supply Group Model"
   ]
  },
  {
   "cell_type": "code",
   "execution_count": 49,
   "id": "24c978c0",
   "metadata": {},
   "outputs": [
    {
     "name": "stderr",
     "output_type": "stream",
     "text": [
      "[I 2025-07-29 13:52:47,334] A new study created in memory with name: no-name-d47338ed-9ebb-4737-8f8f-7bca7b8ce576\n",
      "[I 2025-07-29 13:52:49,530] Trial 0 finished with value: 0.5417564916051982 and parameters: {'learning_rate': 0.04296637886559061, 'num_leaves': 49, 'max_depth': 5, 'min_data_in_leaf': 20, 'feature_fraction': 0.8948120888215659, 'bagging_fraction': 0.9087632782827403, 'lambda_l1': 1.8148990162603507, 'lambda_l2': 3.076468374998758}. Best is trial 0 with value: 0.5417564916051982.\n",
      "[I 2025-07-29 13:52:51,576] Trial 1 finished with value: 0.5464997825734934 and parameters: {'learning_rate': 0.08734569541763687, 'num_leaves': 20, 'max_depth': 4, 'min_data_in_leaf': 29, 'feature_fraction': 0.8182875255083816, 'bagging_fraction': 0.6010576852308607, 'lambda_l1': 2.848890455260613, 'lambda_l2': 1.9704509870211524}. Best is trial 0 with value: 0.5417564916051982.\n",
      "[I 2025-07-29 13:52:57,150] Trial 2 finished with value: 0.5301388220106635 and parameters: {'learning_rate': 0.09137761400629142, 'num_leaves': 55, 'max_depth': 7, 'min_data_in_leaf': 32, 'feature_fraction': 0.6952745923564578, 'bagging_fraction': 0.7385242230482483, 'lambda_l1': 2.168634675878789, 'lambda_l2': 1.2955324755418869}. Best is trial 2 with value: 0.5301388220106635.\n",
      "[I 2025-07-29 13:53:03,289] Trial 3 finished with value: 0.5402024837312409 and parameters: {'learning_rate': 0.051958538984620654, 'num_leaves': 44, 'max_depth': 10, 'min_data_in_leaf': 32, 'feature_fraction': 0.9230859731231302, 'bagging_fraction': 0.9796683804778683, 'lambda_l1': 2.0273324669142645, 'lambda_l2': 1.246676713233592}. Best is trial 2 with value: 0.5301388220106635.\n",
      "[I 2025-07-29 13:53:06,848] Trial 4 finished with value: 0.5873041012030736 and parameters: {'learning_rate': 0.09314993964696767, 'num_leaves': 27, 'max_depth': 7, 'min_data_in_leaf': 18, 'feature_fraction': 0.9997685722415152, 'bagging_fraction': 0.6148283332055381, 'lambda_l1': 1.8893756567557758, 'lambda_l2': 1.98242039272376}. Best is trial 2 with value: 0.5301388220106635.\n",
      "[I 2025-07-29 13:53:14,153] Trial 5 finished with value: 0.5290666163365694 and parameters: {'learning_rate': 0.04536483563932361, 'num_leaves': 40, 'max_depth': 10, 'min_data_in_leaf': 30, 'feature_fraction': 0.7243520855093931, 'bagging_fraction': 0.9710171317150323, 'lambda_l1': 0.4482558989517005, 'lambda_l2': 4.363641488067986}. Best is trial 5 with value: 0.5290666163365694.\n",
      "[I 2025-07-29 13:53:16,889] Trial 6 finished with value: 0.5377749152599043 and parameters: {'learning_rate': 0.04800672025850045, 'num_leaves': 48, 'max_depth': 6, 'min_data_in_leaf': 35, 'feature_fraction': 0.8747978888300243, 'bagging_fraction': 0.9338001458417444, 'lambda_l1': 3.4074469080379783, 'lambda_l2': 4.365309672275383}. Best is trial 5 with value: 0.5290666163365694.\n",
      "[I 2025-07-29 13:53:20,212] Trial 7 finished with value: 0.5749476068743045 and parameters: {'learning_rate': 0.09825771356261834, 'num_leaves': 47, 'max_depth': 9, 'min_data_in_leaf': 44, 'feature_fraction': 0.8888151965088522, 'bagging_fraction': 0.7246272715508595, 'lambda_l1': 0.24081367958148858, 'lambda_l2': 0.6061932475554871}. Best is trial 5 with value: 0.5290666163365694.\n",
      "[I 2025-07-29 13:53:23,317] Trial 8 finished with value: 0.5612791841836036 and parameters: {'learning_rate': 0.03608186390656933, 'num_leaves': 41, 'max_depth': 10, 'min_data_in_leaf': 48, 'feature_fraction': 0.9619897733206233, 'bagging_fraction': 0.762833615460613, 'lambda_l1': 1.1693271850525933, 'lambda_l2': 1.5687609438654655}. Best is trial 5 with value: 0.5290666163365694.\n",
      "[I 2025-07-29 13:53:26,559] Trial 9 finished with value: 0.5283557379216693 and parameters: {'learning_rate': 0.02662067872721597, 'num_leaves': 53, 'max_depth': 9, 'min_data_in_leaf': 43, 'feature_fraction': 0.8181556925572221, 'bagging_fraction': 0.6467251670428453, 'lambda_l1': 2.272990405306471, 'lambda_l2': 4.822972528122105}. Best is trial 9 with value: 0.5283557379216693.\n",
      "[I 2025-07-29 13:53:28,660] Trial 10 finished with value: 0.5155085292717035 and parameters: {'learning_rate': 0.01677886234474483, 'num_leaves': 60, 'max_depth': 8, 'min_data_in_leaf': 41, 'feature_fraction': 0.7776760112885348, 'bagging_fraction': 0.8504480888042388, 'lambda_l1': 4.696613891139995, 'lambda_l2': 3.2504767434271056}. Best is trial 10 with value: 0.5155085292717035.\n",
      "[I 2025-07-29 13:53:30,909] Trial 11 finished with value: 0.5162293631924013 and parameters: {'learning_rate': 0.01088066513203896, 'num_leaves': 60, 'max_depth': 8, 'min_data_in_leaf': 42, 'feature_fraction': 0.601177556329848, 'bagging_fraction': 0.8434635438839336, 'lambda_l1': 4.913329628976213, 'lambda_l2': 3.211479299321768}. Best is trial 10 with value: 0.5155085292717035.\n",
      "[I 2025-07-29 13:53:33,299] Trial 12 finished with value: 0.5099294232595054 and parameters: {'learning_rate': 0.014077203603543385, 'num_leaves': 60, 'max_depth': 8, 'min_data_in_leaf': 40, 'feature_fraction': 0.6030809551165928, 'bagging_fraction': 0.849040880420005, 'lambda_l1': 4.88263371500387, 'lambda_l2': 3.106504735457124}. Best is trial 12 with value: 0.5099294232595054.\n",
      "[I 2025-07-29 13:53:36,428] Trial 13 finished with value: 0.5152394618669323 and parameters: {'learning_rate': 0.010992293126030487, 'num_leaves': 60, 'max_depth': 8, 'min_data_in_leaf': 39, 'feature_fraction': 0.6119953064256755, 'bagging_fraction': 0.853499897930676, 'lambda_l1': 4.948310627617472, 'lambda_l2': 3.2161463542617286}. Best is trial 12 with value: 0.5099294232595054.\n",
      "[I 2025-07-29 13:53:39,594] Trial 14 finished with value: 0.5163740227514649 and parameters: {'learning_rate': 0.026247837668098125, 'num_leaves': 37, 'max_depth': 6, 'min_data_in_leaf': 50, 'feature_fraction': 0.6040852762192576, 'bagging_fraction': 0.8286394059924439, 'lambda_l1': 4.032125109478375, 'lambda_l2': 2.6902231217881845}. Best is trial 12 with value: 0.5099294232595054.\n",
      "[I 2025-07-29 13:53:41,637] Trial 15 finished with value: 0.5233524827883358 and parameters: {'learning_rate': 0.06564639738404969, 'num_leaves': 56, 'max_depth': 3, 'min_data_in_leaf': 25, 'feature_fraction': 0.6630927754102016, 'bagging_fraction': 0.8885583837211123, 'lambda_l1': 4.06955471821503, 'lambda_l2': 3.768945675088553}. Best is trial 12 with value: 0.5099294232595054.\n",
      "[I 2025-07-29 13:53:45,803] Trial 16 finished with value: 0.5367809736022887 and parameters: {'learning_rate': 0.07215312806312466, 'num_leaves': 32, 'max_depth': 8, 'min_data_in_leaf': 38, 'feature_fraction': 0.6463843383915836, 'bagging_fraction': 0.767306750210111, 'lambda_l1': 4.204765641478378, 'lambda_l2': 3.6843698622452252}. Best is trial 12 with value: 0.5099294232595054.\n",
      "[I 2025-07-29 13:53:49,998] Trial 17 finished with value: 0.534267480509762 and parameters: {'learning_rate': 0.024969482852646645, 'num_leaves': 52, 'max_depth': 9, 'min_data_in_leaf': 12, 'feature_fraction': 0.7423463105467689, 'bagging_fraction': 0.8026687038886954, 'lambda_l1': 3.5246444830699684, 'lambda_l2': 2.6573303943587105}. Best is trial 12 with value: 0.5099294232595054.\n",
      "[I 2025-07-29 13:53:53,370] Trial 18 finished with value: 0.5141746845218755 and parameters: {'learning_rate': 0.010273136123566041, 'num_leaves': 60, 'max_depth': 7, 'min_data_in_leaf': 37, 'feature_fraction': 0.6517851470057264, 'bagging_fraction': 0.6795779277483065, 'lambda_l1': 4.553784852672315, 'lambda_l2': 0.034195738063183434}. Best is trial 12 with value: 0.5099294232595054.\n",
      "[I 2025-07-29 13:53:57,159] Trial 19 finished with value: 0.5246950220130392 and parameters: {'learning_rate': 0.03493664936241789, 'num_leaves': 56, 'max_depth': 5, 'min_data_in_leaf': 36, 'feature_fraction': 0.6646252746211487, 'bagging_fraction': 0.6844318387082879, 'lambda_l1': 3.191953976676233, 'lambda_l2': 0.11241875846369222}. Best is trial 12 with value: 0.5099294232595054.\n",
      "[I 2025-07-29 13:54:04,931] Trial 20 finished with value: 0.52955732120114 and parameters: {'learning_rate': 0.06099915266423776, 'num_leaves': 50, 'max_depth': 7, 'min_data_in_leaf': 26, 'feature_fraction': 0.7121291992751881, 'bagging_fraction': 0.6859720238202773, 'lambda_l1': 4.455460108065773, 'lambda_l2': 0.0013694409222546333}. Best is trial 12 with value: 0.5099294232595054.\n",
      "[I 2025-07-29 13:54:22,870] Trial 21 finished with value: 0.5135532386402797 and parameters: {'learning_rate': 0.01168727164513848, 'num_leaves': 60, 'max_depth': 8, 'min_data_in_leaf': 38, 'feature_fraction': 0.646631640162671, 'bagging_fraction': 0.8689244000441566, 'lambda_l1': 4.899038690023462, 'lambda_l2': 2.3995360838234587}. Best is trial 12 with value: 0.5099294232595054.\n",
      "[I 2025-07-29 13:54:29,733] Trial 22 finished with value: 0.515886202090933 and parameters: {'learning_rate': 0.018740112875782648, 'num_leaves': 56, 'max_depth': 6, 'min_data_in_leaf': 45, 'feature_fraction': 0.6382066557020014, 'bagging_fraction': 0.8829517170687247, 'lambda_l1': 3.84234039134089, 'lambda_l2': 0.6336392533531721}. Best is trial 12 with value: 0.5099294232595054.\n",
      "[I 2025-07-29 13:54:34,229] Trial 23 finished with value: 0.5082719639008455 and parameters: {'learning_rate': 0.017204708400549742, 'num_leaves': 58, 'max_depth': 7, 'min_data_in_leaf': 36, 'feature_fraction': 0.684892439421228, 'bagging_fraction': 0.8001753160171816, 'lambda_l1': 4.366830353561678, 'lambda_l2': 2.175165390559252}. Best is trial 23 with value: 0.5082719639008455.\n",
      "[I 2025-07-29 13:54:37,910] Trial 24 finished with value: 0.5101823198814892 and parameters: {'learning_rate': 0.021098419085030504, 'num_leaves': 53, 'max_depth': 9, 'min_data_in_leaf': 34, 'feature_fraction': 0.6970903502121049, 'bagging_fraction': 0.795015589727712, 'lambda_l1': 4.992555976866252, 'lambda_l2': 2.1602228780980193}. Best is trial 23 with value: 0.5082719639008455.\n",
      "[I 2025-07-29 13:54:41,920] Trial 25 finished with value: 0.5251368340303251 and parameters: {'learning_rate': 0.0335734281107368, 'num_leaves': 53, 'max_depth': 9, 'min_data_in_leaf': 34, 'feature_fraction': 0.765826010420475, 'bagging_fraction': 0.7998212031987171, 'lambda_l1': 4.415353517093774, 'lambda_l2': 2.1576080802732376}. Best is trial 23 with value: 0.5082719639008455.\n",
      "[I 2025-07-29 13:54:46,588] Trial 26 finished with value: 0.508322718205148 and parameters: {'learning_rate': 0.02023939836954205, 'num_leaves': 46, 'max_depth': 9, 'min_data_in_leaf': 27, 'feature_fraction': 0.6882434277081346, 'bagging_fraction': 0.8092113111239083, 'lambda_l1': 3.584253284008906, 'lambda_l2': 1.6523205117766013}. Best is trial 23 with value: 0.5082719639008455.\n",
      "[I 2025-07-29 13:54:49,246] Trial 27 finished with value: 0.5216063226616032 and parameters: {'learning_rate': 0.03128732967228108, 'num_leaves': 44, 'max_depth': 5, 'min_data_in_leaf': 26, 'feature_fraction': 0.6837348772435257, 'bagging_fraction': 0.8188415030117031, 'lambda_l1': 2.821637563277299, 'lambda_l2': 1.6128118262256002}. Best is trial 23 with value: 0.5082719639008455.\n",
      "[I 2025-07-29 13:54:53,943] Trial 28 finished with value: 0.5230012681621501 and parameters: {'learning_rate': 0.020091710418400133, 'num_leaves': 37, 'max_depth': 8, 'min_data_in_leaf': 21, 'feature_fraction': 0.7417310187762971, 'bagging_fraction': 0.758026761575222, 'lambda_l1': 3.716816404190167, 'lambda_l2': 0.9496854891893702}. Best is trial 23 with value: 0.5082719639008455.\n",
      "[I 2025-07-29 13:54:58,005] Trial 29 finished with value: 0.5327578708458692 and parameters: {'learning_rate': 0.04013470491838364, 'num_leaves': 46, 'max_depth': 7, 'min_data_in_leaf': 20, 'feature_fraction': 0.6279256654668682, 'bagging_fraction': 0.9067308377384647, 'lambda_l1': 3.061704050686527, 'lambda_l2': 2.815741007603782}. Best is trial 23 with value: 0.5082719639008455.\n",
      "[I 2025-07-29 13:55:01,340] Trial 30 finished with value: 0.5347239853759539 and parameters: {'learning_rate': 0.07879186799874552, 'num_leaves': 50, 'max_depth': 6, 'min_data_in_leaf': 23, 'feature_fraction': 0.6815998216118081, 'bagging_fraction': 0.9335798280728281, 'lambda_l1': 1.5546506231563106, 'lambda_l2': 1.6715788246001466}. Best is trial 23 with value: 0.5082719639008455.\n",
      "[I 2025-07-29 13:55:04,751] Trial 31 finished with value: 0.5055605759871574 and parameters: {'learning_rate': 0.018740345337200457, 'num_leaves': 57, 'max_depth': 9, 'min_data_in_leaf': 29, 'feature_fraction': 0.6976437307532328, 'bagging_fraction': 0.7917161621958948, 'lambda_l1': 4.308193475027047, 'lambda_l2': 2.3199018428663876}. Best is trial 31 with value: 0.5055605759871574.\n",
      "[I 2025-07-29 13:55:08,672] Trial 32 finished with value: 0.5240804055482351 and parameters: {'learning_rate': 0.027395366402250286, 'num_leaves': 57, 'max_depth': 9, 'min_data_in_leaf': 28, 'feature_fraction': 0.852007817400709, 'bagging_fraction': 0.7843888705145177, 'lambda_l1': 4.272568856826032, 'lambda_l2': 2.41643060374607}. Best is trial 31 with value: 0.5055605759871574.\n",
      "[I 2025-07-29 13:55:11,844] Trial 33 finished with value: 0.511311598549025 and parameters: {'learning_rate': 0.016535099632828898, 'num_leaves': 57, 'max_depth': 10, 'min_data_in_leaf': 31, 'feature_fraction': 0.7852069379224407, 'bagging_fraction': 0.7341209746472899, 'lambda_l1': 3.8283225683267137, 'lambda_l2': 2.9405506092812166}. Best is trial 31 with value: 0.5055605759871574.\n",
      "[I 2025-07-29 13:55:14,468] Trial 34 finished with value: 0.5330843301016601 and parameters: {'learning_rate': 0.022250102630344517, 'num_leaves': 22, 'max_depth': 8, 'min_data_in_leaf': 15, 'feature_fraction': 0.742928603946228, 'bagging_fraction': 0.8226494370854104, 'lambda_l1': 2.6758194298576385, 'lambda_l2': 3.495619498194138}. Best is trial 31 with value: 0.5055605759871574.\n",
      "[I 2025-07-29 13:55:17,464] Trial 35 finished with value: 0.5247250556272415 and parameters: {'learning_rate': 0.039656768463626646, 'num_leaves': 51, 'max_depth': 9, 'min_data_in_leaf': 28, 'feature_fraction': 0.7084079400085953, 'bagging_fraction': 0.7827912546203312, 'lambda_l1': 4.58424056455228, 'lambda_l2': 2.004322989913112}. Best is trial 31 with value: 0.5055605759871574.\n",
      "[I 2025-07-29 13:55:20,532] Trial 36 finished with value: 0.5061231588958923 and parameters: {'learning_rate': 0.015369943986766771, 'num_leaves': 44, 'max_depth': 7, 'min_data_in_leaf': 32, 'feature_fraction': 0.6222398595559266, 'bagging_fraction': 0.7170067769055383, 'lambda_l1': 3.3997251356208293, 'lambda_l2': 1.2447840051261216}. Best is trial 31 with value: 0.5055605759871574.\n",
      "[I 2025-07-29 13:55:22,368] Trial 37 finished with value: 0.5206778968835286 and parameters: {'learning_rate': 0.03019668957466888, 'num_leaves': 43, 'max_depth': 4, 'min_data_in_leaf': 32, 'feature_fraction': 0.6791453473118805, 'bagging_fraction': 0.7152593153763703, 'lambda_l1': 3.4028140816148613, 'lambda_l2': 1.182058716693094}. Best is trial 31 with value: 0.5055605759871574.\n",
      "[I 2025-07-29 13:55:25,235] Trial 38 finished with value: 0.5305121796436344 and parameters: {'learning_rate': 0.052070948232280104, 'num_leaves': 37, 'max_depth': 7, 'min_data_in_leaf': 29, 'feature_fraction': 0.7249813968600899, 'bagging_fraction': 0.6992485968100746, 'lambda_l1': 3.0299129567890506, 'lambda_l2': 1.80206867508441}. Best is trial 31 with value: 0.5055605759871574.\n",
      "[I 2025-07-29 13:55:28,680] Trial 39 finished with value: 0.5128435734292512 and parameters: {'learning_rate': 0.023206267917653012, 'num_leaves': 34, 'max_depth': 10, 'min_data_in_leaf': 24, 'feature_fraction': 0.6251780122280137, 'bagging_fraction': 0.7500486398902788, 'lambda_l1': 2.4729720634043733, 'lambda_l2': 0.9433874301938345}. Best is trial 31 with value: 0.5055605759871574.\n",
      "[I 2025-07-29 13:55:30,418] Trial 40 finished with value: 0.5187774826834486 and parameters: {'learning_rate': 0.016306532629452457, 'num_leaves': 47, 'max_depth': 4, 'min_data_in_leaf': 33, 'feature_fraction': 0.810750607852883, 'bagging_fraction': 0.631502574260067, 'lambda_l1': 3.6284170218776333, 'lambda_l2': 1.4036235179211316}. Best is trial 31 with value: 0.5055605759871574.\n",
      "[I 2025-07-29 13:55:32,878] Trial 41 finished with value: 0.5104361417660117 and parameters: {'learning_rate': 0.01689839730533796, 'num_leaves': 58, 'max_depth': 7, 'min_data_in_leaf': 40, 'feature_fraction': 0.6239570667535939, 'bagging_fraction': 0.8166279626368858, 'lambda_l1': 3.9468164413651747, 'lambda_l2': 2.3181735821312435}. Best is trial 31 with value: 0.5055605759871574.\n",
      "[I 2025-07-29 13:55:36,117] Trial 42 finished with value: 0.5069457400487647 and parameters: {'learning_rate': 0.014548449598530156, 'num_leaves': 54, 'max_depth': 8, 'min_data_in_leaf': 30, 'feature_fraction': 0.6642615258884244, 'bagging_fraction': 0.7791882948586383, 'lambda_l1': 4.189843973316816, 'lambda_l2': 1.7671658595506525}. Best is trial 31 with value: 0.5055605759871574.\n",
      "[I 2025-07-29 13:55:38,885] Trial 43 finished with value: 0.5136813250950694 and parameters: {'learning_rate': 0.029616252355984182, 'num_leaves': 54, 'max_depth': 7, 'min_data_in_leaf': 30, 'feature_fraction': 0.6648769519528845, 'bagging_fraction': 0.6595358425509584, 'lambda_l1': 4.217213414121103, 'lambda_l2': 1.8031209615702792}. Best is trial 31 with value: 0.5055605759871574.\n",
      "[I 2025-07-29 13:55:41,351] Trial 44 finished with value: 0.511605859321771 and parameters: {'learning_rate': 0.022669430846510286, 'num_leaves': 45, 'max_depth': 6, 'min_data_in_leaf': 27, 'feature_fraction': 0.7010519356573602, 'bagging_fraction': 0.7781732911041903, 'lambda_l1': 3.297486762296918, 'lambda_l2': 1.4383056929882838}. Best is trial 31 with value: 0.5055605759871574.\n",
      "[I 2025-07-29 13:55:44,382] Trial 45 finished with value: 0.5141574686721573 and parameters: {'learning_rate': 0.014644402742771543, 'num_leaves': 41, 'max_depth': 10, 'min_data_in_leaf': 22, 'feature_fraction': 0.7288869257806998, 'bagging_fraction': 0.7381728817750977, 'lambda_l1': 3.6283347711911302, 'lambda_l2': 1.954560757460402}. Best is trial 31 with value: 0.5055605759871574.\n",
      "[I 2025-07-29 13:55:47,982] Trial 46 finished with value: 0.5373886998259139 and parameters: {'learning_rate': 0.04639743598379302, 'num_leaves': 49, 'max_depth': 9, 'min_data_in_leaf': 31, 'feature_fraction': 0.8397350796503243, 'bagging_fraction': 0.753857432513192, 'lambda_l1': 0.7281329842200202, 'lambda_l2': 1.0649050066124497}. Best is trial 31 with value: 0.5055605759871574.\n",
      "[I 2025-07-29 13:55:51,041] Trial 47 finished with value: 0.5090320596774214 and parameters: {'learning_rate': 0.013786430332740452, 'num_leaves': 43, 'max_depth': 8, 'min_data_in_leaf': 35, 'feature_fraction': 0.6819422803730093, 'bagging_fraction': 0.8394566793726292, 'lambda_l1': 4.721256951637582, 'lambda_l2': 0.6485544464919897}. Best is trial 31 with value: 0.5055605759871574.\n",
      "[I 2025-07-29 13:55:54,028] Trial 48 finished with value: 0.5472847941355516 and parameters: {'learning_rate': 0.03851288875329738, 'num_leaves': 48, 'max_depth': 8, 'min_data_in_leaf': 19, 'feature_fraction': 0.9309480433627317, 'bagging_fraction': 0.7252652322675882, 'lambda_l1': 4.056394335683756, 'lambda_l2': 2.178095638106168}. Best is trial 31 with value: 0.5055605759871574.\n",
      "[I 2025-07-29 13:55:56,871] Trial 49 finished with value: 0.5165545275020688 and parameters: {'learning_rate': 0.02534016067752258, 'num_leaves': 58, 'max_depth': 9, 'min_data_in_leaf': 30, 'feature_fraction': 0.7642789989442357, 'bagging_fraction': 0.803811629773478, 'lambda_l1': 4.233996554902372, 'lambda_l2': 1.3214844462551838}. Best is trial 31 with value: 0.5055605759871574.\n"
     ]
    },
    {
     "name": "stdout",
     "output_type": "stream",
     "text": [
      "Best Parameters: {'learning_rate': 0.018740345337200457, 'num_leaves': 57, 'max_depth': 9, 'min_data_in_leaf': 29, 'feature_fraction': 0.6976437307532328, 'bagging_fraction': 0.7917161621958948, 'lambda_l1': 4.308193475027047, 'lambda_l2': 2.3199018428663876, 'objective': 'regression', 'metric': 'mae', 'verbosity': -1}\n",
      "Final Model MAE: 0.0542\n",
      "Final Model RMSE: 0.2412\n",
      "Final Model R^2: 0.8583\n"
     ]
    }
   ],
   "source": [
    "# Supply group model\n",
    "\n",
    "target = 'Line Count'\n",
    "\n",
    "# Use only the training portion for tuning\n",
    "train_data = df_supply_group_special[(df_supply_group_special['Created On'] < '2025-01-01') ]\n",
    "test = df_supply_group_special[df_supply_group_special['Created On'] >= '2025-01-01']\n",
    "\n",
    "# TimeSeriesSplit setup\n",
    "tscv = TimeSeriesSplit(n_splits=5)\n",
    "\n",
    "def objective(trial):\n",
    "    params = {\n",
    "        'objective': 'regression',\n",
    "        'metric': 'mae',\n",
    "        'verbosity': -1,\n",
    "        'boosting_type': 'gbdt',\n",
    "        'learning_rate': trial.suggest_float('learning_rate', 0.01, 0.1),\n",
    "        'num_leaves': trial.suggest_int('num_leaves', 20, 60),\n",
    "        'max_depth': trial.suggest_int('max_depth', 3, 10),\n",
    "        'min_data_in_leaf': trial.suggest_int('min_data_in_leaf', 10, 50),\n",
    "        'min_sum_hessian_in_leaf': 1e-3,\n",
    "        'feature_fraction': trial.suggest_float('feature_fraction', 0.6, 1.0),\n",
    "        'bagging_fraction': trial.suggest_float('bagging_fraction', 0.6, 1.0),\n",
    "        'lambda_l1': trial.suggest_float('lambda_l1', 0.0, 5.0),\n",
    "        'lambda_l2': trial.suggest_float('lambda_l2', 0.0, 5.0),\n",
    "        'force_row_wise': True\n",
    "    }\n",
    "\n",
    "    rmses = []\n",
    "\n",
    "    for train_idx, val_idx in tscv.split(train_data):\n",
    "        train_fold = train_data.iloc[train_idx]\n",
    "        val_fold = train_data.iloc[val_idx]\n",
    "\n",
    "        lgb_train = lgb.Dataset(train_fold[supply_group_features], label=train_fold[target], categorical_feature=['color_encoded', 'brand_encoded', 'model_encoded', 'ship_to_name_encoded'])\n",
    "        lgb_val = lgb.Dataset(val_fold[supply_group_features], label=val_fold[target], reference=lgb_train)\n",
    "\n",
    "        model = lgb.train(params, lgb_train, valid_sets=[lgb_val], )\n",
    "        preds = np.clip(model.predict(val_fold[supply_group_features]), 0, None)\n",
    "        rmse = np.sqrt(mean_squared_error(val_fold[target], preds))\n",
    "        rmses.append(rmse)\n",
    "\n",
    "    return np.mean(rmses)\n",
    "\n",
    "# Run optimization\n",
    "study = optuna.create_study(direction='minimize')\n",
    "study.optimize(objective, n_trials=50)\n",
    "\n",
    "# Get best parameters\n",
    "best_params = study.best_params\n",
    "best_params.update({'objective': 'regression', 'metric': 'mae', 'verbosity': -1})\n",
    "\n",
    "# Train on full training set\n",
    "train_final = df_supply_group_special[df_supply_group_special['Created On'] < '2025-01-01']\n",
    "test_final = df_supply_group_special[df_supply_group_special['Created On'] >= '2025-01-01']\n",
    "\n",
    "lgb_train = lgb.Dataset(train_final[supply_group_features], label=train_final[target], categorical_feature=['color_encoded', 'brand_encoded', 'model_encoded', 'ship_to_name_encoded'])\n",
    "lgb_test = lgb.Dataset(test_final[supply_group_features], label=test_final[target], reference=lgb_train)\n",
    "\n",
    "model = lgb.train(best_params, lgb_train, valid_sets=[lgb_test], )\n",
    "\n",
    "# Evaluate\n",
    "preds = np.clip(model.predict(test_final[supply_group_features]), 0, None)\n",
    "mae = mean_absolute_error(test_final[target], preds)\n",
    "rmse = np.sqrt(mean_squared_error(test_final[target], preds))\n",
    "r2 = r2_score(test_final[target], preds)\n",
    "\n",
    "print(\"Best Parameters:\", best_params)\n",
    "print(f\"Final Model MAE: {mae:.4f}\")\n",
    "print(f\"Final Model RMSE: {rmse:.4f}\")\n",
    "print(f\"Final Model R^2: {r2:.4f}\")"
   ]
  },
  {
   "cell_type": "markdown",
   "id": "f4c57abb",
   "metadata": {},
   "source": [
    "Best Parameters: {'learning_rate': 0.018740345337200457, 'num_leaves': 57, 'max_depth': 9, 'min_data_in_leaf': 29, 'feature_fraction': 0.6976437307532328, 'bagging_fraction': 0.7917161621958948, 'lambda_l1': 4.308193475027047, 'lambda_l2': 2.3199018428663876, 'objective': 'regression', 'metric': 'mae', 'verbosity': -1}\n",
    "Final Model MAE: 0.0542\n",
    "Final Model RMSE: 0.2412\n",
    "Final Model R^2: 0.8583"
   ]
  },
  {
   "cell_type": "markdown",
   "id": "f8432b0d",
   "metadata": {},
   "source": [
    "##### Supply Group Feature Importance"
   ]
  },
  {
   "cell_type": "code",
   "execution_count": 50,
   "id": "250ce7a4",
   "metadata": {},
   "outputs": [
    {
     "data": {
      "application/vnd.plotly.v1+json": {
       "config": {
        "plotlyServerURL": "https://plot.ly"
       },
       "data": [
        {
         "hovertemplate": "Importance Score=%{x}<br>Feature=%{y}<extra></extra>",
         "legendgroup": "",
         "marker": {
          "color": "#636efa",
          "pattern": {
           "shape": ""
          }
         },
         "name": "",
         "orientation": "h",
         "showlegend": false,
         "textposition": "auto",
         "type": "bar",
         "x": {
          "bdata": "0gIAAL8CAABzAgAAEwIAAAUCAAB7AQAAkAAAAIMAAAA5AAAA",
          "dtype": "i4"
         },
         "xaxis": "x",
         "y": [
          "day",
          "month",
          "ship_to_name_encoded",
          "ZYIELD",
          "Total_Read",
          "day_num",
          "model_encoded",
          "brand_encoded",
          "color_encoded"
         ],
         "yaxis": "y"
        }
       ],
       "layout": {
        "barmode": "relative",
        "legend": {
         "tracegroupgap": 0
        },
        "template": {
         "data": {
          "bar": [
           {
            "error_x": {
             "color": "#f2f5fa"
            },
            "error_y": {
             "color": "#f2f5fa"
            },
            "marker": {
             "line": {
              "color": "rgb(17,17,17)",
              "width": 0.5
             },
             "pattern": {
              "fillmode": "overlay",
              "size": 10,
              "solidity": 0.2
             }
            },
            "type": "bar"
           }
          ],
          "barpolar": [
           {
            "marker": {
             "line": {
              "color": "rgb(17,17,17)",
              "width": 0.5
             },
             "pattern": {
              "fillmode": "overlay",
              "size": 10,
              "solidity": 0.2
             }
            },
            "type": "barpolar"
           }
          ],
          "carpet": [
           {
            "aaxis": {
             "endlinecolor": "#A2B1C6",
             "gridcolor": "#506784",
             "linecolor": "#506784",
             "minorgridcolor": "#506784",
             "startlinecolor": "#A2B1C6"
            },
            "baxis": {
             "endlinecolor": "#A2B1C6",
             "gridcolor": "#506784",
             "linecolor": "#506784",
             "minorgridcolor": "#506784",
             "startlinecolor": "#A2B1C6"
            },
            "type": "carpet"
           }
          ],
          "choropleth": [
           {
            "colorbar": {
             "outlinewidth": 0,
             "ticks": ""
            },
            "type": "choropleth"
           }
          ],
          "contour": [
           {
            "colorbar": {
             "outlinewidth": 0,
             "ticks": ""
            },
            "colorscale": [
             [
              0,
              "#0d0887"
             ],
             [
              0.1111111111111111,
              "#46039f"
             ],
             [
              0.2222222222222222,
              "#7201a8"
             ],
             [
              0.3333333333333333,
              "#9c179e"
             ],
             [
              0.4444444444444444,
              "#bd3786"
             ],
             [
              0.5555555555555556,
              "#d8576b"
             ],
             [
              0.6666666666666666,
              "#ed7953"
             ],
             [
              0.7777777777777778,
              "#fb9f3a"
             ],
             [
              0.8888888888888888,
              "#fdca26"
             ],
             [
              1,
              "#f0f921"
             ]
            ],
            "type": "contour"
           }
          ],
          "contourcarpet": [
           {
            "colorbar": {
             "outlinewidth": 0,
             "ticks": ""
            },
            "type": "contourcarpet"
           }
          ],
          "heatmap": [
           {
            "colorbar": {
             "outlinewidth": 0,
             "ticks": ""
            },
            "colorscale": [
             [
              0,
              "#0d0887"
             ],
             [
              0.1111111111111111,
              "#46039f"
             ],
             [
              0.2222222222222222,
              "#7201a8"
             ],
             [
              0.3333333333333333,
              "#9c179e"
             ],
             [
              0.4444444444444444,
              "#bd3786"
             ],
             [
              0.5555555555555556,
              "#d8576b"
             ],
             [
              0.6666666666666666,
              "#ed7953"
             ],
             [
              0.7777777777777778,
              "#fb9f3a"
             ],
             [
              0.8888888888888888,
              "#fdca26"
             ],
             [
              1,
              "#f0f921"
             ]
            ],
            "type": "heatmap"
           }
          ],
          "histogram": [
           {
            "marker": {
             "pattern": {
              "fillmode": "overlay",
              "size": 10,
              "solidity": 0.2
             }
            },
            "type": "histogram"
           }
          ],
          "histogram2d": [
           {
            "colorbar": {
             "outlinewidth": 0,
             "ticks": ""
            },
            "colorscale": [
             [
              0,
              "#0d0887"
             ],
             [
              0.1111111111111111,
              "#46039f"
             ],
             [
              0.2222222222222222,
              "#7201a8"
             ],
             [
              0.3333333333333333,
              "#9c179e"
             ],
             [
              0.4444444444444444,
              "#bd3786"
             ],
             [
              0.5555555555555556,
              "#d8576b"
             ],
             [
              0.6666666666666666,
              "#ed7953"
             ],
             [
              0.7777777777777778,
              "#fb9f3a"
             ],
             [
              0.8888888888888888,
              "#fdca26"
             ],
             [
              1,
              "#f0f921"
             ]
            ],
            "type": "histogram2d"
           }
          ],
          "histogram2dcontour": [
           {
            "colorbar": {
             "outlinewidth": 0,
             "ticks": ""
            },
            "colorscale": [
             [
              0,
              "#0d0887"
             ],
             [
              0.1111111111111111,
              "#46039f"
             ],
             [
              0.2222222222222222,
              "#7201a8"
             ],
             [
              0.3333333333333333,
              "#9c179e"
             ],
             [
              0.4444444444444444,
              "#bd3786"
             ],
             [
              0.5555555555555556,
              "#d8576b"
             ],
             [
              0.6666666666666666,
              "#ed7953"
             ],
             [
              0.7777777777777778,
              "#fb9f3a"
             ],
             [
              0.8888888888888888,
              "#fdca26"
             ],
             [
              1,
              "#f0f921"
             ]
            ],
            "type": "histogram2dcontour"
           }
          ],
          "mesh3d": [
           {
            "colorbar": {
             "outlinewidth": 0,
             "ticks": ""
            },
            "type": "mesh3d"
           }
          ],
          "parcoords": [
           {
            "line": {
             "colorbar": {
              "outlinewidth": 0,
              "ticks": ""
             }
            },
            "type": "parcoords"
           }
          ],
          "pie": [
           {
            "automargin": true,
            "type": "pie"
           }
          ],
          "scatter": [
           {
            "marker": {
             "line": {
              "color": "#283442"
             }
            },
            "type": "scatter"
           }
          ],
          "scatter3d": [
           {
            "line": {
             "colorbar": {
              "outlinewidth": 0,
              "ticks": ""
             }
            },
            "marker": {
             "colorbar": {
              "outlinewidth": 0,
              "ticks": ""
             }
            },
            "type": "scatter3d"
           }
          ],
          "scattercarpet": [
           {
            "marker": {
             "colorbar": {
              "outlinewidth": 0,
              "ticks": ""
             }
            },
            "type": "scattercarpet"
           }
          ],
          "scattergeo": [
           {
            "marker": {
             "colorbar": {
              "outlinewidth": 0,
              "ticks": ""
             }
            },
            "type": "scattergeo"
           }
          ],
          "scattergl": [
           {
            "marker": {
             "line": {
              "color": "#283442"
             }
            },
            "type": "scattergl"
           }
          ],
          "scattermap": [
           {
            "marker": {
             "colorbar": {
              "outlinewidth": 0,
              "ticks": ""
             }
            },
            "type": "scattermap"
           }
          ],
          "scattermapbox": [
           {
            "marker": {
             "colorbar": {
              "outlinewidth": 0,
              "ticks": ""
             }
            },
            "type": "scattermapbox"
           }
          ],
          "scatterpolar": [
           {
            "marker": {
             "colorbar": {
              "outlinewidth": 0,
              "ticks": ""
             }
            },
            "type": "scatterpolar"
           }
          ],
          "scatterpolargl": [
           {
            "marker": {
             "colorbar": {
              "outlinewidth": 0,
              "ticks": ""
             }
            },
            "type": "scatterpolargl"
           }
          ],
          "scatterternary": [
           {
            "marker": {
             "colorbar": {
              "outlinewidth": 0,
              "ticks": ""
             }
            },
            "type": "scatterternary"
           }
          ],
          "surface": [
           {
            "colorbar": {
             "outlinewidth": 0,
             "ticks": ""
            },
            "colorscale": [
             [
              0,
              "#0d0887"
             ],
             [
              0.1111111111111111,
              "#46039f"
             ],
             [
              0.2222222222222222,
              "#7201a8"
             ],
             [
              0.3333333333333333,
              "#9c179e"
             ],
             [
              0.4444444444444444,
              "#bd3786"
             ],
             [
              0.5555555555555556,
              "#d8576b"
             ],
             [
              0.6666666666666666,
              "#ed7953"
             ],
             [
              0.7777777777777778,
              "#fb9f3a"
             ],
             [
              0.8888888888888888,
              "#fdca26"
             ],
             [
              1,
              "#f0f921"
             ]
            ],
            "type": "surface"
           }
          ],
          "table": [
           {
            "cells": {
             "fill": {
              "color": "#506784"
             },
             "line": {
              "color": "rgb(17,17,17)"
             }
            },
            "header": {
             "fill": {
              "color": "#2a3f5f"
             },
             "line": {
              "color": "rgb(17,17,17)"
             }
            },
            "type": "table"
           }
          ]
         },
         "layout": {
          "annotationdefaults": {
           "arrowcolor": "#f2f5fa",
           "arrowhead": 0,
           "arrowwidth": 1
          },
          "autotypenumbers": "strict",
          "coloraxis": {
           "colorbar": {
            "outlinewidth": 0,
            "ticks": ""
           }
          },
          "colorscale": {
           "diverging": [
            [
             0,
             "#8e0152"
            ],
            [
             0.1,
             "#c51b7d"
            ],
            [
             0.2,
             "#de77ae"
            ],
            [
             0.3,
             "#f1b6da"
            ],
            [
             0.4,
             "#fde0ef"
            ],
            [
             0.5,
             "#f7f7f7"
            ],
            [
             0.6,
             "#e6f5d0"
            ],
            [
             0.7,
             "#b8e186"
            ],
            [
             0.8,
             "#7fbc41"
            ],
            [
             0.9,
             "#4d9221"
            ],
            [
             1,
             "#276419"
            ]
           ],
           "sequential": [
            [
             0,
             "#0d0887"
            ],
            [
             0.1111111111111111,
             "#46039f"
            ],
            [
             0.2222222222222222,
             "#7201a8"
            ],
            [
             0.3333333333333333,
             "#9c179e"
            ],
            [
             0.4444444444444444,
             "#bd3786"
            ],
            [
             0.5555555555555556,
             "#d8576b"
            ],
            [
             0.6666666666666666,
             "#ed7953"
            ],
            [
             0.7777777777777778,
             "#fb9f3a"
            ],
            [
             0.8888888888888888,
             "#fdca26"
            ],
            [
             1,
             "#f0f921"
            ]
           ],
           "sequentialminus": [
            [
             0,
             "#0d0887"
            ],
            [
             0.1111111111111111,
             "#46039f"
            ],
            [
             0.2222222222222222,
             "#7201a8"
            ],
            [
             0.3333333333333333,
             "#9c179e"
            ],
            [
             0.4444444444444444,
             "#bd3786"
            ],
            [
             0.5555555555555556,
             "#d8576b"
            ],
            [
             0.6666666666666666,
             "#ed7953"
            ],
            [
             0.7777777777777778,
             "#fb9f3a"
            ],
            [
             0.8888888888888888,
             "#fdca26"
            ],
            [
             1,
             "#f0f921"
            ]
           ]
          },
          "colorway": [
           "#636efa",
           "#EF553B",
           "#00cc96",
           "#ab63fa",
           "#FFA15A",
           "#19d3f3",
           "#FF6692",
           "#B6E880",
           "#FF97FF",
           "#FECB52"
          ],
          "font": {
           "color": "#f2f5fa"
          },
          "geo": {
           "bgcolor": "rgb(17,17,17)",
           "lakecolor": "rgb(17,17,17)",
           "landcolor": "rgb(17,17,17)",
           "showlakes": true,
           "showland": true,
           "subunitcolor": "#506784"
          },
          "hoverlabel": {
           "align": "left"
          },
          "hovermode": "closest",
          "mapbox": {
           "style": "dark"
          },
          "paper_bgcolor": "rgb(17,17,17)",
          "plot_bgcolor": "rgb(17,17,17)",
          "polar": {
           "angularaxis": {
            "gridcolor": "#506784",
            "linecolor": "#506784",
            "ticks": ""
           },
           "bgcolor": "rgb(17,17,17)",
           "radialaxis": {
            "gridcolor": "#506784",
            "linecolor": "#506784",
            "ticks": ""
           }
          },
          "scene": {
           "xaxis": {
            "backgroundcolor": "rgb(17,17,17)",
            "gridcolor": "#506784",
            "gridwidth": 2,
            "linecolor": "#506784",
            "showbackground": true,
            "ticks": "",
            "zerolinecolor": "#C8D4E3"
           },
           "yaxis": {
            "backgroundcolor": "rgb(17,17,17)",
            "gridcolor": "#506784",
            "gridwidth": 2,
            "linecolor": "#506784",
            "showbackground": true,
            "ticks": "",
            "zerolinecolor": "#C8D4E3"
           },
           "zaxis": {
            "backgroundcolor": "rgb(17,17,17)",
            "gridcolor": "#506784",
            "gridwidth": 2,
            "linecolor": "#506784",
            "showbackground": true,
            "ticks": "",
            "zerolinecolor": "#C8D4E3"
           }
          },
          "shapedefaults": {
           "line": {
            "color": "#f2f5fa"
           }
          },
          "sliderdefaults": {
           "bgcolor": "#C8D4E3",
           "bordercolor": "rgb(17,17,17)",
           "borderwidth": 1,
           "tickwidth": 0
          },
          "ternary": {
           "aaxis": {
            "gridcolor": "#506784",
            "linecolor": "#506784",
            "ticks": ""
           },
           "baxis": {
            "gridcolor": "#506784",
            "linecolor": "#506784",
            "ticks": ""
           },
           "bgcolor": "rgb(17,17,17)",
           "caxis": {
            "gridcolor": "#506784",
            "linecolor": "#506784",
            "ticks": ""
           }
          },
          "title": {
           "x": 0.05
          },
          "updatemenudefaults": {
           "bgcolor": "#506784",
           "borderwidth": 0
          },
          "xaxis": {
           "automargin": true,
           "gridcolor": "#283442",
           "linecolor": "#506784",
           "ticks": "",
           "title": {
            "standoff": 15
           },
           "zerolinecolor": "#283442",
           "zerolinewidth": 2
          },
          "yaxis": {
           "automargin": true,
           "gridcolor": "#283442",
           "linecolor": "#506784",
           "ticks": "",
           "title": {
            "standoff": 15
           },
           "zerolinecolor": "#283442",
           "zerolinewidth": 2
          }
         }
        },
        "title": {
         "text": "Feature Importance (LightGBM)"
        },
        "xaxis": {
         "anchor": "y",
         "domain": [
          0,
          1
         ],
         "title": {
          "text": "Importance Score"
         }
        },
        "yaxis": {
         "anchor": "x",
         "categoryorder": "total ascending",
         "domain": [
          0,
          1
         ],
         "title": {
          "text": "Feature"
         }
        }
       }
      }
     },
     "metadata": {},
     "output_type": "display_data"
    }
   ],
   "source": [
    "# Extract feature importances and feature names\n",
    "importances = model.feature_importance()\n",
    "feature_names = model.feature_name()\n",
    "\n",
    "# Create a DataFrame\n",
    "importance_df = pd.DataFrame({\n",
    "    'Feature': feature_names,\n",
    "    'Importance': importances\n",
    "}).sort_values(by='Importance', ascending=False)\n",
    "\n",
    "# Plot with Plotly\n",
    "fig = px.bar(importance_df, x='Importance', y='Feature', orientation='h', template = 'plotly_dark', \n",
    "             title='Feature Importance (LightGBM)',\n",
    "             labels={'Importance': 'Importance Score', 'Feature': 'Feature'},\n",
    "            #  height=800\n",
    "             )\n",
    "\n",
    "fig.update_layout(yaxis={'categoryorder':'total ascending'})\n",
    "fig.show()"
   ]
  },
  {
   "cell_type": "markdown",
   "id": "e7b2df99",
   "metadata": {},
   "source": [
    "##### Supply Group Actual vs Predicted"
   ]
  },
  {
   "cell_type": "code",
   "execution_count": 51,
   "id": "78de91de",
   "metadata": {},
   "outputs": [
    {
     "data": {
      "image/png": "[encoded data removed]",
      "text/plain": [
       "<Figure size 1200x600 with 1 Axes>"
      ]
     },
     "metadata": {},
     "output_type": "display_data"
    }
   ],
   "source": [
    "# Plot actual vs predicted\n",
    "plot_df = test[['Created On', 'Line Count']].copy()\n",
    "plot_df['Predicted'] = preds\n",
    "plot_df = plot_df.rename(columns={'Line Count': 'Actual'})\n",
    "\n",
    "plot_df = plot_df.sort_values('Created On')\n",
    "\n",
    "plot_df_melted = plot_df.melt(id_vars='Created On', value_vars=['Actual', 'Predicted'],\n",
    "                              var_name='Type', value_name='Line Count')\n",
    "\n",
    "import matplotlib.pyplot as plt\n",
    "\n",
    "# Enable dark mode\n",
    "plt.style.use('dark_background')\n",
    "\n",
    "# Create the plot\n",
    "plt.figure(figsize=(12, 6), dpi=100)  # High resolution\n",
    "plt.plot(plot_df['Created On'], plot_df['Actual'], label='Actual', alpha=0.7, linewidth=1.2)\n",
    "plt.plot(plot_df['Created On'], plot_df['Predicted'], label='Predicted', alpha=0.7, linewidth=1.2)\n",
    "\n",
    "# Customize labels and title\n",
    "plt.xlabel('Time', fontsize=12)\n",
    "plt.ylabel('Contact Count', fontsize=12)\n",
    "plt.title('Actual vs Predicted Contact Count Over Time', fontsize=14)\n",
    "plt.legend()\n",
    "plt.grid(True, linestyle='--', alpha=0.3)\n",
    "plt.tight_layout()\n",
    "plt.show()"
   ]
  },
  {
   "cell_type": "markdown",
   "id": "299715d3",
   "metadata": {},
   "source": [
    "##### Supply Group Correlation Matrix Heatmap"
   ]
  },
  {
   "cell_type": "code",
   "execution_count": 52,
   "id": "c404ea89",
   "metadata": {},
   "outputs": [
    {
     "data": {
      "application/vnd.plotly.v1+json": {
       "config": {
        "plotlyServerURL": "https://plot.ly"
       },
       "data": [
        {
         "coloraxis": "coloraxis",
         "hovertemplate": "x: %{x}<br>y: %{y}<br>color: %{z}<extra></extra>",
         "name": "0",
         "texttemplate": "%{z}",
         "type": "heatmap",
         "x": [
          "month",
          "day",
          "day_num",
          "Total Read",
          "ZYIELD",
          "brand_encoded",
          "color_encoded",
          "model_encoded",
          "ship_to_name_encoded",
          "Line Count"
         ],
         "xaxis": "x",
         "y": [
          "month",
          "day",
          "day_num",
          "Total Read",
          "ZYIELD",
          "brand_encoded",
          "color_encoded",
          "model_encoded",
          "ship_to_name_encoded",
          "Line Count"
         ],
         "yaxis": "y",
         "z": {
          "bdata": "AAAAAAAA8D+4HoXrUbieP3sUrkfheqQ/exSuR+F6lD97FK5H4XqEP3sUrkfhepS/exSuR+F6pD8AAAAAAAAAgHsUrkfhepS/exSuR+F6hL+4HoXrUbiePwAAAAAAAPA/exSuR+F6hL97FK5H4XqEv3sUrkfheoS/AAAAAAAAAIAAAAAAAAAAAHsUrkfhepS/AAAAAAAAAIB7FK5H4XqUP3sUrkfheqQ/exSuR+F6hL8AAAAAAADwPwAAAAAAAACAexSuR+F6hL97FK5H4Xqkv3sUrkfheqQ/mpmZmZmZqT97FK5H4Xqkv3sUrkfhepS/exSuR+F6lD97FK5H4XqEvwAAAAAAAACAAAAAAAAA8D+amZmZmZnZP3sUrkfherQ/pHA9CtejwL97FK5H4XqkP3sUrkfherQ/mpmZmZmZ2T97FK5H4XqEP3sUrkfheoS/exSuR+F6hL+amZmZmZnZPwAAAAAAAPA/4XoUrkfhyr+kcD0K16Pgv+xRuB6F69E/mpmZmZmZyb8K16NwPQq3P3sUrkfhepS/AAAAAAAAAIB7FK5H4Xqkv3sUrkfherQ/4XoUrkfhyr8AAAAAAADwP3sUrkfhetS/mpmZmZmZqb+4HoXrUbjuP+xRuB6F68G/exSuR+F6pD8AAAAAAAAAAHsUrkfheqQ/pHA9CtejwL+kcD0K16Pgv3sUrkfhetS/AAAAAAAA8D+kcD0K16PAv3sUrkfhetS/UrgehetRyD8AAAAAAAAAgHsUrkfhepS/mpmZmZmZqT97FK5H4XqkP+xRuB6F69E/mpmZmZmZqb+kcD0K16PAvwAAAAAAAPA/exSuR+F6pL+4HoXrUbiuv3sUrkfhepS/AAAAAAAAAIB7FK5H4Xqkv3sUrkfherQ/mpmZmZmZyb+4HoXrUbjuP3sUrkfhetS/exSuR+F6pL8AAAAAAADwP6RwPQrXo8C/exSuR+F6hL97FK5H4XqUP3sUrkfhepS/mpmZmZmZ2T8K16NwPQq3P+xRuB6F68G/UrgehetRyD+4HoXrUbiuv6RwPQrXo8C/AAAAAAAA8D8=",
          "dtype": "f8",
          "shape": "10, 10"
         }
        }
       ],
       "layout": {
        "coloraxis": {
         "cmax": 1,
         "cmin": -1,
         "colorscale": [
          [
           0,
           "rgb(5,48,97)"
          ],
          [
           0.1,
           "rgb(33,102,172)"
          ],
          [
           0.2,
           "rgb(67,147,195)"
          ],
          [
           0.3,
           "rgb(146,197,222)"
          ],
          [
           0.4,
           "rgb(209,229,240)"
          ],
          [
           0.5,
           "rgb(247,247,247)"
          ],
          [
           0.6,
           "rgb(253,219,199)"
          ],
          [
           0.7,
           "rgb(244,165,130)"
          ],
          [
           0.8,
           "rgb(214,96,77)"
          ],
          [
           0.9,
           "rgb(178,24,43)"
          ],
          [
           1,
           "rgb(103,0,31)"
          ]
         ]
        },
        "height": 800,
        "template": {
         "data": {
          "bar": [
           {
            "error_x": {
             "color": "#f2f5fa"
            },
            "error_y": {
             "color": "#f2f5fa"
            },
            "marker": {
             "line": {
              "color": "rgb(17,17,17)",
              "width": 0.5
             },
             "pattern": {
              "fillmode": "overlay",
              "size": 10,
              "solidity": 0.2
             }
            },
            "type": "bar"
           }
          ],
          "barpolar": [
           {
            "marker": {
             "line": {
              "color": "rgb(17,17,17)",
              "width": 0.5
             },
             "pattern": {
              "fillmode": "overlay",
              "size": 10,
              "solidity": 0.2
             }
            },
            "type": "barpolar"
           }
          ],
          "carpet": [
           {
            "aaxis": {
             "endlinecolor": "#A2B1C6",
             "gridcolor": "#506784",
             "linecolor": "#506784",
             "minorgridcolor": "#506784",
             "startlinecolor": "#A2B1C6"
            },
            "baxis": {
             "endlinecolor": "#A2B1C6",
             "gridcolor": "#506784",
             "linecolor": "#506784",
             "minorgridcolor": "#506784",
             "startlinecolor": "#A2B1C6"
            },
            "type": "carpet"
           }
          ],
          "choropleth": [
           {
            "colorbar": {
             "outlinewidth": 0,
             "ticks": ""
            },
            "type": "choropleth"
           }
          ],
          "contour": [
           {
            "colorbar": {
             "outlinewidth": 0,
             "ticks": ""
            },
            "colorscale": [
             [
              0,
              "#0d0887"
             ],
             [
              0.1111111111111111,
              "#46039f"
             ],
             [
              0.2222222222222222,
              "#7201a8"
             ],
             [
              0.3333333333333333,
              "#9c179e"
             ],
             [
              0.4444444444444444,
              "#bd3786"
             ],
             [
              0.5555555555555556,
              "#d8576b"
             ],
             [
              0.6666666666666666,
              "#ed7953"
             ],
             [
              0.7777777777777778,
              "#fb9f3a"
             ],
             [
              0.8888888888888888,
              "#fdca26"
             ],
             [
              1,
              "#f0f921"
             ]
            ],
            "type": "contour"
           }
          ],
          "contourcarpet": [
           {
            "colorbar": {
             "outlinewidth": 0,
             "ticks": ""
            },
            "type": "contourcarpet"
           }
          ],
          "heatmap": [
           {
            "colorbar": {
             "outlinewidth": 0,
             "ticks": ""
            },
            "colorscale": [
             [
              0,
              "#0d0887"
             ],
             [
              0.1111111111111111,
              "#46039f"
             ],
             [
              0.2222222222222222,
              "#7201a8"
             ],
             [
              0.3333333333333333,
              "#9c179e"
             ],
             [
              0.4444444444444444,
              "#bd3786"
             ],
             [
              0.5555555555555556,
              "#d8576b"
             ],
             [
              0.6666666666666666,
              "#ed7953"
             ],
             [
              0.7777777777777778,
              "#fb9f3a"
             ],
             [
              0.8888888888888888,
              "#fdca26"
             ],
             [
              1,
              "#f0f921"
             ]
            ],
            "type": "heatmap"
           }
          ],
          "histogram": [
           {
            "marker": {
             "pattern": {
              "fillmode": "overlay",
              "size": 10,
              "solidity": 0.2
             }
            },
            "type": "histogram"
           }
          ],
          "histogram2d": [
           {
            "colorbar": {
             "outlinewidth": 0,
             "ticks": ""
            },
            "colorscale": [
             [
              0,
              "#0d0887"
             ],
             [
              0.1111111111111111,
              "#46039f"
             ],
             [
              0.2222222222222222,
              "#7201a8"
             ],
             [
              0.3333333333333333,
              "#9c179e"
             ],
             [
              0.4444444444444444,
              "#bd3786"
             ],
             [
              0.5555555555555556,
              "#d8576b"
             ],
             [
              0.6666666666666666,
              "#ed7953"
             ],
             [
              0.7777777777777778,
              "#fb9f3a"
             ],
             [
              0.8888888888888888,
              "#fdca26"
             ],
             [
              1,
              "#f0f921"
             ]
            ],
            "type": "histogram2d"
           }
          ],
          "histogram2dcontour": [
           {
            "colorbar": {
             "outlinewidth": 0,
             "ticks": ""
            },
            "colorscale": [
             [
              0,
              "#0d0887"
             ],
             [
              0.1111111111111111,
              "#46039f"
             ],
             [
              0.2222222222222222,
              "#7201a8"
             ],
             [
              0.3333333333333333,
              "#9c179e"
             ],
             [
              0.4444444444444444,
              "#bd3786"
             ],
             [
              0.5555555555555556,
              "#d8576b"
             ],
             [
              0.6666666666666666,
              "#ed7953"
             ],
             [
              0.7777777777777778,
              "#fb9f3a"
             ],
             [
              0.8888888888888888,
              "#fdca26"
             ],
             [
              1,
              "#f0f921"
             ]
            ],
            "type": "histogram2dcontour"
           }
          ],
          "mesh3d": [
           {
            "colorbar": {
             "outlinewidth": 0,
             "ticks": ""
            },
            "type": "mesh3d"
           }
          ],
          "parcoords": [
           {
            "line": {
             "colorbar": {
              "outlinewidth": 0,
              "ticks": ""
             }
            },
            "type": "parcoords"
           }
          ],
          "pie": [
           {
            "automargin": true,
            "type": "pie"
           }
          ],
          "scatter": [
           {
            "marker": {
             "line": {
              "color": "#283442"
             }
            },
            "type": "scatter"
           }
          ],
          "scatter3d": [
           {
            "line": {
             "colorbar": {
              "outlinewidth": 0,
              "ticks": ""
             }
            },
            "marker": {
             "colorbar": {
              "outlinewidth": 0,
              "ticks": ""
             }
            },
            "type": "scatter3d"
           }
          ],
          "scattercarpet": [
           {
            "marker": {
             "colorbar": {
              "outlinewidth": 0,
              "ticks": ""
             }
            },
            "type": "scattercarpet"
           }
          ],
          "scattergeo": [
           {
            "marker": {
             "colorbar": {
              "outlinewidth": 0,
              "ticks": ""
             }
            },
            "type": "scattergeo"
           }
          ],
          "scattergl": [
           {
            "marker": {
             "line": {
              "color": "#283442"
             }
            },
            "type": "scattergl"
           }
          ],
          "scattermap": [
           {
            "marker": {
             "colorbar": {
              "outlinewidth": 0,
              "ticks": ""
             }
            },
            "type": "scattermap"
           }
          ],
          "scattermapbox": [
           {
            "marker": {
             "colorbar": {
              "outlinewidth": 0,
              "ticks": ""
             }
            },
            "type": "scattermapbox"
           }
          ],
          "scatterpolar": [
           {
            "marker": {
             "colorbar": {
              "outlinewidth": 0,
              "ticks": ""
             }
            },
            "type": "scatterpolar"
           }
          ],
          "scatterpolargl": [
           {
            "marker": {
             "colorbar": {
              "outlinewidth": 0,
              "ticks": ""
             }
            },
            "type": "scatterpolargl"
           }
          ],
          "scatterternary": [
           {
            "marker": {
             "colorbar": {
              "outlinewidth": 0,
              "ticks": ""
             }
            },
            "type": "scatterternary"
           }
          ],
          "surface": [
           {
            "colorbar": {
             "outlinewidth": 0,
             "ticks": ""
            },
            "colorscale": [
             [
              0,
              "#0d0887"
             ],
             [
              0.1111111111111111,
              "#46039f"
             ],
             [
              0.2222222222222222,
              "#7201a8"
             ],
             [
              0.3333333333333333,
              "#9c179e"
             ],
             [
              0.4444444444444444,
              "#bd3786"
             ],
             [
              0.5555555555555556,
              "#d8576b"
             ],
             [
              0.6666666666666666,
              "#ed7953"
             ],
             [
              0.7777777777777778,
              "#fb9f3a"
             ],
             [
              0.8888888888888888,
              "#fdca26"
             ],
             [
              1,
              "#f0f921"
             ]
            ],
            "type": "surface"
           }
          ],
          "table": [
           {
            "cells": {
             "fill": {
              "color": "#506784"
             },
             "line": {
              "color": "rgb(17,17,17)"
             }
            },
            "header": {
             "fill": {
              "color": "#2a3f5f"
             },
             "line": {
              "color": "rgb(17,17,17)"
             }
            },
            "type": "table"
           }
          ]
         },
         "layout": {
          "annotationdefaults": {
           "arrowcolor": "#f2f5fa",
           "arrowhead": 0,
           "arrowwidth": 1
          },
          "autotypenumbers": "strict",
          "coloraxis": {
           "colorbar": {
            "outlinewidth": 0,
            "ticks": ""
           }
          },
          "colorscale": {
           "diverging": [
            [
             0,
             "#8e0152"
            ],
            [
             0.1,
             "#c51b7d"
            ],
            [
             0.2,
             "#de77ae"
            ],
            [
             0.3,
             "#f1b6da"
            ],
            [
             0.4,
             "#fde0ef"
            ],
            [
             0.5,
             "#f7f7f7"
            ],
            [
             0.6,
             "#e6f5d0"
            ],
            [
             0.7,
             "#b8e186"
            ],
            [
             0.8,
             "#7fbc41"
            ],
            [
             0.9,
             "#4d9221"
            ],
            [
             1,
             "#276419"
            ]
           ],
           "sequential": [
            [
             0,
             "#0d0887"
            ],
            [
             0.1111111111111111,
             "#46039f"
            ],
            [
             0.2222222222222222,
             "#7201a8"
            ],
            [
             0.3333333333333333,
             "#9c179e"
            ],
            [
             0.4444444444444444,
             "#bd3786"
            ],
            [
             0.5555555555555556,
             "#d8576b"
            ],
            [
             0.6666666666666666,
             "#ed7953"
            ],
            [
             0.7777777777777778,
             "#fb9f3a"
            ],
            [
             0.8888888888888888,
             "#fdca26"
            ],
            [
             1,
             "#f0f921"
            ]
           ],
           "sequentialminus": [
            [
             0,
             "#0d0887"
            ],
            [
             0.1111111111111111,
             "#46039f"
            ],
            [
             0.2222222222222222,
             "#7201a8"
            ],
            [
             0.3333333333333333,
             "#9c179e"
            ],
            [
             0.4444444444444444,
             "#bd3786"
            ],
            [
             0.5555555555555556,
             "#d8576b"
            ],
            [
             0.6666666666666666,
             "#ed7953"
            ],
            [
             0.7777777777777778,
             "#fb9f3a"
            ],
            [
             0.8888888888888888,
             "#fdca26"
            ],
            [
             1,
             "#f0f921"
            ]
           ]
          },
          "colorway": [
           "#636efa",
           "#EF553B",
           "#00cc96",
           "#ab63fa",
           "#FFA15A",
           "#19d3f3",
           "#FF6692",
           "#B6E880",
           "#FF97FF",
           "#FECB52"
          ],
          "font": {
           "color": "#f2f5fa"
          },
          "geo": {
           "bgcolor": "rgb(17,17,17)",
           "lakecolor": "rgb(17,17,17)",
           "landcolor": "rgb(17,17,17)",
           "showlakes": true,
           "showland": true,
           "subunitcolor": "#506784"
          },
          "hoverlabel": {
           "align": "left"
          },
          "hovermode": "closest",
          "mapbox": {
           "style": "dark"
          },
          "paper_bgcolor": "rgb(17,17,17)",
          "plot_bgcolor": "rgb(17,17,17)",
          "polar": {
           "angularaxis": {
            "gridcolor": "#506784",
            "linecolor": "#506784",
            "ticks": ""
           },
           "bgcolor": "rgb(17,17,17)",
           "radialaxis": {
            "gridcolor": "#506784",
            "linecolor": "#506784",
            "ticks": ""
           }
          },
          "scene": {
           "xaxis": {
            "backgroundcolor": "rgb(17,17,17)",
            "gridcolor": "#506784",
            "gridwidth": 2,
            "linecolor": "#506784",
            "showbackground": true,
            "ticks": "",
            "zerolinecolor": "#C8D4E3"
           },
           "yaxis": {
            "backgroundcolor": "rgb(17,17,17)",
            "gridcolor": "#506784",
            "gridwidth": 2,
            "linecolor": "#506784",
            "showbackground": true,
            "ticks": "",
            "zerolinecolor": "#C8D4E3"
           },
           "zaxis": {
            "backgroundcolor": "rgb(17,17,17)",
            "gridcolor": "#506784",
            "gridwidth": 2,
            "linecolor": "#506784",
            "showbackground": true,
            "ticks": "",
            "zerolinecolor": "#C8D4E3"
           }
          },
          "shapedefaults": {
           "line": {
            "color": "#f2f5fa"
           }
          },
          "sliderdefaults": {
           "bgcolor": "#C8D4E3",
           "bordercolor": "rgb(17,17,17)",
           "borderwidth": 1,
           "tickwidth": 0
          },
          "ternary": {
           "aaxis": {
            "gridcolor": "#506784",
            "linecolor": "#506784",
            "ticks": ""
           },
           "baxis": {
            "gridcolor": "#506784",
            "linecolor": "#506784",
            "ticks": ""
           },
           "bgcolor": "rgb(17,17,17)",
           "caxis": {
            "gridcolor": "#506784",
            "linecolor": "#506784",
            "ticks": ""
           }
          },
          "title": {
           "x": 0.05
          },
          "updatemenudefaults": {
           "bgcolor": "#506784",
           "borderwidth": 0
          },
          "xaxis": {
           "automargin": true,
           "gridcolor": "#283442",
           "linecolor": "#506784",
           "ticks": "",
           "title": {
            "standoff": 15
           },
           "zerolinecolor": "#283442",
           "zerolinewidth": 2
          },
          "yaxis": {
           "automargin": true,
           "gridcolor": "#283442",
           "linecolor": "#506784",
           "ticks": "",
           "title": {
            "standoff": 15
           },
           "zerolinecolor": "#283442",
           "zerolinewidth": 2
          }
         }
        },
        "title": {
         "text": "Correlation Matrix Heatmap"
        },
        "width": 800,
        "xaxis": {
         "anchor": "y",
         "domain": [
          0,
          1
         ]
        },
        "yaxis": {
         "anchor": "x",
         "autorange": "reversed",
         "domain": [
          0,
          1
         ]
        }
       }
      }
     },
     "metadata": {},
     "output_type": "display_data"
    }
   ],
   "source": [
    "# Select the relevant numeric columns\n",
    "columns = ['month', 'day', 'day_num', 'Total Read', 'ZYIELD', \n",
    "           'brand_encoded', 'color_encoded', 'model_encoded', \n",
    "           'ship_to_name_encoded', 'Line Count']\n",
    "\n",
    "# Filter the DataFrame\n",
    "dfsupply = df_supply_group_special[columns]\n",
    "\n",
    "# Compute the correlation matrix\n",
    "correlation_matrix = dfsupply.corr()\n",
    "\n",
    "# Round the correlation values to 2 decimal places\n",
    "correlation_matrix = correlation_matrix.round(2)\n",
    "\n",
    "\n",
    "# Create the heatmap using Plotly Express\n",
    "fig = px.imshow(correlation_matrix,\n",
    "                text_auto=True,\n",
    "                width=800, height=800,\n",
    "                color_continuous_scale='RdBu_r',\n",
    "                aspect='auto',\n",
    "                zmin=-1, zmax=1,\n",
    "                title='Correlation Matrix Heatmap', template='plotly_dark')\n",
    "\n",
    "fig.show()\n"
   ]
  },
  {
   "cell_type": "code",
   "execution_count": 53,
   "id": "ef328a36",
   "metadata": {},
   "outputs": [
    {
     "data": {
      "application/vnd.microsoft.datawrangler.viewer.v0+json": {
       "columns": [
        {
         "name": "index",
         "rawType": "int64",
         "type": "integer"
        },
        {
         "name": "Feature",
         "rawType": "object",
         "type": "string"
        },
        {
         "name": "Line Count",
         "rawType": "float64",
         "type": "float"
        }
       ],
       "ref": "4c466ae2-31d3-4484-bfae-c915ca1bd9cb",
       "rows": [
        [
         "0",
         "Line Count",
         "1.0"
        ],
        [
         "1",
         "Total Read",
         "0.4"
        ],
        [
         "2",
         "color_encoded",
         "0.19"
        ],
        [
         "3",
         "ZYIELD",
         "0.09"
        ],
        [
         "4",
         "day",
         "0.02"
        ],
        [
         "5",
         "month",
         "-0.01"
        ],
        [
         "6",
         "day_num",
         "-0.02"
        ],
        [
         "7",
         "model_encoded",
         "-0.06"
        ],
        [
         "8",
         "ship_to_name_encoded",
         "-0.13"
        ],
        [
         "9",
         "brand_encoded",
         "-0.14"
        ]
       ],
       "shape": {
        "columns": 2,
        "rows": 10
       }
      },
      "text/html": [
       "<div>\n",
       "<style scoped>\n",
       "    .dataframe tbody tr th:only-of-type {\n",
       "        vertical-align: middle;\n",
       "    }\n",
       "\n",
       "    .dataframe tbody tr th {\n",
       "        vertical-align: top;\n",
       "    }\n",
       "\n",
       "    .dataframe thead th {\n",
       "        text-align: right;\n",
       "    }\n",
       "</style>\n",
       "<table border=\"1\" class=\"dataframe\">\n",
       "  <thead>\n",
       "    <tr style=\"text-align: right;\">\n",
       "      <th></th>\n",
       "      <th>Feature</th>\n",
       "      <th>Line Count</th>\n",
       "    </tr>\n",
       "  </thead>\n",
       "  <tbody>\n",
       "    <tr>\n",
       "      <th>0</th>\n",
       "      <td>Line Count</td>\n",
       "      <td>1.00</td>\n",
       "    </tr>\n",
       "    <tr>\n",
       "      <th>1</th>\n",
       "      <td>Total Read</td>\n",
       "      <td>0.40</td>\n",
       "    </tr>\n",
       "    <tr>\n",
       "      <th>2</th>\n",
       "      <td>color_encoded</td>\n",
       "      <td>0.19</td>\n",
       "    </tr>\n",
       "    <tr>\n",
       "      <th>3</th>\n",
       "      <td>ZYIELD</td>\n",
       "      <td>0.09</td>\n",
       "    </tr>\n",
       "    <tr>\n",
       "      <th>4</th>\n",
       "      <td>day</td>\n",
       "      <td>0.02</td>\n",
       "    </tr>\n",
       "    <tr>\n",
       "      <th>5</th>\n",
       "      <td>month</td>\n",
       "      <td>-0.01</td>\n",
       "    </tr>\n",
       "    <tr>\n",
       "      <th>6</th>\n",
       "      <td>day_num</td>\n",
       "      <td>-0.02</td>\n",
       "    </tr>\n",
       "    <tr>\n",
       "      <th>7</th>\n",
       "      <td>model_encoded</td>\n",
       "      <td>-0.06</td>\n",
       "    </tr>\n",
       "    <tr>\n",
       "      <th>8</th>\n",
       "      <td>ship_to_name_encoded</td>\n",
       "      <td>-0.13</td>\n",
       "    </tr>\n",
       "    <tr>\n",
       "      <th>9</th>\n",
       "      <td>brand_encoded</td>\n",
       "      <td>-0.14</td>\n",
       "    </tr>\n",
       "  </tbody>\n",
       "</table>\n",
       "</div>"
      ],
      "text/plain": [
       "                Feature  Line Count\n",
       "0            Line Count        1.00\n",
       "1            Total Read        0.40\n",
       "2         color_encoded        0.19\n",
       "3                ZYIELD        0.09\n",
       "4                   day        0.02\n",
       "5                 month       -0.01\n",
       "6               day_num       -0.02\n",
       "7         model_encoded       -0.06\n",
       "8  ship_to_name_encoded       -0.13\n",
       "9         brand_encoded       -0.14"
      ]
     },
     "execution_count": 53,
     "metadata": {},
     "output_type": "execute_result"
    }
   ],
   "source": [
    "correlation_matrix['Line Count'].sort_values(ascending=False).reset_index().rename(columns={'index':'Feature'})"
   ]
  },
  {
   "cell_type": "code",
   "execution_count": 37,
   "id": "ec19c03d",
   "metadata": {},
   "outputs": [
    {
     "data": {
      "text/plain": [
       "['supply_model_r2_86.pkl']"
      ]
     },
     "execution_count": 37,
     "metadata": {},
     "output_type": "execute_result"
    }
   ],
   "source": [
    "import joblib\n",
    "\n",
    "# Save the model\n",
    "joblib.dump(model, 'supply_model_r2_86.pkl')"
   ]
  },
  {
   "cell_type": "markdown",
   "id": "f38f6136",
   "metadata": {},
   "source": [
    "## Utilization\n",
    "\n",
    "<span style = \"color>:gold\"> Get `days since last order` data"
   ]
  },
  {
   "cell_type": "markdown",
   "id": "fb047be1",
   "metadata": {},
   "source": [
    "### Feature Engineering"
   ]
  },
  {
   "cell_type": "code",
   "execution_count": 4,
   "id": "98d89fd1",
   "metadata": {},
   "outputs": [],
   "source": [
    "# Clean categorical data\n",
    "df_Utilization['Brand'] = df_Utilization['Brand'].str.strip()\n",
    "df_Utilization['Model (Attr)'] = df_Utilization['Model (Attr)'].str.strip()\n",
    "\n",
    "# Identifying the numerical and categorical columns in the supply data\n",
    "util_numerical_cols = df_Utilization.select_dtypes(include='number').columns.tolist()\n",
    "util_categorical_cols = df_Utilization.columns[~df_Utilization.columns.isin(util_numerical_cols)].to_list()\n",
    "\n",
    "# create month and day features\n",
    "df_Utilization['month'] = pd.to_datetime(df_Utilization['Created On']).dt.month\n",
    "df_Utilization['day'] = pd.to_datetime(df_Utilization['Created On']).dt.day\n",
    "df_Utilization['day_num'] = pd.to_datetime(df_Utilization['Created On']).dt.day_of_week\n",
    "\n",
    "# create utilization feature\n",
    "df_Utilization['Utilization Score'] = df_Utilization['Total AMV']/(df_Utilization['ZYIELD']/2)\n",
    "\n",
    "# grouping the util data\n",
    "df_util_group = df_Utilization.groupby(util_categorical_cols).sum().reset_index()\n",
    "\n",
    "df_util_group_special = df_Utilization[['Created On', 'Brand', 'Model (Attr)', 'Ship To Name', 'Color', 'month', 'day', 'day_num', 'Total Read', 'ZYIELD', 'Line Count','Utilization Score', 'Total AMV']].groupby(\n",
    "    ['Created On', 'Brand', 'Model (Attr)', 'Ship To Name', 'Color', 'month', 'day', 'day_num',]\n",
    ").sum().reset_index()\n",
    "\n",
    "# encode categorical features\n",
    "from sklearn.preprocessing import LabelEncoder\n",
    "le = LabelEncoder()\n",
    "df_util_group_special['brand_encoded'] = le.fit_transform(df_util_group_special['Brand'])\n",
    "df_util_group_special['color_encoded'] = le.fit_transform(df_util_group_special['Color'])\n",
    "df_util_group_special['model_encoded'] = le.fit_transform(df_util_group_special['Model (Attr)'])\n",
    "df_util_group_special['ship_to_name_encoded'] = le.fit_transform(df_util_group_special['Ship To Name'])"
   ]
  },
  {
   "cell_type": "markdown",
   "id": "f8f274bc",
   "metadata": {},
   "source": [
    "### Training Features"
   ]
  },
  {
   "cell_type": "code",
   "execution_count": 5,
   "id": "ba5eb35a",
   "metadata": {},
   "outputs": [],
   "source": [
    "# isolate training features\n",
    "util_train_features = ['month', 'day',\n",
    "       'day_num', 'Total Read', 'ZYIELD', 'brand_encoded',\n",
    "       'color_encoded', 'model_encoded', \n",
    "       'ship_to_name_encoded', 'Utilization Score', 'Total AMV'\n",
    "       ]"
   ]
  },
  {
   "cell_type": "markdown",
   "id": "84ecf53a",
   "metadata": {},
   "source": [
    "### Split Train and Test and Identify Target Feature"
   ]
  },
  {
   "cell_type": "code",
   "execution_count": 9,
   "id": "a645e1cb",
   "metadata": {},
   "outputs": [],
   "source": [
    "# Utilization model\n",
    "\n",
    "target = 'Line Count'\n",
    "\n",
    "# Use only the training portion for tuning\n",
    "train_data = df_util_group_special[(df_util_group_special['Created On'] < '2025-01-01') ]\n",
    "test = df_util_group_special[df_util_group_special['Created On'] >= '2025-01-01']"
   ]
  },
  {
   "cell_type": "markdown",
   "id": "06c6bf8d",
   "metadata": {},
   "source": [
    "### Build Model and Hyperparameter Tuning"
   ]
  },
  {
   "cell_type": "code",
   "execution_count": null,
   "id": "a5e61dfb",
   "metadata": {},
   "outputs": [
    {
     "name": "stderr",
     "output_type": "stream",
     "text": [
      "[I 2025-07-31 11:55:12,189] A new study created in memory with name: no-name-56507198-3496-435b-9ad0-2af834c89dc5\n"
     ]
    },
    {
     "name": "stderr",
     "output_type": "stream",
     "text": [
      "[I 2025-07-31 11:55:14,640] Trial 0 finished with value: 0.5552714338137119 and parameters: {'learning_rate': 0.07521714051535311, 'num_leaves': 60, 'max_depth': 8, 'min_data_in_leaf': 12, 'feature_fraction': 0.7566665544889496, 'bagging_fraction': 0.9852800760989162, 'lambda_l1': 3.4275671038774207, 'lambda_l2': 0.8366471885627491}. Best is trial 0 with value: 0.5552714338137119.\n",
      "[I 2025-07-31 11:55:15,586] Trial 1 finished with value: 0.5311467589786376 and parameters: {'learning_rate': 0.05443962515041998, 'num_leaves': 59, 'max_depth': 3, 'min_data_in_leaf': 30, 'feature_fraction': 0.6903574090818813, 'bagging_fraction': 0.9420128403570474, 'lambda_l1': 1.1756379371793808, 'lambda_l2': 1.5605877261047951}. Best is trial 1 with value: 0.5311467589786376.\n",
      "[I 2025-07-31 11:55:16,738] Trial 2 finished with value: 0.5131504351032492 and parameters: {'learning_rate': 0.030735603185735462, 'num_leaves': 28, 'max_depth': 3, 'min_data_in_leaf': 35, 'feature_fraction': 0.8749597589011961, 'bagging_fraction': 0.8139645609332813, 'lambda_l1': 1.0385032041756248, 'lambda_l2': 0.7716526771499088}. Best is trial 2 with value: 0.5131504351032492.\n",
      "[I 2025-07-31 11:55:19,178] Trial 3 finished with value: 0.5552502081418991 and parameters: {'learning_rate': 0.03687052043253229, 'num_leaves': 42, 'max_depth': 8, 'min_data_in_leaf': 50, 'feature_fraction': 0.7007657791033024, 'bagging_fraction': 0.7464287869190084, 'lambda_l1': 0.38915661073934404, 'lambda_l2': 1.8996351501337876}. Best is trial 2 with value: 0.5131504351032492.\n",
      "[I 2025-07-31 11:55:20,497] Trial 4 finished with value: 0.5668282231597777 and parameters: {'learning_rate': 0.05591924331137615, 'num_leaves': 56, 'max_depth': 5, 'min_data_in_leaf': 39, 'feature_fraction': 0.9220853263989505, 'bagging_fraction': 0.8604401350062608, 'lambda_l1': 1.2598705773112662, 'lambda_l2': 1.835471994588932}. Best is trial 2 with value: 0.5131504351032492.\n",
      "[I 2025-07-31 11:55:22,719] Trial 5 finished with value: 0.5858908745968503 and parameters: {'learning_rate': 0.07324556834896417, 'num_leaves': 56, 'max_depth': 8, 'min_data_in_leaf': 46, 'feature_fraction': 0.9590596327875891, 'bagging_fraction': 0.9858938820973212, 'lambda_l1': 1.028373752691249, 'lambda_l2': 0.23774931812498235}. Best is trial 2 with value: 0.5131504351032492.\n",
      "[I 2025-07-31 11:55:25,866] Trial 6 finished with value: 0.5465004271826632 and parameters: {'learning_rate': 0.012873570346787195, 'num_leaves': 29, 'max_depth': 10, 'min_data_in_leaf': 42, 'feature_fraction': 0.9845239567657993, 'bagging_fraction': 0.9515025755931266, 'lambda_l1': 1.6313967202465958, 'lambda_l2': 0.6435816862779709}. Best is trial 2 with value: 0.5131504351032492.\n",
      "[I 2025-07-31 11:55:28,674] Trial 7 finished with value: 0.5439236942176364 and parameters: {'learning_rate': 0.08830780045866067, 'num_leaves': 22, 'max_depth': 9, 'min_data_in_leaf': 18, 'feature_fraction': 0.8504994398500101, 'bagging_fraction': 0.8260462396567889, 'lambda_l1': 4.245874569537977, 'lambda_l2': 0.321007282931115}. Best is trial 2 with value: 0.5131504351032492.\n",
      "[I 2025-07-31 11:55:31,450] Trial 8 finished with value: 0.5288924676728287 and parameters: {'learning_rate': 0.05706820681541333, 'num_leaves': 45, 'max_depth': 9, 'min_data_in_leaf': 30, 'feature_fraction': 0.6691824079952399, 'bagging_fraction': 0.7687450438992692, 'lambda_l1': 2.164057614904012, 'lambda_l2': 4.351927212031567}. Best is trial 2 with value: 0.5131504351032492.\n",
      "[I 2025-07-31 11:55:32,814] Trial 9 finished with value: 0.5307171310557083 and parameters: {'learning_rate': 0.056307259078760205, 'num_leaves': 23, 'max_depth': 3, 'min_data_in_leaf': 29, 'feature_fraction': 0.7315089966940374, 'bagging_fraction': 0.9469115402082823, 'lambda_l1': 3.8568711553820423, 'lambda_l2': 1.2291893044669666}. Best is trial 2 with value: 0.5131504351032492.\n",
      "[I 2025-07-31 11:55:34,431] Trial 10 finished with value: 0.5071919671257696 and parameters: {'learning_rate': 0.010540589031832227, 'num_leaves': 33, 'max_depth': 5, 'min_data_in_leaf': 22, 'feature_fraction': 0.8554580178974179, 'bagging_fraction': 0.6427250098410155, 'lambda_l1': 0.08535353513360577, 'lambda_l2': 3.6011206083505125}. Best is trial 10 with value: 0.5071919671257696.\n",
      "[I 2025-07-31 11:55:35,963] Trial 11 finished with value: 0.5075145322454984 and parameters: {'learning_rate': 0.01300979725365493, 'num_leaves': 32, 'max_depth': 5, 'min_data_in_leaf': 22, 'feature_fraction': 0.849995781836231, 'bagging_fraction': 0.6317433855988461, 'lambda_l1': 0.011901591332162578, 'lambda_l2': 3.3412085677132364}. Best is trial 10 with value: 0.5071919671257696.\n",
      "[I 2025-07-31 11:55:37,353] Trial 12 finished with value: 0.5029645914520116 and parameters: {'learning_rate': 0.010214371949038353, 'num_leaves': 35, 'max_depth': 5, 'min_data_in_leaf': 21, 'feature_fraction': 0.808843923564622, 'bagging_fraction': 0.6081203948368075, 'lambda_l1': 0.1390459703253667, 'lambda_l2': 3.6430627584561077}. Best is trial 12 with value: 0.5029645914520116.\n",
      "[I 2025-07-31 11:55:38,404] Trial 13 finished with value: 0.5281194271100131 and parameters: {'learning_rate': 0.027834872867921544, 'num_leaves': 36, 'max_depth': 5, 'min_data_in_leaf': 20, 'feature_fraction': 0.7871052839782287, 'bagging_fraction': 0.6000759043261554, 'lambda_l1': 2.8322348464652656, 'lambda_l2': 3.2889488710354575}. Best is trial 12 with value: 0.5029645914520116.\n",
      "[I 2025-07-31 11:55:39,852] Trial 14 finished with value: 0.49126411498891187 and parameters: {'learning_rate': 0.02050056571172138, 'num_leaves': 48, 'max_depth': 6, 'min_data_in_leaf': 12, 'feature_fraction': 0.6025016942518195, 'bagging_fraction': 0.6827664740428904, 'lambda_l1': 0.014213988072758407, 'lambda_l2': 4.828757103215773}. Best is trial 14 with value: 0.49126411498891187.\n",
      "[I 2025-07-31 11:55:41,333] Trial 15 finished with value: 0.49081497011682673 and parameters: {'learning_rate': 0.024889600621094368, 'num_leaves': 48, 'max_depth': 6, 'min_data_in_leaf': 10, 'feature_fraction': 0.6014647672352506, 'bagging_fraction': 0.6953936835773958, 'lambda_l1': 0.5120940977834296, 'lambda_l2': 4.86677721867236}. Best is trial 15 with value: 0.49081497011682673.\n",
      "[I 2025-07-31 11:55:43,659] Trial 16 finished with value: 0.5078489865657957 and parameters: {'learning_rate': 0.043921123467432814, 'num_leaves': 49, 'max_depth': 7, 'min_data_in_leaf': 10, 'feature_fraction': 0.6015737982369622, 'bagging_fraction': 0.7019157491813302, 'lambda_l1': 4.8872220376114175, 'lambda_l2': 4.821736803330376}. Best is trial 15 with value: 0.49081497011682673.\n",
      "[I 2025-07-31 11:55:45,300] Trial 17 finished with value: 0.5050733501144244 and parameters: {'learning_rate': 0.026078022742625755, 'num_leaves': 50, 'max_depth': 6, 'min_data_in_leaf': 15, 'feature_fraction': 0.6058998257499211, 'bagging_fraction': 0.6925183513898695, 'lambda_l1': 0.6509717493442831, 'lambda_l2': 4.992616573087708}. Best is trial 15 with value: 0.49081497011682673.\n",
      "[I 2025-07-31 11:55:46,911] Trial 18 finished with value: 0.4941107391998895 and parameters: {'learning_rate': 0.020225336615779847, 'num_leaves': 47, 'max_depth': 6, 'min_data_in_leaf': 15, 'feature_fraction': 0.6425208686246466, 'bagging_fraction': 0.6899894315783028, 'lambda_l1': 1.9396054864852181, 'lambda_l2': 4.135712758396261}. Best is trial 15 with value: 0.49081497011682673.\n",
      "[I 2025-07-31 11:55:48,569] Trial 19 finished with value: 0.5221288614392681 and parameters: {'learning_rate': 0.0398863109915905, 'num_leaves': 41, 'max_depth': 7, 'min_data_in_leaf': 25, 'feature_fraction': 0.6449546470601646, 'bagging_fraction': 0.7538146935009327, 'lambda_l1': 2.6486935268429197, 'lambda_l2': 2.559783592880986}. Best is trial 15 with value: 0.49081497011682673.\n",
      "[I 2025-07-31 11:55:49,571] Trial 20 finished with value: 0.5399443791745939 and parameters: {'learning_rate': 0.09907375432097454, 'num_leaves': 53, 'max_depth': 4, 'min_data_in_leaf': 10, 'feature_fraction': 0.6378144971477572, 'bagging_fraction': 0.6690912401082278, 'lambda_l1': 0.6541420026786832, 'lambda_l2': 2.6345163023053026}. Best is trial 15 with value: 0.49081497011682673.\n",
      "[I 2025-07-31 11:55:51,112] Trial 21 finished with value: 0.4965886049444673 and parameters: {'learning_rate': 0.021358070699092003, 'num_leaves': 46, 'max_depth': 6, 'min_data_in_leaf': 15, 'feature_fraction': 0.6406931399317312, 'bagging_fraction': 0.7209262477511631, 'lambda_l1': 1.8987422842846502, 'lambda_l2': 4.269429469677736}. Best is trial 15 with value: 0.49081497011682673.\n",
      "[I 2025-07-31 11:55:52,556] Trial 22 finished with value: 0.4899653074612167 and parameters: {'learning_rate': 0.01874226425564235, 'num_leaves': 47, 'max_depth': 6, 'min_data_in_leaf': 15, 'feature_fraction': 0.6032261883129857, 'bagging_fraction': 0.6635453288138828, 'lambda_l1': 1.553013971432258, 'lambda_l2': 4.347302751197079}. Best is trial 22 with value: 0.4899653074612167.\n",
      "[I 2025-07-31 11:55:54,482] Trial 23 finished with value: 0.4891240624697512 and parameters: {'learning_rate': 0.020050423358205303, 'num_leaves': 52, 'max_depth': 7, 'min_data_in_leaf': 13, 'feature_fraction': 0.605986867377893, 'bagging_fraction': 0.6599509288065925, 'lambda_l1': 0.6045237987076043, 'lambda_l2': 4.623171053185428}. Best is trial 23 with value: 0.4891240624697512.\n",
      "[I 2025-07-31 11:55:56,280] Trial 24 finished with value: 0.537833824394599 and parameters: {'learning_rate': 0.04519485132325776, 'num_leaves': 52, 'max_depth': 7, 'min_data_in_leaf': 17, 'feature_fraction': 0.7124652240007776, 'bagging_fraction': 0.6484813767448221, 'lambda_l1': 1.6214113522189417, 'lambda_l2': 3.9761466995081873}. Best is trial 23 with value: 0.4891240624697512.\n",
      "[I 2025-07-31 11:55:58,315] Trial 25 finished with value: 0.5163032968229815 and parameters: {'learning_rate': 0.034137472011764286, 'num_leaves': 43, 'max_depth': 7, 'min_data_in_leaf': 25, 'feature_fraction': 0.6677089644129997, 'bagging_fraction': 0.7371776789202878, 'lambda_l1': 0.7988351463428156, 'lambda_l2': 4.612057308346521}. Best is trial 23 with value: 0.4891240624697512.\n",
      "[I 2025-07-31 11:55:59,841] Trial 26 finished with value: 0.49461575847157846 and parameters: {'learning_rate': 0.021709355859775195, 'num_leaves': 39, 'max_depth': 6, 'min_data_in_leaf': 13, 'feature_fraction': 0.6712369707644645, 'bagging_fraction': 0.6595496079159663, 'lambda_l1': 1.4507633421411352, 'lambda_l2': 3.0204468842256404}. Best is trial 23 with value: 0.4891240624697512.\n",
      "[I 2025-07-31 11:56:01,350] Trial 27 finished with value: 0.5453097058188974 and parameters: {'learning_rate': 0.04805127391910059, 'num_leaves': 54, 'max_depth': 4, 'min_data_in_leaf': 18, 'feature_fraction': 0.7351002624608335, 'bagging_fraction': 0.7880489612072664, 'lambda_l1': 0.47201538235755536, 'lambda_l2': 4.4960906993890735}. Best is trial 23 with value: 0.4891240624697512.\n",
      "[I 2025-07-31 11:56:02,361] Trial 28 finished with value: 0.5188816987412389 and parameters: {'learning_rate': 0.02951667099172721, 'num_leaves': 51, 'max_depth': 4, 'min_data_in_leaf': 26, 'feature_fraction': 0.6196200646661354, 'bagging_fraction': 0.7176497425074648, 'lambda_l1': 2.338964540582854, 'lambda_l2': 4.084923356579617}. Best is trial 23 with value: 0.4891240624697512.\n",
      "[I 2025-07-31 11:56:04,849] Trial 29 finished with value: 0.5211522057513355 and parameters: {'learning_rate': 0.0673096026033077, 'num_leaves': 60, 'max_depth': 8, 'min_data_in_leaf': 10, 'feature_fraction': 0.633175613576752, 'bagging_fraction': 0.6207236953248904, 'lambda_l1': 3.3699716167892158, 'lambda_l2': 3.7773424336116035}. Best is trial 23 with value: 0.4891240624697512.\n",
      "[I 2025-07-31 11:56:07,591] Trial 30 finished with value: 0.4856763547447446 and parameters: {'learning_rate': 0.0165126937553361, 'num_leaves': 44, 'max_depth': 9, 'min_data_in_leaf': 13, 'feature_fraction': 0.7649001746868799, 'bagging_fraction': 0.8813988427239692, 'lambda_l1': 0.8796011647441282, 'lambda_l2': 4.64846038800296}. Best is trial 30 with value: 0.4856763547447446.\n",
      "[I 2025-07-31 11:56:10,078] Trial 31 finished with value: 0.48719014971003444 and parameters: {'learning_rate': 0.017188444068802232, 'num_leaves': 39, 'max_depth': 10, 'min_data_in_leaf': 13, 'feature_fraction': 0.7639554057500029, 'bagging_fraction': 0.8829472206533413, 'lambda_l1': 0.8338074544012155, 'lambda_l2': 4.594562346573996}. Best is trial 30 with value: 0.4856763547447446.\n",
      "[I 2025-07-31 11:56:12,214] Trial 32 finished with value: 0.49139281945353597 and parameters: {'learning_rate': 0.01661631373000839, 'num_leaves': 39, 'max_depth': 10, 'min_data_in_leaf': 14, 'feature_fraction': 0.7748393525261837, 'bagging_fraction': 0.8907817152278519, 'lambda_l1': 1.0282650737127679, 'lambda_l2': 4.539820788372614}. Best is trial 30 with value: 0.4856763547447446.\n",
      "[I 2025-07-31 11:56:15,696] Trial 33 finished with value: 0.49314235341210744 and parameters: {'learning_rate': 0.015724191301353774, 'num_leaves': 39, 'max_depth': 9, 'min_data_in_leaf': 18, 'feature_fraction': 0.7464966004546607, 'bagging_fraction': 0.9125414605456068, 'lambda_l1': 0.8974904769677684, 'lambda_l2': 4.004235796716379}. Best is trial 30 with value: 0.4856763547447446.\n",
      "[I 2025-07-31 11:56:17,963] Trial 34 finished with value: 0.522629914761916 and parameters: {'learning_rate': 0.03323185183390185, 'num_leaves': 44, 'max_depth': 10, 'min_data_in_leaf': 13, 'feature_fraction': 0.8046932426086774, 'bagging_fraction': 0.8482283119981286, 'lambda_l1': 1.3229834540739662, 'lambda_l2': 4.586598809362563}. Best is trial 30 with value: 0.4856763547447446.\n",
      "[I 2025-07-31 11:56:20,160] Trial 35 finished with value: 0.5134370932667015 and parameters: {'learning_rate': 0.017851065460784472, 'num_leaves': 56, 'max_depth': 9, 'min_data_in_leaf': 34, 'feature_fraction': 0.8213669755745243, 'bagging_fraction': 0.889015969012818, 'lambda_l1': 1.5268738691230124, 'lambda_l2': 2.8720692349220305}. Best is trial 30 with value: 0.4856763547447446.\n",
      "[I 2025-07-31 11:56:22,007] Trial 36 finished with value: 0.519637949235996 and parameters: {'learning_rate': 0.024883909621144045, 'num_leaves': 37, 'max_depth': 10, 'min_data_in_leaf': 16, 'feature_fraction': 0.7630181943914968, 'bagging_fraction': 0.8316240642381748, 'lambda_l1': 1.1475815270300442, 'lambda_l2': 4.312735158741734}. Best is trial 30 with value: 0.4856763547447446.\n",
      "[I 2025-07-31 11:56:23,991] Trial 37 finished with value: 0.5408404224906493 and parameters: {'learning_rate': 0.03832276533414185, 'num_leaves': 42, 'max_depth': 8, 'min_data_in_leaf': 12, 'feature_fraction': 0.9035536269381117, 'bagging_fraction': 0.7978845140273607, 'lambda_l1': 0.8666716853369938, 'lambda_l2': 3.8825288363305157}. Best is trial 30 with value: 0.4856763547447446.\n",
      "[I 2025-07-31 11:56:26,144] Trial 38 finished with value: 0.5266311132611834 and parameters: {'learning_rate': 0.03199594157340445, 'num_leaves': 57, 'max_depth': 9, 'min_data_in_leaf': 20, 'feature_fraction': 0.6998812748870766, 'bagging_fraction': 0.9211122563905707, 'lambda_l1': 0.3593116042780079, 'lambda_l2': 2.158605448603878}. Best is trial 30 with value: 0.4856763547447446.\n",
      "[I 2025-07-31 11:56:28,023] Trial 39 finished with value: 0.5602112839223201 and parameters: {'learning_rate': 0.06357290878460241, 'num_leaves': 45, 'max_depth': 8, 'min_data_in_leaf': 50, 'feature_fraction': 0.7146605152012361, 'bagging_fraction': 0.8698713506483222, 'lambda_l1': 1.8174872493113263, 'lambda_l2': 3.389029692914203}. Best is trial 30 with value: 0.4856763547447446.\n",
      "[I 2025-07-31 11:56:29,969] Trial 40 finished with value: 0.5681236777349135 and parameters: {'learning_rate': 0.08067757115084323, 'num_leaves': 27, 'max_depth': 10, 'min_data_in_leaf': 39, 'feature_fraction': 0.9407574867400806, 'bagging_fraction': 0.9818341058346313, 'lambda_l1': 1.197730814749854, 'lambda_l2': 4.7187583034391825}. Best is trial 30 with value: 0.4856763547447446.\n",
      "[I 2025-07-31 11:56:32,435] Trial 41 finished with value: 0.49059637845569215 and parameters: {'learning_rate': 0.02466081504015475, 'num_leaves': 48, 'max_depth': 7, 'min_data_in_leaf': 10, 'feature_fraction': 0.678611881631995, 'bagging_fraction': 0.7700574625328991, 'lambda_l1': 0.43229836500252716, 'lambda_l2': 4.918851982967317}. Best is trial 30 with value: 0.4856763547447446.\n",
      "[I 2025-07-31 11:56:34,305] Trial 42 finished with value: 0.48131242872739205 and parameters: {'learning_rate': 0.014632212434962998, 'num_leaves': 54, 'max_depth': 7, 'min_data_in_leaf': 13, 'feature_fraction': 0.6749643950122177, 'bagging_fraction': 0.8552178165046478, 'lambda_l1': 0.3176404965259343, 'lambda_l2': 4.964011723701186}. Best is trial 42 with value: 0.48131242872739205.\n",
      "[I 2025-07-31 11:56:36,789] Trial 43 finished with value: 0.4897924088564148 and parameters: {'learning_rate': 0.014372859185920621, 'num_leaves': 54, 'max_depth': 9, 'min_data_in_leaf': 17, 'feature_fraction': 0.6574848242090678, 'bagging_fraction': 0.8530262911358988, 'lambda_l1': 0.22775504694279497, 'lambda_l2': 4.395441153508017}. Best is trial 42 with value: 0.48131242872739205.\n",
      "[I 2025-07-31 11:56:39,365] Trial 44 finished with value: 0.4952282965714483 and parameters: {'learning_rate': 0.014313645628985256, 'num_leaves': 58, 'max_depth': 9, 'min_data_in_leaf': 19, 'feature_fraction': 0.6852748813293602, 'bagging_fraction': 0.8510149755814864, 'lambda_l1': 0.22511361086683535, 'lambda_l2': 4.4767414761155795}. Best is trial 42 with value: 0.48131242872739205.\n",
      "[I 2025-07-31 11:56:42,822] Trial 45 finished with value: 0.482160360847231 and parameters: {'learning_rate': 0.012346861202430622, 'num_leaves': 55, 'max_depth': 9, 'min_data_in_leaf': 12, 'feature_fraction': 0.657909855088833, 'bagging_fraction': 0.8176054688365664, 'lambda_l1': 0.6409210056153516, 'lambda_l2': 4.995600195853285}. Best is trial 42 with value: 0.48131242872739205.\n",
      "[I 2025-07-31 11:56:45,890] Trial 46 finished with value: 0.48701011823959195 and parameters: {'learning_rate': 0.010651394240739815, 'num_leaves': 55, 'max_depth': 8, 'min_data_in_leaf': 13, 'feature_fraction': 0.7208009899806517, 'bagging_fraction': 0.880702105382667, 'lambda_l1': 0.6906292108663998, 'lambda_l2': 4.975058481512848}. Best is trial 42 with value: 0.48131242872739205.\n",
      "[I 2025-07-31 11:56:48,690] Trial 47 finished with value: 0.495974319574447 and parameters: {'learning_rate': 0.011346324412089152, 'num_leaves': 55, 'max_depth': 8, 'min_data_in_leaf': 23, 'feature_fraction': 0.7227827368794053, 'bagging_fraction': 0.8220678887338332, 'lambda_l1': 0.8016871451265091, 'lambda_l2': 1.2625515081609804}. Best is trial 42 with value: 0.48131242872739205.\n",
      "[I 2025-07-31 11:56:51,778] Trial 48 finished with value: 0.48650713024793024 and parameters: {'learning_rate': 0.010500828139794412, 'num_leaves': 60, 'max_depth': 9, 'min_data_in_leaf': 12, 'feature_fraction': 0.758120796359062, 'bagging_fraction': 0.8782306747885091, 'lambda_l1': 0.9567126465239523, 'lambda_l2': 4.762551621682667}. Best is trial 42 with value: 0.48131242872739205.\n",
      "[I 2025-07-31 11:56:54,184] Trial 49 finished with value: 0.4874933107435176 and parameters: {'learning_rate': 0.010154249575148317, 'num_leaves': 60, 'max_depth': 8, 'min_data_in_leaf': 12, 'feature_fraction': 0.7400357532259452, 'bagging_fraction': 0.9188264284980749, 'lambda_l1': 1.0297308471565008, 'lambda_l2': 4.996407064132543}. Best is trial 42 with value: 0.48131242872739205.\n"
     ]
    },
    {
     "name": "stdout",
     "output_type": "stream",
     "text": [
      "Best Parameters: {'learning_rate': 0.014632212434962998, 'num_leaves': 54, 'max_depth': 7, 'min_data_in_leaf': 13, 'feature_fraction': 0.6749643950122177, 'bagging_fraction': 0.8552178165046478, 'lambda_l1': 0.3176404965259343, 'lambda_l2': 4.964011723701186, 'objective': 'regression', 'metric': 'mae', 'verbosity': -1}\n",
      "Final Model MAE: 0.0614\n",
      "Final Model RMSE: 0.1692\n",
      "Final Model R^2: 0.9303\n"
     ]
    }
   ],
   "source": [
    "# TimeSeriesSplit setup\n",
    "tscv = TimeSeriesSplit(n_splits=5)\n",
    "\n",
    "def objective(trial):\n",
    "    params = {\n",
    "        'objective': 'regression',\n",
    "        'metric': 'mae',\n",
    "        'verbosity': -1,\n",
    "        'boosting_type': 'gbdt',\n",
    "        'learning_rate': trial.suggest_float('learning_rate', 0.01, 0.1),\n",
    "        'num_leaves': trial.suggest_int('num_leaves', 20, 60),\n",
    "        'max_depth': trial.suggest_int('max_depth', 3, 10),\n",
    "        'min_data_in_leaf': trial.suggest_int('min_data_in_leaf', 10, 50),\n",
    "        'min_sum_hessian_in_leaf': 1e-3,\n",
    "        'feature_fraction': trial.suggest_float('feature_fraction', 0.6, 1.0),\n",
    "        'bagging_fraction': trial.suggest_float('bagging_fraction', 0.6, 1.0),\n",
    "        'lambda_l1': trial.suggest_float('lambda_l1', 0.0, 5.0),\n",
    "        'lambda_l2': trial.suggest_float('lambda_l2', 0.0, 5.0),\n",
    "        'force_row_wise': True\n",
    "    }\n",
    "\n",
    "    rmses = []\n",
    "\n",
    "    for train_idx, val_idx in tscv.split(train_data):\n",
    "        train_fold = train_data.iloc[train_idx]\n",
    "        val_fold = train_data.iloc[val_idx]\n",
    "\n",
    "        lgb_train = lgb.Dataset(train_fold[util_train_features], label=train_fold[target])\n",
    "        lgb_val = lgb.Dataset(val_fold[util_train_features], label=val_fold[target], reference=lgb_train, categorical_feature=['color_encoded', 'brand_encoded', 'model_encoded', 'ship_to_name_encoded'])\n",
    "\n",
    "        model = lgb.train(params, lgb_train, valid_sets=[lgb_val], )\n",
    "        preds = np.clip(model.predict(val_fold[util_train_features]), 0, None)\n",
    "        rmse = np.sqrt(mean_squared_error(val_fold[target], preds))\n",
    "        rmses.append(rmse)\n",
    "\n",
    "    return np.mean(rmses)\n",
    "\n",
    "# Run optimization\n",
    "study = optuna.create_study(direction='minimize')\n",
    "study.optimize(objective, n_trials=50)\n",
    "\n",
    "# Get best parameters\n",
    "best_params = study.best_params\n",
    "best_params.update({'objective': 'regression', 'metric': 'mae', 'verbosity': -1})\n",
    "\n",
    "# Train on full training set\n",
    "train_final = df_util_group_special[df_util_group_special['Created On'] < '2025-01-01']\n",
    "test_final = df_util_group_special[df_util_group_special['Created On'] >= '2025-01-01']\n",
    "\n",
    "lgb_train = lgb.Dataset(train_final[util_train_features], label=train_final[target])\n",
    "lgb_test = lgb.Dataset(test_final[util_train_features], label=test_final[target], reference=lgb_train, categorical_feature=['color_encoded', 'brand_encoded', 'model_encoded', 'ship_to_name_encoded'])\n",
    "\n",
    "model = lgb.train(best_params, lgb_train, valid_sets=[lgb_test], )\n",
    "\n",
    "# Evaluate\n",
    "preds = np.clip(model.predict(test_final[util_train_features]), 0, None)\n",
    "mae = mean_absolute_error(test_final[target], preds)\n",
    "rmse = np.sqrt(mean_squared_error(test_final[target], preds))\n",
    "r2 = r2_score(test_final[target], preds)\n",
    "\n",
    "print(\"Best Parameters:\", best_params)\n",
    "print(f\"Final Model MAE: {mae:.4f}\")\n",
    "print(f\"Final Model RMSE: {rmse:.4f}\")\n",
    "print(f\"Final Model R^2: {r2:.4f}\")"
   ]
  },
  {
   "cell_type": "markdown",
   "id": "62e9afb3",
   "metadata": {},
   "source": [
    "### Import Saved Model"
   ]
  },
  {
   "cell_type": "code",
   "execution_count": 13,
   "id": "d69d3499",
   "metadata": {},
   "outputs": [
    {
     "name": "stdout",
     "output_type": "stream",
     "text": [
      "Final Model MAE: 0.0614\n",
      "Final Model RMSE: 0.1692\n",
      "Final Model R^2: 0.9303\n"
     ]
    }
   ],
   "source": [
    "import joblib\n",
    "\n",
    "model = joblib.load('util_model_r2_93v2.pkl')\n",
    "\n",
    "# Train on full training set\n",
    "train_final = df_util_group_special[df_util_group_special['Created On'] < '2025-01-01']\n",
    "test_final = df_util_group_special[df_util_group_special['Created On'] >= '2025-01-01']\n",
    "\n",
    "# Evaluate\n",
    "preds = np.clip(model.predict(test_final[util_train_features]), 0, None)\n",
    "mae = mean_absolute_error(test_final[target], preds)\n",
    "rmse = np.sqrt(mean_squared_error(test_final[target], preds))\n",
    "r2 = r2_score(test_final[target], preds)\n",
    "\n",
    "# print(\"Best Parameters:\", best_params)\n",
    "print(f\"Final Model MAE: {mae:.4f}\")\n",
    "print(f\"Final Model RMSE: {rmse:.4f}\")\n",
    "print(f\"Final Model R^2: {r2:.4f}\")"
   ]
  },
  {
   "cell_type": "markdown",
   "id": "dc1e5397",
   "metadata": {},
   "source": [
    "### Feature Importance"
   ]
  },
  {
   "cell_type": "code",
   "execution_count": 7,
   "id": "adfd1e0d",
   "metadata": {},
   "outputs": [
    {
     "data": {
      "application/vnd.plotly.v1+json": {
       "config": {
        "plotlyServerURL": "https://plot.ly"
       },
       "data": [
        {
         "hovertemplate": "Importance Score=%{x}<br>Feature=%{y}<extra></extra>",
         "legendgroup": "",
         "marker": {
          "color": "#636efa",
          "pattern": {
           "shape": ""
          }
         },
         "name": "",
         "orientation": "h",
         "showlegend": false,
         "textposition": "auto",
         "type": "bar",
         "x": {
          "bdata": "0gEAAJABAACLAQAAfwEAAGcBAABfAQAAEwEAABEBAADjAAAAnAAAADoAAAA=",
          "dtype": "i4"
         },
         "xaxis": "x",
         "y": [
          "ZYIELD",
          "ship_to_name_encoded",
          "day",
          "Total_AMV",
          "Total_Read",
          "model_encoded",
          "brand_encoded",
          "month",
          "Utilization_Score",
          "day_num",
          "color_encoded"
         ],
         "yaxis": "y"
        }
       ],
       "layout": {
        "barmode": "relative",
        "legend": {
         "tracegroupgap": 0
        },
        "template": {
         "data": {
          "bar": [
           {
            "error_x": {
             "color": "#f2f5fa"
            },
            "error_y": {
             "color": "#f2f5fa"
            },
            "marker": {
             "line": {
              "color": "rgb(17,17,17)",
              "width": 0.5
             },
             "pattern": {
              "fillmode": "overlay",
              "size": 10,
              "solidity": 0.2
             }
            },
            "type": "bar"
           }
          ],
          "barpolar": [
           {
            "marker": {
             "line": {
              "color": "rgb(17,17,17)",
              "width": 0.5
             },
             "pattern": {
              "fillmode": "overlay",
              "size": 10,
              "solidity": 0.2
             }
            },
            "type": "barpolar"
           }
          ],
          "carpet": [
           {
            "aaxis": {
             "endlinecolor": "#A2B1C6",
             "gridcolor": "#506784",
             "linecolor": "#506784",
             "minorgridcolor": "#506784",
             "startlinecolor": "#A2B1C6"
            },
            "baxis": {
             "endlinecolor": "#A2B1C6",
             "gridcolor": "#506784",
             "linecolor": "#506784",
             "minorgridcolor": "#506784",
             "startlinecolor": "#A2B1C6"
            },
            "type": "carpet"
           }
          ],
          "choropleth": [
           {
            "colorbar": {
             "outlinewidth": 0,
             "ticks": ""
            },
            "type": "choropleth"
           }
          ],
          "contour": [
           {
            "colorbar": {
             "outlinewidth": 0,
             "ticks": ""
            },
            "colorscale": [
             [
              0,
              "#0d0887"
             ],
             [
              0.1111111111111111,
              "#46039f"
             ],
             [
              0.2222222222222222,
              "#7201a8"
             ],
             [
              0.3333333333333333,
              "#9c179e"
             ],
             [
              0.4444444444444444,
              "#bd3786"
             ],
             [
              0.5555555555555556,
              "#d8576b"
             ],
             [
              0.6666666666666666,
              "#ed7953"
             ],
             [
              0.7777777777777778,
              "#fb9f3a"
             ],
             [
              0.8888888888888888,
              "#fdca26"
             ],
             [
              1,
              "#f0f921"
             ]
            ],
            "type": "contour"
           }
          ],
          "contourcarpet": [
           {
            "colorbar": {
             "outlinewidth": 0,
             "ticks": ""
            },
            "type": "contourcarpet"
           }
          ],
          "heatmap": [
           {
            "colorbar": {
             "outlinewidth": 0,
             "ticks": ""
            },
            "colorscale": [
             [
              0,
              "#0d0887"
             ],
             [
              0.1111111111111111,
              "#46039f"
             ],
             [
              0.2222222222222222,
              "#7201a8"
             ],
             [
              0.3333333333333333,
              "#9c179e"
             ],
             [
              0.4444444444444444,
              "#bd3786"
             ],
             [
              0.5555555555555556,
              "#d8576b"
             ],
             [
              0.6666666666666666,
              "#ed7953"
             ],
             [
              0.7777777777777778,
              "#fb9f3a"
             ],
             [
              0.8888888888888888,
              "#fdca26"
             ],
             [
              1,
              "#f0f921"
             ]
            ],
            "type": "heatmap"
           }
          ],
          "histogram": [
           {
            "marker": {
             "pattern": {
              "fillmode": "overlay",
              "size": 10,
              "solidity": 0.2
             }
            },
            "type": "histogram"
           }
          ],
          "histogram2d": [
           {
            "colorbar": {
             "outlinewidth": 0,
             "ticks": ""
            },
            "colorscale": [
             [
              0,
              "#0d0887"
             ],
             [
              0.1111111111111111,
              "#46039f"
             ],
             [
              0.2222222222222222,
              "#7201a8"
             ],
             [
              0.3333333333333333,
              "#9c179e"
             ],
             [
              0.4444444444444444,
              "#bd3786"
             ],
             [
              0.5555555555555556,
              "#d8576b"
             ],
             [
              0.6666666666666666,
              "#ed7953"
             ],
             [
              0.7777777777777778,
              "#fb9f3a"
             ],
             [
              0.8888888888888888,
              "#fdca26"
             ],
             [
              1,
              "#f0f921"
             ]
            ],
            "type": "histogram2d"
           }
          ],
          "histogram2dcontour": [
           {
            "colorbar": {
             "outlinewidth": 0,
             "ticks": ""
            },
            "colorscale": [
             [
              0,
              "#0d0887"
             ],
             [
              0.1111111111111111,
              "#46039f"
             ],
             [
              0.2222222222222222,
              "#7201a8"
             ],
             [
              0.3333333333333333,
              "#9c179e"
             ],
             [
              0.4444444444444444,
              "#bd3786"
             ],
             [
              0.5555555555555556,
              "#d8576b"
             ],
             [
              0.6666666666666666,
              "#ed7953"
             ],
             [
              0.7777777777777778,
              "#fb9f3a"
             ],
             [
              0.8888888888888888,
              "#fdca26"
             ],
             [
              1,
              "#f0f921"
             ]
            ],
            "type": "histogram2dcontour"
           }
          ],
          "mesh3d": [
           {
            "colorbar": {
             "outlinewidth": 0,
             "ticks": ""
            },
            "type": "mesh3d"
           }
          ],
          "parcoords": [
           {
            "line": {
             "colorbar": {
              "outlinewidth": 0,
              "ticks": ""
             }
            },
            "type": "parcoords"
           }
          ],
          "pie": [
           {
            "automargin": true,
            "type": "pie"
           }
          ],
          "scatter": [
           {
            "marker": {
             "line": {
              "color": "#283442"
             }
            },
            "type": "scatter"
           }
          ],
          "scatter3d": [
           {
            "line": {
             "colorbar": {
              "outlinewidth": 0,
              "ticks": ""
             }
            },
            "marker": {
             "colorbar": {
              "outlinewidth": 0,
              "ticks": ""
             }
            },
            "type": "scatter3d"
           }
          ],
          "scattercarpet": [
           {
            "marker": {
             "colorbar": {
              "outlinewidth": 0,
              "ticks": ""
             }
            },
            "type": "scattercarpet"
           }
          ],
          "scattergeo": [
           {
            "marker": {
             "colorbar": {
              "outlinewidth": 0,
              "ticks": ""
             }
            },
            "type": "scattergeo"
           }
          ],
          "scattergl": [
           {
            "marker": {
             "line": {
              "color": "#283442"
             }
            },
            "type": "scattergl"
           }
          ],
          "scattermap": [
           {
            "marker": {
             "colorbar": {
              "outlinewidth": 0,
              "ticks": ""
             }
            },
            "type": "scattermap"
           }
          ],
          "scattermapbox": [
           {
            "marker": {
             "colorbar": {
              "outlinewidth": 0,
              "ticks": ""
             }
            },
            "type": "scattermapbox"
           }
          ],
          "scatterpolar": [
           {
            "marker": {
             "colorbar": {
              "outlinewidth": 0,
              "ticks": ""
             }
            },
            "type": "scatterpolar"
           }
          ],
          "scatterpolargl": [
           {
            "marker": {
             "colorbar": {
              "outlinewidth": 0,
              "ticks": ""
             }
            },
            "type": "scatterpolargl"
           }
          ],
          "scatterternary": [
           {
            "marker": {
             "colorbar": {
              "outlinewidth": 0,
              "ticks": ""
             }
            },
            "type": "scatterternary"
           }
          ],
          "surface": [
           {
            "colorbar": {
             "outlinewidth": 0,
             "ticks": ""
            },
            "colorscale": [
             [
              0,
              "#0d0887"
             ],
             [
              0.1111111111111111,
              "#46039f"
             ],
             [
              0.2222222222222222,
              "#7201a8"
             ],
             [
              0.3333333333333333,
              "#9c179e"
             ],
             [
              0.4444444444444444,
              "#bd3786"
             ],
             [
              0.5555555555555556,
              "#d8576b"
             ],
             [
              0.6666666666666666,
              "#ed7953"
             ],
             [
              0.7777777777777778,
              "#fb9f3a"
             ],
             [
              0.8888888888888888,
              "#fdca26"
             ],
             [
              1,
              "#f0f921"
             ]
            ],
            "type": "surface"
           }
          ],
          "table": [
           {
            "cells": {
             "fill": {
              "color": "#506784"
             },
             "line": {
              "color": "rgb(17,17,17)"
             }
            },
            "header": {
             "fill": {
              "color": "#2a3f5f"
             },
             "line": {
              "color": "rgb(17,17,17)"
             }
            },
            "type": "table"
           }
          ]
         },
         "layout": {
          "annotationdefaults": {
           "arrowcolor": "#f2f5fa",
           "arrowhead": 0,
           "arrowwidth": 1
          },
          "autotypenumbers": "strict",
          "coloraxis": {
           "colorbar": {
            "outlinewidth": 0,
            "ticks": ""
           }
          },
          "colorscale": {
           "diverging": [
            [
             0,
             "#8e0152"
            ],
            [
             0.1,
             "#c51b7d"
            ],
            [
             0.2,
             "#de77ae"
            ],
            [
             0.3,
             "#f1b6da"
            ],
            [
             0.4,
             "#fde0ef"
            ],
            [
             0.5,
             "#f7f7f7"
            ],
            [
             0.6,
             "#e6f5d0"
            ],
            [
             0.7,
             "#b8e186"
            ],
            [
             0.8,
             "#7fbc41"
            ],
            [
             0.9,
             "#4d9221"
            ],
            [
             1,
             "#276419"
            ]
           ],
           "sequential": [
            [
             0,
             "#0d0887"
            ],
            [
             0.1111111111111111,
             "#46039f"
            ],
            [
             0.2222222222222222,
             "#7201a8"
            ],
            [
             0.3333333333333333,
             "#9c179e"
            ],
            [
             0.4444444444444444,
             "#bd3786"
            ],
            [
             0.5555555555555556,
             "#d8576b"
            ],
            [
             0.6666666666666666,
             "#ed7953"
            ],
            [
             0.7777777777777778,
             "#fb9f3a"
            ],
            [
             0.8888888888888888,
             "#fdca26"
            ],
            [
             1,
             "#f0f921"
            ]
           ],
           "sequentialminus": [
            [
             0,
             "#0d0887"
            ],
            [
             0.1111111111111111,
             "#46039f"
            ],
            [
             0.2222222222222222,
             "#7201a8"
            ],
            [
             0.3333333333333333,
             "#9c179e"
            ],
            [
             0.4444444444444444,
             "#bd3786"
            ],
            [
             0.5555555555555556,
             "#d8576b"
            ],
            [
             0.6666666666666666,
             "#ed7953"
            ],
            [
             0.7777777777777778,
             "#fb9f3a"
            ],
            [
             0.8888888888888888,
             "#fdca26"
            ],
            [
             1,
             "#f0f921"
            ]
           ]
          },
          "colorway": [
           "#636efa",
           "#EF553B",
           "#00cc96",
           "#ab63fa",
           "#FFA15A",
           "#19d3f3",
           "#FF6692",
           "#B6E880",
           "#FF97FF",
           "#FECB52"
          ],
          "font": {
           "color": "#f2f5fa"
          },
          "geo": {
           "bgcolor": "rgb(17,17,17)",
           "lakecolor": "rgb(17,17,17)",
           "landcolor": "rgb(17,17,17)",
           "showlakes": true,
           "showland": true,
           "subunitcolor": "#506784"
          },
          "hoverlabel": {
           "align": "left"
          },
          "hovermode": "closest",
          "mapbox": {
           "style": "dark"
          },
          "paper_bgcolor": "rgb(17,17,17)",
          "plot_bgcolor": "rgb(17,17,17)",
          "polar": {
           "angularaxis": {
            "gridcolor": "#506784",
            "linecolor": "#506784",
            "ticks": ""
           },
           "bgcolor": "rgb(17,17,17)",
           "radialaxis": {
            "gridcolor": "#506784",
            "linecolor": "#506784",
            "ticks": ""
           }
          },
          "scene": {
           "xaxis": {
            "backgroundcolor": "rgb(17,17,17)",
            "gridcolor": "#506784",
            "gridwidth": 2,
            "linecolor": "#506784",
            "showbackground": true,
            "ticks": "",
            "zerolinecolor": "#C8D4E3"
           },
           "yaxis": {
            "backgroundcolor": "rgb(17,17,17)",
            "gridcolor": "#506784",
            "gridwidth": 2,
            "linecolor": "#506784",
            "showbackground": true,
            "ticks": "",
            "zerolinecolor": "#C8D4E3"
           },
           "zaxis": {
            "backgroundcolor": "rgb(17,17,17)",
            "gridcolor": "#506784",
            "gridwidth": 2,
            "linecolor": "#506784",
            "showbackground": true,
            "ticks": "",
            "zerolinecolor": "#C8D4E3"
           }
          },
          "shapedefaults": {
           "line": {
            "color": "#f2f5fa"
           }
          },
          "sliderdefaults": {
           "bgcolor": "#C8D4E3",
           "bordercolor": "rgb(17,17,17)",
           "borderwidth": 1,
           "tickwidth": 0
          },
          "ternary": {
           "aaxis": {
            "gridcolor": "#506784",
            "linecolor": "#506784",
            "ticks": ""
           },
           "baxis": {
            "gridcolor": "#506784",
            "linecolor": "#506784",
            "ticks": ""
           },
           "bgcolor": "rgb(17,17,17)",
           "caxis": {
            "gridcolor": "#506784",
            "linecolor": "#506784",
            "ticks": ""
           }
          },
          "title": {
           "x": 0.05
          },
          "updatemenudefaults": {
           "bgcolor": "#506784",
           "borderwidth": 0
          },
          "xaxis": {
           "automargin": true,
           "gridcolor": "#283442",
           "linecolor": "#506784",
           "ticks": "",
           "title": {
            "standoff": 15
           },
           "zerolinecolor": "#283442",
           "zerolinewidth": 2
          },
          "yaxis": {
           "automargin": true,
           "gridcolor": "#283442",
           "linecolor": "#506784",
           "ticks": "",
           "title": {
            "standoff": 15
           },
           "zerolinecolor": "#283442",
           "zerolinewidth": 2
          }
         }
        },
        "title": {
         "text": "Feature Importance (LightGBM)"
        },
        "xaxis": {
         "anchor": "y",
         "domain": [
          0,
          1
         ],
         "title": {
          "text": "Importance Score"
         }
        },
        "yaxis": {
         "anchor": "x",
         "categoryorder": "total ascending",
         "domain": [
          0,
          1
         ],
         "title": {
          "text": "Feature"
         }
        }
       }
      }
     },
     "metadata": {},
     "output_type": "display_data"
    }
   ],
   "source": [
    "# Extract feature importances and feature names\n",
    "importances = model.feature_importance()\n",
    "feature_names = model.feature_name()\n",
    "\n",
    "# Create a DataFrame\n",
    "importance_df = pd.DataFrame({\n",
    "    'Feature': feature_names,\n",
    "    'Importance': importances\n",
    "}).sort_values(by='Importance', ascending=False)\n",
    "\n",
    "# Plot with Plotly\n",
    "fig = px.bar(importance_df, x='Importance', y='Feature', orientation='h', template = 'plotly_dark', \n",
    "             title='Feature Importance (LightGBM)',\n",
    "             labels={'Importance': 'Importance Score', 'Feature': 'Feature'},\n",
    "            #  height=800\n",
    "             )\n",
    "\n",
    "fig.update_layout(yaxis={'categoryorder':'total ascending'})\n",
    "fig.show()"
   ]
  },
  {
   "cell_type": "markdown",
   "id": "7e1002c1",
   "metadata": {},
   "source": [
    "### Actual vs Predicted"
   ]
  },
  {
   "cell_type": "code",
   "execution_count": 14,
   "id": "809a72ef",
   "metadata": {},
   "outputs": [
    {
     "data": {
      "image/png": "[encoded data removed]",
      "text/plain": [
       "<Figure size 1200x600 with 1 Axes>"
      ]
     },
     "metadata": {},
     "output_type": "display_data"
    }
   ],
   "source": [
    "# Plot actual vs predicted\n",
    "plot_df = test[['Created On', 'Line Count']].copy()\n",
    "plot_df['Predicted'] = preds\n",
    "plot_df = plot_df.rename(columns={'Line Count': 'Actual'})\n",
    "\n",
    "plot_df = plot_df.sort_values('Created On')\n",
    "\n",
    "plot_df_melted = plot_df.melt(id_vars='Created On', value_vars=['Actual', 'Predicted'],\n",
    "                              var_name='Type', value_name='Line Count')\n",
    "\n",
    "import matplotlib.pyplot as plt\n",
    "\n",
    "# Enable dark mode\n",
    "plt.style.use('dark_background')\n",
    "\n",
    "# Create the plot\n",
    "plt.figure(figsize=(12, 6), dpi=100)  # High resolution\n",
    "plt.plot(plot_df['Created On'], plot_df['Actual'], label='Actual', alpha=0.7, linewidth=1.2)\n",
    "plt.plot(plot_df['Created On'], plot_df['Predicted'], label='Predicted', alpha=0.7, linewidth=1.2)\n",
    "\n",
    "# Customize labels and title\n",
    "plt.xlabel('Time', fontsize=12)\n",
    "plt.ylabel('Contact Count', fontsize=12)\n",
    "plt.title('Actual vs Predicted Contact Count Over Time', fontsize=14)\n",
    "plt.legend()\n",
    "plt.grid(True, linestyle='--', alpha=0.3)\n",
    "plt.tight_layout()\n",
    "plt.show()"
   ]
  },
  {
   "cell_type": "markdown",
   "id": "2fe1a7be",
   "metadata": {},
   "source": [
    "### Correlation Matrix"
   ]
  },
  {
   "cell_type": "code",
   "execution_count": 15,
   "id": "79768512",
   "metadata": {},
   "outputs": [
    {
     "data": {
      "application/vnd.plotly.v1+json": {
       "config": {
        "plotlyServerURL": "https://plot.ly"
       },
       "data": [
        {
         "coloraxis": "coloraxis",
         "hovertemplate": "x: %{x}<br>y: %{y}<br>color: %{z}<extra></extra>",
         "name": "0",
         "texttemplate": "%{z}",
         "type": "heatmap",
         "x": [
          "month",
          "day",
          "day_num",
          "Total Read",
          "ZYIELD",
          "brand_encoded",
          "color_encoded",
          "model_encoded",
          "ship_to_name_encoded",
          "Utilization Score",
          "Total AMV",
          "Line Count"
         ],
         "xaxis": "x",
         "y": [
          "month",
          "day",
          "day_num",
          "Total Read",
          "ZYIELD",
          "brand_encoded",
          "color_encoded",
          "model_encoded",
          "ship_to_name_encoded",
          "Utilization Score",
          "Total AMV",
          "Line Count"
         ],
         "yaxis": "y",
         "z": {
          "bdata": "AAAAAAAA8D+4HoXrUbieP3sUrkfheqQ/exSuR+F6lD97FK5H4XqEP3sUrkfhepS/exSuR+F6pD8AAAAAAAAAgHsUrkfhepS/exSuR+F6lL+4HoXrUbieP3sUrkfheoS/uB6F61G4nj8AAAAAAADwP3sUrkfheoS/exSuR+F6hL97FK5H4XqEvwAAAAAAAACAAAAAAAAAAAB7FK5H4XqUvwAAAAAAAACAexSuR+F6hD97FK5H4XqEv3sUrkfhepQ/exSuR+F6pD97FK5H4XqEvwAAAAAAAPA/AAAAAAAAAIB7FK5H4XqEv3sUrkfheqS/exSuR+F6pD+amZmZmZmpP3sUrkfheqS/exSuR+F6pL8AAAAAAAAAgHsUrkfhepS/exSuR+F6lD97FK5H4XqEvwAAAAAAAACAAAAAAAAA8D+amZmZmZnZP3sUrkfherQ/pHA9CtejwL97FK5H4XqkP+xRuB6F67E/SOF6FK5H4T+uR+F6FK7nP5qZmZmZmdk/exSuR+F6hD97FK5H4XqEv3sUrkfheoS/mpmZmZmZ2T8AAAAAAADwP+F6FK5H4cq/pHA9Ctej4L/sUbgehevRP5qZmZmZmcm/9ihcj8L12D9xPQrXo3DdPwrXo3A9Crc/exSuR+F6lL8AAAAAAAAAgHsUrkfheqS/exSuR+F6tD/hehSuR+HKvwAAAAAAAPA/exSuR+F61L+amZmZmZmpv7gehetRuO4/exSuR+F61D97FK5H4XqEP+xRuB6F68G/exSuR+F6pD8AAAAAAAAAAHsUrkfheqQ/pHA9CtejwL+kcD0K16Pgv3sUrkfhetS/AAAAAAAA8D+kcD0K16PAv3sUrkfhetS/rkfhehSu178K16NwPQrHv1K4HoXrUcg/AAAAAAAAAIB7FK5H4XqUv5qZmZmZmak/exSuR+F6pD/sUbgehevRP5qZmZmZmam/pHA9CtejwL8AAAAAAADwP3sUrkfheqS/KVyPwvUovL97FK5H4XqUv7gehetRuK6/exSuR+F6lL8AAAAAAAAAgHsUrkfheqS/7FG4HoXrsT+amZmZmZnJv7gehetRuO4/exSuR+F61L97FK5H4XqkvwAAAAAAAPA/MzMzMzMz0z97FK5H4XqEv6RwPQrXo8C/exSuR+F6lL97FK5H4XqEP3sUrkfheqS/SOF6FK5H4T/2KFyPwvXYP3sUrkfhetQ/rkfhehSu178pXI/C9Si8vzMzMzMzM9M/AAAAAAAA8D9xPQrXo3DlP4/C9Shcj9I/uB6F61G4nj97FK5H4XqEvwAAAAAAAACArkfhehSu5z9xPQrXo3DdP3sUrkfheoQ/CtejcD0Kx797FK5H4XqUv3sUrkfheoS/cT0K16Nw5T8AAAAAAADwPxSuR+F6FN4/exSuR+F6hL97FK5H4XqUP3sUrkfhepS/mpmZmZmZ2T8K16NwPQq3P+xRuB6F68G/UrgehetRyD+4HoXrUbiuv6RwPQrXo8C/j8L1KFyP0j8UrkfhehTePwAAAAAAAPA/",
          "dtype": "f8",
          "shape": "12, 12"
         }
        }
       ],
       "layout": {
        "coloraxis": {
         "cmax": 1,
         "cmin": -1,
         "colorscale": [
          [
           0,
           "rgb(5,48,97)"
          ],
          [
           0.1,
           "rgb(33,102,172)"
          ],
          [
           0.2,
           "rgb(67,147,195)"
          ],
          [
           0.3,
           "rgb(146,197,222)"
          ],
          [
           0.4,
           "rgb(209,229,240)"
          ],
          [
           0.5,
           "rgb(247,247,247)"
          ],
          [
           0.6,
           "rgb(253,219,199)"
          ],
          [
           0.7,
           "rgb(244,165,130)"
          ],
          [
           0.8,
           "rgb(214,96,77)"
          ],
          [
           0.9,
           "rgb(178,24,43)"
          ],
          [
           1,
           "rgb(103,0,31)"
          ]
         ]
        },
        "height": 800,
        "template": {
         "data": {
          "bar": [
           {
            "error_x": {
             "color": "#f2f5fa"
            },
            "error_y": {
             "color": "#f2f5fa"
            },
            "marker": {
             "line": {
              "color": "rgb(17,17,17)",
              "width": 0.5
             },
             "pattern": {
              "fillmode": "overlay",
              "size": 10,
              "solidity": 0.2
             }
            },
            "type": "bar"
           }
          ],
          "barpolar": [
           {
            "marker": {
             "line": {
              "color": "rgb(17,17,17)",
              "width": 0.5
             },
             "pattern": {
              "fillmode": "overlay",
              "size": 10,
              "solidity": 0.2
             }
            },
            "type": "barpolar"
           }
          ],
          "carpet": [
           {
            "aaxis": {
             "endlinecolor": "#A2B1C6",
             "gridcolor": "#506784",
             "linecolor": "#506784",
             "minorgridcolor": "#506784",
             "startlinecolor": "#A2B1C6"
            },
            "baxis": {
             "endlinecolor": "#A2B1C6",
             "gridcolor": "#506784",
             "linecolor": "#506784",
             "minorgridcolor": "#506784",
             "startlinecolor": "#A2B1C6"
            },
            "type": "carpet"
           }
          ],
          "choropleth": [
           {
            "colorbar": {
             "outlinewidth": 0,
             "ticks": ""
            },
            "type": "choropleth"
           }
          ],
          "contour": [
           {
            "colorbar": {
             "outlinewidth": 0,
             "ticks": ""
            },
            "colorscale": [
             [
              0,
              "#0d0887"
             ],
             [
              0.1111111111111111,
              "#46039f"
             ],
             [
              0.2222222222222222,
              "#7201a8"
             ],
             [
              0.3333333333333333,
              "#9c179e"
             ],
             [
              0.4444444444444444,
              "#bd3786"
             ],
             [
              0.5555555555555556,
              "#d8576b"
             ],
             [
              0.6666666666666666,
              "#ed7953"
             ],
             [
              0.7777777777777778,
              "#fb9f3a"
             ],
             [
              0.8888888888888888,
              "#fdca26"
             ],
             [
              1,
              "#f0f921"
             ]
            ],
            "type": "contour"
           }
          ],
          "contourcarpet": [
           {
            "colorbar": {
             "outlinewidth": 0,
             "ticks": ""
            },
            "type": "contourcarpet"
           }
          ],
          "heatmap": [
           {
            "colorbar": {
             "outlinewidth": 0,
             "ticks": ""
            },
            "colorscale": [
             [
              0,
              "#0d0887"
             ],
             [
              0.1111111111111111,
              "#46039f"
             ],
             [
              0.2222222222222222,
              "#7201a8"
             ],
             [
              0.3333333333333333,
              "#9c179e"
             ],
             [
              0.4444444444444444,
              "#bd3786"
             ],
             [
              0.5555555555555556,
              "#d8576b"
             ],
             [
              0.6666666666666666,
              "#ed7953"
             ],
             [
              0.7777777777777778,
              "#fb9f3a"
             ],
             [
              0.8888888888888888,
              "#fdca26"
             ],
             [
              1,
              "#f0f921"
             ]
            ],
            "type": "heatmap"
           }
          ],
          "histogram": [
           {
            "marker": {
             "pattern": {
              "fillmode": "overlay",
              "size": 10,
              "solidity": 0.2
             }
            },
            "type": "histogram"
           }
          ],
          "histogram2d": [
           {
            "colorbar": {
             "outlinewidth": 0,
             "ticks": ""
            },
            "colorscale": [
             [
              0,
              "#0d0887"
             ],
             [
              0.1111111111111111,
              "#46039f"
             ],
             [
              0.2222222222222222,
              "#7201a8"
             ],
             [
              0.3333333333333333,
              "#9c179e"
             ],
             [
              0.4444444444444444,
              "#bd3786"
             ],
             [
              0.5555555555555556,
              "#d8576b"
             ],
             [
              0.6666666666666666,
              "#ed7953"
             ],
             [
              0.7777777777777778,
              "#fb9f3a"
             ],
             [
              0.8888888888888888,
              "#fdca26"
             ],
             [
              1,
              "#f0f921"
             ]
            ],
            "type": "histogram2d"
           }
          ],
          "histogram2dcontour": [
           {
            "colorbar": {
             "outlinewidth": 0,
             "ticks": ""
            },
            "colorscale": [
             [
              0,
              "#0d0887"
             ],
             [
              0.1111111111111111,
              "#46039f"
             ],
             [
              0.2222222222222222,
              "#7201a8"
             ],
             [
              0.3333333333333333,
              "#9c179e"
             ],
             [
              0.4444444444444444,
              "#bd3786"
             ],
             [
              0.5555555555555556,
              "#d8576b"
             ],
             [
              0.6666666666666666,
              "#ed7953"
             ],
             [
              0.7777777777777778,
              "#fb9f3a"
             ],
             [
              0.8888888888888888,
              "#fdca26"
             ],
             [
              1,
              "#f0f921"
             ]
            ],
            "type": "histogram2dcontour"
           }
          ],
          "mesh3d": [
           {
            "colorbar": {
             "outlinewidth": 0,
             "ticks": ""
            },
            "type": "mesh3d"
           }
          ],
          "parcoords": [
           {
            "line": {
             "colorbar": {
              "outlinewidth": 0,
              "ticks": ""
             }
            },
            "type": "parcoords"
           }
          ],
          "pie": [
           {
            "automargin": true,
            "type": "pie"
           }
          ],
          "scatter": [
           {
            "marker": {
             "line": {
              "color": "#283442"
             }
            },
            "type": "scatter"
           }
          ],
          "scatter3d": [
           {
            "line": {
             "colorbar": {
              "outlinewidth": 0,
              "ticks": ""
             }
            },
            "marker": {
             "colorbar": {
              "outlinewidth": 0,
              "ticks": ""
             }
            },
            "type": "scatter3d"
           }
          ],
          "scattercarpet": [
           {
            "marker": {
             "colorbar": {
              "outlinewidth": 0,
              "ticks": ""
             }
            },
            "type": "scattercarpet"
           }
          ],
          "scattergeo": [
           {
            "marker": {
             "colorbar": {
              "outlinewidth": 0,
              "ticks": ""
             }
            },
            "type": "scattergeo"
           }
          ],
          "scattergl": [
           {
            "marker": {
             "line": {
              "color": "#283442"
             }
            },
            "type": "scattergl"
           }
          ],
          "scattermap": [
           {
            "marker": {
             "colorbar": {
              "outlinewidth": 0,
              "ticks": ""
             }
            },
            "type": "scattermap"
           }
          ],
          "scattermapbox": [
           {
            "marker": {
             "colorbar": {
              "outlinewidth": 0,
              "ticks": ""
             }
            },
            "type": "scattermapbox"
           }
          ],
          "scatterpolar": [
           {
            "marker": {
             "colorbar": {
              "outlinewidth": 0,
              "ticks": ""
             }
            },
            "type": "scatterpolar"
           }
          ],
          "scatterpolargl": [
           {
            "marker": {
             "colorbar": {
              "outlinewidth": 0,
              "ticks": ""
             }
            },
            "type": "scatterpolargl"
           }
          ],
          "scatterternary": [
           {
            "marker": {
             "colorbar": {
              "outlinewidth": 0,
              "ticks": ""
             }
            },
            "type": "scatterternary"
           }
          ],
          "surface": [
           {
            "colorbar": {
             "outlinewidth": 0,
             "ticks": ""
            },
            "colorscale": [
             [
              0,
              "#0d0887"
             ],
             [
              0.1111111111111111,
              "#46039f"
             ],
             [
              0.2222222222222222,
              "#7201a8"
             ],
             [
              0.3333333333333333,
              "#9c179e"
             ],
             [
              0.4444444444444444,
              "#bd3786"
             ],
             [
              0.5555555555555556,
              "#d8576b"
             ],
             [
              0.6666666666666666,
              "#ed7953"
             ],
             [
              0.7777777777777778,
              "#fb9f3a"
             ],
             [
              0.8888888888888888,
              "#fdca26"
             ],
             [
              1,
              "#f0f921"
             ]
            ],
            "type": "surface"
           }
          ],
          "table": [
           {
            "cells": {
             "fill": {
              "color": "#506784"
             },
             "line": {
              "color": "rgb(17,17,17)"
             }
            },
            "header": {
             "fill": {
              "color": "#2a3f5f"
             },
             "line": {
              "color": "rgb(17,17,17)"
             }
            },
            "type": "table"
           }
          ]
         },
         "layout": {
          "annotationdefaults": {
           "arrowcolor": "#f2f5fa",
           "arrowhead": 0,
           "arrowwidth": 1
          },
          "autotypenumbers": "strict",
          "coloraxis": {
           "colorbar": {
            "outlinewidth": 0,
            "ticks": ""
           }
          },
          "colorscale": {
           "diverging": [
            [
             0,
             "#8e0152"
            ],
            [
             0.1,
             "#c51b7d"
            ],
            [
             0.2,
             "#de77ae"
            ],
            [
             0.3,
             "#f1b6da"
            ],
            [
             0.4,
             "#fde0ef"
            ],
            [
             0.5,
             "#f7f7f7"
            ],
            [
             0.6,
             "#e6f5d0"
            ],
            [
             0.7,
             "#b8e186"
            ],
            [
             0.8,
             "#7fbc41"
            ],
            [
             0.9,
             "#4d9221"
            ],
            [
             1,
             "#276419"
            ]
           ],
           "sequential": [
            [
             0,
             "#0d0887"
            ],
            [
             0.1111111111111111,
             "#46039f"
            ],
            [
             0.2222222222222222,
             "#7201a8"
            ],
            [
             0.3333333333333333,
             "#9c179e"
            ],
            [
             0.4444444444444444,
             "#bd3786"
            ],
            [
             0.5555555555555556,
             "#d8576b"
            ],
            [
             0.6666666666666666,
             "#ed7953"
            ],
            [
             0.7777777777777778,
             "#fb9f3a"
            ],
            [
             0.8888888888888888,
             "#fdca26"
            ],
            [
             1,
             "#f0f921"
            ]
           ],
           "sequentialminus": [
            [
             0,
             "#0d0887"
            ],
            [
             0.1111111111111111,
             "#46039f"
            ],
            [
             0.2222222222222222,
             "#7201a8"
            ],
            [
             0.3333333333333333,
             "#9c179e"
            ],
            [
             0.4444444444444444,
             "#bd3786"
            ],
            [
             0.5555555555555556,
             "#d8576b"
            ],
            [
             0.6666666666666666,
             "#ed7953"
            ],
            [
             0.7777777777777778,
             "#fb9f3a"
            ],
            [
             0.8888888888888888,
             "#fdca26"
            ],
            [
             1,
             "#f0f921"
            ]
           ]
          },
          "colorway": [
           "#636efa",
           "#EF553B",
           "#00cc96",
           "#ab63fa",
           "#FFA15A",
           "#19d3f3",
           "#FF6692",
           "#B6E880",
           "#FF97FF",
           "#FECB52"
          ],
          "font": {
           "color": "#f2f5fa"
          },
          "geo": {
           "bgcolor": "rgb(17,17,17)",
           "lakecolor": "rgb(17,17,17)",
           "landcolor": "rgb(17,17,17)",
           "showlakes": true,
           "showland": true,
           "subunitcolor": "#506784"
          },
          "hoverlabel": {
           "align": "left"
          },
          "hovermode": "closest",
          "mapbox": {
           "style": "dark"
          },
          "paper_bgcolor": "rgb(17,17,17)",
          "plot_bgcolor": "rgb(17,17,17)",
          "polar": {
           "angularaxis": {
            "gridcolor": "#506784",
            "linecolor": "#506784",
            "ticks": ""
           },
           "bgcolor": "rgb(17,17,17)",
           "radialaxis": {
            "gridcolor": "#506784",
            "linecolor": "#506784",
            "ticks": ""
           }
          },
          "scene": {
           "xaxis": {
            "backgroundcolor": "rgb(17,17,17)",
            "gridcolor": "#506784",
            "gridwidth": 2,
            "linecolor": "#506784",
            "showbackground": true,
            "ticks": "",
            "zerolinecolor": "#C8D4E3"
           },
           "yaxis": {
            "backgroundcolor": "rgb(17,17,17)",
            "gridcolor": "#506784",
            "gridwidth": 2,
            "linecolor": "#506784",
            "showbackground": true,
            "ticks": "",
            "zerolinecolor": "#C8D4E3"
           },
           "zaxis": {
            "backgroundcolor": "rgb(17,17,17)",
            "gridcolor": "#506784",
            "gridwidth": 2,
            "linecolor": "#506784",
            "showbackground": true,
            "ticks": "",
            "zerolinecolor": "#C8D4E3"
           }
          },
          "shapedefaults": {
           "line": {
            "color": "#f2f5fa"
           }
          },
          "sliderdefaults": {
           "bgcolor": "#C8D4E3",
           "bordercolor": "rgb(17,17,17)",
           "borderwidth": 1,
           "tickwidth": 0
          },
          "ternary": {
           "aaxis": {
            "gridcolor": "#506784",
            "linecolor": "#506784",
            "ticks": ""
           },
           "baxis": {
            "gridcolor": "#506784",
            "linecolor": "#506784",
            "ticks": ""
           },
           "bgcolor": "rgb(17,17,17)",
           "caxis": {
            "gridcolor": "#506784",
            "linecolor": "#506784",
            "ticks": ""
           }
          },
          "title": {
           "x": 0.05
          },
          "updatemenudefaults": {
           "bgcolor": "#506784",
           "borderwidth": 0
          },
          "xaxis": {
           "automargin": true,
           "gridcolor": "#283442",
           "linecolor": "#506784",
           "ticks": "",
           "title": {
            "standoff": 15
           },
           "zerolinecolor": "#283442",
           "zerolinewidth": 2
          },
          "yaxis": {
           "automargin": true,
           "gridcolor": "#283442",
           "linecolor": "#506784",
           "ticks": "",
           "title": {
            "standoff": 15
           },
           "zerolinecolor": "#283442",
           "zerolinewidth": 2
          }
         }
        },
        "title": {
         "text": "Correlation Matrix Heatmap"
        },
        "width": 800,
        "xaxis": {
         "anchor": "y",
         "domain": [
          0,
          1
         ]
        },
        "yaxis": {
         "anchor": "x",
         "autorange": "reversed",
         "domain": [
          0,
          1
         ]
        }
       }
      }
     },
     "metadata": {},
     "output_type": "display_data"
    }
   ],
   "source": [
    "# Select the relevant numeric columns\n",
    "columns = ['month', 'day', 'day_num', 'Total Read', 'ZYIELD', \n",
    "           'brand_encoded', 'color_encoded', 'model_encoded', \n",
    "           'ship_to_name_encoded', 'Utilization Score', 'Total AMV', 'Line Count']\n",
    "\n",
    "# Filter the DataFrame\n",
    "dfsupply = df_util_group_special[columns]\n",
    "\n",
    "# Compute the correlation matrix\n",
    "correlation_matrix = dfsupply.corr()\n",
    "\n",
    "# Round the correlation values to 2 decimal places\n",
    "correlation_matrix = correlation_matrix.round(2)\n",
    "\n",
    "\n",
    "# Create the heatmap using Plotly Express\n",
    "fig = px.imshow(correlation_matrix,\n",
    "                text_auto=True,\n",
    "                width=800, height=800,\n",
    "                color_continuous_scale='RdBu_r',\n",
    "                aspect='auto',\n",
    "                zmin=-1, zmax=1,\n",
    "                title='Correlation Matrix Heatmap', template='plotly_dark')\n",
    "\n",
    "fig.show()\n"
   ]
  },
  {
   "cell_type": "code",
   "execution_count": 16,
   "id": "03e35c28",
   "metadata": {},
   "outputs": [
    {
     "data": {
      "application/vnd.microsoft.datawrangler.viewer.v0+json": {
       "columns": [
        {
         "name": "index",
         "rawType": "int64",
         "type": "integer"
        },
        {
         "name": "Feature",
         "rawType": "object",
         "type": "string"
        },
        {
         "name": "Line Count",
         "rawType": "float64",
         "type": "float"
        }
       ],
       "ref": "e0af5cac-3cbe-49cd-aa2d-ff8286cb27b3",
       "rows": [
        [
         "0",
         "Line Count",
         "1.0"
        ],
        [
         "1",
         "Total AMV",
         "0.47"
        ],
        [
         "2",
         "Total Read",
         "0.4"
        ],
        [
         "3",
         "Utilization Score",
         "0.29"
        ],
        [
         "4",
         "color_encoded",
         "0.19"
        ],
        [
         "5",
         "ZYIELD",
         "0.09"
        ],
        [
         "6",
         "day",
         "0.02"
        ],
        [
         "7",
         "month",
         "-0.01"
        ],
        [
         "8",
         "day_num",
         "-0.02"
        ],
        [
         "9",
         "model_encoded",
         "-0.06"
        ],
        [
         "10",
         "ship_to_name_encoded",
         "-0.13"
        ],
        [
         "11",
         "brand_encoded",
         "-0.14"
        ]
       ],
       "shape": {
        "columns": 2,
        "rows": 12
       }
      },
      "text/html": [
       "<div>\n",
       "<style scoped>\n",
       "    .dataframe tbody tr th:only-of-type {\n",
       "        vertical-align: middle;\n",
       "    }\n",
       "\n",
       "    .dataframe tbody tr th {\n",
       "        vertical-align: top;\n",
       "    }\n",
       "\n",
       "    .dataframe thead th {\n",
       "        text-align: right;\n",
       "    }\n",
       "</style>\n",
       "<table border=\"1\" class=\"dataframe\">\n",
       "  <thead>\n",
       "    <tr style=\"text-align: right;\">\n",
       "      <th></th>\n",
       "      <th>Feature</th>\n",
       "      <th>Line Count</th>\n",
       "    </tr>\n",
       "  </thead>\n",
       "  <tbody>\n",
       "    <tr>\n",
       "      <th>0</th>\n",
       "      <td>Line Count</td>\n",
       "      <td>1.00</td>\n",
       "    </tr>\n",
       "    <tr>\n",
       "      <th>1</th>\n",
       "      <td>Total AMV</td>\n",
       "      <td>0.47</td>\n",
       "    </tr>\n",
       "    <tr>\n",
       "      <th>2</th>\n",
       "      <td>Total Read</td>\n",
       "      <td>0.40</td>\n",
       "    </tr>\n",
       "    <tr>\n",
       "      <th>3</th>\n",
       "      <td>Utilization Score</td>\n",
       "      <td>0.29</td>\n",
       "    </tr>\n",
       "    <tr>\n",
       "      <th>4</th>\n",
       "      <td>color_encoded</td>\n",
       "      <td>0.19</td>\n",
       "    </tr>\n",
       "    <tr>\n",
       "      <th>5</th>\n",
       "      <td>ZYIELD</td>\n",
       "      <td>0.09</td>\n",
       "    </tr>\n",
       "    <tr>\n",
       "      <th>6</th>\n",
       "      <td>day</td>\n",
       "      <td>0.02</td>\n",
       "    </tr>\n",
       "    <tr>\n",
       "      <th>7</th>\n",
       "      <td>month</td>\n",
       "      <td>-0.01</td>\n",
       "    </tr>\n",
       "    <tr>\n",
       "      <th>8</th>\n",
       "      <td>day_num</td>\n",
       "      <td>-0.02</td>\n",
       "    </tr>\n",
       "    <tr>\n",
       "      <th>9</th>\n",
       "      <td>model_encoded</td>\n",
       "      <td>-0.06</td>\n",
       "    </tr>\n",
       "    <tr>\n",
       "      <th>10</th>\n",
       "      <td>ship_to_name_encoded</td>\n",
       "      <td>-0.13</td>\n",
       "    </tr>\n",
       "    <tr>\n",
       "      <th>11</th>\n",
       "      <td>brand_encoded</td>\n",
       "      <td>-0.14</td>\n",
       "    </tr>\n",
       "  </tbody>\n",
       "</table>\n",
       "</div>"
      ],
      "text/plain": [
       "                 Feature  Line Count\n",
       "0             Line Count        1.00\n",
       "1              Total AMV        0.47\n",
       "2             Total Read        0.40\n",
       "3      Utilization Score        0.29\n",
       "4          color_encoded        0.19\n",
       "5                 ZYIELD        0.09\n",
       "6                    day        0.02\n",
       "7                  month       -0.01\n",
       "8                day_num       -0.02\n",
       "9          model_encoded       -0.06\n",
       "10  ship_to_name_encoded       -0.13\n",
       "11         brand_encoded       -0.14"
      ]
     },
     "execution_count": 16,
     "metadata": {},
     "output_type": "execute_result"
    }
   ],
   "source": [
    "correlation_matrix['Line Count'].sort_values(ascending=False).reset_index().rename(columns={'index':'Feature'})"
   ]
  },
  {
   "cell_type": "markdown",
   "id": "54b5a918",
   "metadata": {},
   "source": [
    "### Save Model"
   ]
  },
  {
   "cell_type": "code",
   "execution_count": null,
   "id": "914b8da4",
   "metadata": {},
   "outputs": [
    {
     "data": {
      "text/plain": [
       "['util_model_r2_93v2.pkl']"
      ]
     },
     "execution_count": 11,
     "metadata": {},
     "output_type": "execute_result"
    }
   ],
   "source": [
    "# import joblib\n",
    "\n",
    "# # Save the model\n",
    "# joblib.dump(model, 'util_model_r2_93v2.pkl')"
   ]
  },
  {
   "cell_type": "markdown",
   "id": "d5c7427d",
   "metadata": {},
   "source": [
    "### Forcasting"
   ]
  },
  {
   "cell_type": "code",
   "execution_count": 20,
   "id": "ba76f51b",
   "metadata": {},
   "outputs": [
    {
     "data": {
      "application/vnd.microsoft.datawrangler.viewer.v0+json": {
       "columns": [
        {
         "name": "index",
         "rawType": "int64",
         "type": "integer"
        },
        {
         "name": "Period month year",
         "rawType": "int64",
         "type": "integer"
        },
        {
         "name": "Created On",
         "rawType": "datetime64[ns]",
         "type": "datetime"
        },
        {
         "name": "Total AMV",
         "rawType": "float64",
         "type": "float"
        },
        {
         "name": "Total AMV (Avg)",
         "rawType": "float64",
         "type": "float"
        },
        {
         "name": "Days Since Creation",
         "rawType": "int64",
         "type": "integer"
        },
        {
         "name": "Color",
         "rawType": "object",
         "type": "string"
        },
        {
         "name": "Brand",
         "rawType": "object",
         "type": "string"
        },
        {
         "name": "Model (Attr)",
         "rawType": "object",
         "type": "string"
        },
        {
         "name": "Ship To Name",
         "rawType": "object",
         "type": "string"
        },
        {
         "name": "Serial Number",
         "rawType": "object",
         "type": "string"
        },
        {
         "name": "Total Read",
         "rawType": "float64",
         "type": "float"
        },
        {
         "name": "ZYIELD",
         "rawType": "float64",
         "type": "float"
        },
        {
         "name": "Line Count",
         "rawType": "int64",
         "type": "integer"
        },
        {
         "name": "month",
         "rawType": "int32",
         "type": "integer"
        },
        {
         "name": "day",
         "rawType": "int32",
         "type": "integer"
        },
        {
         "name": "day_num",
         "rawType": "int32",
         "type": "integer"
        },
        {
         "name": "Utilization Score",
         "rawType": "float64",
         "type": "float"
        }
       ],
       "ref": "a2d36a0d-70a5-4a6f-b75c-0719c44964f9",
       "rows": [
        [
         "0",
         "202112",
         "2021-12-09 00:00:00",
         null,
         "0.0",
         "1329",
         "K",
         "KAY JEWELERS",
         "LXE460",
         "KAY JEWELERS 1401",
         "45145PHH2H80D",
         null,
         "3500.0",
         "1",
         "12",
         "9",
         "3",
         null
        ],
        [
         "1",
         "202112",
         "2021-12-13 00:00:00",
         null,
         "0.0",
         "1325",
         "C",
         "JARED",
         "HPPW556XH",
         "JARED 8590",
         "CN79BBK15H",
         null,
         "6000.0",
         "1",
         "12",
         "13",
         "0",
         null
        ],
        [
         "2",
         "202112",
         "2021-12-13 00:00:00",
         null,
         "0.0",
         "1325",
         "K",
         "JARED",
         "HPPW556XH",
         "JARED 8590",
         "CN79BBK15H",
         null,
         "6000.0",
         "1",
         "12",
         "13",
         "0",
         null
        ],
        [
         "3",
         "202112",
         "2021-12-13 00:00:00",
         null,
         "0.0",
         "1325",
         "M",
         "JARED",
         "HPPW556XH",
         "JARED 8590",
         "CN79BBK15H",
         null,
         "6000.0",
         "1",
         "12",
         "13",
         "0",
         null
        ],
        [
         "4",
         "202112",
         "2021-12-13 00:00:00",
         null,
         "0.0",
         "1325",
         "Y",
         "JARED",
         "HPPW556XH",
         "JARED 8590",
         "CN79BBK15H",
         null,
         "6000.0",
         "1",
         "12",
         "13",
         "0",
         null
        ]
       ],
       "shape": {
        "columns": 17,
        "rows": 5
       }
      },
      "text/html": [
       "<div>\n",
       "<style scoped>\n",
       "    .dataframe tbody tr th:only-of-type {\n",
       "        vertical-align: middle;\n",
       "    }\n",
       "\n",
       "    .dataframe tbody tr th {\n",
       "        vertical-align: top;\n",
       "    }\n",
       "\n",
       "    .dataframe thead th {\n",
       "        text-align: right;\n",
       "    }\n",
       "</style>\n",
       "<table border=\"1\" class=\"dataframe\">\n",
       "  <thead>\n",
       "    <tr style=\"text-align: right;\">\n",
       "      <th></th>\n",
       "      <th>Period month year</th>\n",
       "      <th>Created On</th>\n",
       "      <th>Total AMV</th>\n",
       "      <th>Total AMV (Avg)</th>\n",
       "      <th>Days Since Creation</th>\n",
       "      <th>Color</th>\n",
       "      <th>Brand</th>\n",
       "      <th>Model (Attr)</th>\n",
       "      <th>Ship To Name</th>\n",
       "      <th>Serial Number</th>\n",
       "      <th>Total Read</th>\n",
       "      <th>ZYIELD</th>\n",
       "      <th>Line Count</th>\n",
       "      <th>month</th>\n",
       "      <th>day</th>\n",
       "      <th>day_num</th>\n",
       "      <th>Utilization Score</th>\n",
       "    </tr>\n",
       "  </thead>\n",
       "  <tbody>\n",
       "    <tr>\n",
       "      <th>0</th>\n",
       "      <td>202112</td>\n",
       "      <td>2021-12-09</td>\n",
       "      <td>NaN</td>\n",
       "      <td>0.0</td>\n",
       "      <td>1329</td>\n",
       "      <td>K</td>\n",
       "      <td>KAY JEWELERS</td>\n",
       "      <td>LXE460</td>\n",
       "      <td>KAY JEWELERS 1401</td>\n",
       "      <td>45145PHH2H80D</td>\n",
       "      <td>NaN</td>\n",
       "      <td>3500.0</td>\n",
       "      <td>1</td>\n",
       "      <td>12</td>\n",
       "      <td>9</td>\n",
       "      <td>3</td>\n",
       "      <td>NaN</td>\n",
       "    </tr>\n",
       "    <tr>\n",
       "      <th>1</th>\n",
       "      <td>202112</td>\n",
       "      <td>2021-12-13</td>\n",
       "      <td>NaN</td>\n",
       "      <td>0.0</td>\n",
       "      <td>1325</td>\n",
       "      <td>C</td>\n",
       "      <td>JARED</td>\n",
       "      <td>HPPW556XH</td>\n",
       "      <td>JARED 8590</td>\n",
       "      <td>CN79BBK15H</td>\n",
       "      <td>NaN</td>\n",
       "      <td>6000.0</td>\n",
       "      <td>1</td>\n",
       "      <td>12</td>\n",
       "      <td>13</td>\n",
       "      <td>0</td>\n",
       "      <td>NaN</td>\n",
       "    </tr>\n",
       "    <tr>\n",
       "      <th>2</th>\n",
       "      <td>202112</td>\n",
       "      <td>2021-12-13</td>\n",
       "      <td>NaN</td>\n",
       "      <td>0.0</td>\n",
       "      <td>1325</td>\n",
       "      <td>K</td>\n",
       "      <td>JARED</td>\n",
       "      <td>HPPW556XH</td>\n",
       "      <td>JARED 8590</td>\n",
       "      <td>CN79BBK15H</td>\n",
       "      <td>NaN</td>\n",
       "      <td>6000.0</td>\n",
       "      <td>1</td>\n",
       "      <td>12</td>\n",
       "      <td>13</td>\n",
       "      <td>0</td>\n",
       "      <td>NaN</td>\n",
       "    </tr>\n",
       "    <tr>\n",
       "      <th>3</th>\n",
       "      <td>202112</td>\n",
       "      <td>2021-12-13</td>\n",
       "      <td>NaN</td>\n",
       "      <td>0.0</td>\n",
       "      <td>1325</td>\n",
       "      <td>M</td>\n",
       "      <td>JARED</td>\n",
       "      <td>HPPW556XH</td>\n",
       "      <td>JARED 8590</td>\n",
       "      <td>CN79BBK15H</td>\n",
       "      <td>NaN</td>\n",
       "      <td>6000.0</td>\n",
       "      <td>1</td>\n",
       "      <td>12</td>\n",
       "      <td>13</td>\n",
       "      <td>0</td>\n",
       "      <td>NaN</td>\n",
       "    </tr>\n",
       "    <tr>\n",
       "      <th>4</th>\n",
       "      <td>202112</td>\n",
       "      <td>2021-12-13</td>\n",
       "      <td>NaN</td>\n",
       "      <td>0.0</td>\n",
       "      <td>1325</td>\n",
       "      <td>Y</td>\n",
       "      <td>JARED</td>\n",
       "      <td>HPPW556XH</td>\n",
       "      <td>JARED 8590</td>\n",
       "      <td>CN79BBK15H</td>\n",
       "      <td>NaN</td>\n",
       "      <td>6000.0</td>\n",
       "      <td>1</td>\n",
       "      <td>12</td>\n",
       "      <td>13</td>\n",
       "      <td>0</td>\n",
       "      <td>NaN</td>\n",
       "    </tr>\n",
       "  </tbody>\n",
       "</table>\n",
       "</div>"
      ],
      "text/plain": [
       "   Period month year Created On  Total AMV  Total AMV (Avg)  \\\n",
       "0             202112 2021-12-09        NaN              0.0   \n",
       "1             202112 2021-12-13        NaN              0.0   \n",
       "2             202112 2021-12-13        NaN              0.0   \n",
       "3             202112 2021-12-13        NaN              0.0   \n",
       "4             202112 2021-12-13        NaN              0.0   \n",
       "\n",
       "   Days Since Creation Color         Brand Model (Attr)       Ship To Name  \\\n",
       "0                 1329     K  KAY JEWELERS       LXE460  KAY JEWELERS 1401   \n",
       "1                 1325     C         JARED    HPPW556XH         JARED 8590   \n",
       "2                 1325     K         JARED    HPPW556XH         JARED 8590   \n",
       "3                 1325     M         JARED    HPPW556XH         JARED 8590   \n",
       "4                 1325     Y         JARED    HPPW556XH         JARED 8590   \n",
       "\n",
       "   Serial Number  Total Read  ZYIELD  Line Count  month  day  day_num  \\\n",
       "0  45145PHH2H80D         NaN  3500.0           1     12    9        3   \n",
       "1     CN79BBK15H         NaN  6000.0           1     12   13        0   \n",
       "2     CN79BBK15H         NaN  6000.0           1     12   13        0   \n",
       "3     CN79BBK15H         NaN  6000.0           1     12   13        0   \n",
       "4     CN79BBK15H         NaN  6000.0           1     12   13        0   \n",
       "\n",
       "   Utilization Score  \n",
       "0                NaN  \n",
       "1                NaN  \n",
       "2                NaN  \n",
       "3                NaN  \n",
       "4                NaN  "
      ]
     },
     "execution_count": 20,
     "metadata": {},
     "output_type": "execute_result"
    }
   ],
   "source": [
    "df_Utilization.head()"
   ]
  },
  {
   "cell_type": "code",
   "execution_count": 21,
   "id": "a04b8ec4",
   "metadata": {},
   "outputs": [],
   "source": [
    "import pandas as pd\n",
    "import numpy as np\n",
    "from datetime import timedelta\n",
    "from tqdm import tqdm\n",
    "from joblib import Parallel, delayed\n",
    "\n",
    "def forecast_for_combination(combo_key, history, model, features, forecast_horizon=30):\n",
    "    forecast_records = []\n",
    "\n",
    "    # Determine the last timestamp\n",
    "    last_timestamp = pd.to_datetime(history['Created On']).max()\n",
    "    forecast_steps = forecast_horizon\n",
    "    time_bins = [last_timestamp + timedelta(days=i + 1) for i in range(forecast_steps)]\n",
    "\n",
    "    for time_bin in time_bins:\n",
    "        new_row = {\n",
    "            'Created On': time_bin,\n",
    "            'Brand': combo_key[0],\n",
    "            'Ship To Name': combo_key[1],\n",
    "            'Color': combo_key[2],\n",
    "            'month': time_bin.month,\n",
    "            'day': time_bin.day,\n",
    "            'day_num': time_bin.weekday(),\n",
    "            'brand_encoded': history['brand_encoded'].iloc[0],\n",
    "            'color_encoded': history['color_encoded'].iloc[0],\n",
    "            'model_encoded': history['model_encoded'].iloc[0],\n",
    "            'ship_to_name_encoded': history['ship_to_name_encoded'].iloc[0]\n",
    "        }\n",
    "\n",
    "        # # Lag features (days)\n",
    "        # for lag in [1, 2, 3, 7]:\n",
    "        #     lag_time = time_bin - timedelta(days=lag)\n",
    "        #     lag_value = history.loc[history['Created On'] == lag_time, 'Line Count']\n",
    "        #     new_row[f'lag_{lag}d'] = lag_value.values[0] if not lag_value.empty else 0.0\n",
    "\n",
    "        # # Rolling stats (days)\n",
    "        # for window in [3, 7]:\n",
    "        #     window_data = history[(history['Created On'] > time_bin - timedelta(days=window)) &\n",
    "        #                           (history['Created On'] < time_bin)]['Line Count']\n",
    "        #     new_row[f'rolling_mean_{window}d'] = window_data.mean() if not window_data.empty else 0.0\n",
    "        #     new_row[f'rolling_std_{window}d'] = window_data.std() if not window_data.empty else 0.0\n",
    "\n",
    "        # Use median values for static numerical features\n",
    "        new_row['Total Read'] = history['Total Read'].median()\n",
    "        new_row['ZYIELD'] = history['ZYIELD'].median()\n",
    "        new_row['Utilization Score'] = history['Utilization Score'].median()\n",
    "        new_row['Total AMV'] = history['Total AMV'].median()\n",
    "\n",
    "        # Create input and predict\n",
    "        input_df = pd.DataFrame([new_row])[features]\n",
    "        prediction = model.predict(input_df)[0]\n",
    "        new_row['Line Count'] = prediction\n",
    "\n",
    "        forecast_records.append(new_row)\n",
    "        history = pd.concat([history, pd.DataFrame([new_row])], ignore_index=True)\n",
    "\n",
    "    return forecast_records\n",
    "\n",
    "\n",
    "def recursive_forecast_line_count(df_util_group_special, model, features, forecast_horizon=30, n_jobs=4):\n",
    "    df_util_group_special['Created On'] = pd.to_datetime(df_util_group_special['Created On'])\n",
    "    combinations = df_util_group_special[['Brand', 'Ship To Name', 'Color']].drop_duplicates()\n",
    "\n",
    "    combo_histories = {\n",
    "        (row['Brand'], row['Ship To Name'], row['Color']):\n",
    "        df_util_group_special[(df_util_group_special['Brand'] == row['Brand']) &\n",
    "                              (df_util_group_special['Ship To Name'] == row['Ship To Name']) &\n",
    "                              (df_util_group_special['Color'] == row['Color'])].sort_values('Created On').copy()\n",
    "        for _, row in combinations.iterrows()\n",
    "    }\n",
    "\n",
    "    results = Parallel(n_jobs=n_jobs)(\n",
    "        delayed(forecast_for_combination)(combo_key, combo_histories[combo_key], model, features, forecast_horizon)\n",
    "        for combo_key in tqdm(combo_histories.keys(), desc=\"Forecasting combinations\")\n",
    "    )\n",
    "\n",
    "    all_forecasts = [row for combo_result in results for row in combo_result]\n",
    "    return pd.DataFrame(all_forecasts)\n",
    "\n",
    "\n",
    "\n"
   ]
  },
  {
   "cell_type": "code",
   "execution_count": null,
   "id": "3ff5e5a4",
   "metadata": {},
   "outputs": [
    {
     "name": "stderr",
     "output_type": "stream",
     "text": [
      "Forecasting combinations: 100%|██████████| 5040/5040 [09:31<00:00,  8.81it/s]\n"
     ]
    }
   ],
   "source": [
    "features = ['month', 'day', 'day_num', 'Total Read', 'ZYIELD',\n",
    "            'brand_encoded', 'color_encoded', 'model_encoded',\n",
    "            'ship_to_name_encoded', 'Utilization Score', 'Total AMV',\n",
    "            ]\n",
    "\n",
    "forecast_df = recursive_forecast_line_count(df_util_group_special, model, features, forecast_horizon=30, n_jobs=4)\n"
   ]
  },
  {
   "cell_type": "code",
   "execution_count": 24,
   "id": "ff8e7fe1",
   "metadata": {},
   "outputs": [
    {
     "data": {
      "application/vnd.microsoft.datawrangler.viewer.v0+json": {
       "columns": [
        {
         "name": "index",
         "rawType": "int64",
         "type": "integer"
        },
        {
         "name": "Period month year",
         "rawType": "int64",
         "type": "integer"
        },
        {
         "name": "Created On",
         "rawType": "datetime64[ns]",
         "type": "datetime"
        },
        {
         "name": "Total AMV",
         "rawType": "float64",
         "type": "float"
        },
        {
         "name": "Total AMV (Avg)",
         "rawType": "float64",
         "type": "float"
        },
        {
         "name": "Days Since Creation",
         "rawType": "int64",
         "type": "integer"
        },
        {
         "name": "Color",
         "rawType": "object",
         "type": "string"
        },
        {
         "name": "Brand",
         "rawType": "object",
         "type": "string"
        },
        {
         "name": "Model (Attr)",
         "rawType": "object",
         "type": "unknown"
        },
        {
         "name": "Ship To Name",
         "rawType": "object",
         "type": "string"
        },
        {
         "name": "Serial Number",
         "rawType": "object",
         "type": "unknown"
        },
        {
         "name": "Total Read",
         "rawType": "float64",
         "type": "float"
        },
        {
         "name": "ZYIELD",
         "rawType": "float64",
         "type": "float"
        },
        {
         "name": "Line Count",
         "rawType": "int64",
         "type": "integer"
        },
        {
         "name": "month",
         "rawType": "int32",
         "type": "integer"
        },
        {
         "name": "day",
         "rawType": "int32",
         "type": "integer"
        },
        {
         "name": "day_num",
         "rawType": "int32",
         "type": "integer"
        },
        {
         "name": "Utilization Score",
         "rawType": "float64",
         "type": "float"
        }
       ],
       "ref": "9ad4563b-afea-4c0a-aa5f-18f1bf272f3c",
       "rows": [
        [
         "0",
         "202112",
         "2021-12-09 00:00:00",
         null,
         "0.0",
         "1329",
         "K",
         "KAY JEWELERS",
         "LXE460",
         "KAY JEWELERS 1401",
         "45145PHH2H80D",
         null,
         "3500.0",
         "1",
         "12",
         "9",
         "3",
         null
        ],
        [
         "1",
         "202112",
         "2021-12-13 00:00:00",
         null,
         "0.0",
         "1325",
         "C",
         "JARED",
         "HPPW556XH",
         "JARED 8590",
         "CN79BBK15H",
         null,
         "6000.0",
         "1",
         "12",
         "13",
         "0",
         null
        ],
        [
         "2",
         "202112",
         "2021-12-13 00:00:00",
         null,
         "0.0",
         "1325",
         "K",
         "JARED",
         "HPPW556XH",
         "JARED 8590",
         "CN79BBK15H",
         null,
         "6000.0",
         "1",
         "12",
         "13",
         "0",
         null
        ],
        [
         "3",
         "202112",
         "2021-12-13 00:00:00",
         null,
         "0.0",
         "1325",
         "M",
         "JARED",
         "HPPW556XH",
         "JARED 8590",
         "CN79BBK15H",
         null,
         "6000.0",
         "1",
         "12",
         "13",
         "0",
         null
        ],
        [
         "4",
         "202112",
         "2021-12-13 00:00:00",
         null,
         "0.0",
         "1325",
         "Y",
         "JARED",
         "HPPW556XH",
         "JARED 8590",
         "CN79BBK15H",
         null,
         "6000.0",
         "1",
         "12",
         "13",
         "0",
         null
        ],
        [
         "5",
         "202112",
         "2021-12-14 00:00:00",
         null,
         "0.0",
         "1324",
         "K",
         "JARED",
         "LXMX521",
         "JARED 2462",
         "701795230KRKC",
         null,
         "15000.0",
         "1",
         "12",
         "14",
         "1",
         null
        ],
        [
         "6",
         "202112",
         "2021-12-16 00:00:00",
         null,
         "0.0",
         "1322",
         "Unknown",
         "KAY JEWELERS",
         "LXE460",
         "KAY JEWELERS 1840",
         "72HN5ZT",
         null,
         null,
         "1",
         "12",
         "16",
         "3",
         null
        ],
        [
         "7",
         "202112",
         "2021-12-17 00:00:00",
         null,
         null,
         "1321",
         "K",
         "JARED",
         null,
         "JARED 4125",
         null,
         null,
         null,
         "1",
         "12",
         "17",
         "4",
         null
        ],
        [
         "8",
         "202112",
         "2021-12-20 00:00:00",
         null,
         "0.0",
         "1318",
         "K",
         "JARED",
         "LXMX521",
         "JARED 470",
         "701795230KRP2",
         null,
         "15000.0",
         "1",
         "12",
         "20",
         "0",
         null
        ],
        [
         "9",
         "202112",
         "2021-12-21 00:00:00",
         null,
         "0.0",
         "1317",
         "K",
         "KAY JEWELERS",
         "LXMX521",
         "KAY JEWELERS 4088",
         "701705130PG59",
         null,
         "15000.0",
         "1",
         "12",
         "21",
         "1",
         null
        ],
        [
         "10",
         "202112",
         "2021-12-21 00:00:00",
         null,
         "0.0",
         "1317",
         "K",
         "ZALES JEWELERS",
         "HPLJM130FW",
         "ZALES JEWELERS 429",
         "VNG3L06991",
         null,
         "1600.0",
         "1",
         "12",
         "21",
         "1",
         null
        ],
        [
         "11",
         "202112",
         "2021-12-22 00:00:00",
         null,
         "0.0",
         "1316",
         "K",
         "CPT NETWORK SOLUT",
         "BIZ4020I",
         "CPT NETWORK SOLUTIONS",
         "ACER011002851",
         null,
         "12000.0",
         "1",
         "12",
         "22",
         "2",
         null
        ],
        [
         "12",
         "202112",
         "2021-12-22 00:00:00",
         null,
         "0.0",
         "1316",
         "K",
         "PIERCING PAGODA",
         "HPLJM130FW",
         "PIERCING PAGODA 2552",
         "VND4M11123",
         null,
         "1600.0",
         "1",
         "12",
         "22",
         "2",
         null
        ],
        [
         "13",
         "202112",
         "2021-12-22 00:00:00",
         null,
         null,
         "1316",
         "Unknown",
         "PIERCING PAGODA",
         null,
         "PIERCING PAGODA 2552",
         null,
         null,
         null,
         "1",
         "12",
         "22",
         "2",
         null
        ],
        [
         "14",
         "202112",
         "2021-12-27 00:00:00",
         null,
         "0.0",
         "1311",
         "K",
         "JARED",
         "LXMX521",
         "JARED 2454",
         "701795230KTLR",
         null,
         "15000.0",
         "1",
         "12",
         "27",
         "0",
         null
        ],
        [
         "15",
         "202112",
         "2021-12-28 00:00:00",
         null,
         "0.0",
         "1310",
         "Unknown",
         "ZALES JEWELERS",
         "HPLJM428",
         "ZALES JEWELERS 1609",
         "MXBPMBT0WP",
         null,
         null,
         "1",
         "12",
         "28",
         "1",
         null
        ],
        [
         "16",
         "202112",
         "2021-12-30 00:00:00",
         null,
         "0.0",
         "1308",
         "K",
         "ZALES OUTLET",
         "HPLJM1212NF",
         "ZALES OUTLET 2798",
         "CNJ8F80CV6",
         null,
         "1600.0",
         "1",
         "12",
         "30",
         "3",
         null
        ],
        [
         "17",
         "202201",
         "2022-01-03 00:00:00",
         null,
         "0.0",
         "1304",
         "K",
         "CPT NETWORK SOLUT",
         "BIZ4020I",
         "CPT NETWORK SOLUTIONS",
         "ACER011002367",
         null,
         "12000.0",
         "1",
         "1",
         "3",
         "0",
         null
        ],
        [
         "18",
         "202201",
         "2022-01-03 00:00:00",
         null,
         "0.0",
         "1304",
         "K",
         "PIERCING PAGODA",
         "HPLJM1212NF",
         "PIERCING PAGODA 1227",
         "CNC9B9BSN3",
         null,
         "1600.0",
         "1",
         "1",
         "3",
         "0",
         null
        ],
        [
         "19",
         "202201",
         "2022-01-03 00:00:00",
         null,
         null,
         "1304",
         "Unknown",
         "PIERCING PAGOD",
         null,
         "PIERCING PAGODA 66",
         null,
         null,
         null,
         "1",
         "1",
         "3",
         "0",
         null
        ],
        [
         "20",
         "202201",
         "2022-01-05 00:00:00",
         null,
         null,
         "1302",
         "Unknown",
         "ZALES OUTLET",
         null,
         "ZALES OUTLET 2784",
         null,
         null,
         null,
         "1",
         "1",
         "5",
         "2",
         null
        ],
        [
         "21",
         "202201",
         "2022-01-06 00:00:00",
         null,
         "0.0",
         "1301",
         "K",
         "KAY JEWELERS",
         "LXE460",
         "KAY JEWELERS 242",
         "701705130PG4Y",
         null,
         "3500.0",
         "1",
         "1",
         "6",
         "3",
         null
        ],
        [
         "22",
         "202201",
         "2022-01-06 00:00:00",
         null,
         "0.0",
         "1301",
         "Unknown",
         "KAY JEWELERS",
         "LXMX521",
         "KAY JEWELERS 2815",
         "701704730P661",
         null,
         null,
         "1",
         "1",
         "6",
         "3",
         null
        ],
        [
         "23",
         "202201",
         "2022-01-12 00:00:00",
         null,
         "0.0",
         "1295",
         "K",
         "JARED",
         "LXMX521",
         "JARED 8376",
         "701700130L2CH",
         null,
         "15000.0",
         "1",
         "1",
         "12",
         "2",
         null
        ],
        [
         "24",
         "202201",
         "2022-01-12 00:00:00",
         null,
         null,
         "1295",
         "Unknown",
         "KAY JEWELERS",
         null,
         "KAY JEWELERS 1490",
         null,
         null,
         null,
         "1",
         "1",
         "12",
         "2",
         null
        ],
        [
         "25",
         "202201",
         "2022-01-13 00:00:00",
         null,
         "0.0",
         "1294",
         "K",
         "KAY JEWELERS",
         "LXE460",
         "KAY JEWELERS 1840",
         "72HN5ZT",
         null,
         "3500.0",
         "1",
         "1",
         "13",
         "3",
         null
        ],
        [
         "26",
         "202201",
         "2022-01-13 00:00:00",
         null,
         "0.0",
         "1294",
         "K",
         "PIERCING PAGODA",
         "HPLJM130FW",
         "PIERCING PAGODA 421",
         "VNG3L07002",
         null,
         "1600.0",
         "1",
         "1",
         "13",
         "3",
         null
        ],
        [
         "27",
         "202201",
         "2022-01-13 00:00:00",
         null,
         "0.0",
         "1294",
         "Unknown",
         "KAY JEWELERS",
         "LXMX521",
         "KAY JEWELERS 2815",
         "701704730P661",
         null,
         null,
         "1",
         "1",
         "13",
         "3",
         null
        ],
        [
         "28",
         "202201",
         "2022-01-14 00:00:00",
         null,
         "0.0",
         "1293",
         "K",
         "KAY JEWELERS",
         "LXE460",
         "KAY JEWELERS 2948",
         "72HGHXD",
         null,
         "3500.0",
         "1",
         "1",
         "14",
         "4",
         null
        ],
        [
         "29",
         "202201",
         "2022-01-17 00:00:00",
         null,
         null,
         "1290",
         "Unknown",
         "JARED",
         null,
         "JARED 8589",
         null,
         null,
         null,
         "5",
         "1",
         "17",
         "0",
         null
        ],
        [
         "30",
         "202201",
         "2022-01-19 00:00:00",
         null,
         "0.0",
         "1288",
         "K",
         "KAY JEWELERS",
         "LXX463DE",
         "KAY JEWELERS 672",
         "35PD838",
         null,
         "3500.0",
         "1",
         "1",
         "19",
         "2",
         null
        ],
        [
         "31",
         "202201",
         "2022-01-19 00:00:00",
         null,
         null,
         "1288",
         "Unknown",
         "KAY JEWELERS",
         null,
         "KAY JEWELERS 271",
         null,
         null,
         null,
         "2",
         "1",
         "19",
         "2",
         null
        ],
        [
         "32",
         "202201",
         "2022-01-20 00:00:00",
         null,
         null,
         "1287",
         "Unknown",
         "JARED",
         null,
         "JARED 8362",
         null,
         null,
         null,
         "5",
         "1",
         "20",
         "3",
         null
        ],
        [
         "33",
         "202201",
         "2022-01-20 00:00:00",
         null,
         null,
         "1287",
         "Unknown",
         "KAY JEWELERS",
         null,
         "KAY JEWELERS 8599",
         null,
         null,
         null,
         "5",
         "1",
         "20",
         "3",
         null
        ],
        [
         "34",
         "202201",
         "2022-01-25 00:00:00",
         null,
         "0.0",
         "1282",
         "K",
         "KAY JEWELERS",
         "LXES460DN",
         "KAY JEWELERS 1569",
         "72HHPKZ",
         null,
         "3500.0",
         "1",
         "1",
         "25",
         "1",
         null
        ],
        [
         "35",
         "202201",
         "2022-01-25 00:00:00",
         null,
         null,
         "1282",
         "Unknown",
         "JARED",
         null,
         "JARED 8594",
         null,
         null,
         null,
         "5",
         "1",
         "25",
         "1",
         null
        ],
        [
         "36",
         "202201",
         "2022-01-25 00:00:00",
         null,
         null,
         "1282",
         "Unknown",
         "ZALES OUTLET",
         null,
         "ZALES OUTLET 2915",
         null,
         null,
         null,
         "2",
         "1",
         "25",
         "1",
         null
        ],
        [
         "37",
         "202201",
         "2022-01-27 00:00:00",
         null,
         "0.0",
         "1280",
         "K",
         "KAY JEWELERS",
         "LXMX521",
         "KAY JEWELERS 2233",
         "701545HH0N4N6",
         null,
         "15000.0",
         "1",
         "1",
         "27",
         "3",
         null
        ],
        [
         "38",
         "202201",
         "2022-01-28 00:00:00",
         null,
         null,
         "1279",
         "Unknown",
         "JARED",
         null,
         "JARED 8984",
         null,
         null,
         null,
         "5",
         "1",
         "28",
         "4",
         null
        ],
        [
         "39",
         "202201",
         "2022-01-28 00:00:00",
         null,
         null,
         "1279",
         "Unknown",
         "KAY JEWELERS",
         null,
         "KAY JEWELERS 4174",
         null,
         null,
         null,
         "2",
         "1",
         "28",
         "4",
         null
        ],
        [
         "40",
         "202201",
         "2022-01-29 00:00:00",
         null,
         "0.0",
         "1278",
         "K",
         "JARED",
         "LXMX521",
         "JARED 492",
         "701795130KPNH",
         null,
         "15000.0",
         "1",
         "1",
         "29",
         "5",
         null
        ],
        [
         "41",
         "202201",
         "2022-01-31 00:00:00",
         null,
         "0.0",
         "1276",
         "K",
         "JARED",
         "LXMX521",
         "JARED 2552",
         "701795230KRLG",
         null,
         "15000.0",
         "1",
         "1",
         "31",
         "0",
         null
        ],
        [
         "42",
         "202201",
         "2022-01-31 00:00:00",
         null,
         "0.0",
         "1276",
         "K",
         "KAY JEWELERS",
         "BIZ4020I",
         "KAY JEWELERS 574",
         "ACER011002820",
         null,
         "12000.0",
         "1",
         "1",
         "31",
         "0",
         null
        ],
        [
         "43",
         "202201",
         "2022-01-31 00:00:00",
         null,
         null,
         "1276",
         "Unknown",
         "JARED",
         null,
         "JARED 9283",
         null,
         null,
         null,
         "5",
         "1",
         "31",
         "0",
         null
        ],
        [
         "44",
         "202202",
         "2022-02-01 00:00:00",
         null,
         "0.0",
         "1275",
         "K",
         "KAY JEWELERS",
         "BIZ4020I",
         "KAY JEWELERS 2124",
         "ACER011002851",
         null,
         "12000.0",
         "2",
         "2",
         "1",
         "1",
         null
        ],
        [
         "45",
         "202202",
         "2022-02-04 00:00:00",
         null,
         "0.0",
         "1272",
         "K",
         "KAY JEWELERS",
         "LXX463DE",
         "KAY JEWELERS 671",
         "701711140R4RX",
         null,
         "3500.0",
         "1",
         "2",
         "4",
         "4",
         null
        ],
        [
         "46",
         "202202",
         "2022-02-07 00:00:00",
         null,
         "0.0",
         "1269",
         "K",
         "KAY JEWELERS",
         "LXE460",
         "KAY JEWELERS 1840",
         "72HN5ZT",
         null,
         "3500.0",
         "1",
         "2",
         "7",
         "0",
         null
        ],
        [
         "47",
         "202202",
         "2022-02-07 00:00:00",
         null,
         null,
         "1269",
         "Unknown",
         "JARED",
         null,
         "JARED 8250",
         null,
         null,
         null,
         "5",
         "2",
         "7",
         "0",
         null
        ],
        [
         "48",
         "202202",
         "2022-02-09 00:00:00",
         null,
         "0.0",
         "1267",
         "K",
         "KAY JEWELERS",
         "LXMX521",
         "KAY JEWELERS 2815",
         "701704730P661",
         null,
         "15000.0",
         "1",
         "2",
         "9",
         "2",
         null
        ],
        [
         "49",
         "202202",
         "2022-02-15 00:00:00",
         null,
         "0.0",
         "1261",
         "K",
         "JARED",
         "LXMX521",
         "JARED 470",
         "701795230KRP2",
         null,
         "15000.0",
         "1",
         "2",
         "15",
         "1",
         null
        ]
       ],
       "shape": {
        "columns": 17,
        "rows": 37198
       }
      },
      "text/html": [
       "<div>\n",
       "<style scoped>\n",
       "    .dataframe tbody tr th:only-of-type {\n",
       "        vertical-align: middle;\n",
       "    }\n",
       "\n",
       "    .dataframe tbody tr th {\n",
       "        vertical-align: top;\n",
       "    }\n",
       "\n",
       "    .dataframe thead th {\n",
       "        text-align: right;\n",
       "    }\n",
       "</style>\n",
       "<table border=\"1\" class=\"dataframe\">\n",
       "  <thead>\n",
       "    <tr style=\"text-align: right;\">\n",
       "      <th></th>\n",
       "      <th>Period month year</th>\n",
       "      <th>Created On</th>\n",
       "      <th>Total AMV</th>\n",
       "      <th>Total AMV (Avg)</th>\n",
       "      <th>Days Since Creation</th>\n",
       "      <th>Color</th>\n",
       "      <th>Brand</th>\n",
       "      <th>Model (Attr)</th>\n",
       "      <th>Ship To Name</th>\n",
       "      <th>Serial Number</th>\n",
       "      <th>Total Read</th>\n",
       "      <th>ZYIELD</th>\n",
       "      <th>Line Count</th>\n",
       "      <th>month</th>\n",
       "      <th>day</th>\n",
       "      <th>day_num</th>\n",
       "      <th>Utilization Score</th>\n",
       "    </tr>\n",
       "  </thead>\n",
       "  <tbody>\n",
       "    <tr>\n",
       "      <th>0</th>\n",
       "      <td>202112</td>\n",
       "      <td>2021-12-09</td>\n",
       "      <td>NaN</td>\n",
       "      <td>0.0</td>\n",
       "      <td>1329</td>\n",
       "      <td>K</td>\n",
       "      <td>KAY JEWELERS</td>\n",
       "      <td>LXE460</td>\n",
       "      <td>KAY JEWELERS 1401</td>\n",
       "      <td>45145PHH2H80D</td>\n",
       "      <td>NaN</td>\n",
       "      <td>3500.0</td>\n",
       "      <td>1</td>\n",
       "      <td>12</td>\n",
       "      <td>9</td>\n",
       "      <td>3</td>\n",
       "      <td>NaN</td>\n",
       "    </tr>\n",
       "    <tr>\n",
       "      <th>1</th>\n",
       "      <td>202112</td>\n",
       "      <td>2021-12-13</td>\n",
       "      <td>NaN</td>\n",
       "      <td>0.0</td>\n",
       "      <td>1325</td>\n",
       "      <td>C</td>\n",
       "      <td>JARED</td>\n",
       "      <td>HPPW556XH</td>\n",
       "      <td>JARED 8590</td>\n",
       "      <td>CN79BBK15H</td>\n",
       "      <td>NaN</td>\n",
       "      <td>6000.0</td>\n",
       "      <td>1</td>\n",
       "      <td>12</td>\n",
       "      <td>13</td>\n",
       "      <td>0</td>\n",
       "      <td>NaN</td>\n",
       "    </tr>\n",
       "    <tr>\n",
       "      <th>2</th>\n",
       "      <td>202112</td>\n",
       "      <td>2021-12-13</td>\n",
       "      <td>NaN</td>\n",
       "      <td>0.0</td>\n",
       "      <td>1325</td>\n",
       "      <td>K</td>\n",
       "      <td>JARED</td>\n",
       "      <td>HPPW556XH</td>\n",
       "      <td>JARED 8590</td>\n",
       "      <td>CN79BBK15H</td>\n",
       "      <td>NaN</td>\n",
       "      <td>6000.0</td>\n",
       "      <td>1</td>\n",
       "      <td>12</td>\n",
       "      <td>13</td>\n",
       "      <td>0</td>\n",
       "      <td>NaN</td>\n",
       "    </tr>\n",
       "    <tr>\n",
       "      <th>3</th>\n",
       "      <td>202112</td>\n",
       "      <td>2021-12-13</td>\n",
       "      <td>NaN</td>\n",
       "      <td>0.0</td>\n",
       "      <td>1325</td>\n",
       "      <td>M</td>\n",
       "      <td>JARED</td>\n",
       "      <td>HPPW556XH</td>\n",
       "      <td>JARED 8590</td>\n",
       "      <td>CN79BBK15H</td>\n",
       "      <td>NaN</td>\n",
       "      <td>6000.0</td>\n",
       "      <td>1</td>\n",
       "      <td>12</td>\n",
       "      <td>13</td>\n",
       "      <td>0</td>\n",
       "      <td>NaN</td>\n",
       "    </tr>\n",
       "    <tr>\n",
       "      <th>4</th>\n",
       "      <td>202112</td>\n",
       "      <td>2021-12-13</td>\n",
       "      <td>NaN</td>\n",
       "      <td>0.0</td>\n",
       "      <td>1325</td>\n",
       "      <td>Y</td>\n",
       "      <td>JARED</td>\n",
       "      <td>HPPW556XH</td>\n",
       "      <td>JARED 8590</td>\n",
       "      <td>CN79BBK15H</td>\n",
       "      <td>NaN</td>\n",
       "      <td>6000.0</td>\n",
       "      <td>1</td>\n",
       "      <td>12</td>\n",
       "      <td>13</td>\n",
       "      <td>0</td>\n",
       "      <td>NaN</td>\n",
       "    </tr>\n",
       "    <tr>\n",
       "      <th>...</th>\n",
       "      <td>...</td>\n",
       "      <td>...</td>\n",
       "      <td>...</td>\n",
       "      <td>...</td>\n",
       "      <td>...</td>\n",
       "      <td>...</td>\n",
       "      <td>...</td>\n",
       "      <td>...</td>\n",
       "      <td>...</td>\n",
       "      <td>...</td>\n",
       "      <td>...</td>\n",
       "      <td>...</td>\n",
       "      <td>...</td>\n",
       "      <td>...</td>\n",
       "      <td>...</td>\n",
       "      <td>...</td>\n",
       "      <td>...</td>\n",
       "    </tr>\n",
       "    <tr>\n",
       "      <th>37193</th>\n",
       "      <td>202504</td>\n",
       "      <td>2025-04-29</td>\n",
       "      <td>4459.0</td>\n",
       "      <td>297.0</td>\n",
       "      <td>92</td>\n",
       "      <td>Y</td>\n",
       "      <td>ZALES JEWELERS</td>\n",
       "      <td>C3300I</td>\n",
       "      <td>ZALES JEWELERS 8602</td>\n",
       "      <td>AAJT011204569</td>\n",
       "      <td>0.0</td>\n",
       "      <td>9000.0</td>\n",
       "      <td>1</td>\n",
       "      <td>4</td>\n",
       "      <td>29</td>\n",
       "      <td>1</td>\n",
       "      <td>0.990889</td>\n",
       "    </tr>\n",
       "    <tr>\n",
       "      <th>37194</th>\n",
       "      <td>202504</td>\n",
       "      <td>2025-04-30</td>\n",
       "      <td>28544.0</td>\n",
       "      <td>1902.0</td>\n",
       "      <td>91</td>\n",
       "      <td>C</td>\n",
       "      <td>JARED REPAIR SHOP</td>\n",
       "      <td>C3300I</td>\n",
       "      <td>JARED REPAIR SHOP 9283</td>\n",
       "      <td>AAJT011205960</td>\n",
       "      <td>27984.0</td>\n",
       "      <td>9000.0</td>\n",
       "      <td>1</td>\n",
       "      <td>4</td>\n",
       "      <td>30</td>\n",
       "      <td>2</td>\n",
       "      <td>6.343111</td>\n",
       "    </tr>\n",
       "    <tr>\n",
       "      <th>37195</th>\n",
       "      <td>202504</td>\n",
       "      <td>2025-04-30</td>\n",
       "      <td>28544.0</td>\n",
       "      <td>1902.0</td>\n",
       "      <td>91</td>\n",
       "      <td>K</td>\n",
       "      <td>JARED REPAIR SHOP</td>\n",
       "      <td>C3300I</td>\n",
       "      <td>JARED REPAIR SHOP 9283</td>\n",
       "      <td>AAJT011205960</td>\n",
       "      <td>27984.0</td>\n",
       "      <td>13000.0</td>\n",
       "      <td>1</td>\n",
       "      <td>4</td>\n",
       "      <td>30</td>\n",
       "      <td>2</td>\n",
       "      <td>4.391385</td>\n",
       "    </tr>\n",
       "    <tr>\n",
       "      <th>37196</th>\n",
       "      <td>202504</td>\n",
       "      <td>2025-04-30</td>\n",
       "      <td>28544.0</td>\n",
       "      <td>1902.0</td>\n",
       "      <td>91</td>\n",
       "      <td>Unknown</td>\n",
       "      <td>JARED REPAIR SHOP</td>\n",
       "      <td>C3300I</td>\n",
       "      <td>JARED REPAIR SHOP 9283</td>\n",
       "      <td>AAJT011205960</td>\n",
       "      <td>27984.0</td>\n",
       "      <td>NaN</td>\n",
       "      <td>1</td>\n",
       "      <td>4</td>\n",
       "      <td>30</td>\n",
       "      <td>2</td>\n",
       "      <td>NaN</td>\n",
       "    </tr>\n",
       "    <tr>\n",
       "      <th>37197</th>\n",
       "      <td>202504</td>\n",
       "      <td>2025-04-30</td>\n",
       "      <td>NaN</td>\n",
       "      <td>NaN</td>\n",
       "      <td>91</td>\n",
       "      <td>Y</td>\n",
       "      <td>JARED REPAIR SHOP</td>\n",
       "      <td>NaN</td>\n",
       "      <td>JARED REPAIR SHOP 9283</td>\n",
       "      <td>NaN</td>\n",
       "      <td>NaN</td>\n",
       "      <td>NaN</td>\n",
       "      <td>1</td>\n",
       "      <td>4</td>\n",
       "      <td>30</td>\n",
       "      <td>2</td>\n",
       "      <td>NaN</td>\n",
       "    </tr>\n",
       "  </tbody>\n",
       "</table>\n",
       "<p>37198 rows × 17 columns</p>\n",
       "</div>"
      ],
      "text/plain": [
       "       Period month year Created On  Total AMV  Total AMV (Avg)  \\\n",
       "0                 202112 2021-12-09        NaN              0.0   \n",
       "1                 202112 2021-12-13        NaN              0.0   \n",
       "2                 202112 2021-12-13        NaN              0.0   \n",
       "3                 202112 2021-12-13        NaN              0.0   \n",
       "4                 202112 2021-12-13        NaN              0.0   \n",
       "...                  ...        ...        ...              ...   \n",
       "37193             202504 2025-04-29     4459.0            297.0   \n",
       "37194             202504 2025-04-30    28544.0           1902.0   \n",
       "37195             202504 2025-04-30    28544.0           1902.0   \n",
       "37196             202504 2025-04-30    28544.0           1902.0   \n",
       "37197             202504 2025-04-30        NaN              NaN   \n",
       "\n",
       "       Days Since Creation    Color              Brand Model (Attr)  \\\n",
       "0                     1329        K       KAY JEWELERS       LXE460   \n",
       "1                     1325        C              JARED    HPPW556XH   \n",
       "2                     1325        K              JARED    HPPW556XH   \n",
       "3                     1325        M              JARED    HPPW556XH   \n",
       "4                     1325        Y              JARED    HPPW556XH   \n",
       "...                    ...      ...                ...          ...   \n",
       "37193                   92        Y     ZALES JEWELERS       C3300I   \n",
       "37194                   91        C  JARED REPAIR SHOP       C3300I   \n",
       "37195                   91        K  JARED REPAIR SHOP       C3300I   \n",
       "37196                   91  Unknown  JARED REPAIR SHOP       C3300I   \n",
       "37197                   91        Y  JARED REPAIR SHOP          NaN   \n",
       "\n",
       "                 Ship To Name  Serial Number  Total Read   ZYIELD  Line Count  \\\n",
       "0           KAY JEWELERS 1401  45145PHH2H80D         NaN   3500.0           1   \n",
       "1                  JARED 8590     CN79BBK15H         NaN   6000.0           1   \n",
       "2                  JARED 8590     CN79BBK15H         NaN   6000.0           1   \n",
       "3                  JARED 8590     CN79BBK15H         NaN   6000.0           1   \n",
       "4                  JARED 8590     CN79BBK15H         NaN   6000.0           1   \n",
       "...                       ...            ...         ...      ...         ...   \n",
       "37193     ZALES JEWELERS 8602  AAJT011204569         0.0   9000.0           1   \n",
       "37194  JARED REPAIR SHOP 9283  AAJT011205960     27984.0   9000.0           1   \n",
       "37195  JARED REPAIR SHOP 9283  AAJT011205960     27984.0  13000.0           1   \n",
       "37196  JARED REPAIR SHOP 9283  AAJT011205960     27984.0      NaN           1   \n",
       "37197  JARED REPAIR SHOP 9283            NaN         NaN      NaN           1   \n",
       "\n",
       "       month  day  day_num  Utilization Score  \n",
       "0         12    9        3                NaN  \n",
       "1         12   13        0                NaN  \n",
       "2         12   13        0                NaN  \n",
       "3         12   13        0                NaN  \n",
       "4         12   13        0                NaN  \n",
       "...      ...  ...      ...                ...  \n",
       "37193      4   29        1           0.990889  \n",
       "37194      4   30        2           6.343111  \n",
       "37195      4   30        2           4.391385  \n",
       "37196      4   30        2                NaN  \n",
       "37197      4   30        2                NaN  \n",
       "\n",
       "[37198 rows x 17 columns]"
      ]
     },
     "execution_count": 24,
     "metadata": {},
     "output_type": "execute_result"
    }
   ],
   "source": [
    "df_Utilization"
   ]
  },
  {
   "cell_type": "code",
   "execution_count": 36,
   "id": "73c4b1bf",
   "metadata": {},
   "outputs": [],
   "source": [
    "forecast_df['Month'] = forecast_df['Created On'].dt.strftime(\"%Y-%m\")"
   ]
  },
  {
   "cell_type": "code",
   "execution_count": 30,
   "id": "13d82c0f",
   "metadata": {},
   "outputs": [],
   "source": [
    "forecast_df['Line Count Int'] = np.round(forecast_df['Line Count'], 0)"
   ]
  },
  {
   "cell_type": "code",
   "execution_count": 37,
   "id": "f2a4288e",
   "metadata": {},
   "outputs": [],
   "source": [
    "df_group = forecast_df[['Month', 'Ship To Name', 'Color', 'Line Count Int']].groupby(['Month', 'Ship To Name', 'Color',]).sum().reset_index()"
   ]
  },
  {
   "cell_type": "code",
   "execution_count": null,
   "id": "ce271aa3",
   "metadata": {},
   "outputs": [],
   "source": []
  },
  {
   "cell_type": "code",
   "execution_count": 38,
   "id": "e1440634",
   "metadata": {},
   "outputs": [
    {
     "data": {
      "application/vnd.plotly.v1+json": {
       "config": {
        "plotlyServerURL": "https://plot.ly"
       },
       "data": [
        {
         "hovertemplate": "Ship To Name=03765 BANTER BY PIERCING PAGODA<br>Color=K<br>Month=%{x}<br>Line Count Int=%{y}<extra></extra>",
         "legendgroup": "03765 BANTER BY PIERCING PAGODA",
         "marker": {
          "color": "#636efa",
          "pattern": {
           "shape": ""
          }
         },
         "name": "03765 BANTER BY PIERCING PAGODA",
         "orientation": "v",
         "showlegend": true,
         "textposition": "auto",
         "type": "bar",
         "x": [
          "2025-05"
         ],
         "xaxis": "x5",
         "y": {
          "bdata": "AAAAAAAA8D8=",
          "dtype": "f8"
         },
         "yaxis": "y5"
        },
        {
         "hovertemplate": "Ship To Name=BANTER BY PIERCING PAGODA 3719<br>Color=K<br>Month=%{x}<br>Line Count Int=%{y}<extra></extra>",
         "legendgroup": "BANTER BY PIERCING PAGODA 3719",
         "marker": {
          "color": "#EF553B",
          "pattern": {
           "shape": ""
          }
         },
         "name": "BANTER BY PIERCING PAGODA 3719",
         "orientation": "v",
         "showlegend": true,
         "textposition": "auto",
         "type": "bar",
         "x": [
          "2025-05"
         ],
         "xaxis": "x5",
         "y": {
          "bdata": "AAAAAAAACEA=",
          "dtype": "f8"
         },
         "yaxis": "y5"
        },
        {
         "hovertemplate": "Ship To Name=GORDONS JEWELERS 4415<br>Color=K<br>Month=%{x}<br>Line Count Int=%{y}<extra></extra>",
         "legendgroup": "GORDONS JEWELERS 4415",
         "marker": {
          "color": "#00cc96",
          "pattern": {
           "shape": ""
          }
         },
         "name": "GORDONS JEWELERS 4415",
         "orientation": "v",
         "showlegend": true,
         "textposition": "auto",
         "type": "bar",
         "x": [
          "2025-05"
         ],
         "xaxis": "x5",
         "y": {
          "bdata": "AAAAAAAAOUA=",
          "dtype": "f8"
         },
         "yaxis": "y5"
        },
        {
         "hovertemplate": "Ship To Name=JARED 2420<br>Color=K<br>Month=%{x}<br>Line Count Int=%{y}<extra></extra>",
         "legendgroup": "JARED 2420",
         "marker": {
          "color": "#ab63fa",
          "pattern": {
           "shape": ""
          }
         },
         "name": "JARED 2420",
         "orientation": "v",
         "showlegend": true,
         "textposition": "auto",
         "type": "bar",
         "x": [
          "2025-05"
         ],
         "xaxis": "x5",
         "y": {
          "bdata": "AAAAAAAAPUA=",
          "dtype": "f8"
         },
         "yaxis": "y5"
        },
        {
         "hovertemplate": "Ship To Name=JARED 2493<br>Color=K<br>Month=%{x}<br>Line Count Int=%{y}<extra></extra>",
         "legendgroup": "JARED 2493",
         "marker": {
          "color": "#FFA15A",
          "pattern": {
           "shape": ""
          }
         },
         "name": "JARED 2493",
         "orientation": "v",
         "showlegend": true,
         "textposition": "auto",
         "type": "bar",
         "x": [
          "2025-05"
         ],
         "xaxis": "x5",
         "y": {
          "bdata": "AAAAAAAANkA=",
          "dtype": "f8"
         },
         "yaxis": "y5"
        },
        {
         "hovertemplate": "Ship To Name=JARED 2500<br>Color=K<br>Month=%{x}<br>Line Count Int=%{y}<extra></extra>",
         "legendgroup": "JARED 2500",
         "marker": {
          "color": "#19d3f3",
          "pattern": {
           "shape": ""
          }
         },
         "name": "JARED 2500",
         "orientation": "v",
         "showlegend": true,
         "textposition": "auto",
         "type": "bar",
         "x": [
          "2025-05"
         ],
         "xaxis": "x5",
         "y": {
          "bdata": "AAAAAAAAOEA=",
          "dtype": "f8"
         },
         "yaxis": "y5"
        },
        {
         "hovertemplate": "Ship To Name=JARED 2513<br>Color=K<br>Month=%{x}<br>Line Count Int=%{y}<extra></extra>",
         "legendgroup": "JARED 2513",
         "marker": {
          "color": "#FF6692",
          "pattern": {
           "shape": ""
          }
         },
         "name": "JARED 2513",
         "orientation": "v",
         "showlegend": true,
         "textposition": "auto",
         "type": "bar",
         "x": [
          "2025-05"
         ],
         "xaxis": "x5",
         "y": {
          "bdata": "AAAAAAAAOUA=",
          "dtype": "f8"
         },
         "yaxis": "y5"
        },
        {
         "hovertemplate": "Ship To Name=JARED 2546<br>Color=K<br>Month=%{x}<br>Line Count Int=%{y}<extra></extra>",
         "legendgroup": "JARED 2546",
         "marker": {
          "color": "#B6E880",
          "pattern": {
           "shape": ""
          }
         },
         "name": "JARED 2546",
         "orientation": "v",
         "showlegend": true,
         "textposition": "auto",
         "type": "bar",
         "x": [
          "2025-05"
         ],
         "xaxis": "x5",
         "y": {
          "bdata": "AAAAAAAACEA=",
          "dtype": "f8"
         },
         "yaxis": "y5"
        },
        {
         "hovertemplate": "Ship To Name=JARED 2564<br>Color=K<br>Month=%{x}<br>Line Count Int=%{y}<extra></extra>",
         "legendgroup": "JARED 2564",
         "marker": {
          "color": "#FF97FF",
          "pattern": {
           "shape": ""
          }
         },
         "name": "JARED 2564",
         "orientation": "v",
         "showlegend": true,
         "textposition": "auto",
         "type": "bar",
         "x": [
          "2025-05"
         ],
         "xaxis": "x5",
         "y": {
          "bdata": "AAAAAAAAAEA=",
          "dtype": "f8"
         },
         "yaxis": "y5"
        },
        {
         "hovertemplate": "Ship To Name=JARED 2571<br>Color=K<br>Month=%{x}<br>Line Count Int=%{y}<extra></extra>",
         "legendgroup": "JARED 2571",
         "marker": {
          "color": "#FECB52",
          "pattern": {
           "shape": ""
          }
         },
         "name": "JARED 2571",
         "orientation": "v",
         "showlegend": true,
         "textposition": "auto",
         "type": "bar",
         "x": [
          "2025-05"
         ],
         "xaxis": "x5",
         "y": {
          "bdata": "AAAAAAAAIEA=",
          "dtype": "f8"
         },
         "yaxis": "y5"
        },
        {
         "hovertemplate": "Ship To Name=JARED 2574<br>Color=K<br>Month=%{x}<br>Line Count Int=%{y}<extra></extra>",
         "legendgroup": "JARED 2574",
         "marker": {
          "color": "#636efa",
          "pattern": {
           "shape": ""
          }
         },
         "name": "JARED 2574",
         "orientation": "v",
         "showlegend": true,
         "textposition": "auto",
         "type": "bar",
         "x": [
          "2025-05"
         ],
         "xaxis": "x5",
         "y": {
          "bdata": "AAAAAAAAPUA=",
          "dtype": "f8"
         },
         "yaxis": "y5"
        },
        {
         "hovertemplate": "Ship To Name=JARED 4210<br>Color=K<br>Month=%{x}<br>Line Count Int=%{y}<extra></extra>",
         "legendgroup": "JARED 4210",
         "marker": {
          "color": "#EF553B",
          "pattern": {
           "shape": ""
          }
         },
         "name": "JARED 4210",
         "orientation": "v",
         "showlegend": true,
         "textposition": "auto",
         "type": "bar",
         "x": [
          "2025-05"
         ],
         "xaxis": "x5",
         "y": {
          "bdata": "AAAAAAAAJEA=",
          "dtype": "f8"
         },
         "yaxis": "y5"
        },
        {
         "hovertemplate": "Ship To Name=JARED 436<br>Color=K<br>Month=%{x}<br>Line Count Int=%{y}<extra></extra>",
         "legendgroup": "JARED 436",
         "marker": {
          "color": "#00cc96",
          "pattern": {
           "shape": ""
          }
         },
         "name": "JARED 436",
         "orientation": "v",
         "showlegend": true,
         "textposition": "auto",
         "type": "bar",
         "x": [
          "2025-05"
         ],
         "xaxis": "x5",
         "y": {
          "bdata": "AAAAAAAAIkA=",
          "dtype": "f8"
         },
         "yaxis": "y5"
        },
        {
         "hovertemplate": "Ship To Name=JARED 441<br>Color=K<br>Month=%{x}<br>Line Count Int=%{y}<extra></extra>",
         "legendgroup": "JARED 441",
         "marker": {
          "color": "#ab63fa",
          "pattern": {
           "shape": ""
          }
         },
         "name": "JARED 441",
         "orientation": "v",
         "showlegend": true,
         "textposition": "auto",
         "type": "bar",
         "x": [
          "2025-05"
         ],
         "xaxis": "x5",
         "y": {
          "bdata": "AAAAAAAAEEA=",
          "dtype": "f8"
         },
         "yaxis": "y5"
        },
        {
         "hovertemplate": "Ship To Name=JARED 480<br>Color=K<br>Month=%{x}<br>Line Count Int=%{y}<extra></extra>",
         "legendgroup": "JARED 480",
         "marker": {
          "color": "#FFA15A",
          "pattern": {
           "shape": ""
          }
         },
         "name": "JARED 480",
         "orientation": "v",
         "showlegend": true,
         "textposition": "auto",
         "type": "bar",
         "x": [
          "2025-05"
         ],
         "xaxis": "x5",
         "y": {
          "bdata": "AAAAAAAAGEA=",
          "dtype": "f8"
         },
         "yaxis": "y5"
        },
        {
         "hovertemplate": "Ship To Name=JARED 490<br>Color=K<br>Month=%{x}<br>Line Count Int=%{y}<extra></extra>",
         "legendgroup": "JARED 490",
         "marker": {
          "color": "#19d3f3",
          "pattern": {
           "shape": ""
          }
         },
         "name": "JARED 490",
         "orientation": "v",
         "showlegend": true,
         "textposition": "auto",
         "type": "bar",
         "x": [
          "2025-05"
         ],
         "xaxis": "x5",
         "y": {
          "bdata": "AAAAAAAAJEA=",
          "dtype": "f8"
         },
         "yaxis": "y5"
        },
        {
         "hovertemplate": "Ship To Name=JARED 8254<br>Color=K<br>Month=%{x}<br>Line Count Int=%{y}<extra></extra>",
         "legendgroup": "JARED 8254",
         "marker": {
          "color": "#FF6692",
          "pattern": {
           "shape": ""
          }
         },
         "name": "JARED 8254",
         "orientation": "v",
         "showlegend": true,
         "textposition": "auto",
         "type": "bar",
         "x": [
          "2025-05"
         ],
         "xaxis": "x5",
         "y": {
          "bdata": "AAAAAAAAN0A=",
          "dtype": "f8"
         },
         "yaxis": "y5"
        },
        {
         "hovertemplate": "Ship To Name=JARED 8254<br>Color=C<br>Month=%{x}<br>Line Count Int=%{y}<extra></extra>",
         "legendgroup": "JARED 8254",
         "marker": {
          "color": "#FF6692",
          "pattern": {
           "shape": ""
          }
         },
         "name": "JARED 8254",
         "orientation": "v",
         "showlegend": false,
         "textposition": "auto",
         "type": "bar",
         "x": [
          "2025-05"
         ],
         "xaxis": "x4",
         "y": {
          "bdata": "AAAAAAAAN0A=",
          "dtype": "f8"
         },
         "yaxis": "y4"
        },
        {
         "hovertemplate": "Ship To Name=JARED 8254<br>Color=M<br>Month=%{x}<br>Line Count Int=%{y}<extra></extra>",
         "legendgroup": "JARED 8254",
         "marker": {
          "color": "#FF6692",
          "pattern": {
           "shape": ""
          }
         },
         "name": "JARED 8254",
         "orientation": "v",
         "showlegend": false,
         "textposition": "auto",
         "type": "bar",
         "x": [
          "2025-05"
         ],
         "xaxis": "x3",
         "y": {
          "bdata": "AAAAAAAAN0A=",
          "dtype": "f8"
         },
         "yaxis": "y3"
        },
        {
         "hovertemplate": "Ship To Name=JARED 8254<br>Color=Unknown<br>Month=%{x}<br>Line Count Int=%{y}<extra></extra>",
         "legendgroup": "JARED 8254",
         "marker": {
          "color": "#FF6692",
          "pattern": {
           "shape": ""
          }
         },
         "name": "JARED 8254",
         "orientation": "v",
         "showlegend": false,
         "textposition": "auto",
         "type": "bar",
         "x": [
          "2025-05"
         ],
         "xaxis": "x2",
         "y": {
          "bdata": "AAAAAAAARkA=",
          "dtype": "f8"
         },
         "yaxis": "y2"
        },
        {
         "hovertemplate": "Ship To Name=JARED 8254<br>Color=Y<br>Month=%{x}<br>Line Count Int=%{y}<extra></extra>",
         "legendgroup": "JARED 8254",
         "marker": {
          "color": "#FF6692",
          "pattern": {
           "shape": ""
          }
         },
         "name": "JARED 8254",
         "orientation": "v",
         "showlegend": false,
         "textposition": "auto",
         "type": "bar",
         "x": [
          "2025-05"
         ],
         "xaxis": "x",
         "y": {
          "bdata": "AAAAAAAAN0A=",
          "dtype": "f8"
         },
         "yaxis": "y"
        },
        {
         "hovertemplate": "Ship To Name=JARED 8255<br>Color=Y<br>Month=%{x}<br>Line Count Int=%{y}<extra></extra>",
         "legendgroup": "JARED 8255",
         "marker": {
          "color": "#B6E880",
          "pattern": {
           "shape": ""
          }
         },
         "name": "JARED 8255",
         "orientation": "v",
         "showlegend": true,
         "textposition": "auto",
         "type": "bar",
         "x": [
          "2025-05"
         ],
         "xaxis": "x",
         "y": {
          "bdata": "AAAAAAAAJEA=",
          "dtype": "f8"
         },
         "yaxis": "y"
        },
        {
         "hovertemplate": "Ship To Name=JARED 8258<br>Color=C<br>Month=%{x}<br>Line Count Int=%{y}<extra></extra>",
         "legendgroup": "JARED 8258",
         "marker": {
          "color": "#FF97FF",
          "pattern": {
           "shape": ""
          }
         },
         "name": "JARED 8258",
         "orientation": "v",
         "showlegend": true,
         "textposition": "auto",
         "type": "bar",
         "x": [
          "2025-05"
         ],
         "xaxis": "x4",
         "y": {
          "bdata": "AAAAAAAA8D8=",
          "dtype": "f8"
         },
         "yaxis": "y4"
        },
        {
         "hovertemplate": "Ship To Name=JARED 8263<br>Color=K<br>Month=%{x}<br>Line Count Int=%{y}<extra></extra>",
         "legendgroup": "JARED 8263",
         "marker": {
          "color": "#FECB52",
          "pattern": {
           "shape": ""
          }
         },
         "name": "JARED 8263",
         "orientation": "v",
         "showlegend": true,
         "textposition": "auto",
         "type": "bar",
         "x": [
          "2025-05"
         ],
         "xaxis": "x5",
         "y": {
          "bdata": "AAAAAAAA8D8=",
          "dtype": "f8"
         },
         "yaxis": "y5"
        },
        {
         "hovertemplate": "Ship To Name=JARED 8263<br>Color=Unknown<br>Month=%{x}<br>Line Count Int=%{y}<extra></extra>",
         "legendgroup": "JARED 8263",
         "marker": {
          "color": "#FECB52",
          "pattern": {
           "shape": ""
          }
         },
         "name": "JARED 8263",
         "orientation": "v",
         "showlegend": false,
         "textposition": "auto",
         "type": "bar",
         "x": [
          "2025-05"
         ],
         "xaxis": "x2",
         "y": {
          "bdata": "AAAAAAAAAEA=",
          "dtype": "f8"
         },
         "yaxis": "y2"
        },
        {
         "hovertemplate": "Ship To Name=JARED 8267<br>Color=K<br>Month=%{x}<br>Line Count Int=%{y}<extra></extra>",
         "legendgroup": "JARED 8267",
         "marker": {
          "color": "#636efa",
          "pattern": {
           "shape": ""
          }
         },
         "name": "JARED 8267",
         "orientation": "v",
         "showlegend": true,
         "textposition": "auto",
         "type": "bar",
         "x": [
          "2025-05"
         ],
         "xaxis": "x5",
         "y": {
          "bdata": "AAAAAAAACEA=",
          "dtype": "f8"
         },
         "yaxis": "y5"
        },
        {
         "hovertemplate": "Ship To Name=JARED 8271<br>Color=K<br>Month=%{x}<br>Line Count Int=%{y}<extra></extra>",
         "legendgroup": "JARED 8271",
         "marker": {
          "color": "#EF553B",
          "pattern": {
           "shape": ""
          }
         },
         "name": "JARED 8271",
         "orientation": "v",
         "showlegend": true,
         "textposition": "auto",
         "type": "bar",
         "x": [
          "2025-05"
         ],
         "xaxis": "x5",
         "y": {
          "bdata": "AAAAAAAALkA=",
          "dtype": "f8"
         },
         "yaxis": "y5"
        },
        {
         "hovertemplate": "Ship To Name=JARED 8271<br>Color=C<br>Month=%{x}<br>Line Count Int=%{y}<extra></extra>",
         "legendgroup": "JARED 8271",
         "marker": {
          "color": "#EF553B",
          "pattern": {
           "shape": ""
          }
         },
         "name": "JARED 8271",
         "orientation": "v",
         "showlegend": false,
         "textposition": "auto",
         "type": "bar",
         "x": [
          "2025-05"
         ],
         "xaxis": "x4",
         "y": {
          "bdata": "AAAAAAAALkA=",
          "dtype": "f8"
         },
         "yaxis": "y4"
        },
        {
         "hovertemplate": "Ship To Name=JARED 8271<br>Color=M<br>Month=%{x}<br>Line Count Int=%{y}<extra></extra>",
         "legendgroup": "JARED 8271",
         "marker": {
          "color": "#EF553B",
          "pattern": {
           "shape": ""
          }
         },
         "name": "JARED 8271",
         "orientation": "v",
         "showlegend": false,
         "textposition": "auto",
         "type": "bar",
         "x": [
          "2025-05"
         ],
         "xaxis": "x3",
         "y": {
          "bdata": "AAAAAAAALkA=",
          "dtype": "f8"
         },
         "yaxis": "y3"
        },
        {
         "hovertemplate": "Ship To Name=JARED 8271<br>Color=Unknown<br>Month=%{x}<br>Line Count Int=%{y}<extra></extra>",
         "legendgroup": "JARED 8271",
         "marker": {
          "color": "#EF553B",
          "pattern": {
           "shape": ""
          }
         },
         "name": "JARED 8271",
         "orientation": "v",
         "showlegend": false,
         "textposition": "auto",
         "type": "bar",
         "x": [
          "2025-05"
         ],
         "xaxis": "x2",
         "y": {
          "bdata": "AAAAAAAALEA=",
          "dtype": "f8"
         },
         "yaxis": "y2"
        },
        {
         "hovertemplate": "Ship To Name=JARED 8271<br>Color=Y<br>Month=%{x}<br>Line Count Int=%{y}<extra></extra>",
         "legendgroup": "JARED 8271",
         "marker": {
          "color": "#EF553B",
          "pattern": {
           "shape": ""
          }
         },
         "name": "JARED 8271",
         "orientation": "v",
         "showlegend": false,
         "textposition": "auto",
         "type": "bar",
         "x": [
          "2025-05"
         ],
         "xaxis": "x",
         "y": {
          "bdata": "AAAAAAAALkA=",
          "dtype": "f8"
         },
         "yaxis": "y"
        },
        {
         "hovertemplate": "Ship To Name=JARED 8277<br>Color=K<br>Month=%{x}<br>Line Count Int=%{y}<extra></extra>",
         "legendgroup": "JARED 8277",
         "marker": {
          "color": "#00cc96",
          "pattern": {
           "shape": ""
          }
         },
         "name": "JARED 8277",
         "orientation": "v",
         "showlegend": true,
         "textposition": "auto",
         "type": "bar",
         "x": [
          "2025-05"
         ],
         "xaxis": "x5",
         "y": {
          "bdata": "AAAAAAAAM0A=",
          "dtype": "f8"
         },
         "yaxis": "y5"
        },
        {
         "hovertemplate": "Ship To Name=JARED 8277<br>Color=C<br>Month=%{x}<br>Line Count Int=%{y}<extra></extra>",
         "legendgroup": "JARED 8277",
         "marker": {
          "color": "#00cc96",
          "pattern": {
           "shape": ""
          }
         },
         "name": "JARED 8277",
         "orientation": "v",
         "showlegend": false,
         "textposition": "auto",
         "type": "bar",
         "x": [
          "2025-05"
         ],
         "xaxis": "x4",
         "y": {
          "bdata": "AAAAAAAANUA=",
          "dtype": "f8"
         },
         "yaxis": "y4"
        },
        {
         "hovertemplate": "Ship To Name=JARED 8277<br>Color=M<br>Month=%{x}<br>Line Count Int=%{y}<extra></extra>",
         "legendgroup": "JARED 8277",
         "marker": {
          "color": "#00cc96",
          "pattern": {
           "shape": ""
          }
         },
         "name": "JARED 8277",
         "orientation": "v",
         "showlegend": false,
         "textposition": "auto",
         "type": "bar",
         "x": [
          "2025-05"
         ],
         "xaxis": "x3",
         "y": {
          "bdata": "AAAAAAAANUA=",
          "dtype": "f8"
         },
         "yaxis": "y3"
        },
        {
         "hovertemplate": "Ship To Name=JARED 8277<br>Color=Y<br>Month=%{x}<br>Line Count Int=%{y}<extra></extra>",
         "legendgroup": "JARED 8277",
         "marker": {
          "color": "#00cc96",
          "pattern": {
           "shape": ""
          }
         },
         "name": "JARED 8277",
         "orientation": "v",
         "showlegend": false,
         "textposition": "auto",
         "type": "bar",
         "x": [
          "2025-05"
         ],
         "xaxis": "x",
         "y": {
          "bdata": "AAAAAAAANUA=",
          "dtype": "f8"
         },
         "yaxis": "y"
        },
        {
         "hovertemplate": "Ship To Name=JARED 8278<br>Color=M<br>Month=%{x}<br>Line Count Int=%{y}<extra></extra>",
         "legendgroup": "JARED 8278",
         "marker": {
          "color": "#ab63fa",
          "pattern": {
           "shape": ""
          }
         },
         "name": "JARED 8278",
         "orientation": "v",
         "showlegend": true,
         "textposition": "auto",
         "type": "bar",
         "x": [
          "2025-05"
         ],
         "xaxis": "x3",
         "y": {
          "bdata": "AAAAAAAALEA=",
          "dtype": "f8"
         },
         "yaxis": "y3"
        },
        {
         "hovertemplate": "Ship To Name=JARED 8278<br>Color=Unknown<br>Month=%{x}<br>Line Count Int=%{y}<extra></extra>",
         "legendgroup": "JARED 8278",
         "marker": {
          "color": "#ab63fa",
          "pattern": {
           "shape": ""
          }
         },
         "name": "JARED 8278",
         "orientation": "v",
         "showlegend": false,
         "textposition": "auto",
         "type": "bar",
         "x": [
          "2025-05"
         ],
         "xaxis": "x2",
         "y": {
          "bdata": "AAAAAAAAPEA=",
          "dtype": "f8"
         },
         "yaxis": "y2"
        },
        {
         "hovertemplate": "Ship To Name=JARED 8279<br>Color=K<br>Month=%{x}<br>Line Count Int=%{y}<extra></extra>",
         "legendgroup": "JARED 8279",
         "marker": {
          "color": "#FFA15A",
          "pattern": {
           "shape": ""
          }
         },
         "name": "JARED 8279",
         "orientation": "v",
         "showlegend": true,
         "textposition": "auto",
         "type": "bar",
         "x": [
          "2025-05"
         ],
         "xaxis": "x5",
         "y": {
          "bdata": "AAAAAAAANkA=",
          "dtype": "f8"
         },
         "yaxis": "y5"
        },
        {
         "hovertemplate": "Ship To Name=JARED 8321<br>Color=K<br>Month=%{x}<br>Line Count Int=%{y}<extra></extra>",
         "legendgroup": "JARED 8321",
         "marker": {
          "color": "#19d3f3",
          "pattern": {
           "shape": ""
          }
         },
         "name": "JARED 8321",
         "orientation": "v",
         "showlegend": true,
         "textposition": "auto",
         "type": "bar",
         "x": [
          "2025-05"
         ],
         "xaxis": "x5",
         "y": {
          "bdata": "AAAAAAAAOEA=",
          "dtype": "f8"
         },
         "yaxis": "y5"
        },
        {
         "hovertemplate": "Ship To Name=JARED 8321<br>Color=C<br>Month=%{x}<br>Line Count Int=%{y}<extra></extra>",
         "legendgroup": "JARED 8321",
         "marker": {
          "color": "#19d3f3",
          "pattern": {
           "shape": ""
          }
         },
         "name": "JARED 8321",
         "orientation": "v",
         "showlegend": false,
         "textposition": "auto",
         "type": "bar",
         "x": [
          "2025-05"
         ],
         "xaxis": "x4",
         "y": {
          "bdata": "AAAAAAAAOEA=",
          "dtype": "f8"
         },
         "yaxis": "y4"
        },
        {
         "hovertemplate": "Ship To Name=JARED 8321<br>Color=M<br>Month=%{x}<br>Line Count Int=%{y}<extra></extra>",
         "legendgroup": "JARED 8321",
         "marker": {
          "color": "#19d3f3",
          "pattern": {
           "shape": ""
          }
         },
         "name": "JARED 8321",
         "orientation": "v",
         "showlegend": false,
         "textposition": "auto",
         "type": "bar",
         "x": [
          "2025-05"
         ],
         "xaxis": "x3",
         "y": {
          "bdata": "AAAAAAAAOEA=",
          "dtype": "f8"
         },
         "yaxis": "y3"
        },
        {
         "hovertemplate": "Ship To Name=JARED 8321<br>Color=Y<br>Month=%{x}<br>Line Count Int=%{y}<extra></extra>",
         "legendgroup": "JARED 8321",
         "marker": {
          "color": "#19d3f3",
          "pattern": {
           "shape": ""
          }
         },
         "name": "JARED 8321",
         "orientation": "v",
         "showlegend": false,
         "textposition": "auto",
         "type": "bar",
         "x": [
          "2025-05"
         ],
         "xaxis": "x",
         "y": {
          "bdata": "AAAAAAAAOEA=",
          "dtype": "f8"
         },
         "yaxis": "y"
        },
        {
         "hovertemplate": "Ship To Name=JARED 8363<br>Color=Unknown<br>Month=%{x}<br>Line Count Int=%{y}<extra></extra>",
         "legendgroup": "JARED 8363",
         "marker": {
          "color": "#FF6692",
          "pattern": {
           "shape": ""
          }
         },
         "name": "JARED 8363",
         "orientation": "v",
         "showlegend": true,
         "textposition": "auto",
         "type": "bar",
         "x": [
          "2025-05"
         ],
         "xaxis": "x2",
         "y": {
          "bdata": "AAAAAAAAAEA=",
          "dtype": "f8"
         },
         "yaxis": "y2"
        },
        {
         "hovertemplate": "Ship To Name=JARED 8364<br>Color=K<br>Month=%{x}<br>Line Count Int=%{y}<extra></extra>",
         "legendgroup": "JARED 8364",
         "marker": {
          "color": "#B6E880",
          "pattern": {
           "shape": ""
          }
         },
         "name": "JARED 8364",
         "orientation": "v",
         "showlegend": true,
         "textposition": "auto",
         "type": "bar",
         "x": [
          "2025-05"
         ],
         "xaxis": "x5",
         "y": {
          "bdata": "AAAAAAAAEEA=",
          "dtype": "f8"
         },
         "yaxis": "y5"
        },
        {
         "hovertemplate": "Ship To Name=JARED 8364<br>Color=C<br>Month=%{x}<br>Line Count Int=%{y}<extra></extra>",
         "legendgroup": "JARED 8364",
         "marker": {
          "color": "#B6E880",
          "pattern": {
           "shape": ""
          }
         },
         "name": "JARED 8364",
         "orientation": "v",
         "showlegend": false,
         "textposition": "auto",
         "type": "bar",
         "x": [
          "2025-05"
         ],
         "xaxis": "x4",
         "y": {
          "bdata": "AAAAAAAAEEA=",
          "dtype": "f8"
         },
         "yaxis": "y4"
        },
        {
         "hovertemplate": "Ship To Name=JARED 8364<br>Color=M<br>Month=%{x}<br>Line Count Int=%{y}<extra></extra>",
         "legendgroup": "JARED 8364",
         "marker": {
          "color": "#B6E880",
          "pattern": {
           "shape": ""
          }
         },
         "name": "JARED 8364",
         "orientation": "v",
         "showlegend": false,
         "textposition": "auto",
         "type": "bar",
         "x": [
          "2025-05"
         ],
         "xaxis": "x3",
         "y": {
          "bdata": "AAAAAAAACEA=",
          "dtype": "f8"
         },
         "yaxis": "y3"
        },
        {
         "hovertemplate": "Ship To Name=JARED 8364<br>Color=Y<br>Month=%{x}<br>Line Count Int=%{y}<extra></extra>",
         "legendgroup": "JARED 8364",
         "marker": {
          "color": "#B6E880",
          "pattern": {
           "shape": ""
          }
         },
         "name": "JARED 8364",
         "orientation": "v",
         "showlegend": false,
         "textposition": "auto",
         "type": "bar",
         "x": [
          "2025-05"
         ],
         "xaxis": "x",
         "y": {
          "bdata": "AAAAAAAA8D8=",
          "dtype": "f8"
         },
         "yaxis": "y"
        },
        {
         "hovertemplate": "Ship To Name=JARED 8365<br>Color=K<br>Month=%{x}<br>Line Count Int=%{y}<extra></extra>",
         "legendgroup": "JARED 8365",
         "marker": {
          "color": "#FF97FF",
          "pattern": {
           "shape": ""
          }
         },
         "name": "JARED 8365",
         "orientation": "v",
         "showlegend": true,
         "textposition": "auto",
         "type": "bar",
         "x": [
          "2025-05"
         ],
         "xaxis": "x5",
         "y": {
          "bdata": "AAAAAAAAIEA=",
          "dtype": "f8"
         },
         "yaxis": "y5"
        },
        {
         "hovertemplate": "Ship To Name=JARED 8372<br>Color=K<br>Month=%{x}<br>Line Count Int=%{y}<extra></extra>",
         "legendgroup": "JARED 8372",
         "marker": {
          "color": "#FECB52",
          "pattern": {
           "shape": ""
          }
         },
         "name": "JARED 8372",
         "orientation": "v",
         "showlegend": true,
         "textposition": "auto",
         "type": "bar",
         "x": [
          "2025-05"
         ],
         "xaxis": "x5",
         "y": {
          "bdata": "AAAAAAAACEA=",
          "dtype": "f8"
         },
         "yaxis": "y5"
        },
        {
         "hovertemplate": "Ship To Name=JARED 8372<br>Color=C<br>Month=%{x}<br>Line Count Int=%{y}<extra></extra>",
         "legendgroup": "JARED 8372",
         "marker": {
          "color": "#FECB52",
          "pattern": {
           "shape": ""
          }
         },
         "name": "JARED 8372",
         "orientation": "v",
         "showlegend": false,
         "textposition": "auto",
         "type": "bar",
         "x": [
          "2025-05"
         ],
         "xaxis": "x4",
         "y": {
          "bdata": "AAAAAAAACEA=",
          "dtype": "f8"
         },
         "yaxis": "y4"
        },
        {
         "hovertemplate": "Ship To Name=JARED 8373<br>Color=C<br>Month=%{x}<br>Line Count Int=%{y}<extra></extra>",
         "legendgroup": "JARED 8373",
         "marker": {
          "color": "#636efa",
          "pattern": {
           "shape": ""
          }
         },
         "name": "JARED 8373",
         "orientation": "v",
         "showlegend": true,
         "textposition": "auto",
         "type": "bar",
         "x": [
          "2025-05"
         ],
         "xaxis": "x4",
         "y": {
          "bdata": "AAAAAAAAPUA=",
          "dtype": "f8"
         },
         "yaxis": "y4"
        },
        {
         "hovertemplate": "Ship To Name=JARED 8375<br>Color=K<br>Month=%{x}<br>Line Count Int=%{y}<extra></extra>",
         "legendgroup": "JARED 8375",
         "marker": {
          "color": "#EF553B",
          "pattern": {
           "shape": ""
          }
         },
         "name": "JARED 8375",
         "orientation": "v",
         "showlegend": true,
         "textposition": "auto",
         "type": "bar",
         "x": [
          "2025-05"
         ],
         "xaxis": "x5",
         "y": {
          "bdata": "AAAAAAAAPUA=",
          "dtype": "f8"
         },
         "yaxis": "y5"
        },
        {
         "hovertemplate": "Ship To Name=JARED 8375<br>Color=C<br>Month=%{x}<br>Line Count Int=%{y}<extra></extra>",
         "legendgroup": "JARED 8375",
         "marker": {
          "color": "#EF553B",
          "pattern": {
           "shape": ""
          }
         },
         "name": "JARED 8375",
         "orientation": "v",
         "showlegend": false,
         "textposition": "auto",
         "type": "bar",
         "x": [
          "2025-05"
         ],
         "xaxis": "x4",
         "y": {
          "bdata": "AAAAAAAAPUA=",
          "dtype": "f8"
         },
         "yaxis": "y4"
        },
        {
         "hovertemplate": "Ship To Name=JARED 8383<br>Color=Y<br>Month=%{x}<br>Line Count Int=%{y}<extra></extra>",
         "legendgroup": "JARED 8383",
         "marker": {
          "color": "#00cc96",
          "pattern": {
           "shape": ""
          }
         },
         "name": "JARED 8383",
         "orientation": "v",
         "showlegend": true,
         "textposition": "auto",
         "type": "bar",
         "x": [
          "2025-05"
         ],
         "xaxis": "x",
         "y": {
          "bdata": "AAAAAAAAPUA=",
          "dtype": "f8"
         },
         "yaxis": "y"
        },
        {
         "hovertemplate": "Ship To Name=JARED 8385<br>Color=K<br>Month=%{x}<br>Line Count Int=%{y}<extra></extra>",
         "legendgroup": "JARED 8385",
         "marker": {
          "color": "#ab63fa",
          "pattern": {
           "shape": ""
          }
         },
         "name": "JARED 8385",
         "orientation": "v",
         "showlegend": true,
         "textposition": "auto",
         "type": "bar",
         "x": [
          "2025-05"
         ],
         "xaxis": "x5",
         "y": {
          "bdata": "AAAAAAAAPUA=",
          "dtype": "f8"
         },
         "yaxis": "y5"
        },
        {
         "hovertemplate": "Ship To Name=JARED 8386<br>Color=Y<br>Month=%{x}<br>Line Count Int=%{y}<extra></extra>",
         "legendgroup": "JARED 8386",
         "marker": {
          "color": "#FFA15A",
          "pattern": {
           "shape": ""
          }
         },
         "name": "JARED 8386",
         "orientation": "v",
         "showlegend": true,
         "textposition": "auto",
         "type": "bar",
         "x": [
          "2025-05"
         ],
         "xaxis": "x",
         "y": {
          "bdata": "AAAAAAAACEA=",
          "dtype": "f8"
         },
         "yaxis": "y"
        },
        {
         "hovertemplate": "Ship To Name=JARED 8393<br>Color=Y<br>Month=%{x}<br>Line Count Int=%{y}<extra></extra>",
         "legendgroup": "JARED 8393",
         "marker": {
          "color": "#19d3f3",
          "pattern": {
           "shape": ""
          }
         },
         "name": "JARED 8393",
         "orientation": "v",
         "showlegend": true,
         "textposition": "auto",
         "type": "bar",
         "x": [
          "2025-05"
         ],
         "xaxis": "x",
         "y": {
          "bdata": "AAAAAAAAMUA=",
          "dtype": "f8"
         },
         "yaxis": "y"
        },
        {
         "hovertemplate": "Ship To Name=JARED 8396<br>Color=C<br>Month=%{x}<br>Line Count Int=%{y}<extra></extra>",
         "legendgroup": "JARED 8396",
         "marker": {
          "color": "#FF6692",
          "pattern": {
           "shape": ""
          }
         },
         "name": "JARED 8396",
         "orientation": "v",
         "showlegend": true,
         "textposition": "auto",
         "type": "bar",
         "x": [
          "2025-05"
         ],
         "xaxis": "x4",
         "y": {
          "bdata": "AAAAAAAAPUA=",
          "dtype": "f8"
         },
         "yaxis": "y4"
        },
        {
         "hovertemplate": "Ship To Name=JARED 8406<br>Color=Unknown<br>Month=%{x}<br>Line Count Int=%{y}<extra></extra>",
         "legendgroup": "JARED 8406",
         "marker": {
          "color": "#B6E880",
          "pattern": {
           "shape": ""
          }
         },
         "name": "JARED 8406",
         "orientation": "v",
         "showlegend": true,
         "textposition": "auto",
         "type": "bar",
         "x": [
          "2025-05"
         ],
         "xaxis": "x2",
         "y": {
          "bdata": "AAAAAAAAIEA=",
          "dtype": "f8"
         },
         "yaxis": "y2"
        },
        {
         "hovertemplate": "Ship To Name=JARED 8408<br>Color=K<br>Month=%{x}<br>Line Count Int=%{y}<extra></extra>",
         "legendgroup": "JARED 8408",
         "marker": {
          "color": "#FF97FF",
          "pattern": {
           "shape": ""
          }
         },
         "name": "JARED 8408",
         "orientation": "v",
         "showlegend": true,
         "textposition": "auto",
         "type": "bar",
         "x": [
          "2025-05"
         ],
         "xaxis": "x5",
         "y": {
          "bdata": "AAAAAAAACEA=",
          "dtype": "f8"
         },
         "yaxis": "y5"
        },
        {
         "hovertemplate": "Ship To Name=JARED 8418<br>Color=M<br>Month=%{x}<br>Line Count Int=%{y}<extra></extra>",
         "legendgroup": "JARED 8418",
         "marker": {
          "color": "#FECB52",
          "pattern": {
           "shape": ""
          }
         },
         "name": "JARED 8418",
         "orientation": "v",
         "showlegend": true,
         "textposition": "auto",
         "type": "bar",
         "x": [
          "2025-05"
         ],
         "xaxis": "x3",
         "y": {
          "bdata": "AAAAAAAANkA=",
          "dtype": "f8"
         },
         "yaxis": "y3"
        },
        {
         "hovertemplate": "Ship To Name=JARED 8428<br>Color=C<br>Month=%{x}<br>Line Count Int=%{y}<extra></extra>",
         "legendgroup": "JARED 8428",
         "marker": {
          "color": "#636efa",
          "pattern": {
           "shape": ""
          }
         },
         "name": "JARED 8428",
         "orientation": "v",
         "showlegend": true,
         "textposition": "auto",
         "type": "bar",
         "x": [
          "2025-05"
         ],
         "xaxis": "x4",
         "y": {
          "bdata": "AAAAAAAAPUA=",
          "dtype": "f8"
         },
         "yaxis": "y4"
        },
        {
         "hovertemplate": "Ship To Name=JARED 8428<br>Color=Y<br>Month=%{x}<br>Line Count Int=%{y}<extra></extra>",
         "legendgroup": "JARED 8428",
         "marker": {
          "color": "#636efa",
          "pattern": {
           "shape": ""
          }
         },
         "name": "JARED 8428",
         "orientation": "v",
         "showlegend": false,
         "textposition": "auto",
         "type": "bar",
         "x": [
          "2025-05"
         ],
         "xaxis": "x",
         "y": {
          "bdata": "AAAAAAAAPUA=",
          "dtype": "f8"
         },
         "yaxis": "y"
        },
        {
         "hovertemplate": "Ship To Name=JARED 8430<br>Color=C<br>Month=%{x}<br>Line Count Int=%{y}<extra></extra>",
         "legendgroup": "JARED 8430",
         "marker": {
          "color": "#EF553B",
          "pattern": {
           "shape": ""
          }
         },
         "name": "JARED 8430",
         "orientation": "v",
         "showlegend": true,
         "textposition": "auto",
         "type": "bar",
         "x": [
          "2025-05"
         ],
         "xaxis": "x4",
         "y": {
          "bdata": "AAAAAAAAPUA=",
          "dtype": "f8"
         },
         "yaxis": "y4"
        },
        {
         "hovertemplate": "Ship To Name=JARED 8430<br>Color=M<br>Month=%{x}<br>Line Count Int=%{y}<extra></extra>",
         "legendgroup": "JARED 8430",
         "marker": {
          "color": "#EF553B",
          "pattern": {
           "shape": ""
          }
         },
         "name": "JARED 8430",
         "orientation": "v",
         "showlegend": false,
         "textposition": "auto",
         "type": "bar",
         "x": [
          "2025-05"
         ],
         "xaxis": "x3",
         "y": {
          "bdata": "AAAAAAAAPUA=",
          "dtype": "f8"
         },
         "yaxis": "y3"
        },
        {
         "hovertemplate": "Ship To Name=JARED 8430<br>Color=Unknown<br>Month=%{x}<br>Line Count Int=%{y}<extra></extra>",
         "legendgroup": "JARED 8430",
         "marker": {
          "color": "#EF553B",
          "pattern": {
           "shape": ""
          }
         },
         "name": "JARED 8430",
         "orientation": "v",
         "showlegend": false,
         "textposition": "auto",
         "type": "bar",
         "x": [
          "2025-05"
         ],
         "xaxis": "x2",
         "y": {
          "bdata": "AAAAAAAATUA=",
          "dtype": "f8"
         },
         "yaxis": "y2"
        },
        {
         "hovertemplate": "Ship To Name=JARED 8434<br>Color=K<br>Month=%{x}<br>Line Count Int=%{y}<extra></extra>",
         "legendgroup": "JARED 8434",
         "marker": {
          "color": "#00cc96",
          "pattern": {
           "shape": ""
          }
         },
         "name": "JARED 8434",
         "orientation": "v",
         "showlegend": true,
         "textposition": "auto",
         "type": "bar",
         "x": [
          "2025-05"
         ],
         "xaxis": "x5",
         "y": {
          "bdata": "AAAAAAAAMUA=",
          "dtype": "f8"
         },
         "yaxis": "y5"
        },
        {
         "hovertemplate": "Ship To Name=JARED 8447<br>Color=C<br>Month=%{x}<br>Line Count Int=%{y}<extra></extra>",
         "legendgroup": "JARED 8447",
         "marker": {
          "color": "#ab63fa",
          "pattern": {
           "shape": ""
          }
         },
         "name": "JARED 8447",
         "orientation": "v",
         "showlegend": true,
         "textposition": "auto",
         "type": "bar",
         "x": [
          "2025-05"
         ],
         "xaxis": "x4",
         "y": {
          "bdata": "AAAAAAAA8D8=",
          "dtype": "f8"
         },
         "yaxis": "y4"
        },
        {
         "hovertemplate": "Ship To Name=JARED 8447<br>Color=Y<br>Month=%{x}<br>Line Count Int=%{y}<extra></extra>",
         "legendgroup": "JARED 8447",
         "marker": {
          "color": "#ab63fa",
          "pattern": {
           "shape": ""
          }
         },
         "name": "JARED 8447",
         "orientation": "v",
         "showlegend": false,
         "textposition": "auto",
         "type": "bar",
         "x": [
          "2025-05"
         ],
         "xaxis": "x",
         "y": {
          "bdata": "AAAAAAAAIEA=",
          "dtype": "f8"
         },
         "yaxis": "y"
        },
        {
         "hovertemplate": "Ship To Name=JARED 8448<br>Color=Unknown<br>Month=%{x}<br>Line Count Int=%{y}<extra></extra>",
         "legendgroup": "JARED 8448",
         "marker": {
          "color": "#FFA15A",
          "pattern": {
           "shape": ""
          }
         },
         "name": "JARED 8448",
         "orientation": "v",
         "showlegend": true,
         "textposition": "auto",
         "type": "bar",
         "x": [
          "2025-05"
         ],
         "xaxis": "x2",
         "y": {
          "bdata": "AAAAAACAREA=",
          "dtype": "f8"
         },
         "yaxis": "y2"
        },
        {
         "hovertemplate": "Ship To Name=JARED 8450<br>Color=K<br>Month=%{x}<br>Line Count Int=%{y}<extra></extra>",
         "legendgroup": "JARED 8450",
         "marker": {
          "color": "#19d3f3",
          "pattern": {
           "shape": ""
          }
         },
         "name": "JARED 8450",
         "orientation": "v",
         "showlegend": true,
         "textposition": "auto",
         "type": "bar",
         "x": [
          "2025-05"
         ],
         "xaxis": "x5",
         "y": {
          "bdata": "AAAAAAAAPEA=",
          "dtype": "f8"
         },
         "yaxis": "y5"
        },
        {
         "hovertemplate": "Ship To Name=JARED 8456<br>Color=M<br>Month=%{x}<br>Line Count Int=%{y}<extra></extra>",
         "legendgroup": "JARED 8456",
         "marker": {
          "color": "#FF6692",
          "pattern": {
           "shape": ""
          }
         },
         "name": "JARED 8456",
         "orientation": "v",
         "showlegend": true,
         "textposition": "auto",
         "type": "bar",
         "x": [
          "2025-05"
         ],
         "xaxis": "x3",
         "y": {
          "bdata": "AAAAAAAA8D8=",
          "dtype": "f8"
         },
         "yaxis": "y3"
        },
        {
         "hovertemplate": "Ship To Name=JARED 8456<br>Color=Unknown<br>Month=%{x}<br>Line Count Int=%{y}<extra></extra>",
         "legendgroup": "JARED 8456",
         "marker": {
          "color": "#FF6692",
          "pattern": {
           "shape": ""
          }
         },
         "name": "JARED 8456",
         "orientation": "v",
         "showlegend": false,
         "textposition": "auto",
         "type": "bar",
         "x": [
          "2025-05"
         ],
         "xaxis": "x2",
         "y": {
          "bdata": "AAAAAAAAQEA=",
          "dtype": "f8"
         },
         "yaxis": "y2"
        },
        {
         "hovertemplate": "Ship To Name=JARED 8548<br>Color=K<br>Month=%{x}<br>Line Count Int=%{y}<extra></extra>",
         "legendgroup": "JARED 8548",
         "marker": {
          "color": "#B6E880",
          "pattern": {
           "shape": ""
          }
         },
         "name": "JARED 8548",
         "orientation": "v",
         "showlegend": true,
         "textposition": "auto",
         "type": "bar",
         "x": [
          "2025-05"
         ],
         "xaxis": "x5",
         "y": {
          "bdata": "AAAAAAAAPUA=",
          "dtype": "f8"
         },
         "yaxis": "y5"
        },
        {
         "hovertemplate": "Ship To Name=JARED 8548<br>Color=C<br>Month=%{x}<br>Line Count Int=%{y}<extra></extra>",
         "legendgroup": "JARED 8548",
         "marker": {
          "color": "#B6E880",
          "pattern": {
           "shape": ""
          }
         },
         "name": "JARED 8548",
         "orientation": "v",
         "showlegend": false,
         "textposition": "auto",
         "type": "bar",
         "x": [
          "2025-05"
         ],
         "xaxis": "x4",
         "y": {
          "bdata": "AAAAAAAAPUA=",
          "dtype": "f8"
         },
         "yaxis": "y4"
        },
        {
         "hovertemplate": "Ship To Name=JARED 8548<br>Color=M<br>Month=%{x}<br>Line Count Int=%{y}<extra></extra>",
         "legendgroup": "JARED 8548",
         "marker": {
          "color": "#B6E880",
          "pattern": {
           "shape": ""
          }
         },
         "name": "JARED 8548",
         "orientation": "v",
         "showlegend": false,
         "textposition": "auto",
         "type": "bar",
         "x": [
          "2025-05"
         ],
         "xaxis": "x3",
         "y": {
          "bdata": "AAAAAAAAPUA=",
          "dtype": "f8"
         },
         "yaxis": "y3"
        },
        {
         "hovertemplate": "Ship To Name=JARED 8548<br>Color=Y<br>Month=%{x}<br>Line Count Int=%{y}<extra></extra>",
         "legendgroup": "JARED 8548",
         "marker": {
          "color": "#B6E880",
          "pattern": {
           "shape": ""
          }
         },
         "name": "JARED 8548",
         "orientation": "v",
         "showlegend": false,
         "textposition": "auto",
         "type": "bar",
         "x": [
          "2025-05"
         ],
         "xaxis": "x",
         "y": {
          "bdata": "AAAAAAAAPUA=",
          "dtype": "f8"
         },
         "yaxis": "y"
        },
        {
         "hovertemplate": "Ship To Name=JARED 8562<br>Color=M<br>Month=%{x}<br>Line Count Int=%{y}<extra></extra>",
         "legendgroup": "JARED 8562",
         "marker": {
          "color": "#FF97FF",
          "pattern": {
           "shape": ""
          }
         },
         "name": "JARED 8562",
         "orientation": "v",
         "showlegend": true,
         "textposition": "auto",
         "type": "bar",
         "x": [
          "2025-05"
         ],
         "xaxis": "x3",
         "y": {
          "bdata": "AAAAAAAAMUA=",
          "dtype": "f8"
         },
         "yaxis": "y3"
        },
        {
         "hovertemplate": "Ship To Name=JARED 8565<br>Color=K<br>Month=%{x}<br>Line Count Int=%{y}<extra></extra>",
         "legendgroup": "JARED 8565",
         "marker": {
          "color": "#FECB52",
          "pattern": {
           "shape": ""
          }
         },
         "name": "JARED 8565",
         "orientation": "v",
         "showlegend": true,
         "textposition": "auto",
         "type": "bar",
         "x": [
          "2025-05"
         ],
         "xaxis": "x5",
         "y": {
          "bdata": "AAAAAAAAIEA=",
          "dtype": "f8"
         },
         "yaxis": "y5"
        },
        {
         "hovertemplate": "Ship To Name=JARED 8566<br>Color=K<br>Month=%{x}<br>Line Count Int=%{y}<extra></extra>",
         "legendgroup": "JARED 8566",
         "marker": {
          "color": "#636efa",
          "pattern": {
           "shape": ""
          }
         },
         "name": "JARED 8566",
         "orientation": "v",
         "showlegend": true,
         "textposition": "auto",
         "type": "bar",
         "x": [
          "2025-05"
         ],
         "xaxis": "x5",
         "y": {
          "bdata": "AAAAAAAA8D8=",
          "dtype": "f8"
         },
         "yaxis": "y5"
        },
        {
         "hovertemplate": "Ship To Name=JARED 8566<br>Color=C<br>Month=%{x}<br>Line Count Int=%{y}<extra></extra>",
         "legendgroup": "JARED 8566",
         "marker": {
          "color": "#636efa",
          "pattern": {
           "shape": ""
          }
         },
         "name": "JARED 8566",
         "orientation": "v",
         "showlegend": false,
         "textposition": "auto",
         "type": "bar",
         "x": [
          "2025-05"
         ],
         "xaxis": "x4",
         "y": {
          "bdata": "AAAAAAAA8D8=",
          "dtype": "f8"
         },
         "yaxis": "y4"
        },
        {
         "hovertemplate": "Ship To Name=JARED 8566<br>Color=M<br>Month=%{x}<br>Line Count Int=%{y}<extra></extra>",
         "legendgroup": "JARED 8566",
         "marker": {
          "color": "#636efa",
          "pattern": {
           "shape": ""
          }
         },
         "name": "JARED 8566",
         "orientation": "v",
         "showlegend": false,
         "textposition": "auto",
         "type": "bar",
         "x": [
          "2025-05"
         ],
         "xaxis": "x3",
         "y": {
          "bdata": "AAAAAAAAIEA=",
          "dtype": "f8"
         },
         "yaxis": "y3"
        },
        {
         "hovertemplate": "Ship To Name=JARED 8566<br>Color=Unknown<br>Month=%{x}<br>Line Count Int=%{y}<extra></extra>",
         "legendgroup": "JARED 8566",
         "marker": {
          "color": "#636efa",
          "pattern": {
           "shape": ""
          }
         },
         "name": "JARED 8566",
         "orientation": "v",
         "showlegend": false,
         "textposition": "auto",
         "type": "bar",
         "x": [
          "2025-05"
         ],
         "xaxis": "x2",
         "y": {
          "bdata": "AAAAAAAAR0A=",
          "dtype": "f8"
         },
         "yaxis": "y2"
        },
        {
         "hovertemplate": "Ship To Name=JARED 8590<br>Color=C<br>Month=%{x}<br>Line Count Int=%{y}<extra></extra>",
         "legendgroup": "JARED 8590",
         "marker": {
          "color": "#EF553B",
          "pattern": {
           "shape": ""
          }
         },
         "name": "JARED 8590",
         "orientation": "v",
         "showlegend": true,
         "textposition": "auto",
         "type": "bar",
         "x": [
          "2025-05"
         ],
         "xaxis": "x4",
         "y": {
          "bdata": "AAAAAAAANkA=",
          "dtype": "f8"
         },
         "yaxis": "y4"
        },
        {
         "hovertemplate": "Ship To Name=JARED 8590<br>Color=M<br>Month=%{x}<br>Line Count Int=%{y}<extra></extra>",
         "legendgroup": "JARED 8590",
         "marker": {
          "color": "#EF553B",
          "pattern": {
           "shape": ""
          }
         },
         "name": "JARED 8590",
         "orientation": "v",
         "showlegend": false,
         "textposition": "auto",
         "type": "bar",
         "x": [
          "2025-05"
         ],
         "xaxis": "x3",
         "y": {
          "bdata": "AAAAAAAANkA=",
          "dtype": "f8"
         },
         "yaxis": "y3"
        },
        {
         "hovertemplate": "Ship To Name=JARED 8591<br>Color=K<br>Month=%{x}<br>Line Count Int=%{y}<extra></extra>",
         "legendgroup": "JARED 8591",
         "marker": {
          "color": "#00cc96",
          "pattern": {
           "shape": ""
          }
         },
         "name": "JARED 8591",
         "orientation": "v",
         "showlegend": true,
         "textposition": "auto",
         "type": "bar",
         "x": [
          "2025-05"
         ],
         "xaxis": "x5",
         "y": {
          "bdata": "AAAAAAAAEEA=",
          "dtype": "f8"
         },
         "yaxis": "y5"
        },
        {
         "hovertemplate": "Ship To Name=JARED 8591<br>Color=C<br>Month=%{x}<br>Line Count Int=%{y}<extra></extra>",
         "legendgroup": "JARED 8591",
         "marker": {
          "color": "#00cc96",
          "pattern": {
           "shape": ""
          }
         },
         "name": "JARED 8591",
         "orientation": "v",
         "showlegend": false,
         "textposition": "auto",
         "type": "bar",
         "x": [
          "2025-05"
         ],
         "xaxis": "x4",
         "y": {
          "bdata": "AAAAAAAAEEA=",
          "dtype": "f8"
         },
         "yaxis": "y4"
        },
        {
         "hovertemplate": "Ship To Name=JARED 8591<br>Color=M<br>Month=%{x}<br>Line Count Int=%{y}<extra></extra>",
         "legendgroup": "JARED 8591",
         "marker": {
          "color": "#00cc96",
          "pattern": {
           "shape": ""
          }
         },
         "name": "JARED 8591",
         "orientation": "v",
         "showlegend": false,
         "textposition": "auto",
         "type": "bar",
         "x": [
          "2025-05"
         ],
         "xaxis": "x3",
         "y": {
          "bdata": "AAAAAAAAEEA=",
          "dtype": "f8"
         },
         "yaxis": "y3"
        },
        {
         "hovertemplate": "Ship To Name=JARED 8591<br>Color=Y<br>Month=%{x}<br>Line Count Int=%{y}<extra></extra>",
         "legendgroup": "JARED 8591",
         "marker": {
          "color": "#00cc96",
          "pattern": {
           "shape": ""
          }
         },
         "name": "JARED 8591",
         "orientation": "v",
         "showlegend": false,
         "textposition": "auto",
         "type": "bar",
         "x": [
          "2025-05"
         ],
         "xaxis": "x",
         "y": {
          "bdata": "AAAAAAAAEEA=",
          "dtype": "f8"
         },
         "yaxis": "y"
        },
        {
         "hovertemplate": "Ship To Name=JARED 8593<br>Color=K<br>Month=%{x}<br>Line Count Int=%{y}<extra></extra>",
         "legendgroup": "JARED 8593",
         "marker": {
          "color": "#ab63fa",
          "pattern": {
           "shape": ""
          }
         },
         "name": "JARED 8593",
         "orientation": "v",
         "showlegend": true,
         "textposition": "auto",
         "type": "bar",
         "x": [
          "2025-05"
         ],
         "xaxis": "x5",
         "y": {
          "bdata": "AAAAAAAALEA=",
          "dtype": "f8"
         },
         "yaxis": "y5"
        },
        {
         "hovertemplate": "Ship To Name=JARED 8593<br>Color=C<br>Month=%{x}<br>Line Count Int=%{y}<extra></extra>",
         "legendgroup": "JARED 8593",
         "marker": {
          "color": "#ab63fa",
          "pattern": {
           "shape": ""
          }
         },
         "name": "JARED 8593",
         "orientation": "v",
         "showlegend": false,
         "textposition": "auto",
         "type": "bar",
         "x": [
          "2025-05"
         ],
         "xaxis": "x4",
         "y": {
          "bdata": "AAAAAAAALEA=",
          "dtype": "f8"
         },
         "yaxis": "y4"
        },
        {
         "hovertemplate": "Ship To Name=JARED 8593<br>Color=M<br>Month=%{x}<br>Line Count Int=%{y}<extra></extra>",
         "legendgroup": "JARED 8593",
         "marker": {
          "color": "#ab63fa",
          "pattern": {
           "shape": ""
          }
         },
         "name": "JARED 8593",
         "orientation": "v",
         "showlegend": false,
         "textposition": "auto",
         "type": "bar",
         "x": [
          "2025-05"
         ],
         "xaxis": "x3",
         "y": {
          "bdata": "AAAAAAAALEA=",
          "dtype": "f8"
         },
         "yaxis": "y3"
        },
        {
         "hovertemplate": "Ship To Name=JARED 8593<br>Color=Y<br>Month=%{x}<br>Line Count Int=%{y}<extra></extra>",
         "legendgroup": "JARED 8593",
         "marker": {
          "color": "#ab63fa",
          "pattern": {
           "shape": ""
          }
         },
         "name": "JARED 8593",
         "orientation": "v",
         "showlegend": false,
         "textposition": "auto",
         "type": "bar",
         "x": [
          "2025-05"
         ],
         "xaxis": "x",
         "y": {
          "bdata": "AAAAAAAALEA=",
          "dtype": "f8"
         },
         "yaxis": "y"
        },
        {
         "hovertemplate": "Ship To Name=JARED 9090<br>Color=C<br>Month=%{x}<br>Line Count Int=%{y}<extra></extra>",
         "legendgroup": "JARED 9090",
         "marker": {
          "color": "#FFA15A",
          "pattern": {
           "shape": ""
          }
         },
         "name": "JARED 9090",
         "orientation": "v",
         "showlegend": true,
         "textposition": "auto",
         "type": "bar",
         "x": [
          "2025-05"
         ],
         "xaxis": "x4",
         "y": {
          "bdata": "AAAAAAAAPUA=",
          "dtype": "f8"
         },
         "yaxis": "y4"
        },
        {
         "hovertemplate": "Ship To Name=JARED 9095<br>Color=M<br>Month=%{x}<br>Line Count Int=%{y}<extra></extra>",
         "legendgroup": "JARED 9095",
         "marker": {
          "color": "#19d3f3",
          "pattern": {
           "shape": ""
          }
         },
         "name": "JARED 9095",
         "orientation": "v",
         "showlegend": true,
         "textposition": "auto",
         "type": "bar",
         "x": [
          "2025-05"
         ],
         "xaxis": "x3",
         "y": {
          "bdata": "AAAAAAAANkA=",
          "dtype": "f8"
         },
         "yaxis": "y3"
        },
        {
         "hovertemplate": "Ship To Name=JARED 9237<br>Color=K<br>Month=%{x}<br>Line Count Int=%{y}<extra></extra>",
         "legendgroup": "JARED 9237",
         "marker": {
          "color": "#FF6692",
          "pattern": {
           "shape": ""
          }
         },
         "name": "JARED 9237",
         "orientation": "v",
         "showlegend": true,
         "textposition": "auto",
         "type": "bar",
         "x": [
          "2025-05"
         ],
         "xaxis": "x5",
         "y": {
          "bdata": "AAAAAAAANkA=",
          "dtype": "f8"
         },
         "yaxis": "y5"
        },
        {
         "hovertemplate": "Ship To Name=JARED 9275<br>Color=M<br>Month=%{x}<br>Line Count Int=%{y}<extra></extra>",
         "legendgroup": "JARED 9275",
         "marker": {
          "color": "#B6E880",
          "pattern": {
           "shape": ""
          }
         },
         "name": "JARED 9275",
         "orientation": "v",
         "showlegend": true,
         "textposition": "auto",
         "type": "bar",
         "x": [
          "2025-05"
         ],
         "xaxis": "x3",
         "y": {
          "bdata": "AAAAAAAA8D8=",
          "dtype": "f8"
         },
         "yaxis": "y3"
        },
        {
         "hovertemplate": "Ship To Name=JARED 9293<br>Color=K<br>Month=%{x}<br>Line Count Int=%{y}<extra></extra>",
         "legendgroup": "JARED 9293",
         "marker": {
          "color": "#FF97FF",
          "pattern": {
           "shape": ""
          }
         },
         "name": "JARED 9293",
         "orientation": "v",
         "showlegend": true,
         "textposition": "auto",
         "type": "bar",
         "x": [
          "2025-05"
         ],
         "xaxis": "x5",
         "y": {
          "bdata": "AAAAAAAAIEA=",
          "dtype": "f8"
         },
         "yaxis": "y5"
        },
        {
         "hovertemplate": "Ship To Name=JARED GALLERIA OF JEWELERY 2544<br>Color=K<br>Month=%{x}<br>Line Count Int=%{y}<extra></extra>",
         "legendgroup": "JARED GALLERIA OF JEWELERY 2544",
         "marker": {
          "color": "#FECB52",
          "pattern": {
           "shape": ""
          }
         },
         "name": "JARED GALLERIA OF JEWELERY 2544",
         "orientation": "v",
         "showlegend": true,
         "textposition": "auto",
         "type": "bar",
         "x": [
          "2025-05"
         ],
         "xaxis": "x5",
         "y": {
          "bdata": "AAAAAAAAPUA=",
          "dtype": "f8"
         },
         "yaxis": "y5"
        },
        {
         "hovertemplate": "Ship To Name=JARED REPAIR SHOP 2513<br>Color=Unknown<br>Month=%{x}<br>Line Count Int=%{y}<extra></extra>",
         "legendgroup": "JARED REPAIR SHOP 2513",
         "marker": {
          "color": "#636efa",
          "pattern": {
           "shape": ""
          }
         },
         "name": "JARED REPAIR SHOP 2513",
         "orientation": "v",
         "showlegend": true,
         "textposition": "auto",
         "type": "bar",
         "x": [
          "2025-05"
         ],
         "xaxis": "x2",
         "y": {
          "bdata": "AAAAAAAANEA=",
          "dtype": "f8"
         },
         "yaxis": "y2"
        },
        {
         "hovertemplate": "Ship To Name=JARED REPAIR SHOP 8235<br>Color=K<br>Month=%{x}<br>Line Count Int=%{y}<extra></extra>",
         "legendgroup": "JARED REPAIR SHOP 8235",
         "marker": {
          "color": "#EF553B",
          "pattern": {
           "shape": ""
          }
         },
         "name": "JARED REPAIR SHOP 8235",
         "orientation": "v",
         "showlegend": true,
         "textposition": "auto",
         "type": "bar",
         "x": [
          "2025-05"
         ],
         "xaxis": "x5",
         "y": {
          "bdata": "AAAAAAAAIEA=",
          "dtype": "f8"
         },
         "yaxis": "y5"
        },
        {
         "hovertemplate": "Ship To Name=JARED REPAIR SHOP 8247<br>Color=C<br>Month=%{x}<br>Line Count Int=%{y}<extra></extra>",
         "legendgroup": "JARED REPAIR SHOP 8247",
         "marker": {
          "color": "#00cc96",
          "pattern": {
           "shape": ""
          }
         },
         "name": "JARED REPAIR SHOP 8247",
         "orientation": "v",
         "showlegend": true,
         "textposition": "auto",
         "type": "bar",
         "x": [
          "2025-05"
         ],
         "xaxis": "x4",
         "y": {
          "bdata": "AAAAAAAAAEA=",
          "dtype": "f8"
         },
         "yaxis": "y4"
        },
        {
         "hovertemplate": "Ship To Name=JARED REPAIR SHOP 8247<br>Color=M<br>Month=%{x}<br>Line Count Int=%{y}<extra></extra>",
         "legendgroup": "JARED REPAIR SHOP 8247",
         "marker": {
          "color": "#00cc96",
          "pattern": {
           "shape": ""
          }
         },
         "name": "JARED REPAIR SHOP 8247",
         "orientation": "v",
         "showlegend": false,
         "textposition": "auto",
         "type": "bar",
         "x": [
          "2025-05"
         ],
         "xaxis": "x3",
         "y": {
          "bdata": "AAAAAAAAAEA=",
          "dtype": "f8"
         },
         "yaxis": "y3"
        },
        {
         "hovertemplate": "Ship To Name=JARED REPAIR SHOP 8247<br>Color=Unknown<br>Month=%{x}<br>Line Count Int=%{y}<extra></extra>",
         "legendgroup": "JARED REPAIR SHOP 8247",
         "marker": {
          "color": "#00cc96",
          "pattern": {
           "shape": ""
          }
         },
         "name": "JARED REPAIR SHOP 8247",
         "orientation": "v",
         "showlegend": false,
         "textposition": "auto",
         "type": "bar",
         "x": [
          "2025-05"
         ],
         "xaxis": "x2",
         "y": {
          "bdata": "AAAAAAAAEEA=",
          "dtype": "f8"
         },
         "yaxis": "y2"
        },
        {
         "hovertemplate": "Ship To Name=JARED REPAIR SHOP 8282<br>Color=K<br>Month=%{x}<br>Line Count Int=%{y}<extra></extra>",
         "legendgroup": "JARED REPAIR SHOP 8282",
         "marker": {
          "color": "#ab63fa",
          "pattern": {
           "shape": ""
          }
         },
         "name": "JARED REPAIR SHOP 8282",
         "orientation": "v",
         "showlegend": true,
         "textposition": "auto",
         "type": "bar",
         "x": [
          "2025-05"
         ],
         "xaxis": "x5",
         "y": {
          "bdata": "AAAAAAAAPUA=",
          "dtype": "f8"
         },
         "yaxis": "y5"
        },
        {
         "hovertemplate": "Ship To Name=JARED REPAIR SHOP 8392<br>Color=K<br>Month=%{x}<br>Line Count Int=%{y}<extra></extra>",
         "legendgroup": "JARED REPAIR SHOP 8392",
         "marker": {
          "color": "#FFA15A",
          "pattern": {
           "shape": ""
          }
         },
         "name": "JARED REPAIR SHOP 8392",
         "orientation": "v",
         "showlegend": true,
         "textposition": "auto",
         "type": "bar",
         "x": [
          "2025-05"
         ],
         "xaxis": "x5",
         "y": {
          "bdata": "AAAAAAAALkA=",
          "dtype": "f8"
         },
         "yaxis": "y5"
        },
        {
         "hovertemplate": "Ship To Name=JARED REPAIR SHOP 8397<br>Color=K<br>Month=%{x}<br>Line Count Int=%{y}<extra></extra>",
         "legendgroup": "JARED REPAIR SHOP 8397",
         "marker": {
          "color": "#19d3f3",
          "pattern": {
           "shape": ""
          }
         },
         "name": "JARED REPAIR SHOP 8397",
         "orientation": "v",
         "showlegend": true,
         "textposition": "auto",
         "type": "bar",
         "x": [
          "2025-05"
         ],
         "xaxis": "x5",
         "y": {
          "bdata": "AAAAAAAAPUA=",
          "dtype": "f8"
         },
         "yaxis": "y5"
        },
        {
         "hovertemplate": "Ship To Name=JARED REPAIR SHOP 8402<br>Color=K<br>Month=%{x}<br>Line Count Int=%{y}<extra></extra>",
         "legendgroup": "JARED REPAIR SHOP 8402",
         "marker": {
          "color": "#FF6692",
          "pattern": {
           "shape": ""
          }
         },
         "name": "JARED REPAIR SHOP 8402",
         "orientation": "v",
         "showlegend": true,
         "textposition": "auto",
         "type": "bar",
         "x": [
          "2025-05"
         ],
         "xaxis": "x5",
         "y": {
          "bdata": "AAAAAAAAPUA=",
          "dtype": "f8"
         },
         "yaxis": "y5"
        },
        {
         "hovertemplate": "Ship To Name=JARED REPAIR SHOP 8402<br>Color=C<br>Month=%{x}<br>Line Count Int=%{y}<extra></extra>",
         "legendgroup": "JARED REPAIR SHOP 8402",
         "marker": {
          "color": "#FF6692",
          "pattern": {
           "shape": ""
          }
         },
         "name": "JARED REPAIR SHOP 8402",
         "orientation": "v",
         "showlegend": false,
         "textposition": "auto",
         "type": "bar",
         "x": [
          "2025-05"
         ],
         "xaxis": "x4",
         "y": {
          "bdata": "AAAAAAAAPUA=",
          "dtype": "f8"
         },
         "yaxis": "y4"
        },
        {
         "hovertemplate": "Ship To Name=JARED REPAIR SHOP 8402<br>Color=M<br>Month=%{x}<br>Line Count Int=%{y}<extra></extra>",
         "legendgroup": "JARED REPAIR SHOP 8402",
         "marker": {
          "color": "#FF6692",
          "pattern": {
           "shape": ""
          }
         },
         "name": "JARED REPAIR SHOP 8402",
         "orientation": "v",
         "showlegend": false,
         "textposition": "auto",
         "type": "bar",
         "x": [
          "2025-05"
         ],
         "xaxis": "x3",
         "y": {
          "bdata": "AAAAAAAAPUA=",
          "dtype": "f8"
         },
         "yaxis": "y3"
        },
        {
         "hovertemplate": "Ship To Name=JARED REPAIR SHOP 8402<br>Color=Y<br>Month=%{x}<br>Line Count Int=%{y}<extra></extra>",
         "legendgroup": "JARED REPAIR SHOP 8402",
         "marker": {
          "color": "#FF6692",
          "pattern": {
           "shape": ""
          }
         },
         "name": "JARED REPAIR SHOP 8402",
         "orientation": "v",
         "showlegend": false,
         "textposition": "auto",
         "type": "bar",
         "x": [
          "2025-05"
         ],
         "xaxis": "x",
         "y": {
          "bdata": "AAAAAAAAPUA=",
          "dtype": "f8"
         },
         "yaxis": "y"
        },
        {
         "hovertemplate": "Ship To Name=JARED REPAIR SHOP 8404<br>Color=C<br>Month=%{x}<br>Line Count Int=%{y}<extra></extra>",
         "legendgroup": "JARED REPAIR SHOP 8404",
         "marker": {
          "color": "#B6E880",
          "pattern": {
           "shape": ""
          }
         },
         "name": "JARED REPAIR SHOP 8404",
         "orientation": "v",
         "showlegend": true,
         "textposition": "auto",
         "type": "bar",
         "x": [
          "2025-05"
         ],
         "xaxis": "x4",
         "y": {
          "bdata": "AAAAAAAAPUA=",
          "dtype": "f8"
         },
         "yaxis": "y4"
        },
        {
         "hovertemplate": "Ship To Name=JARED REPAIR SHOP 8404<br>Color=M<br>Month=%{x}<br>Line Count Int=%{y}<extra></extra>",
         "legendgroup": "JARED REPAIR SHOP 8404",
         "marker": {
          "color": "#B6E880",
          "pattern": {
           "shape": ""
          }
         },
         "name": "JARED REPAIR SHOP 8404",
         "orientation": "v",
         "showlegend": false,
         "textposition": "auto",
         "type": "bar",
         "x": [
          "2025-05"
         ],
         "xaxis": "x3",
         "y": {
          "bdata": "AAAAAAAAPUA=",
          "dtype": "f8"
         },
         "yaxis": "y3"
        },
        {
         "hovertemplate": "Ship To Name=JARED REPAIR SHOP 8405<br>Color=M<br>Month=%{x}<br>Line Count Int=%{y}<extra></extra>",
         "legendgroup": "JARED REPAIR SHOP 8405",
         "marker": {
          "color": "#FF97FF",
          "pattern": {
           "shape": ""
          }
         },
         "name": "JARED REPAIR SHOP 8405",
         "orientation": "v",
         "showlegend": true,
         "textposition": "auto",
         "type": "bar",
         "x": [
          "2025-05"
         ],
         "xaxis": "x3",
         "y": {
          "bdata": "AAAAAAAAIEA=",
          "dtype": "f8"
         },
         "yaxis": "y3"
        },
        {
         "hovertemplate": "Ship To Name=JARED REPAIR SHOP 8405<br>Color=Unknown<br>Month=%{x}<br>Line Count Int=%{y}<extra></extra>",
         "legendgroup": "JARED REPAIR SHOP 8405",
         "marker": {
          "color": "#FF97FF",
          "pattern": {
           "shape": ""
          }
         },
         "name": "JARED REPAIR SHOP 8405",
         "orientation": "v",
         "showlegend": false,
         "textposition": "auto",
         "type": "bar",
         "x": [
          "2025-05"
         ],
         "xaxis": "x2",
         "y": {
          "bdata": "AAAAAAAALEA=",
          "dtype": "f8"
         },
         "yaxis": "y2"
        },
        {
         "hovertemplate": "Ship To Name=JARED REPAIR SHOP 8421<br>Color=M<br>Month=%{x}<br>Line Count Int=%{y}<extra></extra>",
         "legendgroup": "JARED REPAIR SHOP 8421",
         "marker": {
          "color": "#FECB52",
          "pattern": {
           "shape": ""
          }
         },
         "name": "JARED REPAIR SHOP 8421",
         "orientation": "v",
         "showlegend": true,
         "textposition": "auto",
         "type": "bar",
         "x": [
          "2025-05"
         ],
         "xaxis": "x3",
         "y": {
          "bdata": "AAAAAAAAPUA=",
          "dtype": "f8"
         },
         "yaxis": "y3"
        },
        {
         "hovertemplate": "Ship To Name=JARED REPAIR SHOP 8545<br>Color=K<br>Month=%{x}<br>Line Count Int=%{y}<extra></extra>",
         "legendgroup": "JARED REPAIR SHOP 8545",
         "marker": {
          "color": "#636efa",
          "pattern": {
           "shape": ""
          }
         },
         "name": "JARED REPAIR SHOP 8545",
         "orientation": "v",
         "showlegend": true,
         "textposition": "auto",
         "type": "bar",
         "x": [
          "2025-05"
         ],
         "xaxis": "x5",
         "y": {
          "bdata": "AAAAAAAAPUA=",
          "dtype": "f8"
         },
         "yaxis": "y5"
        },
        {
         "hovertemplate": "Ship To Name=JARED REPAIR SHOP 8545<br>Color=C<br>Month=%{x}<br>Line Count Int=%{y}<extra></extra>",
         "legendgroup": "JARED REPAIR SHOP 8545",
         "marker": {
          "color": "#636efa",
          "pattern": {
           "shape": ""
          }
         },
         "name": "JARED REPAIR SHOP 8545",
         "orientation": "v",
         "showlegend": false,
         "textposition": "auto",
         "type": "bar",
         "x": [
          "2025-05"
         ],
         "xaxis": "x4",
         "y": {
          "bdata": "AAAAAAAAPUA=",
          "dtype": "f8"
         },
         "yaxis": "y4"
        },
        {
         "hovertemplate": "Ship To Name=JARED REPAIR SHOP 8547<br>Color=C<br>Month=%{x}<br>Line Count Int=%{y}<extra></extra>",
         "legendgroup": "JARED REPAIR SHOP 8547",
         "marker": {
          "color": "#EF553B",
          "pattern": {
           "shape": ""
          }
         },
         "name": "JARED REPAIR SHOP 8547",
         "orientation": "v",
         "showlegend": true,
         "textposition": "auto",
         "type": "bar",
         "x": [
          "2025-05"
         ],
         "xaxis": "x4",
         "y": {
          "bdata": "AAAAAAAAMkA=",
          "dtype": "f8"
         },
         "yaxis": "y4"
        },
        {
         "hovertemplate": "Ship To Name=JARED REPAIR SHOP 8547<br>Color=Unknown<br>Month=%{x}<br>Line Count Int=%{y}<extra></extra>",
         "legendgroup": "JARED REPAIR SHOP 8547",
         "marker": {
          "color": "#EF553B",
          "pattern": {
           "shape": ""
          }
         },
         "name": "JARED REPAIR SHOP 8547",
         "orientation": "v",
         "showlegend": false,
         "textposition": "auto",
         "type": "bar",
         "x": [
          "2025-05"
         ],
         "xaxis": "x2",
         "y": {
          "bdata": "AAAAAAAAQkA=",
          "dtype": "f8"
         },
         "yaxis": "y2"
        },
        {
         "hovertemplate": "Ship To Name=JARED REPAIR SHOP 8579<br>Color=K<br>Month=%{x}<br>Line Count Int=%{y}<extra></extra>",
         "legendgroup": "JARED REPAIR SHOP 8579",
         "marker": {
          "color": "#00cc96",
          "pattern": {
           "shape": ""
          }
         },
         "name": "JARED REPAIR SHOP 8579",
         "orientation": "v",
         "showlegend": true,
         "textposition": "auto",
         "type": "bar",
         "x": [
          "2025-05"
         ],
         "xaxis": "x5",
         "y": {
          "bdata": "AAAAAAAAPUA=",
          "dtype": "f8"
         },
         "yaxis": "y5"
        },
        {
         "hovertemplate": "Ship To Name=JARED REPAIR SHOP 8987<br>Color=Unknown<br>Month=%{x}<br>Line Count Int=%{y}<extra></extra>",
         "legendgroup": "JARED REPAIR SHOP 8987",
         "marker": {
          "color": "#ab63fa",
          "pattern": {
           "shape": ""
          }
         },
         "name": "JARED REPAIR SHOP 8987",
         "orientation": "v",
         "showlegend": true,
         "textposition": "auto",
         "type": "bar",
         "x": [
          "2025-05"
         ],
         "xaxis": "x2",
         "y": {
          "bdata": "AAAAAAAALEA=",
          "dtype": "f8"
         },
         "yaxis": "y2"
        },
        {
         "hovertemplate": "Ship To Name=JARED REPAIR SHOP 9283<br>Color=K<br>Month=%{x}<br>Line Count Int=%{y}<extra></extra>",
         "legendgroup": "JARED REPAIR SHOP 9283",
         "marker": {
          "color": "#FFA15A",
          "pattern": {
           "shape": ""
          }
         },
         "name": "JARED REPAIR SHOP 9283",
         "orientation": "v",
         "showlegend": true,
         "textposition": "auto",
         "type": "bar",
         "x": [
          "2025-05"
         ],
         "xaxis": "x5",
         "y": {
          "bdata": "AAAAAAAAPkA=",
          "dtype": "f8"
         },
         "yaxis": "y5"
        },
        {
         "hovertemplate": "Ship To Name=JARED REPAIR SHOP 9283<br>Color=C<br>Month=%{x}<br>Line Count Int=%{y}<extra></extra>",
         "legendgroup": "JARED REPAIR SHOP 9283",
         "marker": {
          "color": "#FFA15A",
          "pattern": {
           "shape": ""
          }
         },
         "name": "JARED REPAIR SHOP 9283",
         "orientation": "v",
         "showlegend": false,
         "textposition": "auto",
         "type": "bar",
         "x": [
          "2025-05"
         ],
         "xaxis": "x4",
         "y": {
          "bdata": "AAAAAAAAPkA=",
          "dtype": "f8"
         },
         "yaxis": "y4"
        },
        {
         "hovertemplate": "Ship To Name=JARED REPAIR SHOP 9283<br>Color=Unknown<br>Month=%{x}<br>Line Count Int=%{y}<extra></extra>",
         "legendgroup": "JARED REPAIR SHOP 9283",
         "marker": {
          "color": "#FFA15A",
          "pattern": {
           "shape": ""
          }
         },
         "name": "JARED REPAIR SHOP 9283",
         "orientation": "v",
         "showlegend": false,
         "textposition": "auto",
         "type": "bar",
         "x": [
          "2025-05"
         ],
         "xaxis": "x2",
         "y": {
          "bdata": "AAAAAAAATkA=",
          "dtype": "f8"
         },
         "yaxis": "y2"
        },
        {
         "hovertemplate": "Ship To Name=KAY JEWELERS 1102<br>Color=K<br>Month=%{x}<br>Line Count Int=%{y}<extra></extra>",
         "legendgroup": "KAY JEWELERS 1102",
         "marker": {
          "color": "#19d3f3",
          "pattern": {
           "shape": ""
          }
         },
         "name": "KAY JEWELERS 1102",
         "orientation": "v",
         "showlegend": true,
         "textposition": "auto",
         "type": "bar",
         "x": [
          "2025-05"
         ],
         "xaxis": "x5",
         "y": {
          "bdata": "AAAAAAAALkA=",
          "dtype": "f8"
         },
         "yaxis": "y5"
        },
        {
         "hovertemplate": "Ship To Name=KAY JEWELERS 1117<br>Color=K<br>Month=%{x}<br>Line Count Int=%{y}<extra></extra>",
         "legendgroup": "KAY JEWELERS 1117",
         "marker": {
          "color": "#FF6692",
          "pattern": {
           "shape": ""
          }
         },
         "name": "KAY JEWELERS 1117",
         "orientation": "v",
         "showlegend": true,
         "textposition": "auto",
         "type": "bar",
         "x": [
          "2025-05"
         ],
         "xaxis": "x5",
         "y": {
          "bdata": "AAAAAAAAKkA=",
          "dtype": "f8"
         },
         "yaxis": "y5"
        },
        {
         "hovertemplate": "Ship To Name=KAY JEWELERS 1127<br>Color=K<br>Month=%{x}<br>Line Count Int=%{y}<extra></extra>",
         "legendgroup": "KAY JEWELERS 1127",
         "marker": {
          "color": "#B6E880",
          "pattern": {
           "shape": ""
          }
         },
         "name": "KAY JEWELERS 1127",
         "orientation": "v",
         "showlegend": true,
         "textposition": "auto",
         "type": "bar",
         "x": [
          "2025-05"
         ],
         "xaxis": "x5",
         "y": {
          "bdata": "AAAAAAAAHEA=",
          "dtype": "f8"
         },
         "yaxis": "y5"
        },
        {
         "hovertemplate": "Ship To Name=KAY JEWELERS 138<br>Color=K<br>Month=%{x}<br>Line Count Int=%{y}<extra></extra>",
         "legendgroup": "KAY JEWELERS 138",
         "marker": {
          "color": "#FF97FF",
          "pattern": {
           "shape": ""
          }
         },
         "name": "KAY JEWELERS 138",
         "orientation": "v",
         "showlegend": true,
         "textposition": "auto",
         "type": "bar",
         "x": [
          "2025-05"
         ],
         "xaxis": "x5",
         "y": {
          "bdata": "AAAAAAAANUA=",
          "dtype": "f8"
         },
         "yaxis": "y5"
        },
        {
         "hovertemplate": "Ship To Name=KAY JEWELERS 1423<br>Color=K<br>Month=%{x}<br>Line Count Int=%{y}<extra></extra>",
         "legendgroup": "KAY JEWELERS 1423",
         "marker": {
          "color": "#FECB52",
          "pattern": {
           "shape": ""
          }
         },
         "name": "KAY JEWELERS 1423",
         "orientation": "v",
         "showlegend": true,
         "textposition": "auto",
         "type": "bar",
         "x": [
          "2025-05"
         ],
         "xaxis": "x5",
         "y": {
          "bdata": "AAAAAAAAPEA=",
          "dtype": "f8"
         },
         "yaxis": "y5"
        },
        {
         "hovertemplate": "Ship To Name=KAY JEWELERS 1471<br>Color=K<br>Month=%{x}<br>Line Count Int=%{y}<extra></extra>",
         "legendgroup": "KAY JEWELERS 1471",
         "marker": {
          "color": "#636efa",
          "pattern": {
           "shape": ""
          }
         },
         "name": "KAY JEWELERS 1471",
         "orientation": "v",
         "showlegend": true,
         "textposition": "auto",
         "type": "bar",
         "x": [
          "2025-05"
         ],
         "xaxis": "x5",
         "y": {
          "bdata": "AAAAAAAAOEA=",
          "dtype": "f8"
         },
         "yaxis": "y5"
        },
        {
         "hovertemplate": "Ship To Name=KAY JEWELERS 1496<br>Color=K<br>Month=%{x}<br>Line Count Int=%{y}<extra></extra>",
         "legendgroup": "KAY JEWELERS 1496",
         "marker": {
          "color": "#EF553B",
          "pattern": {
           "shape": ""
          }
         },
         "name": "KAY JEWELERS 1496",
         "orientation": "v",
         "showlegend": true,
         "textposition": "auto",
         "type": "bar",
         "x": [
          "2025-05"
         ],
         "xaxis": "x5",
         "y": {
          "bdata": "AAAAAAAAPkA=",
          "dtype": "f8"
         },
         "yaxis": "y5"
        },
        {
         "hovertemplate": "Ship To Name=KAY JEWELERS 1824<br>Color=K<br>Month=%{x}<br>Line Count Int=%{y}<extra></extra>",
         "legendgroup": "KAY JEWELERS 1824",
         "marker": {
          "color": "#00cc96",
          "pattern": {
           "shape": ""
          }
         },
         "name": "KAY JEWELERS 1824",
         "orientation": "v",
         "showlegend": true,
         "textposition": "auto",
         "type": "bar",
         "x": [
          "2025-05"
         ],
         "xaxis": "x5",
         "y": {
          "bdata": "AAAAAAAAMkA=",
          "dtype": "f8"
         },
         "yaxis": "y5"
        },
        {
         "hovertemplate": "Ship To Name=KAY JEWELERS 2121<br>Color=K<br>Month=%{x}<br>Line Count Int=%{y}<extra></extra>",
         "legendgroup": "KAY JEWELERS 2121",
         "marker": {
          "color": "#ab63fa",
          "pattern": {
           "shape": ""
          }
         },
         "name": "KAY JEWELERS 2121",
         "orientation": "v",
         "showlegend": true,
         "textposition": "auto",
         "type": "bar",
         "x": [
          "2025-05"
         ],
         "xaxis": "x5",
         "y": {
          "bdata": "AAAAAAAAMEA=",
          "dtype": "f8"
         },
         "yaxis": "y5"
        },
        {
         "hovertemplate": "Ship To Name=KAY JEWELERS 2197<br>Color=K<br>Month=%{x}<br>Line Count Int=%{y}<extra></extra>",
         "legendgroup": "KAY JEWELERS 2197",
         "marker": {
          "color": "#FFA15A",
          "pattern": {
           "shape": ""
          }
         },
         "name": "KAY JEWELERS 2197",
         "orientation": "v",
         "showlegend": true,
         "textposition": "auto",
         "type": "bar",
         "x": [
          "2025-05"
         ],
         "xaxis": "x5",
         "y": {
          "bdata": "AAAAAAAAEEA=",
          "dtype": "f8"
         },
         "yaxis": "y5"
        },
        {
         "hovertemplate": "Ship To Name=KAY JEWELERS 2198<br>Color=K<br>Month=%{x}<br>Line Count Int=%{y}<extra></extra>",
         "legendgroup": "KAY JEWELERS 2198",
         "marker": {
          "color": "#19d3f3",
          "pattern": {
           "shape": ""
          }
         },
         "name": "KAY JEWELERS 2198",
         "orientation": "v",
         "showlegend": true,
         "textposition": "auto",
         "type": "bar",
         "x": [
          "2025-05"
         ],
         "xaxis": "x5",
         "y": {
          "bdata": "AAAAAAAAMUA=",
          "dtype": "f8"
         },
         "yaxis": "y5"
        },
        {
         "hovertemplate": "Ship To Name=KAY JEWELERS 2332<br>Color=K<br>Month=%{x}<br>Line Count Int=%{y}<extra></extra>",
         "legendgroup": "KAY JEWELERS 2332",
         "marker": {
          "color": "#FF6692",
          "pattern": {
           "shape": ""
          }
         },
         "name": "KAY JEWELERS 2332",
         "orientation": "v",
         "showlegend": true,
         "textposition": "auto",
         "type": "bar",
         "x": [
          "2025-05"
         ],
         "xaxis": "x5",
         "y": {
          "bdata": "AAAAAAAAPEA=",
          "dtype": "f8"
         },
         "yaxis": "y5"
        },
        {
         "hovertemplate": "Ship To Name=KAY JEWELERS 256<br>Color=K<br>Month=%{x}<br>Line Count Int=%{y}<extra></extra>",
         "legendgroup": "KAY JEWELERS 256",
         "marker": {
          "color": "#B6E880",
          "pattern": {
           "shape": ""
          }
         },
         "name": "KAY JEWELERS 256",
         "orientation": "v",
         "showlegend": true,
         "textposition": "auto",
         "type": "bar",
         "x": [
          "2025-05"
         ],
         "xaxis": "x5",
         "y": {
          "bdata": "AAAAAAAANkA=",
          "dtype": "f8"
         },
         "yaxis": "y5"
        },
        {
         "hovertemplate": "Ship To Name=KAY JEWELERS 2636<br>Color=K<br>Month=%{x}<br>Line Count Int=%{y}<extra></extra>",
         "legendgroup": "KAY JEWELERS 2636",
         "marker": {
          "color": "#FF97FF",
          "pattern": {
           "shape": ""
          }
         },
         "name": "KAY JEWELERS 2636",
         "orientation": "v",
         "showlegend": true,
         "textposition": "auto",
         "type": "bar",
         "x": [
          "2025-05"
         ],
         "xaxis": "x5",
         "y": {
          "bdata": "AAAAAAAAIEA=",
          "dtype": "f8"
         },
         "yaxis": "y5"
        },
        {
         "hovertemplate": "Ship To Name=KAY JEWELERS 2720<br>Color=K<br>Month=%{x}<br>Line Count Int=%{y}<extra></extra>",
         "legendgroup": "KAY JEWELERS 2720",
         "marker": {
          "color": "#FECB52",
          "pattern": {
           "shape": ""
          }
         },
         "name": "KAY JEWELERS 2720",
         "orientation": "v",
         "showlegend": true,
         "textposition": "auto",
         "type": "bar",
         "x": [
          "2025-05"
         ],
         "xaxis": "x5",
         "y": {
          "bdata": "AAAAAAAAMUA=",
          "dtype": "f8"
         },
         "yaxis": "y5"
        },
        {
         "hovertemplate": "Ship To Name=KAY JEWELERS 3407<br>Color=K<br>Month=%{x}<br>Line Count Int=%{y}<extra></extra>",
         "legendgroup": "KAY JEWELERS 3407",
         "marker": {
          "color": "#636efa",
          "pattern": {
           "shape": ""
          }
         },
         "name": "KAY JEWELERS 3407",
         "orientation": "v",
         "showlegend": true,
         "textposition": "auto",
         "type": "bar",
         "x": [
          "2025-05"
         ],
         "xaxis": "x5",
         "y": {
          "bdata": "AAAAAAAALkA=",
          "dtype": "f8"
         },
         "yaxis": "y5"
        },
        {
         "hovertemplate": "Ship To Name=KAY JEWELERS 368<br>Color=K<br>Month=%{x}<br>Line Count Int=%{y}<extra></extra>",
         "legendgroup": "KAY JEWELERS 368",
         "marker": {
          "color": "#EF553B",
          "pattern": {
           "shape": ""
          }
         },
         "name": "KAY JEWELERS 368",
         "orientation": "v",
         "showlegend": true,
         "textposition": "auto",
         "type": "bar",
         "x": [
          "2025-05"
         ],
         "xaxis": "x5",
         "y": {
          "bdata": "AAAAAAAAOUA=",
          "dtype": "f8"
         },
         "yaxis": "y5"
        },
        {
         "hovertemplate": "Ship To Name=KAY JEWELERS 4088<br>Color=K<br>Month=%{x}<br>Line Count Int=%{y}<extra></extra>",
         "legendgroup": "KAY JEWELERS 4088",
         "marker": {
          "color": "#00cc96",
          "pattern": {
           "shape": ""
          }
         },
         "name": "KAY JEWELERS 4088",
         "orientation": "v",
         "showlegend": true,
         "textposition": "auto",
         "type": "bar",
         "x": [
          "2025-05"
         ],
         "xaxis": "x5",
         "y": {
          "bdata": "AAAAAAAALEA=",
          "dtype": "f8"
         },
         "yaxis": "y5"
        },
        {
         "hovertemplate": "Ship To Name=KAY JEWELERS 4901<br>Color=K<br>Month=%{x}<br>Line Count Int=%{y}<extra></extra>",
         "legendgroup": "KAY JEWELERS 4901",
         "marker": {
          "color": "#ab63fa",
          "pattern": {
           "shape": ""
          }
         },
         "name": "KAY JEWELERS 4901",
         "orientation": "v",
         "showlegend": true,
         "textposition": "auto",
         "type": "bar",
         "x": [
          "2025-05"
         ],
         "xaxis": "x5",
         "y": {
          "bdata": "AAAAAAAAN0A=",
          "dtype": "f8"
         },
         "yaxis": "y5"
        },
        {
         "hovertemplate": "Ship To Name=KAY JEWELERS 533<br>Color=K<br>Month=%{x}<br>Line Count Int=%{y}<extra></extra>",
         "legendgroup": "KAY JEWELERS 533",
         "marker": {
          "color": "#FFA15A",
          "pattern": {
           "shape": ""
          }
         },
         "name": "KAY JEWELERS 533",
         "orientation": "v",
         "showlegend": true,
         "textposition": "auto",
         "type": "bar",
         "x": [
          "2025-05"
         ],
         "xaxis": "x5",
         "y": {
          "bdata": "AAAAAAAAPUA=",
          "dtype": "f8"
         },
         "yaxis": "y5"
        },
        {
         "hovertemplate": "Ship To Name=KAY JEWELERS 675<br>Color=K<br>Month=%{x}<br>Line Count Int=%{y}<extra></extra>",
         "legendgroup": "KAY JEWELERS 675",
         "marker": {
          "color": "#19d3f3",
          "pattern": {
           "shape": ""
          }
         },
         "name": "KAY JEWELERS 675",
         "orientation": "v",
         "showlegend": true,
         "textposition": "auto",
         "type": "bar",
         "x": [
          "2025-05"
         ],
         "xaxis": "x5",
         "y": {
          "bdata": "AAAAAAAAOUA=",
          "dtype": "f8"
         },
         "yaxis": "y5"
        },
        {
         "hovertemplate": "Ship To Name=KAY JEWELERS 765<br>Color=K<br>Month=%{x}<br>Line Count Int=%{y}<extra></extra>",
         "legendgroup": "KAY JEWELERS 765",
         "marker": {
          "color": "#FF6692",
          "pattern": {
           "shape": ""
          }
         },
         "name": "KAY JEWELERS 765",
         "orientation": "v",
         "showlegend": true,
         "textposition": "auto",
         "type": "bar",
         "x": [
          "2025-05"
         ],
         "xaxis": "x5",
         "y": {
          "bdata": "AAAAAAAALkA=",
          "dtype": "f8"
         },
         "yaxis": "y5"
        },
        {
         "hovertemplate": "Ship To Name=KAY JEWELERS 784<br>Color=K<br>Month=%{x}<br>Line Count Int=%{y}<extra></extra>",
         "legendgroup": "KAY JEWELERS 784",
         "marker": {
          "color": "#B6E880",
          "pattern": {
           "shape": ""
          }
         },
         "name": "KAY JEWELERS 784",
         "orientation": "v",
         "showlegend": true,
         "textposition": "auto",
         "type": "bar",
         "x": [
          "2025-05"
         ],
         "xaxis": "x5",
         "y": {
          "bdata": "AAAAAAAANEA=",
          "dtype": "f8"
         },
         "yaxis": "y5"
        },
        {
         "hovertemplate": "Ship To Name=KAY JEWELERS 787<br>Color=K<br>Month=%{x}<br>Line Count Int=%{y}<extra></extra>",
         "legendgroup": "KAY JEWELERS 787",
         "marker": {
          "color": "#FF97FF",
          "pattern": {
           "shape": ""
          }
         },
         "name": "KAY JEWELERS 787",
         "orientation": "v",
         "showlegend": true,
         "textposition": "auto",
         "type": "bar",
         "x": [
          "2025-05"
         ],
         "xaxis": "x5",
         "y": {
          "bdata": "AAAAAAAAHEA=",
          "dtype": "f8"
         },
         "yaxis": "y5"
        },
        {
         "hovertemplate": "Ship To Name=KAY JEWELERS 8457<br>Color=K<br>Month=%{x}<br>Line Count Int=%{y}<extra></extra>",
         "legendgroup": "KAY JEWELERS 8457",
         "marker": {
          "color": "#FECB52",
          "pattern": {
           "shape": ""
          }
         },
         "name": "KAY JEWELERS 8457",
         "orientation": "v",
         "showlegend": true,
         "textposition": "auto",
         "type": "bar",
         "x": [
          "2025-05"
         ],
         "xaxis": "x5",
         "y": {
          "bdata": "AAAAAAAAPUA=",
          "dtype": "f8"
         },
         "yaxis": "y5"
        },
        {
         "hovertemplate": "Ship To Name=KAY JEWELERS 8561<br>Color=K<br>Month=%{x}<br>Line Count Int=%{y}<extra></extra>",
         "legendgroup": "KAY JEWELERS 8561",
         "marker": {
          "color": "#636efa",
          "pattern": {
           "shape": ""
          }
         },
         "name": "KAY JEWELERS 8561",
         "orientation": "v",
         "showlegend": true,
         "textposition": "auto",
         "type": "bar",
         "x": [
          "2025-05"
         ],
         "xaxis": "x5",
         "y": {
          "bdata": "AAAAAAAAPUA=",
          "dtype": "f8"
         },
         "yaxis": "y5"
        },
        {
         "hovertemplate": "Ship To Name=KAY JEWELERS 8561<br>Color=C<br>Month=%{x}<br>Line Count Int=%{y}<extra></extra>",
         "legendgroup": "KAY JEWELERS 8561",
         "marker": {
          "color": "#636efa",
          "pattern": {
           "shape": ""
          }
         },
         "name": "KAY JEWELERS 8561",
         "orientation": "v",
         "showlegend": false,
         "textposition": "auto",
         "type": "bar",
         "x": [
          "2025-05"
         ],
         "xaxis": "x4",
         "y": {
          "bdata": "AAAAAAAAPUA=",
          "dtype": "f8"
         },
         "yaxis": "y4"
        },
        {
         "hovertemplate": "Ship To Name=KAY JEWELERS 8561<br>Color=M<br>Month=%{x}<br>Line Count Int=%{y}<extra></extra>",
         "legendgroup": "KAY JEWELERS 8561",
         "marker": {
          "color": "#636efa",
          "pattern": {
           "shape": ""
          }
         },
         "name": "KAY JEWELERS 8561",
         "orientation": "v",
         "showlegend": false,
         "textposition": "auto",
         "type": "bar",
         "x": [
          "2025-05"
         ],
         "xaxis": "x3",
         "y": {
          "bdata": "AAAAAAAACEA=",
          "dtype": "f8"
         },
         "yaxis": "y3"
        },
        {
         "hovertemplate": "Ship To Name=KAY JEWELERS 8561<br>Color=Y<br>Month=%{x}<br>Line Count Int=%{y}<extra></extra>",
         "legendgroup": "KAY JEWELERS 8561",
         "marker": {
          "color": "#636efa",
          "pattern": {
           "shape": ""
          }
         },
         "name": "KAY JEWELERS 8561",
         "orientation": "v",
         "showlegend": false,
         "textposition": "auto",
         "type": "bar",
         "x": [
          "2025-05"
         ],
         "xaxis": "x",
         "y": {
          "bdata": "AAAAAAAALkA=",
          "dtype": "f8"
         },
         "yaxis": "y"
        },
        {
         "hovertemplate": "Ship To Name=KAY JEWELERS 8599<br>Color=K<br>Month=%{x}<br>Line Count Int=%{y}<extra></extra>",
         "legendgroup": "KAY JEWELERS 8599",
         "marker": {
          "color": "#EF553B",
          "pattern": {
           "shape": ""
          }
         },
         "name": "KAY JEWELERS 8599",
         "orientation": "v",
         "showlegend": true,
         "textposition": "auto",
         "type": "bar",
         "x": [
          "2025-05"
         ],
         "xaxis": "x5",
         "y": {
          "bdata": "AAAAAAAALkA=",
          "dtype": "f8"
         },
         "yaxis": "y5"
        },
        {
         "hovertemplate": "Ship To Name=KAY JEWELERS 8599<br>Color=C<br>Month=%{x}<br>Line Count Int=%{y}<extra></extra>",
         "legendgroup": "KAY JEWELERS 8599",
         "marker": {
          "color": "#EF553B",
          "pattern": {
           "shape": ""
          }
         },
         "name": "KAY JEWELERS 8599",
         "orientation": "v",
         "showlegend": false,
         "textposition": "auto",
         "type": "bar",
         "x": [
          "2025-05"
         ],
         "xaxis": "x4",
         "y": {
          "bdata": "AAAAAAAALkA=",
          "dtype": "f8"
         },
         "yaxis": "y4"
        },
        {
         "hovertemplate": "Ship To Name=KAY JEWELERS 8599<br>Color=M<br>Month=%{x}<br>Line Count Int=%{y}<extra></extra>",
         "legendgroup": "KAY JEWELERS 8599",
         "marker": {
          "color": "#EF553B",
          "pattern": {
           "shape": ""
          }
         },
         "name": "KAY JEWELERS 8599",
         "orientation": "v",
         "showlegend": false,
         "textposition": "auto",
         "type": "bar",
         "x": [
          "2025-05"
         ],
         "xaxis": "x3",
         "y": {
          "bdata": "AAAAAAAALkA=",
          "dtype": "f8"
         },
         "yaxis": "y3"
        },
        {
         "hovertemplate": "Ship To Name=KAY JEWELERS 8599<br>Color=Y<br>Month=%{x}<br>Line Count Int=%{y}<extra></extra>",
         "legendgroup": "KAY JEWELERS 8599",
         "marker": {
          "color": "#EF553B",
          "pattern": {
           "shape": ""
          }
         },
         "name": "KAY JEWELERS 8599",
         "orientation": "v",
         "showlegend": false,
         "textposition": "auto",
         "type": "bar",
         "x": [
          "2025-05"
         ],
         "xaxis": "x",
         "y": {
          "bdata": "AAAAAAAALkA=",
          "dtype": "f8"
         },
         "yaxis": "y"
        },
        {
         "hovertemplate": "Ship To Name=KAY JEWLERS 1662<br>Color=K<br>Month=%{x}<br>Line Count Int=%{y}<extra></extra>",
         "legendgroup": "KAY JEWLERS 1662",
         "marker": {
          "color": "#00cc96",
          "pattern": {
           "shape": ""
          }
         },
         "name": "KAY JEWLERS 1662",
         "orientation": "v",
         "showlegend": true,
         "textposition": "auto",
         "type": "bar",
         "x": [
          "2025-05"
         ],
         "xaxis": "x5",
         "y": {
          "bdata": "AAAAAAAA8D8=",
          "dtype": "f8"
         },
         "yaxis": "y5"
        },
        {
         "hovertemplate": "Ship To Name=KAY REPAIR SHOP 8335<br>Color=K<br>Month=%{x}<br>Line Count Int=%{y}<extra></extra>",
         "legendgroup": "KAY REPAIR SHOP 8335",
         "marker": {
          "color": "#ab63fa",
          "pattern": {
           "shape": ""
          }
         },
         "name": "KAY REPAIR SHOP 8335",
         "orientation": "v",
         "showlegend": true,
         "textposition": "auto",
         "type": "bar",
         "x": [
          "2025-05"
         ],
         "xaxis": "x5",
         "y": {
          "bdata": "AAAAAAAAPUA=",
          "dtype": "f8"
         },
         "yaxis": "y5"
        },
        {
         "hovertemplate": "Ship To Name=PEOPLES 5059<br>Color=K<br>Month=%{x}<br>Line Count Int=%{y}<extra></extra>",
         "legendgroup": "PEOPLES 5059",
         "marker": {
          "color": "#FFA15A",
          "pattern": {
           "shape": ""
          }
         },
         "name": "PEOPLES 5059",
         "orientation": "v",
         "showlegend": true,
         "textposition": "auto",
         "type": "bar",
         "x": [
          "2025-05"
         ],
         "xaxis": "x5",
         "y": {
          "bdata": "AAAAAAAA8D8=",
          "dtype": "f8"
         },
         "yaxis": "y5"
        },
        {
         "hovertemplate": "Ship To Name=PEOPLES 5131<br>Color=K<br>Month=%{x}<br>Line Count Int=%{y}<extra></extra>",
         "legendgroup": "PEOPLES 5131",
         "marker": {
          "color": "#19d3f3",
          "pattern": {
           "shape": ""
          }
         },
         "name": "PEOPLES 5131",
         "orientation": "v",
         "showlegend": true,
         "textposition": "auto",
         "type": "bar",
         "x": [
          "2025-05"
         ],
         "xaxis": "x5",
         "y": {
          "bdata": "AAAAAAAAIEA=",
          "dtype": "f8"
         },
         "yaxis": "y5"
        },
        {
         "hovertemplate": "Ship To Name=PEOPLES 5175<br>Color=K<br>Month=%{x}<br>Line Count Int=%{y}<extra></extra>",
         "legendgroup": "PEOPLES 5175",
         "marker": {
          "color": "#FF6692",
          "pattern": {
           "shape": ""
          }
         },
         "name": "PEOPLES 5175",
         "orientation": "v",
         "showlegend": true,
         "textposition": "auto",
         "type": "bar",
         "x": [
          "2025-05"
         ],
         "xaxis": "x5",
         "y": {
          "bdata": "AAAAAAAALkA=",
          "dtype": "f8"
         },
         "yaxis": "y5"
        },
        {
         "hovertemplate": "Ship To Name=PEOPLES 5191<br>Color=K<br>Month=%{x}<br>Line Count Int=%{y}<extra></extra>",
         "legendgroup": "PEOPLES 5191",
         "marker": {
          "color": "#B6E880",
          "pattern": {
           "shape": ""
          }
         },
         "name": "PEOPLES 5191",
         "orientation": "v",
         "showlegend": true,
         "textposition": "auto",
         "type": "bar",
         "x": [
          "2025-05"
         ],
         "xaxis": "x5",
         "y": {
          "bdata": "AAAAAAAAMUA=",
          "dtype": "f8"
         },
         "yaxis": "y5"
        },
        {
         "hovertemplate": "Ship To Name=PEOPLES JEWELRY - SIGNET<br>Color=K<br>Month=%{x}<br>Line Count Int=%{y}<extra></extra>",
         "legendgroup": "PEOPLES JEWELRY - SIGNET",
         "marker": {
          "color": "#FF97FF",
          "pattern": {
           "shape": ""
          }
         },
         "name": "PEOPLES JEWELRY - SIGNET",
         "orientation": "v",
         "showlegend": true,
         "textposition": "auto",
         "type": "bar",
         "x": [
          "2025-05"
         ],
         "xaxis": "x5",
         "y": {
          "bdata": "AAAAAAAATUA=",
          "dtype": "f8"
         },
         "yaxis": "y5"
        },
        {
         "hovertemplate": "Ship To Name=PIERCING PAGODA 0476<br>Color=K<br>Month=%{x}<br>Line Count Int=%{y}<extra></extra>",
         "legendgroup": "PIERCING PAGODA 0476",
         "marker": {
          "color": "#FECB52",
          "pattern": {
           "shape": ""
          }
         },
         "name": "PIERCING PAGODA 0476",
         "orientation": "v",
         "showlegend": true,
         "textposition": "auto",
         "type": "bar",
         "x": [
          "2025-05"
         ],
         "xaxis": "x5",
         "y": {
          "bdata": "AAAAAAAAIEA=",
          "dtype": "f8"
         },
         "yaxis": "y5"
        },
        {
         "hovertemplate": "Ship To Name=PIERCING PAGODA 105<br>Color=K<br>Month=%{x}<br>Line Count Int=%{y}<extra></extra>",
         "legendgroup": "PIERCING PAGODA 105",
         "marker": {
          "color": "#636efa",
          "pattern": {
           "shape": ""
          }
         },
         "name": "PIERCING PAGODA 105",
         "orientation": "v",
         "showlegend": true,
         "textposition": "auto",
         "type": "bar",
         "x": [
          "2025-05"
         ],
         "xaxis": "x5",
         "y": {
          "bdata": "AAAAAAAANkA=",
          "dtype": "f8"
         },
         "yaxis": "y5"
        },
        {
         "hovertemplate": "Ship To Name=PIERCING PAGODA 115<br>Color=K<br>Month=%{x}<br>Line Count Int=%{y}<extra></extra>",
         "legendgroup": "PIERCING PAGODA 115",
         "marker": {
          "color": "#EF553B",
          "pattern": {
           "shape": ""
          }
         },
         "name": "PIERCING PAGODA 115",
         "orientation": "v",
         "showlegend": true,
         "textposition": "auto",
         "type": "bar",
         "x": [
          "2025-05"
         ],
         "xaxis": "x5",
         "y": {
          "bdata": "AAAAAAAA8D8=",
          "dtype": "f8"
         },
         "yaxis": "y5"
        },
        {
         "hovertemplate": "Ship To Name=PIERCING PAGODA 1185<br>Color=K<br>Month=%{x}<br>Line Count Int=%{y}<extra></extra>",
         "legendgroup": "PIERCING PAGODA 1185",
         "marker": {
          "color": "#00cc96",
          "pattern": {
           "shape": ""
          }
         },
         "name": "PIERCING PAGODA 1185",
         "orientation": "v",
         "showlegend": true,
         "textposition": "auto",
         "type": "bar",
         "x": [
          "2025-05"
         ],
         "xaxis": "x5",
         "y": {
          "bdata": "AAAAAAAALkA=",
          "dtype": "f8"
         },
         "yaxis": "y5"
        },
        {
         "hovertemplate": "Ship To Name=PIERCING PAGODA 1203<br>Color=K<br>Month=%{x}<br>Line Count Int=%{y}<extra></extra>",
         "legendgroup": "PIERCING PAGODA 1203",
         "marker": {
          "color": "#ab63fa",
          "pattern": {
           "shape": ""
          }
         },
         "name": "PIERCING PAGODA 1203",
         "orientation": "v",
         "showlegend": true,
         "textposition": "auto",
         "type": "bar",
         "x": [
          "2025-05"
         ],
         "xaxis": "x5",
         "y": {
          "bdata": "AAAAAAAAIEA=",
          "dtype": "f8"
         },
         "yaxis": "y5"
        },
        {
         "hovertemplate": "Ship To Name=PIERCING PAGODA 1243<br>Color=K<br>Month=%{x}<br>Line Count Int=%{y}<extra></extra>",
         "legendgroup": "PIERCING PAGODA 1243",
         "marker": {
          "color": "#FFA15A",
          "pattern": {
           "shape": ""
          }
         },
         "name": "PIERCING PAGODA 1243",
         "orientation": "v",
         "showlegend": true,
         "textposition": "auto",
         "type": "bar",
         "x": [
          "2025-05"
         ],
         "xaxis": "x5",
         "y": {
          "bdata": "AAAAAAAAIEA=",
          "dtype": "f8"
         },
         "yaxis": "y5"
        },
        {
         "hovertemplate": "Ship To Name=PIERCING PAGODA 130<br>Color=K<br>Month=%{x}<br>Line Count Int=%{y}<extra></extra>",
         "legendgroup": "PIERCING PAGODA 130",
         "marker": {
          "color": "#19d3f3",
          "pattern": {
           "shape": ""
          }
         },
         "name": "PIERCING PAGODA 130",
         "orientation": "v",
         "showlegend": true,
         "textposition": "auto",
         "type": "bar",
         "x": [
          "2025-05"
         ],
         "xaxis": "x5",
         "y": {
          "bdata": "AAAAAAAAPUA=",
          "dtype": "f8"
         },
         "yaxis": "y5"
        },
        {
         "hovertemplate": "Ship To Name=PIERCING PAGODA 1319<br>Color=K<br>Month=%{x}<br>Line Count Int=%{y}<extra></extra>",
         "legendgroup": "PIERCING PAGODA 1319",
         "marker": {
          "color": "#FF6692",
          "pattern": {
           "shape": ""
          }
         },
         "name": "PIERCING PAGODA 1319",
         "orientation": "v",
         "showlegend": true,
         "textposition": "auto",
         "type": "bar",
         "x": [
          "2025-05"
         ],
         "xaxis": "x5",
         "y": {
          "bdata": "AAAAAAAAMUA=",
          "dtype": "f8"
         },
         "yaxis": "y5"
        },
        {
         "hovertemplate": "Ship To Name=PIERCING PAGODA 1340<br>Color=K<br>Month=%{x}<br>Line Count Int=%{y}<extra></extra>",
         "legendgroup": "PIERCING PAGODA 1340",
         "marker": {
          "color": "#B6E880",
          "pattern": {
           "shape": ""
          }
         },
         "name": "PIERCING PAGODA 1340",
         "orientation": "v",
         "showlegend": true,
         "textposition": "auto",
         "type": "bar",
         "x": [
          "2025-05"
         ],
         "xaxis": "x5",
         "y": {
          "bdata": "AAAAAAAANkA=",
          "dtype": "f8"
         },
         "yaxis": "y5"
        },
        {
         "hovertemplate": "Ship To Name=PIERCING PAGODA 15<br>Color=K<br>Month=%{x}<br>Line Count Int=%{y}<extra></extra>",
         "legendgroup": "PIERCING PAGODA 15",
         "marker": {
          "color": "#FF97FF",
          "pattern": {
           "shape": ""
          }
         },
         "name": "PIERCING PAGODA 15",
         "orientation": "v",
         "showlegend": true,
         "textposition": "auto",
         "type": "bar",
         "x": [
          "2025-05"
         ],
         "xaxis": "x5",
         "y": {
          "bdata": "AAAAAAAANkA=",
          "dtype": "f8"
         },
         "yaxis": "y5"
        },
        {
         "hovertemplate": "Ship To Name=PIERCING PAGODA 1510<br>Color=K<br>Month=%{x}<br>Line Count Int=%{y}<extra></extra>",
         "legendgroup": "PIERCING PAGODA 1510",
         "marker": {
          "color": "#FECB52",
          "pattern": {
           "shape": ""
          }
         },
         "name": "PIERCING PAGODA 1510",
         "orientation": "v",
         "showlegend": true,
         "textposition": "auto",
         "type": "bar",
         "x": [
          "2025-05"
         ],
         "xaxis": "x5",
         "y": {
          "bdata": "AAAAAAAAIEA=",
          "dtype": "f8"
         },
         "yaxis": "y5"
        },
        {
         "hovertemplate": "Ship To Name=PIERCING PAGODA 16<br>Color=K<br>Month=%{x}<br>Line Count Int=%{y}<extra></extra>",
         "legendgroup": "PIERCING PAGODA 16",
         "marker": {
          "color": "#636efa",
          "pattern": {
           "shape": ""
          }
         },
         "name": "PIERCING PAGODA 16",
         "orientation": "v",
         "showlegend": true,
         "textposition": "auto",
         "type": "bar",
         "x": [
          "2025-05"
         ],
         "xaxis": "x5",
         "y": {
          "bdata": "AAAAAAAANkA=",
          "dtype": "f8"
         },
         "yaxis": "y5"
        },
        {
         "hovertemplate": "Ship To Name=PIERCING PAGODA 170<br>Color=K<br>Month=%{x}<br>Line Count Int=%{y}<extra></extra>",
         "legendgroup": "PIERCING PAGODA 170",
         "marker": {
          "color": "#EF553B",
          "pattern": {
           "shape": ""
          }
         },
         "name": "PIERCING PAGODA 170",
         "orientation": "v",
         "showlegend": true,
         "textposition": "auto",
         "type": "bar",
         "x": [
          "2025-05"
         ],
         "xaxis": "x5",
         "y": {
          "bdata": "AAAAAAAA8D8=",
          "dtype": "f8"
         },
         "yaxis": "y5"
        },
        {
         "hovertemplate": "Ship To Name=PIERCING PAGODA 209<br>Color=K<br>Month=%{x}<br>Line Count Int=%{y}<extra></extra>",
         "legendgroup": "PIERCING PAGODA 209",
         "marker": {
          "color": "#00cc96",
          "pattern": {
           "shape": ""
          }
         },
         "name": "PIERCING PAGODA 209",
         "orientation": "v",
         "showlegend": true,
         "textposition": "auto",
         "type": "bar",
         "x": [
          "2025-05"
         ],
         "xaxis": "x5",
         "y": {
          "bdata": "AAAAAAAAIEA=",
          "dtype": "f8"
         },
         "yaxis": "y5"
        },
        {
         "hovertemplate": "Ship To Name=PIERCING PAGODA 221<br>Color=K<br>Month=%{x}<br>Line Count Int=%{y}<extra></extra>",
         "legendgroup": "PIERCING PAGODA 221",
         "marker": {
          "color": "#ab63fa",
          "pattern": {
           "shape": ""
          }
         },
         "name": "PIERCING PAGODA 221",
         "orientation": "v",
         "showlegend": true,
         "textposition": "auto",
         "type": "bar",
         "x": [
          "2025-05"
         ],
         "xaxis": "x5",
         "y": {
          "bdata": "AAAAAAAAIEA=",
          "dtype": "f8"
         },
         "yaxis": "y5"
        },
        {
         "hovertemplate": "Ship To Name=PIERCING PAGODA 240<br>Color=K<br>Month=%{x}<br>Line Count Int=%{y}<extra></extra>",
         "legendgroup": "PIERCING PAGODA 240",
         "marker": {
          "color": "#FFA15A",
          "pattern": {
           "shape": ""
          }
         },
         "name": "PIERCING PAGODA 240",
         "orientation": "v",
         "showlegend": true,
         "textposition": "auto",
         "type": "bar",
         "x": [
          "2025-05"
         ],
         "xaxis": "x5",
         "y": {
          "bdata": "AAAAAAAANkA=",
          "dtype": "f8"
         },
         "yaxis": "y5"
        },
        {
         "hovertemplate": "Ship To Name=PIERCING PAGODA 2465<br>Color=K<br>Month=%{x}<br>Line Count Int=%{y}<extra></extra>",
         "legendgroup": "PIERCING PAGODA 2465",
         "marker": {
          "color": "#19d3f3",
          "pattern": {
           "shape": ""
          }
         },
         "name": "PIERCING PAGODA 2465",
         "orientation": "v",
         "showlegend": true,
         "textposition": "auto",
         "type": "bar",
         "x": [
          "2025-05"
         ],
         "xaxis": "x5",
         "y": {
          "bdata": "AAAAAAAAOEA=",
          "dtype": "f8"
         },
         "yaxis": "y5"
        },
        {
         "hovertemplate": "Ship To Name=PIERCING PAGODA 2483<br>Color=K<br>Month=%{x}<br>Line Count Int=%{y}<extra></extra>",
         "legendgroup": "PIERCING PAGODA 2483",
         "marker": {
          "color": "#FF6692",
          "pattern": {
           "shape": ""
          }
         },
         "name": "PIERCING PAGODA 2483",
         "orientation": "v",
         "showlegend": true,
         "textposition": "auto",
         "type": "bar",
         "x": [
          "2025-05"
         ],
         "xaxis": "x5",
         "y": {
          "bdata": "AAAAAAAAMUA=",
          "dtype": "f8"
         },
         "yaxis": "y5"
        },
        {
         "hovertemplate": "Ship To Name=PIERCING PAGODA 2535<br>Color=K<br>Month=%{x}<br>Line Count Int=%{y}<extra></extra>",
         "legendgroup": "PIERCING PAGODA 2535",
         "marker": {
          "color": "#B6E880",
          "pattern": {
           "shape": ""
          }
         },
         "name": "PIERCING PAGODA 2535",
         "orientation": "v",
         "showlegend": true,
         "textposition": "auto",
         "type": "bar",
         "x": [
          "2025-05"
         ],
         "xaxis": "x5",
         "y": {
          "bdata": "AAAAAAAA8D8=",
          "dtype": "f8"
         },
         "yaxis": "y5"
        },
        {
         "hovertemplate": "Ship To Name=PIERCING PAGODA 254<br>Color=K<br>Month=%{x}<br>Line Count Int=%{y}<extra></extra>",
         "legendgroup": "PIERCING PAGODA 254",
         "marker": {
          "color": "#FF97FF",
          "pattern": {
           "shape": ""
          }
         },
         "name": "PIERCING PAGODA 254",
         "orientation": "v",
         "showlegend": true,
         "textposition": "auto",
         "type": "bar",
         "x": [
          "2025-05"
         ],
         "xaxis": "x5",
         "y": {
          "bdata": "AAAAAAAA8D8=",
          "dtype": "f8"
         },
         "yaxis": "y5"
        },
        {
         "hovertemplate": "Ship To Name=PIERCING PAGODA 2585<br>Color=K<br>Month=%{x}<br>Line Count Int=%{y}<extra></extra>",
         "legendgroup": "PIERCING PAGODA 2585",
         "marker": {
          "color": "#FECB52",
          "pattern": {
           "shape": ""
          }
         },
         "name": "PIERCING PAGODA 2585",
         "orientation": "v",
         "showlegend": true,
         "textposition": "auto",
         "type": "bar",
         "x": [
          "2025-05"
         ],
         "xaxis": "x5",
         "y": {
          "bdata": "AAAAAAAA8D8=",
          "dtype": "f8"
         },
         "yaxis": "y5"
        },
        {
         "hovertemplate": "Ship To Name=PIERCING PAGODA 2589<br>Color=K<br>Month=%{x}<br>Line Count Int=%{y}<extra></extra>",
         "legendgroup": "PIERCING PAGODA 2589",
         "marker": {
          "color": "#636efa",
          "pattern": {
           "shape": ""
          }
         },
         "name": "PIERCING PAGODA 2589",
         "orientation": "v",
         "showlegend": true,
         "textposition": "auto",
         "type": "bar",
         "x": [
          "2025-05"
         ],
         "xaxis": "x5",
         "y": {
          "bdata": "AAAAAAAA8D8=",
          "dtype": "f8"
         },
         "yaxis": "y5"
        },
        {
         "hovertemplate": "Ship To Name=PIERCING PAGODA 2595<br>Color=K<br>Month=%{x}<br>Line Count Int=%{y}<extra></extra>",
         "legendgroup": "PIERCING PAGODA 2595",
         "marker": {
          "color": "#EF553B",
          "pattern": {
           "shape": ""
          }
         },
         "name": "PIERCING PAGODA 2595",
         "orientation": "v",
         "showlegend": true,
         "textposition": "auto",
         "type": "bar",
         "x": [
          "2025-05"
         ],
         "xaxis": "x5",
         "y": {
          "bdata": "AAAAAAAANkA=",
          "dtype": "f8"
         },
         "yaxis": "y5"
        },
        {
         "hovertemplate": "Ship To Name=PIERCING PAGODA 2624<br>Color=K<br>Month=%{x}<br>Line Count Int=%{y}<extra></extra>",
         "legendgroup": "PIERCING PAGODA 2624",
         "marker": {
          "color": "#00cc96",
          "pattern": {
           "shape": ""
          }
         },
         "name": "PIERCING PAGODA 2624",
         "orientation": "v",
         "showlegend": true,
         "textposition": "auto",
         "type": "bar",
         "x": [
          "2025-05"
         ],
         "xaxis": "x5",
         "y": {
          "bdata": "AAAAAAAALkA=",
          "dtype": "f8"
         },
         "yaxis": "y5"
        },
        {
         "hovertemplate": "Ship To Name=PIERCING PAGODA 2628<br>Color=K<br>Month=%{x}<br>Line Count Int=%{y}<extra></extra>",
         "legendgroup": "PIERCING PAGODA 2628",
         "marker": {
          "color": "#ab63fa",
          "pattern": {
           "shape": ""
          }
         },
         "name": "PIERCING PAGODA 2628",
         "orientation": "v",
         "showlegend": true,
         "textposition": "auto",
         "type": "bar",
         "x": [
          "2025-05"
         ],
         "xaxis": "x5",
         "y": {
          "bdata": "AAAAAAAALkA=",
          "dtype": "f8"
         },
         "yaxis": "y5"
        },
        {
         "hovertemplate": "Ship To Name=PIERCING PAGODA 29<br>Color=K<br>Month=%{x}<br>Line Count Int=%{y}<extra></extra>",
         "legendgroup": "PIERCING PAGODA 29",
         "marker": {
          "color": "#FFA15A",
          "pattern": {
           "shape": ""
          }
         },
         "name": "PIERCING PAGODA 29",
         "orientation": "v",
         "showlegend": true,
         "textposition": "auto",
         "type": "bar",
         "x": [
          "2025-05"
         ],
         "xaxis": "x5",
         "y": {
          "bdata": "AAAAAAAANkA=",
          "dtype": "f8"
         },
         "yaxis": "y5"
        },
        {
         "hovertemplate": "Ship To Name=PIERCING PAGODA 295<br>Color=K<br>Month=%{x}<br>Line Count Int=%{y}<extra></extra>",
         "legendgroup": "PIERCING PAGODA 295",
         "marker": {
          "color": "#19d3f3",
          "pattern": {
           "shape": ""
          }
         },
         "name": "PIERCING PAGODA 295",
         "orientation": "v",
         "showlegend": true,
         "textposition": "auto",
         "type": "bar",
         "x": [
          "2025-05"
         ],
         "xaxis": "x5",
         "y": {
          "bdata": "AAAAAAAALkA=",
          "dtype": "f8"
         },
         "yaxis": "y5"
        },
        {
         "hovertemplate": "Ship To Name=PIERCING PAGODA 305<br>Color=K<br>Month=%{x}<br>Line Count Int=%{y}<extra></extra>",
         "legendgroup": "PIERCING PAGODA 305",
         "marker": {
          "color": "#FF6692",
          "pattern": {
           "shape": ""
          }
         },
         "name": "PIERCING PAGODA 305",
         "orientation": "v",
         "showlegend": true,
         "textposition": "auto",
         "type": "bar",
         "x": [
          "2025-05"
         ],
         "xaxis": "x5",
         "y": {
          "bdata": "AAAAAAAANkA=",
          "dtype": "f8"
         },
         "yaxis": "y5"
        },
        {
         "hovertemplate": "Ship To Name=PIERCING PAGODA 348<br>Color=K<br>Month=%{x}<br>Line Count Int=%{y}<extra></extra>",
         "legendgroup": "PIERCING PAGODA 348",
         "marker": {
          "color": "#B6E880",
          "pattern": {
           "shape": ""
          }
         },
         "name": "PIERCING PAGODA 348",
         "orientation": "v",
         "showlegend": true,
         "textposition": "auto",
         "type": "bar",
         "x": [
          "2025-05"
         ],
         "xaxis": "x5",
         "y": {
          "bdata": "AAAAAAAACEA=",
          "dtype": "f8"
         },
         "yaxis": "y5"
        },
        {
         "hovertemplate": "Ship To Name=PIERCING PAGODA 3637<br>Color=K<br>Month=%{x}<br>Line Count Int=%{y}<extra></extra>",
         "legendgroup": "PIERCING PAGODA 3637",
         "marker": {
          "color": "#FF97FF",
          "pattern": {
           "shape": ""
          }
         },
         "name": "PIERCING PAGODA 3637",
         "orientation": "v",
         "showlegend": true,
         "textposition": "auto",
         "type": "bar",
         "x": [
          "2025-05"
         ],
         "xaxis": "x5",
         "y": {
          "bdata": "AAAAAAAANkA=",
          "dtype": "f8"
         },
         "yaxis": "y5"
        },
        {
         "hovertemplate": "Ship To Name=PIERCING PAGODA 3639<br>Color=K<br>Month=%{x}<br>Line Count Int=%{y}<extra></extra>",
         "legendgroup": "PIERCING PAGODA 3639",
         "marker": {
          "color": "#FECB52",
          "pattern": {
           "shape": ""
          }
         },
         "name": "PIERCING PAGODA 3639",
         "orientation": "v",
         "showlegend": true,
         "textposition": "auto",
         "type": "bar",
         "x": [
          "2025-05"
         ],
         "xaxis": "x5",
         "y": {
          "bdata": "AAAAAAAAAEA=",
          "dtype": "f8"
         },
         "yaxis": "y5"
        },
        {
         "hovertemplate": "Ship To Name=PIERCING PAGODA 3644<br>Color=K<br>Month=%{x}<br>Line Count Int=%{y}<extra></extra>",
         "legendgroup": "PIERCING PAGODA 3644",
         "marker": {
          "color": "#636efa",
          "pattern": {
           "shape": ""
          }
         },
         "name": "PIERCING PAGODA 3644",
         "orientation": "v",
         "showlegend": true,
         "textposition": "auto",
         "type": "bar",
         "x": [
          "2025-05"
         ],
         "xaxis": "x5",
         "y": {
          "bdata": "AAAAAAAALkA=",
          "dtype": "f8"
         },
         "yaxis": "y5"
        },
        {
         "hovertemplate": "Ship To Name=PIERCING PAGODA 3646<br>Color=K<br>Month=%{x}<br>Line Count Int=%{y}<extra></extra>",
         "legendgroup": "PIERCING PAGODA 3646",
         "marker": {
          "color": "#EF553B",
          "pattern": {
           "shape": ""
          }
         },
         "name": "PIERCING PAGODA 3646",
         "orientation": "v",
         "showlegend": true,
         "textposition": "auto",
         "type": "bar",
         "x": [
          "2025-05"
         ],
         "xaxis": "x5",
         "y": {
          "bdata": "AAAAAAAAMUA=",
          "dtype": "f8"
         },
         "yaxis": "y5"
        },
        {
         "hovertemplate": "Ship To Name=PIERCING PAGODA 3651<br>Color=K<br>Month=%{x}<br>Line Count Int=%{y}<extra></extra>",
         "legendgroup": "PIERCING PAGODA 3651",
         "marker": {
          "color": "#00cc96",
          "pattern": {
           "shape": ""
          }
         },
         "name": "PIERCING PAGODA 3651",
         "orientation": "v",
         "showlegend": true,
         "textposition": "auto",
         "type": "bar",
         "x": [
          "2025-05"
         ],
         "xaxis": "x5",
         "y": {
          "bdata": "AAAAAAAA8D8=",
          "dtype": "f8"
         },
         "yaxis": "y5"
        },
        {
         "hovertemplate": "Ship To Name=PIERCING PAGODA 3659<br>Color=K<br>Month=%{x}<br>Line Count Int=%{y}<extra></extra>",
         "legendgroup": "PIERCING PAGODA 3659",
         "marker": {
          "color": "#ab63fa",
          "pattern": {
           "shape": ""
          }
         },
         "name": "PIERCING PAGODA 3659",
         "orientation": "v",
         "showlegend": true,
         "textposition": "auto",
         "type": "bar",
         "x": [
          "2025-05"
         ],
         "xaxis": "x5",
         "y": {
          "bdata": "AAAAAAAAN0A=",
          "dtype": "f8"
         },
         "yaxis": "y5"
        },
        {
         "hovertemplate": "Ship To Name=PIERCING PAGODA 3711<br>Color=K<br>Month=%{x}<br>Line Count Int=%{y}<extra></extra>",
         "legendgroup": "PIERCING PAGODA 3711",
         "marker": {
          "color": "#FFA15A",
          "pattern": {
           "shape": ""
          }
         },
         "name": "PIERCING PAGODA 3711",
         "orientation": "v",
         "showlegend": true,
         "textposition": "auto",
         "type": "bar",
         "x": [
          "2025-05"
         ],
         "xaxis": "x5",
         "y": {
          "bdata": "AAAAAAAA8D8=",
          "dtype": "f8"
         },
         "yaxis": "y5"
        },
        {
         "hovertemplate": "Ship To Name=PIERCING PAGODA 3713<br>Color=K<br>Month=%{x}<br>Line Count Int=%{y}<extra></extra>",
         "legendgroup": "PIERCING PAGODA 3713",
         "marker": {
          "color": "#19d3f3",
          "pattern": {
           "shape": ""
          }
         },
         "name": "PIERCING PAGODA 3713",
         "orientation": "v",
         "showlegend": true,
         "textposition": "auto",
         "type": "bar",
         "x": [
          "2025-05"
         ],
         "xaxis": "x5",
         "y": {
          "bdata": "AAAAAAAACEA=",
          "dtype": "f8"
         },
         "yaxis": "y5"
        },
        {
         "hovertemplate": "Ship To Name=PIERCING PAGODA 3721<br>Color=K<br>Month=%{x}<br>Line Count Int=%{y}<extra></extra>",
         "legendgroup": "PIERCING PAGODA 3721",
         "marker": {
          "color": "#FF6692",
          "pattern": {
           "shape": ""
          }
         },
         "name": "PIERCING PAGODA 3721",
         "orientation": "v",
         "showlegend": true,
         "textposition": "auto",
         "type": "bar",
         "x": [
          "2025-05"
         ],
         "xaxis": "x5",
         "y": {
          "bdata": "AAAAAAAALkA=",
          "dtype": "f8"
         },
         "yaxis": "y5"
        },
        {
         "hovertemplate": "Ship To Name=PIERCING PAGODA 3727<br>Color=K<br>Month=%{x}<br>Line Count Int=%{y}<extra></extra>",
         "legendgroup": "PIERCING PAGODA 3727",
         "marker": {
          "color": "#B6E880",
          "pattern": {
           "shape": ""
          }
         },
         "name": "PIERCING PAGODA 3727",
         "orientation": "v",
         "showlegend": true,
         "textposition": "auto",
         "type": "bar",
         "x": [
          "2025-05"
         ],
         "xaxis": "x5",
         "y": {
          "bdata": "AAAAAAAALkA=",
          "dtype": "f8"
         },
         "yaxis": "y5"
        },
        {
         "hovertemplate": "Ship To Name=PIERCING PAGODA 3745<br>Color=K<br>Month=%{x}<br>Line Count Int=%{y}<extra></extra>",
         "legendgroup": "PIERCING PAGODA 3745",
         "marker": {
          "color": "#FF97FF",
          "pattern": {
           "shape": ""
          }
         },
         "name": "PIERCING PAGODA 3745",
         "orientation": "v",
         "showlegend": true,
         "textposition": "auto",
         "type": "bar",
         "x": [
          "2025-05"
         ],
         "xaxis": "x5",
         "y": {
          "bdata": "AAAAAAAA8D8=",
          "dtype": "f8"
         },
         "yaxis": "y5"
        },
        {
         "hovertemplate": "Ship To Name=PIERCING PAGODA 3757<br>Color=K<br>Month=%{x}<br>Line Count Int=%{y}<extra></extra>",
         "legendgroup": "PIERCING PAGODA 3757",
         "marker": {
          "color": "#FECB52",
          "pattern": {
           "shape": ""
          }
         },
         "name": "PIERCING PAGODA 3757",
         "orientation": "v",
         "showlegend": true,
         "textposition": "auto",
         "type": "bar",
         "x": [
          "2025-05"
         ],
         "xaxis": "x5",
         "y": {
          "bdata": "AAAAAAAALkA=",
          "dtype": "f8"
         },
         "yaxis": "y5"
        },
        {
         "hovertemplate": "Ship To Name=PIERCING PAGODA 3906<br>Color=K<br>Month=%{x}<br>Line Count Int=%{y}<extra></extra>",
         "legendgroup": "PIERCING PAGODA 3906",
         "marker": {
          "color": "#636efa",
          "pattern": {
           "shape": ""
          }
         },
         "name": "PIERCING PAGODA 3906",
         "orientation": "v",
         "showlegend": true,
         "textposition": "auto",
         "type": "bar",
         "x": [
          "2025-05"
         ],
         "xaxis": "x5",
         "y": {
          "bdata": "AAAAAAAAJEA=",
          "dtype": "f8"
         },
         "yaxis": "y5"
        },
        {
         "hovertemplate": "Ship To Name=PIERCING PAGODA 451<br>Color=K<br>Month=%{x}<br>Line Count Int=%{y}<extra></extra>",
         "legendgroup": "PIERCING PAGODA 451",
         "marker": {
          "color": "#EF553B",
          "pattern": {
           "shape": ""
          }
         },
         "name": "PIERCING PAGODA 451",
         "orientation": "v",
         "showlegend": true,
         "textposition": "auto",
         "type": "bar",
         "x": [
          "2025-05"
         ],
         "xaxis": "x5",
         "y": {
          "bdata": "AAAAAAAANUA=",
          "dtype": "f8"
         },
         "yaxis": "y5"
        },
        {
         "hovertemplate": "Ship To Name=PIERCING PAGODA 500<br>Color=K<br>Month=%{x}<br>Line Count Int=%{y}<extra></extra>",
         "legendgroup": "PIERCING PAGODA 500",
         "marker": {
          "color": "#00cc96",
          "pattern": {
           "shape": ""
          }
         },
         "name": "PIERCING PAGODA 500",
         "orientation": "v",
         "showlegend": true,
         "textposition": "auto",
         "type": "bar",
         "x": [
          "2025-05"
         ],
         "xaxis": "x5",
         "y": {
          "bdata": "AAAAAAAANkA=",
          "dtype": "f8"
         },
         "yaxis": "y5"
        },
        {
         "hovertemplate": "Ship To Name=PIERCING PAGODA 568<br>Color=K<br>Month=%{x}<br>Line Count Int=%{y}<extra></extra>",
         "legendgroup": "PIERCING PAGODA 568",
         "marker": {
          "color": "#ab63fa",
          "pattern": {
           "shape": ""
          }
         },
         "name": "PIERCING PAGODA 568",
         "orientation": "v",
         "showlegend": true,
         "textposition": "auto",
         "type": "bar",
         "x": [
          "2025-05"
         ],
         "xaxis": "x5",
         "y": {
          "bdata": "AAAAAAAALkA=",
          "dtype": "f8"
         },
         "yaxis": "y5"
        },
        {
         "hovertemplate": "Ship To Name=PIERCING PAGODA 5703<br>Color=K<br>Month=%{x}<br>Line Count Int=%{y}<extra></extra>",
         "legendgroup": "PIERCING PAGODA 5703",
         "marker": {
          "color": "#FFA15A",
          "pattern": {
           "shape": ""
          }
         },
         "name": "PIERCING PAGODA 5703",
         "orientation": "v",
         "showlegend": true,
         "textposition": "auto",
         "type": "bar",
         "x": [
          "2025-05"
         ],
         "xaxis": "x5",
         "y": {
          "bdata": "AAAAAAAA8D8=",
          "dtype": "f8"
         },
         "yaxis": "y5"
        },
        {
         "hovertemplate": "Ship To Name=PIERCING PAGODA 596<br>Color=K<br>Month=%{x}<br>Line Count Int=%{y}<extra></extra>",
         "legendgroup": "PIERCING PAGODA 596",
         "marker": {
          "color": "#19d3f3",
          "pattern": {
           "shape": ""
          }
         },
         "name": "PIERCING PAGODA 596",
         "orientation": "v",
         "showlegend": true,
         "textposition": "auto",
         "type": "bar",
         "x": [
          "2025-05"
         ],
         "xaxis": "x5",
         "y": {
          "bdata": "AAAAAAAALkA=",
          "dtype": "f8"
         },
         "yaxis": "y5"
        },
        {
         "hovertemplate": "Ship To Name=PIERCING PAGODA 61<br>Color=K<br>Month=%{x}<br>Line Count Int=%{y}<extra></extra>",
         "legendgroup": "PIERCING PAGODA 61",
         "marker": {
          "color": "#FF6692",
          "pattern": {
           "shape": ""
          }
         },
         "name": "PIERCING PAGODA 61",
         "orientation": "v",
         "showlegend": true,
         "textposition": "auto",
         "type": "bar",
         "x": [
          "2025-05"
         ],
         "xaxis": "x5",
         "y": {
          "bdata": "AAAAAAAAPUA=",
          "dtype": "f8"
         },
         "yaxis": "y5"
        },
        {
         "hovertemplate": "Ship To Name=PIERCING PAGODA 627<br>Color=K<br>Month=%{x}<br>Line Count Int=%{y}<extra></extra>",
         "legendgroup": "PIERCING PAGODA 627",
         "marker": {
          "color": "#B6E880",
          "pattern": {
           "shape": ""
          }
         },
         "name": "PIERCING PAGODA 627",
         "orientation": "v",
         "showlegend": true,
         "textposition": "auto",
         "type": "bar",
         "x": [
          "2025-05"
         ],
         "xaxis": "x5",
         "y": {
          "bdata": "AAAAAAAAJEA=",
          "dtype": "f8"
         },
         "yaxis": "y5"
        },
        {
         "hovertemplate": "Ship To Name=PIERCING PAGODA 639<br>Color=K<br>Month=%{x}<br>Line Count Int=%{y}<extra></extra>",
         "legendgroup": "PIERCING PAGODA 639",
         "marker": {
          "color": "#FF97FF",
          "pattern": {
           "shape": ""
          }
         },
         "name": "PIERCING PAGODA 639",
         "orientation": "v",
         "showlegend": true,
         "textposition": "auto",
         "type": "bar",
         "x": [
          "2025-05"
         ],
         "xaxis": "x5",
         "y": {
          "bdata": "AAAAAAAA8D8=",
          "dtype": "f8"
         },
         "yaxis": "y5"
        },
        {
         "hovertemplate": "Ship To Name=PIERCING PAGODA 642<br>Color=K<br>Month=%{x}<br>Line Count Int=%{y}<extra></extra>",
         "legendgroup": "PIERCING PAGODA 642",
         "marker": {
          "color": "#FECB52",
          "pattern": {
           "shape": ""
          }
         },
         "name": "PIERCING PAGODA 642",
         "orientation": "v",
         "showlegend": true,
         "textposition": "auto",
         "type": "bar",
         "x": [
          "2025-05"
         ],
         "xaxis": "x5",
         "y": {
          "bdata": "AAAAAAAA8D8=",
          "dtype": "f8"
         },
         "yaxis": "y5"
        },
        {
         "hovertemplate": "Ship To Name=PIERCING PAGODA 652<br>Color=K<br>Month=%{x}<br>Line Count Int=%{y}<extra></extra>",
         "legendgroup": "PIERCING PAGODA 652",
         "marker": {
          "color": "#636efa",
          "pattern": {
           "shape": ""
          }
         },
         "name": "PIERCING PAGODA 652",
         "orientation": "v",
         "showlegend": true,
         "textposition": "auto",
         "type": "bar",
         "x": [
          "2025-05"
         ],
         "xaxis": "x5",
         "y": {
          "bdata": "AAAAAAAANkA=",
          "dtype": "f8"
         },
         "yaxis": "y5"
        },
        {
         "hovertemplate": "Ship To Name=PIERCING PAGODA 660<br>Color=K<br>Month=%{x}<br>Line Count Int=%{y}<extra></extra>",
         "legendgroup": "PIERCING PAGODA 660",
         "marker": {
          "color": "#EF553B",
          "pattern": {
           "shape": ""
          }
         },
         "name": "PIERCING PAGODA 660",
         "orientation": "v",
         "showlegend": true,
         "textposition": "auto",
         "type": "bar",
         "x": [
          "2025-05"
         ],
         "xaxis": "x5",
         "y": {
          "bdata": "AAAAAAAA8D8=",
          "dtype": "f8"
         },
         "yaxis": "y5"
        },
        {
         "hovertemplate": "Ship To Name=PIERCING PAGODA 743<br>Color=K<br>Month=%{x}<br>Line Count Int=%{y}<extra></extra>",
         "legendgroup": "PIERCING PAGODA 743",
         "marker": {
          "color": "#00cc96",
          "pattern": {
           "shape": ""
          }
         },
         "name": "PIERCING PAGODA 743",
         "orientation": "v",
         "showlegend": true,
         "textposition": "auto",
         "type": "bar",
         "x": [
          "2025-05"
         ],
         "xaxis": "x5",
         "y": {
          "bdata": "AAAAAAAAIEA=",
          "dtype": "f8"
         },
         "yaxis": "y5"
        },
        {
         "hovertemplate": "Ship To Name=PIERCING PAGODA 825<br>Color=K<br>Month=%{x}<br>Line Count Int=%{y}<extra></extra>",
         "legendgroup": "PIERCING PAGODA 825",
         "marker": {
          "color": "#ab63fa",
          "pattern": {
           "shape": ""
          }
         },
         "name": "PIERCING PAGODA 825",
         "orientation": "v",
         "showlegend": true,
         "textposition": "auto",
         "type": "bar",
         "x": [
          "2025-05"
         ],
         "xaxis": "x5",
         "y": {
          "bdata": "AAAAAAAANkA=",
          "dtype": "f8"
         },
         "yaxis": "y5"
        },
        {
         "hovertemplate": "Ship To Name=PIERCING PAGODA 830<br>Color=K<br>Month=%{x}<br>Line Count Int=%{y}<extra></extra>",
         "legendgroup": "PIERCING PAGODA 830",
         "marker": {
          "color": "#FFA15A",
          "pattern": {
           "shape": ""
          }
         },
         "name": "PIERCING PAGODA 830",
         "orientation": "v",
         "showlegend": true,
         "textposition": "auto",
         "type": "bar",
         "x": [
          "2025-05"
         ],
         "xaxis": "x5",
         "y": {
          "bdata": "AAAAAAAAPUA=",
          "dtype": "f8"
         },
         "yaxis": "y5"
        },
        {
         "hovertemplate": "Ship To Name=PIERCING PAGODA 861<br>Color=K<br>Month=%{x}<br>Line Count Int=%{y}<extra></extra>",
         "legendgroup": "PIERCING PAGODA 861",
         "marker": {
          "color": "#19d3f3",
          "pattern": {
           "shape": ""
          }
         },
         "name": "PIERCING PAGODA 861",
         "orientation": "v",
         "showlegend": true,
         "textposition": "auto",
         "type": "bar",
         "x": [
          "2025-05"
         ],
         "xaxis": "x5",
         "y": {
          "bdata": "AAAAAAAA8D8=",
          "dtype": "f8"
         },
         "yaxis": "y5"
        },
        {
         "hovertemplate": "Ship To Name=PIERCING PAGODA 908<br>Color=K<br>Month=%{x}<br>Line Count Int=%{y}<extra></extra>",
         "legendgroup": "PIERCING PAGODA 908",
         "marker": {
          "color": "#FF6692",
          "pattern": {
           "shape": ""
          }
         },
         "name": "PIERCING PAGODA 908",
         "orientation": "v",
         "showlegend": true,
         "textposition": "auto",
         "type": "bar",
         "x": [
          "2025-05"
         ],
         "xaxis": "x5",
         "y": {
          "bdata": "AAAAAAAA8D8=",
          "dtype": "f8"
         },
         "yaxis": "y5"
        },
        {
         "hovertemplate": "Ship To Name=PIERCING PAGODA 919<br>Color=K<br>Month=%{x}<br>Line Count Int=%{y}<extra></extra>",
         "legendgroup": "PIERCING PAGODA 919",
         "marker": {
          "color": "#B6E880",
          "pattern": {
           "shape": ""
          }
         },
         "name": "PIERCING PAGODA 919",
         "orientation": "v",
         "showlegend": true,
         "textposition": "auto",
         "type": "bar",
         "x": [
          "2025-05"
         ],
         "xaxis": "x5",
         "y": {
          "bdata": "AAAAAAAAIEA=",
          "dtype": "f8"
         },
         "yaxis": "y5"
        },
        {
         "hovertemplate": "Ship To Name=PIERCING PAGODA 964<br>Color=K<br>Month=%{x}<br>Line Count Int=%{y}<extra></extra>",
         "legendgroup": "PIERCING PAGODA 964",
         "marker": {
          "color": "#FF97FF",
          "pattern": {
           "shape": ""
          }
         },
         "name": "PIERCING PAGODA 964",
         "orientation": "v",
         "showlegend": true,
         "textposition": "auto",
         "type": "bar",
         "x": [
          "2025-05"
         ],
         "xaxis": "x5",
         "y": {
          "bdata": "AAAAAAAA8D8=",
          "dtype": "f8"
         },
         "yaxis": "y5"
        },
        {
         "hovertemplate": "Ship To Name=PIERCING PAGODA 970<br>Color=K<br>Month=%{x}<br>Line Count Int=%{y}<extra></extra>",
         "legendgroup": "PIERCING PAGODA 970",
         "marker": {
          "color": "#FECB52",
          "pattern": {
           "shape": ""
          }
         },
         "name": "PIERCING PAGODA 970",
         "orientation": "v",
         "showlegend": true,
         "textposition": "auto",
         "type": "bar",
         "x": [
          "2025-05"
         ],
         "xaxis": "x5",
         "y": {
          "bdata": "AAAAAAAAPUA=",
          "dtype": "f8"
         },
         "yaxis": "y5"
        },
        {
         "hovertemplate": "Ship To Name=PIERCING PAGODA 974<br>Color=K<br>Month=%{x}<br>Line Count Int=%{y}<extra></extra>",
         "legendgroup": "PIERCING PAGODA 974",
         "marker": {
          "color": "#636efa",
          "pattern": {
           "shape": ""
          }
         },
         "name": "PIERCING PAGODA 974",
         "orientation": "v",
         "showlegend": true,
         "textposition": "auto",
         "type": "bar",
         "x": [
          "2025-05"
         ],
         "xaxis": "x5",
         "y": {
          "bdata": "AAAAAAAACEA=",
          "dtype": "f8"
         },
         "yaxis": "y5"
        },
        {
         "hovertemplate": "Ship To Name=PIERCING PAGODA 994<br>Color=K<br>Month=%{x}<br>Line Count Int=%{y}<extra></extra>",
         "legendgroup": "PIERCING PAGODA 994",
         "marker": {
          "color": "#EF553B",
          "pattern": {
           "shape": ""
          }
         },
         "name": "PIERCING PAGODA 994",
         "orientation": "v",
         "showlegend": true,
         "textposition": "auto",
         "type": "bar",
         "x": [
          "2025-05"
         ],
         "xaxis": "x5",
         "y": {
          "bdata": "AAAAAAAAOEA=",
          "dtype": "f8"
         },
         "yaxis": "y5"
        },
        {
         "hovertemplate": "Ship To Name=ZALES 1257<br>Color=K<br>Month=%{x}<br>Line Count Int=%{y}<extra></extra>",
         "legendgroup": "ZALES 1257",
         "marker": {
          "color": "#00cc96",
          "pattern": {
           "shape": ""
          }
         },
         "name": "ZALES 1257",
         "orientation": "v",
         "showlegend": true,
         "textposition": "auto",
         "type": "bar",
         "x": [
          "2025-05"
         ],
         "xaxis": "x5",
         "y": {
          "bdata": "AAAAAAAAIEA=",
          "dtype": "f8"
         },
         "yaxis": "y5"
        },
        {
         "hovertemplate": "Ship To Name=ZALES 1329<br>Color=K<br>Month=%{x}<br>Line Count Int=%{y}<extra></extra>",
         "legendgroup": "ZALES 1329",
         "marker": {
          "color": "#ab63fa",
          "pattern": {
           "shape": ""
          }
         },
         "name": "ZALES 1329",
         "orientation": "v",
         "showlegend": true,
         "textposition": "auto",
         "type": "bar",
         "x": [
          "2025-05"
         ],
         "xaxis": "x5",
         "y": {
          "bdata": "AAAAAAAAJEA=",
          "dtype": "f8"
         },
         "yaxis": "y5"
        },
        {
         "hovertemplate": "Ship To Name=ZALES 1479<br>Color=K<br>Month=%{x}<br>Line Count Int=%{y}<extra></extra>",
         "legendgroup": "ZALES 1479",
         "marker": {
          "color": "#FFA15A",
          "pattern": {
           "shape": ""
          }
         },
         "name": "ZALES 1479",
         "orientation": "v",
         "showlegend": true,
         "textposition": "auto",
         "type": "bar",
         "x": [
          "2025-05"
         ],
         "xaxis": "x5",
         "y": {
          "bdata": "AAAAAAAAPUA=",
          "dtype": "f8"
         },
         "yaxis": "y5"
        },
        {
         "hovertemplate": "Ship To Name=ZALES 1507<br>Color=K<br>Month=%{x}<br>Line Count Int=%{y}<extra></extra>",
         "legendgroup": "ZALES 1507",
         "marker": {
          "color": "#19d3f3",
          "pattern": {
           "shape": ""
          }
         },
         "name": "ZALES 1507",
         "orientation": "v",
         "showlegend": true,
         "textposition": "auto",
         "type": "bar",
         "x": [
          "2025-05"
         ],
         "xaxis": "x5",
         "y": {
          "bdata": "AAAAAAAALkA=",
          "dtype": "f8"
         },
         "yaxis": "y5"
        },
        {
         "hovertemplate": "Ship To Name=ZALES 1537<br>Color=K<br>Month=%{x}<br>Line Count Int=%{y}<extra></extra>",
         "legendgroup": "ZALES 1537",
         "marker": {
          "color": "#FF6692",
          "pattern": {
           "shape": ""
          }
         },
         "name": "ZALES 1537",
         "orientation": "v",
         "showlegend": true,
         "textposition": "auto",
         "type": "bar",
         "x": [
          "2025-05"
         ],
         "xaxis": "x5",
         "y": {
          "bdata": "AAAAAAAAPUA=",
          "dtype": "f8"
         },
         "yaxis": "y5"
        },
        {
         "hovertemplate": "Ship To Name=ZALES 1577<br>Color=K<br>Month=%{x}<br>Line Count Int=%{y}<extra></extra>",
         "legendgroup": "ZALES 1577",
         "marker": {
          "color": "#B6E880",
          "pattern": {
           "shape": ""
          }
         },
         "name": "ZALES 1577",
         "orientation": "v",
         "showlegend": true,
         "textposition": "auto",
         "type": "bar",
         "x": [
          "2025-05"
         ],
         "xaxis": "x5",
         "y": {
          "bdata": "AAAAAAAAFEA=",
          "dtype": "f8"
         },
         "yaxis": "y5"
        },
        {
         "hovertemplate": "Ship To Name=ZALES 1758<br>Color=K<br>Month=%{x}<br>Line Count Int=%{y}<extra></extra>",
         "legendgroup": "ZALES 1758",
         "marker": {
          "color": "#FF97FF",
          "pattern": {
           "shape": ""
          }
         },
         "name": "ZALES 1758",
         "orientation": "v",
         "showlegend": true,
         "textposition": "auto",
         "type": "bar",
         "x": [
          "2025-05"
         ],
         "xaxis": "x5",
         "y": {
          "bdata": "AAAAAAAALkA=",
          "dtype": "f8"
         },
         "yaxis": "y5"
        },
        {
         "hovertemplate": "Ship To Name=ZALES 1789<br>Color=K<br>Month=%{x}<br>Line Count Int=%{y}<extra></extra>",
         "legendgroup": "ZALES 1789",
         "marker": {
          "color": "#FECB52",
          "pattern": {
           "shape": ""
          }
         },
         "name": "ZALES 1789",
         "orientation": "v",
         "showlegend": true,
         "textposition": "auto",
         "type": "bar",
         "x": [
          "2025-05"
         ],
         "xaxis": "x5",
         "y": {
          "bdata": "AAAAAAAAJEA=",
          "dtype": "f8"
         },
         "yaxis": "y5"
        },
        {
         "hovertemplate": "Ship To Name=ZALES 2715<br>Color=K<br>Month=%{x}<br>Line Count Int=%{y}<extra></extra>",
         "legendgroup": "ZALES 2715",
         "marker": {
          "color": "#636efa",
          "pattern": {
           "shape": ""
          }
         },
         "name": "ZALES 2715",
         "orientation": "v",
         "showlegend": true,
         "textposition": "auto",
         "type": "bar",
         "x": [
          "2025-05"
         ],
         "xaxis": "x5",
         "y": {
          "bdata": "AAAAAAAA8D8=",
          "dtype": "f8"
         },
         "yaxis": "y5"
        },
        {
         "hovertemplate": "Ship To Name=ZALES 289<br>Color=K<br>Month=%{x}<br>Line Count Int=%{y}<extra></extra>",
         "legendgroup": "ZALES 289",
         "marker": {
          "color": "#EF553B",
          "pattern": {
           "shape": ""
          }
         },
         "name": "ZALES 289",
         "orientation": "v",
         "showlegend": true,
         "textposition": "auto",
         "type": "bar",
         "x": [
          "2025-05"
         ],
         "xaxis": "x5",
         "y": {
          "bdata": "AAAAAAAAPUA=",
          "dtype": "f8"
         },
         "yaxis": "y5"
        },
        {
         "hovertemplate": "Ship To Name=ZALES 3565<br>Color=K<br>Month=%{x}<br>Line Count Int=%{y}<extra></extra>",
         "legendgroup": "ZALES 3565",
         "marker": {
          "color": "#00cc96",
          "pattern": {
           "shape": ""
          }
         },
         "name": "ZALES 3565",
         "orientation": "v",
         "showlegend": true,
         "textposition": "auto",
         "type": "bar",
         "x": [
          "2025-05"
         ],
         "xaxis": "x5",
         "y": {
          "bdata": "AAAAAAAANkA=",
          "dtype": "f8"
         },
         "yaxis": "y5"
        },
        {
         "hovertemplate": "Ship To Name=ZALES 3749<br>Color=K<br>Month=%{x}<br>Line Count Int=%{y}<extra></extra>",
         "legendgroup": "ZALES 3749",
         "marker": {
          "color": "#ab63fa",
          "pattern": {
           "shape": ""
          }
         },
         "name": "ZALES 3749",
         "orientation": "v",
         "showlegend": true,
         "textposition": "auto",
         "type": "bar",
         "x": [
          "2025-05"
         ],
         "xaxis": "x5",
         "y": {
          "bdata": "AAAAAAAALkA=",
          "dtype": "f8"
         },
         "yaxis": "y5"
        },
        {
         "hovertemplate": "Ship To Name=ZALES 856<br>Color=K<br>Month=%{x}<br>Line Count Int=%{y}<extra></extra>",
         "legendgroup": "ZALES 856",
         "marker": {
          "color": "#FFA15A",
          "pattern": {
           "shape": ""
          }
         },
         "name": "ZALES 856",
         "orientation": "v",
         "showlegend": true,
         "textposition": "auto",
         "type": "bar",
         "x": [
          "2025-05"
         ],
         "xaxis": "x5",
         "y": {
          "bdata": "AAAAAAAAPUA=",
          "dtype": "f8"
         },
         "yaxis": "y5"
        },
        {
         "hovertemplate": "Ship To Name=ZALES JEWELERS 1004<br>Color=K<br>Month=%{x}<br>Line Count Int=%{y}<extra></extra>",
         "legendgroup": "ZALES JEWELERS 1004",
         "marker": {
          "color": "#19d3f3",
          "pattern": {
           "shape": ""
          }
         },
         "name": "ZALES JEWELERS 1004",
         "orientation": "v",
         "showlegend": true,
         "textposition": "auto",
         "type": "bar",
         "x": [
          "2025-05"
         ],
         "xaxis": "x5",
         "y": {
          "bdata": "AAAAAAAA8D8=",
          "dtype": "f8"
         },
         "yaxis": "y5"
        },
        {
         "hovertemplate": "Ship To Name=ZALES JEWELERS 1007<br>Color=K<br>Month=%{x}<br>Line Count Int=%{y}<extra></extra>",
         "legendgroup": "ZALES JEWELERS 1007",
         "marker": {
          "color": "#FF6692",
          "pattern": {
           "shape": ""
          }
         },
         "name": "ZALES JEWELERS 1007",
         "orientation": "v",
         "showlegend": true,
         "textposition": "auto",
         "type": "bar",
         "x": [
          "2025-05"
         ],
         "xaxis": "x5",
         "y": {
          "bdata": "AAAAAAAAIEA=",
          "dtype": "f8"
         },
         "yaxis": "y5"
        },
        {
         "hovertemplate": "Ship To Name=ZALES JEWELERS 1014<br>Color=K<br>Month=%{x}<br>Line Count Int=%{y}<extra></extra>",
         "legendgroup": "ZALES JEWELERS 1014",
         "marker": {
          "color": "#B6E880",
          "pattern": {
           "shape": ""
          }
         },
         "name": "ZALES JEWELERS 1014",
         "orientation": "v",
         "showlegend": true,
         "textposition": "auto",
         "type": "bar",
         "x": [
          "2025-05"
         ],
         "xaxis": "x5",
         "y": {
          "bdata": "AAAAAAAACEA=",
          "dtype": "f8"
         },
         "yaxis": "y5"
        },
        {
         "hovertemplate": "Ship To Name=ZALES JEWELERS 1032<br>Color=K<br>Month=%{x}<br>Line Count Int=%{y}<extra></extra>",
         "legendgroup": "ZALES JEWELERS 1032",
         "marker": {
          "color": "#FF97FF",
          "pattern": {
           "shape": ""
          }
         },
         "name": "ZALES JEWELERS 1032",
         "orientation": "v",
         "showlegend": true,
         "textposition": "auto",
         "type": "bar",
         "x": [
          "2025-05"
         ],
         "xaxis": "x5",
         "y": {
          "bdata": "AAAAAAAAPkA=",
          "dtype": "f8"
         },
         "yaxis": "y5"
        },
        {
         "hovertemplate": "Ship To Name=ZALES JEWELERS 1037<br>Color=K<br>Month=%{x}<br>Line Count Int=%{y}<extra></extra>",
         "legendgroup": "ZALES JEWELERS 1037",
         "marker": {
          "color": "#FECB52",
          "pattern": {
           "shape": ""
          }
         },
         "name": "ZALES JEWELERS 1037",
         "orientation": "v",
         "showlegend": true,
         "textposition": "auto",
         "type": "bar",
         "x": [
          "2025-05"
         ],
         "xaxis": "x5",
         "y": {
          "bdata": "AAAAAAAAJEA=",
          "dtype": "f8"
         },
         "yaxis": "y5"
        },
        {
         "hovertemplate": "Ship To Name=ZALES JEWELERS 1047<br>Color=K<br>Month=%{x}<br>Line Count Int=%{y}<extra></extra>",
         "legendgroup": "ZALES JEWELERS 1047",
         "marker": {
          "color": "#636efa",
          "pattern": {
           "shape": ""
          }
         },
         "name": "ZALES JEWELERS 1047",
         "orientation": "v",
         "showlegend": true,
         "textposition": "auto",
         "type": "bar",
         "x": [
          "2025-05"
         ],
         "xaxis": "x5",
         "y": {
          "bdata": "AAAAAAAAPUA=",
          "dtype": "f8"
         },
         "yaxis": "y5"
        },
        {
         "hovertemplate": "Ship To Name=ZALES JEWELERS 1051<br>Color=K<br>Month=%{x}<br>Line Count Int=%{y}<extra></extra>",
         "legendgroup": "ZALES JEWELERS 1051",
         "marker": {
          "color": "#EF553B",
          "pattern": {
           "shape": ""
          }
         },
         "name": "ZALES JEWELERS 1051",
         "orientation": "v",
         "showlegend": true,
         "textposition": "auto",
         "type": "bar",
         "x": [
          "2025-05"
         ],
         "xaxis": "x5",
         "y": {
          "bdata": "AAAAAAAA8D8=",
          "dtype": "f8"
         },
         "yaxis": "y5"
        },
        {
         "hovertemplate": "Ship To Name=ZALES JEWELERS 1080<br>Color=K<br>Month=%{x}<br>Line Count Int=%{y}<extra></extra>",
         "legendgroup": "ZALES JEWELERS 1080",
         "marker": {
          "color": "#00cc96",
          "pattern": {
           "shape": ""
          }
         },
         "name": "ZALES JEWELERS 1080",
         "orientation": "v",
         "showlegend": true,
         "textposition": "auto",
         "type": "bar",
         "x": [
          "2025-05"
         ],
         "xaxis": "x5",
         "y": {
          "bdata": "AAAAAAAAOEA=",
          "dtype": "f8"
         },
         "yaxis": "y5"
        },
        {
         "hovertemplate": "Ship To Name=ZALES JEWELERS 1083<br>Color=K<br>Month=%{x}<br>Line Count Int=%{y}<extra></extra>",
         "legendgroup": "ZALES JEWELERS 1083",
         "marker": {
          "color": "#ab63fa",
          "pattern": {
           "shape": ""
          }
         },
         "name": "ZALES JEWELERS 1083",
         "orientation": "v",
         "showlegend": true,
         "textposition": "auto",
         "type": "bar",
         "x": [
          "2025-05"
         ],
         "xaxis": "x5",
         "y": {
          "bdata": "AAAAAAAACEA=",
          "dtype": "f8"
         },
         "yaxis": "y5"
        },
        {
         "hovertemplate": "Ship To Name=ZALES JEWELERS 1120<br>Color=K<br>Month=%{x}<br>Line Count Int=%{y}<extra></extra>",
         "legendgroup": "ZALES JEWELERS 1120",
         "marker": {
          "color": "#FFA15A",
          "pattern": {
           "shape": ""
          }
         },
         "name": "ZALES JEWELERS 1120",
         "orientation": "v",
         "showlegend": true,
         "textposition": "auto",
         "type": "bar",
         "x": [
          "2025-05"
         ],
         "xaxis": "x5",
         "y": {
          "bdata": "AAAAAAAAOEA=",
          "dtype": "f8"
         },
         "yaxis": "y5"
        },
        {
         "hovertemplate": "Ship To Name=ZALES JEWELERS 1131<br>Color=K<br>Month=%{x}<br>Line Count Int=%{y}<extra></extra>",
         "legendgroup": "ZALES JEWELERS 1131",
         "marker": {
          "color": "#19d3f3",
          "pattern": {
           "shape": ""
          }
         },
         "name": "ZALES JEWELERS 1131",
         "orientation": "v",
         "showlegend": true,
         "textposition": "auto",
         "type": "bar",
         "x": [
          "2025-05"
         ],
         "xaxis": "x5",
         "y": {
          "bdata": "AAAAAAAANkA=",
          "dtype": "f8"
         },
         "yaxis": "y5"
        },
        {
         "hovertemplate": "Ship To Name=ZALES JEWELERS 1142<br>Color=K<br>Month=%{x}<br>Line Count Int=%{y}<extra></extra>",
         "legendgroup": "ZALES JEWELERS 1142",
         "marker": {
          "color": "#FF6692",
          "pattern": {
           "shape": ""
          }
         },
         "name": "ZALES JEWELERS 1142",
         "orientation": "v",
         "showlegend": true,
         "textposition": "auto",
         "type": "bar",
         "x": [
          "2025-05"
         ],
         "xaxis": "x5",
         "y": {
          "bdata": "AAAAAAAANkA=",
          "dtype": "f8"
         },
         "yaxis": "y5"
        },
        {
         "hovertemplate": "Ship To Name=ZALES JEWELERS 1153<br>Color=K<br>Month=%{x}<br>Line Count Int=%{y}<extra></extra>",
         "legendgroup": "ZALES JEWELERS 1153",
         "marker": {
          "color": "#B6E880",
          "pattern": {
           "shape": ""
          }
         },
         "name": "ZALES JEWELERS 1153",
         "orientation": "v",
         "showlegend": true,
         "textposition": "auto",
         "type": "bar",
         "x": [
          "2025-05"
         ],
         "xaxis": "x5",
         "y": {
          "bdata": "AAAAAAAAIEA=",
          "dtype": "f8"
         },
         "yaxis": "y5"
        },
        {
         "hovertemplate": "Ship To Name=ZALES JEWELERS 1154<br>Color=K<br>Month=%{x}<br>Line Count Int=%{y}<extra></extra>",
         "legendgroup": "ZALES JEWELERS 1154",
         "marker": {
          "color": "#FF97FF",
          "pattern": {
           "shape": ""
          }
         },
         "name": "ZALES JEWELERS 1154",
         "orientation": "v",
         "showlegend": true,
         "textposition": "auto",
         "type": "bar",
         "x": [
          "2025-05"
         ],
         "xaxis": "x5",
         "y": {
          "bdata": "AAAAAAAAIEA=",
          "dtype": "f8"
         },
         "yaxis": "y5"
        },
        {
         "hovertemplate": "Ship To Name=ZALES JEWELERS 1165<br>Color=K<br>Month=%{x}<br>Line Count Int=%{y}<extra></extra>",
         "legendgroup": "ZALES JEWELERS 1165",
         "marker": {
          "color": "#FECB52",
          "pattern": {
           "shape": ""
          }
         },
         "name": "ZALES JEWELERS 1165",
         "orientation": "v",
         "showlegend": true,
         "textposition": "auto",
         "type": "bar",
         "x": [
          "2025-05"
         ],
         "xaxis": "x5",
         "y": {
          "bdata": "AAAAAACAQUA=",
          "dtype": "f8"
         },
         "yaxis": "y5"
        },
        {
         "hovertemplate": "Ship To Name=ZALES JEWELERS 1180<br>Color=K<br>Month=%{x}<br>Line Count Int=%{y}<extra></extra>",
         "legendgroup": "ZALES JEWELERS 1180",
         "marker": {
          "color": "#636efa",
          "pattern": {
           "shape": ""
          }
         },
         "name": "ZALES JEWELERS 1180",
         "orientation": "v",
         "showlegend": true,
         "textposition": "auto",
         "type": "bar",
         "x": [
          "2025-05"
         ],
         "xaxis": "x5",
         "y": {
          "bdata": "AAAAAAAALkA=",
          "dtype": "f8"
         },
         "yaxis": "y5"
        },
        {
         "hovertemplate": "Ship To Name=ZALES JEWELERS 1189<br>Color=Unknown<br>Month=%{x}<br>Line Count Int=%{y}<extra></extra>",
         "legendgroup": "ZALES JEWELERS 1189",
         "marker": {
          "color": "#EF553B",
          "pattern": {
           "shape": ""
          }
         },
         "name": "ZALES JEWELERS 1189",
         "orientation": "v",
         "showlegend": true,
         "textposition": "auto",
         "type": "bar",
         "x": [
          "2025-05"
         ],
         "xaxis": "x2",
         "y": {
          "bdata": "AAAAAAAAMkA=",
          "dtype": "f8"
         },
         "yaxis": "y2"
        },
        {
         "hovertemplate": "Ship To Name=ZALES JEWELERS 1242<br>Color=K<br>Month=%{x}<br>Line Count Int=%{y}<extra></extra>",
         "legendgroup": "ZALES JEWELERS 1242",
         "marker": {
          "color": "#00cc96",
          "pattern": {
           "shape": ""
          }
         },
         "name": "ZALES JEWELERS 1242",
         "orientation": "v",
         "showlegend": true,
         "textposition": "auto",
         "type": "bar",
         "x": [
          "2025-05"
         ],
         "xaxis": "x5",
         "y": {
          "bdata": "AAAAAAAA8D8=",
          "dtype": "f8"
         },
         "yaxis": "y5"
        },
        {
         "hovertemplate": "Ship To Name=ZALES JEWELERS 125<br>Color=K<br>Month=%{x}<br>Line Count Int=%{y}<extra></extra>",
         "legendgroup": "ZALES JEWELERS 125",
         "marker": {
          "color": "#ab63fa",
          "pattern": {
           "shape": ""
          }
         },
         "name": "ZALES JEWELERS 125",
         "orientation": "v",
         "showlegend": true,
         "textposition": "auto",
         "type": "bar",
         "x": [
          "2025-05"
         ],
         "xaxis": "x5",
         "y": {
          "bdata": "AAAAAAAAIEA=",
          "dtype": "f8"
         },
         "yaxis": "y5"
        },
        {
         "hovertemplate": "Ship To Name=ZALES JEWELERS 1252<br>Color=K<br>Month=%{x}<br>Line Count Int=%{y}<extra></extra>",
         "legendgroup": "ZALES JEWELERS 1252",
         "marker": {
          "color": "#FFA15A",
          "pattern": {
           "shape": ""
          }
         },
         "name": "ZALES JEWELERS 1252",
         "orientation": "v",
         "showlegend": true,
         "textposition": "auto",
         "type": "bar",
         "x": [
          "2025-05"
         ],
         "xaxis": "x5",
         "y": {
          "bdata": "AAAAAAAAIEA=",
          "dtype": "f8"
         },
         "yaxis": "y5"
        },
        {
         "hovertemplate": "Ship To Name=ZALES JEWELERS 1260<br>Color=K<br>Month=%{x}<br>Line Count Int=%{y}<extra></extra>",
         "legendgroup": "ZALES JEWELERS 1260",
         "marker": {
          "color": "#19d3f3",
          "pattern": {
           "shape": ""
          }
         },
         "name": "ZALES JEWELERS 1260",
         "orientation": "v",
         "showlegend": true,
         "textposition": "auto",
         "type": "bar",
         "x": [
          "2025-05"
         ],
         "xaxis": "x5",
         "y": {
          "bdata": "AAAAAAAAIEA=",
          "dtype": "f8"
         },
         "yaxis": "y5"
        },
        {
         "hovertemplate": "Ship To Name=ZALES JEWELERS 1261<br>Color=K<br>Month=%{x}<br>Line Count Int=%{y}<extra></extra>",
         "legendgroup": "ZALES JEWELERS 1261",
         "marker": {
          "color": "#FF6692",
          "pattern": {
           "shape": ""
          }
         },
         "name": "ZALES JEWELERS 1261",
         "orientation": "v",
         "showlegend": true,
         "textposition": "auto",
         "type": "bar",
         "x": [
          "2025-05"
         ],
         "xaxis": "x5",
         "y": {
          "bdata": "AAAAAAAALkA=",
          "dtype": "f8"
         },
         "yaxis": "y5"
        },
        {
         "hovertemplate": "Ship To Name=ZALES JEWELERS 1264<br>Color=K<br>Month=%{x}<br>Line Count Int=%{y}<extra></extra>",
         "legendgroup": "ZALES JEWELERS 1264",
         "marker": {
          "color": "#B6E880",
          "pattern": {
           "shape": ""
          }
         },
         "name": "ZALES JEWELERS 1264",
         "orientation": "v",
         "showlegend": true,
         "textposition": "auto",
         "type": "bar",
         "x": [
          "2025-05"
         ],
         "xaxis": "x5",
         "y": {
          "bdata": "AAAAAAAALkA=",
          "dtype": "f8"
         },
         "yaxis": "y5"
        },
        {
         "hovertemplate": "Ship To Name=ZALES JEWELERS 1268<br>Color=K<br>Month=%{x}<br>Line Count Int=%{y}<extra></extra>",
         "legendgroup": "ZALES JEWELERS 1268",
         "marker": {
          "color": "#FF97FF",
          "pattern": {
           "shape": ""
          }
         },
         "name": "ZALES JEWELERS 1268",
         "orientation": "v",
         "showlegend": true,
         "textposition": "auto",
         "type": "bar",
         "x": [
          "2025-05"
         ],
         "xaxis": "x5",
         "y": {
          "bdata": "AAAAAAAAOEA=",
          "dtype": "f8"
         },
         "yaxis": "y5"
        },
        {
         "hovertemplate": "Ship To Name=ZALES JEWELERS 1277<br>Color=K<br>Month=%{x}<br>Line Count Int=%{y}<extra></extra>",
         "legendgroup": "ZALES JEWELERS 1277",
         "marker": {
          "color": "#FECB52",
          "pattern": {
           "shape": ""
          }
         },
         "name": "ZALES JEWELERS 1277",
         "orientation": "v",
         "showlegend": true,
         "textposition": "auto",
         "type": "bar",
         "x": [
          "2025-05"
         ],
         "xaxis": "x5",
         "y": {
          "bdata": "AAAAAAAAPUA=",
          "dtype": "f8"
         },
         "yaxis": "y5"
        },
        {
         "hovertemplate": "Ship To Name=ZALES JEWELERS 1278<br>Color=K<br>Month=%{x}<br>Line Count Int=%{y}<extra></extra>",
         "legendgroup": "ZALES JEWELERS 1278",
         "marker": {
          "color": "#636efa",
          "pattern": {
           "shape": ""
          }
         },
         "name": "ZALES JEWELERS 1278",
         "orientation": "v",
         "showlegend": true,
         "textposition": "auto",
         "type": "bar",
         "x": [
          "2025-05"
         ],
         "xaxis": "x5",
         "y": {
          "bdata": "AAAAAAAA8D8=",
          "dtype": "f8"
         },
         "yaxis": "y5"
        },
        {
         "hovertemplate": "Ship To Name=ZALES JEWELERS 1279<br>Color=K<br>Month=%{x}<br>Line Count Int=%{y}<extra></extra>",
         "legendgroup": "ZALES JEWELERS 1279",
         "marker": {
          "color": "#EF553B",
          "pattern": {
           "shape": ""
          }
         },
         "name": "ZALES JEWELERS 1279",
         "orientation": "v",
         "showlegend": true,
         "textposition": "auto",
         "type": "bar",
         "x": [
          "2025-05"
         ],
         "xaxis": "x5",
         "y": {
          "bdata": "AAAAAAAA8D8=",
          "dtype": "f8"
         },
         "yaxis": "y5"
        },
        {
         "hovertemplate": "Ship To Name=ZALES JEWELERS 1292<br>Color=K<br>Month=%{x}<br>Line Count Int=%{y}<extra></extra>",
         "legendgroup": "ZALES JEWELERS 1292",
         "marker": {
          "color": "#00cc96",
          "pattern": {
           "shape": ""
          }
         },
         "name": "ZALES JEWELERS 1292",
         "orientation": "v",
         "showlegend": true,
         "textposition": "auto",
         "type": "bar",
         "x": [
          "2025-05"
         ],
         "xaxis": "x5",
         "y": {
          "bdata": "AAAAAAAALkA=",
          "dtype": "f8"
         },
         "yaxis": "y5"
        },
        {
         "hovertemplate": "Ship To Name=ZALES JEWELERS 13<br>Color=K<br>Month=%{x}<br>Line Count Int=%{y}<extra></extra>",
         "legendgroup": "ZALES JEWELERS 13",
         "marker": {
          "color": "#ab63fa",
          "pattern": {
           "shape": ""
          }
         },
         "name": "ZALES JEWELERS 13",
         "orientation": "v",
         "showlegend": true,
         "textposition": "auto",
         "type": "bar",
         "x": [
          "2025-05"
         ],
         "xaxis": "x5",
         "y": {
          "bdata": "AAAAAAAAPUA=",
          "dtype": "f8"
         },
         "yaxis": "y5"
        },
        {
         "hovertemplate": "Ship To Name=ZALES JEWELERS 1321<br>Color=K<br>Month=%{x}<br>Line Count Int=%{y}<extra></extra>",
         "legendgroup": "ZALES JEWELERS 1321",
         "marker": {
          "color": "#FFA15A",
          "pattern": {
           "shape": ""
          }
         },
         "name": "ZALES JEWELERS 1321",
         "orientation": "v",
         "showlegend": true,
         "textposition": "auto",
         "type": "bar",
         "x": [
          "2025-05"
         ],
         "xaxis": "x5",
         "y": {
          "bdata": "AAAAAAAAMEA=",
          "dtype": "f8"
         },
         "yaxis": "y5"
        },
        {
         "hovertemplate": "Ship To Name=ZALES JEWELERS 1331<br>Color=K<br>Month=%{x}<br>Line Count Int=%{y}<extra></extra>",
         "legendgroup": "ZALES JEWELERS 1331",
         "marker": {
          "color": "#19d3f3",
          "pattern": {
           "shape": ""
          }
         },
         "name": "ZALES JEWELERS 1331",
         "orientation": "v",
         "showlegend": true,
         "textposition": "auto",
         "type": "bar",
         "x": [
          "2025-05"
         ],
         "xaxis": "x5",
         "y": {
          "bdata": "AAAAAAAAJEA=",
          "dtype": "f8"
         },
         "yaxis": "y5"
        },
        {
         "hovertemplate": "Ship To Name=ZALES JEWELERS 1338<br>Color=K<br>Month=%{x}<br>Line Count Int=%{y}<extra></extra>",
         "legendgroup": "ZALES JEWELERS 1338",
         "marker": {
          "color": "#FF6692",
          "pattern": {
           "shape": ""
          }
         },
         "name": "ZALES JEWELERS 1338",
         "orientation": "v",
         "showlegend": true,
         "textposition": "auto",
         "type": "bar",
         "x": [
          "2025-05"
         ],
         "xaxis": "x5",
         "y": {
          "bdata": "AAAAAAAAPEA=",
          "dtype": "f8"
         },
         "yaxis": "y5"
        },
        {
         "hovertemplate": "Ship To Name=ZALES JEWELERS 1344<br>Color=K<br>Month=%{x}<br>Line Count Int=%{y}<extra></extra>",
         "legendgroup": "ZALES JEWELERS 1344",
         "marker": {
          "color": "#B6E880",
          "pattern": {
           "shape": ""
          }
         },
         "name": "ZALES JEWELERS 1344",
         "orientation": "v",
         "showlegend": true,
         "textposition": "auto",
         "type": "bar",
         "x": [
          "2025-05"
         ],
         "xaxis": "x5",
         "y": {
          "bdata": "AAAAAAAAIEA=",
          "dtype": "f8"
         },
         "yaxis": "y5"
        },
        {
         "hovertemplate": "Ship To Name=ZALES JEWELERS 1355<br>Color=K<br>Month=%{x}<br>Line Count Int=%{y}<extra></extra>",
         "legendgroup": "ZALES JEWELERS 1355",
         "marker": {
          "color": "#FF97FF",
          "pattern": {
           "shape": ""
          }
         },
         "name": "ZALES JEWELERS 1355",
         "orientation": "v",
         "showlegend": true,
         "textposition": "auto",
         "type": "bar",
         "x": [
          "2025-05"
         ],
         "xaxis": "x5",
         "y": {
          "bdata": "AAAAAAAAPUA=",
          "dtype": "f8"
         },
         "yaxis": "y5"
        },
        {
         "hovertemplate": "Ship To Name=ZALES JEWELERS 1370<br>Color=K<br>Month=%{x}<br>Line Count Int=%{y}<extra></extra>",
         "legendgroup": "ZALES JEWELERS 1370",
         "marker": {
          "color": "#FECB52",
          "pattern": {
           "shape": ""
          }
         },
         "name": "ZALES JEWELERS 1370",
         "orientation": "v",
         "showlegend": true,
         "textposition": "auto",
         "type": "bar",
         "x": [
          "2025-05"
         ],
         "xaxis": "x5",
         "y": {
          "bdata": "AAAAAAAACEA=",
          "dtype": "f8"
         },
         "yaxis": "y5"
        },
        {
         "hovertemplate": "Ship To Name=ZALES JEWELERS 1391<br>Color=K<br>Month=%{x}<br>Line Count Int=%{y}<extra></extra>",
         "legendgroup": "ZALES JEWELERS 1391",
         "marker": {
          "color": "#636efa",
          "pattern": {
           "shape": ""
          }
         },
         "name": "ZALES JEWELERS 1391",
         "orientation": "v",
         "showlegend": true,
         "textposition": "auto",
         "type": "bar",
         "x": [
          "2025-05"
         ],
         "xaxis": "x5",
         "y": {
          "bdata": "AAAAAAAACEA=",
          "dtype": "f8"
         },
         "yaxis": "y5"
        },
        {
         "hovertemplate": "Ship To Name=ZALES JEWELERS 1397<br>Color=K<br>Month=%{x}<br>Line Count Int=%{y}<extra></extra>",
         "legendgroup": "ZALES JEWELERS 1397",
         "marker": {
          "color": "#EF553B",
          "pattern": {
           "shape": ""
          }
         },
         "name": "ZALES JEWELERS 1397",
         "orientation": "v",
         "showlegend": true,
         "textposition": "auto",
         "type": "bar",
         "x": [
          "2025-05"
         ],
         "xaxis": "x5",
         "y": {
          "bdata": "AAAAAAAAOEA=",
          "dtype": "f8"
         },
         "yaxis": "y5"
        },
        {
         "hovertemplate": "Ship To Name=ZALES JEWELERS 1398<br>Color=K<br>Month=%{x}<br>Line Count Int=%{y}<extra></extra>",
         "legendgroup": "ZALES JEWELERS 1398",
         "marker": {
          "color": "#00cc96",
          "pattern": {
           "shape": ""
          }
         },
         "name": "ZALES JEWELERS 1398",
         "orientation": "v",
         "showlegend": true,
         "textposition": "auto",
         "type": "bar",
         "x": [
          "2025-05"
         ],
         "xaxis": "x5",
         "y": {
          "bdata": "AAAAAAAAIEA=",
          "dtype": "f8"
         },
         "yaxis": "y5"
        },
        {
         "hovertemplate": "Ship To Name=ZALES JEWELERS 1404<br>Color=K<br>Month=%{x}<br>Line Count Int=%{y}<extra></extra>",
         "legendgroup": "ZALES JEWELERS 1404",
         "marker": {
          "color": "#ab63fa",
          "pattern": {
           "shape": ""
          }
         },
         "name": "ZALES JEWELERS 1404",
         "orientation": "v",
         "showlegend": true,
         "textposition": "auto",
         "type": "bar",
         "x": [
          "2025-05"
         ],
         "xaxis": "x5",
         "y": {
          "bdata": "AAAAAAAA8D8=",
          "dtype": "f8"
         },
         "yaxis": "y5"
        },
        {
         "hovertemplate": "Ship To Name=ZALES JEWELERS 1405<br>Color=K<br>Month=%{x}<br>Line Count Int=%{y}<extra></extra>",
         "legendgroup": "ZALES JEWELERS 1405",
         "marker": {
          "color": "#FFA15A",
          "pattern": {
           "shape": ""
          }
         },
         "name": "ZALES JEWELERS 1405",
         "orientation": "v",
         "showlegend": true,
         "textposition": "auto",
         "type": "bar",
         "x": [
          "2025-05"
         ],
         "xaxis": "x5",
         "y": {
          "bdata": "AAAAAAAAIEA=",
          "dtype": "f8"
         },
         "yaxis": "y5"
        },
        {
         "hovertemplate": "Ship To Name=ZALES JEWELERS 1408<br>Color=K<br>Month=%{x}<br>Line Count Int=%{y}<extra></extra>",
         "legendgroup": "ZALES JEWELERS 1408",
         "marker": {
          "color": "#19d3f3",
          "pattern": {
           "shape": ""
          }
         },
         "name": "ZALES JEWELERS 1408",
         "orientation": "v",
         "showlegend": true,
         "textposition": "auto",
         "type": "bar",
         "x": [
          "2025-05"
         ],
         "xaxis": "x5",
         "y": {
          "bdata": "AAAAAAAALkA=",
          "dtype": "f8"
         },
         "yaxis": "y5"
        },
        {
         "hovertemplate": "Ship To Name=ZALES JEWELERS 1416<br>Color=K<br>Month=%{x}<br>Line Count Int=%{y}<extra></extra>",
         "legendgroup": "ZALES JEWELERS 1416",
         "marker": {
          "color": "#FF6692",
          "pattern": {
           "shape": ""
          }
         },
         "name": "ZALES JEWELERS 1416",
         "orientation": "v",
         "showlegend": true,
         "textposition": "auto",
         "type": "bar",
         "x": [
          "2025-05"
         ],
         "xaxis": "x5",
         "y": {
          "bdata": "AAAAAAAACEA=",
          "dtype": "f8"
         },
         "yaxis": "y5"
        },
        {
         "hovertemplate": "Ship To Name=ZALES JEWELERS 1417<br>Color=K<br>Month=%{x}<br>Line Count Int=%{y}<extra></extra>",
         "legendgroup": "ZALES JEWELERS 1417",
         "marker": {
          "color": "#B6E880",
          "pattern": {
           "shape": ""
          }
         },
         "name": "ZALES JEWELERS 1417",
         "orientation": "v",
         "showlegend": true,
         "textposition": "auto",
         "type": "bar",
         "x": [
          "2025-05"
         ],
         "xaxis": "x5",
         "y": {
          "bdata": "AAAAAAAAPEA=",
          "dtype": "f8"
         },
         "yaxis": "y5"
        },
        {
         "hovertemplate": "Ship To Name=ZALES JEWELERS 142<br>Color=K<br>Month=%{x}<br>Line Count Int=%{y}<extra></extra>",
         "legendgroup": "ZALES JEWELERS 142",
         "marker": {
          "color": "#FF97FF",
          "pattern": {
           "shape": ""
          }
         },
         "name": "ZALES JEWELERS 142",
         "orientation": "v",
         "showlegend": true,
         "textposition": "auto",
         "type": "bar",
         "x": [
          "2025-05"
         ],
         "xaxis": "x5",
         "y": {
          "bdata": "AAAAAAAA8D8=",
          "dtype": "f8"
         },
         "yaxis": "y5"
        },
        {
         "hovertemplate": "Ship To Name=ZALES JEWELERS 1422<br>Color=K<br>Month=%{x}<br>Line Count Int=%{y}<extra></extra>",
         "legendgroup": "ZALES JEWELERS 1422",
         "marker": {
          "color": "#FECB52",
          "pattern": {
           "shape": ""
          }
         },
         "name": "ZALES JEWELERS 1422",
         "orientation": "v",
         "showlegend": true,
         "textposition": "auto",
         "type": "bar",
         "x": [
          "2025-05"
         ],
         "xaxis": "x5",
         "y": {
          "bdata": "AAAAAAAAJEA=",
          "dtype": "f8"
         },
         "yaxis": "y5"
        },
        {
         "hovertemplate": "Ship To Name=ZALES JEWELERS 1429<br>Color=K<br>Month=%{x}<br>Line Count Int=%{y}<extra></extra>",
         "legendgroup": "ZALES JEWELERS 1429",
         "marker": {
          "color": "#636efa",
          "pattern": {
           "shape": ""
          }
         },
         "name": "ZALES JEWELERS 1429",
         "orientation": "v",
         "showlegend": true,
         "textposition": "auto",
         "type": "bar",
         "x": [
          "2025-05"
         ],
         "xaxis": "x5",
         "y": {
          "bdata": "AAAAAAAAJEA=",
          "dtype": "f8"
         },
         "yaxis": "y5"
        },
        {
         "hovertemplate": "Ship To Name=ZALES JEWELERS 1435<br>Color=K<br>Month=%{x}<br>Line Count Int=%{y}<extra></extra>",
         "legendgroup": "ZALES JEWELERS 1435",
         "marker": {
          "color": "#EF553B",
          "pattern": {
           "shape": ""
          }
         },
         "name": "ZALES JEWELERS 1435",
         "orientation": "v",
         "showlegend": true,
         "textposition": "auto",
         "type": "bar",
         "x": [
          "2025-05"
         ],
         "xaxis": "x5",
         "y": {
          "bdata": "AAAAAAAANkA=",
          "dtype": "f8"
         },
         "yaxis": "y5"
        },
        {
         "hovertemplate": "Ship To Name=ZALES JEWELERS 1444<br>Color=K<br>Month=%{x}<br>Line Count Int=%{y}<extra></extra>",
         "legendgroup": "ZALES JEWELERS 1444",
         "marker": {
          "color": "#00cc96",
          "pattern": {
           "shape": ""
          }
         },
         "name": "ZALES JEWELERS 1444",
         "orientation": "v",
         "showlegend": true,
         "textposition": "auto",
         "type": "bar",
         "x": [
          "2025-05"
         ],
         "xaxis": "x5",
         "y": {
          "bdata": "AAAAAAAAMUA=",
          "dtype": "f8"
         },
         "yaxis": "y5"
        },
        {
         "hovertemplate": "Ship To Name=ZALES JEWELERS 1459<br>Color=K<br>Month=%{x}<br>Line Count Int=%{y}<extra></extra>",
         "legendgroup": "ZALES JEWELERS 1459",
         "marker": {
          "color": "#ab63fa",
          "pattern": {
           "shape": ""
          }
         },
         "name": "ZALES JEWELERS 1459",
         "orientation": "v",
         "showlegend": true,
         "textposition": "auto",
         "type": "bar",
         "x": [
          "2025-05"
         ],
         "xaxis": "x5",
         "y": {
          "bdata": "AAAAAAAANkA=",
          "dtype": "f8"
         },
         "yaxis": "y5"
        },
        {
         "hovertemplate": "Ship To Name=ZALES JEWELERS 1472<br>Color=K<br>Month=%{x}<br>Line Count Int=%{y}<extra></extra>",
         "legendgroup": "ZALES JEWELERS 1472",
         "marker": {
          "color": "#FFA15A",
          "pattern": {
           "shape": ""
          }
         },
         "name": "ZALES JEWELERS 1472",
         "orientation": "v",
         "showlegend": true,
         "textposition": "auto",
         "type": "bar",
         "x": [
          "2025-05"
         ],
         "xaxis": "x5",
         "y": {
          "bdata": "AAAAAAAA8D8=",
          "dtype": "f8"
         },
         "yaxis": "y5"
        },
        {
         "hovertemplate": "Ship To Name=ZALES JEWELERS 1492<br>Color=K<br>Month=%{x}<br>Line Count Int=%{y}<extra></extra>",
         "legendgroup": "ZALES JEWELERS 1492",
         "marker": {
          "color": "#19d3f3",
          "pattern": {
           "shape": ""
          }
         },
         "name": "ZALES JEWELERS 1492",
         "orientation": "v",
         "showlegend": true,
         "textposition": "auto",
         "type": "bar",
         "x": [
          "2025-05"
         ],
         "xaxis": "x5",
         "y": {
          "bdata": "AAAAAAAALkA=",
          "dtype": "f8"
         },
         "yaxis": "y5"
        },
        {
         "hovertemplate": "Ship To Name=ZALES JEWELERS 1498<br>Color=K<br>Month=%{x}<br>Line Count Int=%{y}<extra></extra>",
         "legendgroup": "ZALES JEWELERS 1498",
         "marker": {
          "color": "#FF6692",
          "pattern": {
           "shape": ""
          }
         },
         "name": "ZALES JEWELERS 1498",
         "orientation": "v",
         "showlegend": true,
         "textposition": "auto",
         "type": "bar",
         "x": [
          "2025-05"
         ],
         "xaxis": "x5",
         "y": {
          "bdata": "AAAAAAAACEA=",
          "dtype": "f8"
         },
         "yaxis": "y5"
        },
        {
         "hovertemplate": "Ship To Name=ZALES JEWELERS 1504<br>Color=K<br>Month=%{x}<br>Line Count Int=%{y}<extra></extra>",
         "legendgroup": "ZALES JEWELERS 1504",
         "marker": {
          "color": "#B6E880",
          "pattern": {
           "shape": ""
          }
         },
         "name": "ZALES JEWELERS 1504",
         "orientation": "v",
         "showlegend": true,
         "textposition": "auto",
         "type": "bar",
         "x": [
          "2025-05"
         ],
         "xaxis": "x5",
         "y": {
          "bdata": "AAAAAAAAPUA=",
          "dtype": "f8"
         },
         "yaxis": "y5"
        },
        {
         "hovertemplate": "Ship To Name=ZALES JEWELERS 1522<br>Color=K<br>Month=%{x}<br>Line Count Int=%{y}<extra></extra>",
         "legendgroup": "ZALES JEWELERS 1522",
         "marker": {
          "color": "#FF97FF",
          "pattern": {
           "shape": ""
          }
         },
         "name": "ZALES JEWELERS 1522",
         "orientation": "v",
         "showlegend": true,
         "textposition": "auto",
         "type": "bar",
         "x": [
          "2025-05"
         ],
         "xaxis": "x5",
         "y": {
          "bdata": "AAAAAAAA8D8=",
          "dtype": "f8"
         },
         "yaxis": "y5"
        },
        {
         "hovertemplate": "Ship To Name=ZALES JEWELERS 1528<br>Color=K<br>Month=%{x}<br>Line Count Int=%{y}<extra></extra>",
         "legendgroup": "ZALES JEWELERS 1528",
         "marker": {
          "color": "#FECB52",
          "pattern": {
           "shape": ""
          }
         },
         "name": "ZALES JEWELERS 1528",
         "orientation": "v",
         "showlegend": true,
         "textposition": "auto",
         "type": "bar",
         "x": [
          "2025-05"
         ],
         "xaxis": "x5",
         "y": {
          "bdata": "AAAAAAAAPUA=",
          "dtype": "f8"
         },
         "yaxis": "y5"
        },
        {
         "hovertemplate": "Ship To Name=ZALES JEWELERS 1534<br>Color=K<br>Month=%{x}<br>Line Count Int=%{y}<extra></extra>",
         "legendgroup": "ZALES JEWELERS 1534",
         "marker": {
          "color": "#636efa",
          "pattern": {
           "shape": ""
          }
         },
         "name": "ZALES JEWELERS 1534",
         "orientation": "v",
         "showlegend": true,
         "textposition": "auto",
         "type": "bar",
         "x": [
          "2025-05"
         ],
         "xaxis": "x5",
         "y": {
          "bdata": "AAAAAAAAMUA=",
          "dtype": "f8"
         },
         "yaxis": "y5"
        },
        {
         "hovertemplate": "Ship To Name=ZALES JEWELERS 1535<br>Color=K<br>Month=%{x}<br>Line Count Int=%{y}<extra></extra>",
         "legendgroup": "ZALES JEWELERS 1535",
         "marker": {
          "color": "#EF553B",
          "pattern": {
           "shape": ""
          }
         },
         "name": "ZALES JEWELERS 1535",
         "orientation": "v",
         "showlegend": true,
         "textposition": "auto",
         "type": "bar",
         "x": [
          "2025-05"
         ],
         "xaxis": "x5",
         "y": {
          "bdata": "AAAAAAAAOEA=",
          "dtype": "f8"
         },
         "yaxis": "y5"
        },
        {
         "hovertemplate": "Ship To Name=ZALES JEWELERS 1541<br>Color=K<br>Month=%{x}<br>Line Count Int=%{y}<extra></extra>",
         "legendgroup": "ZALES JEWELERS 1541",
         "marker": {
          "color": "#00cc96",
          "pattern": {
           "shape": ""
          }
         },
         "name": "ZALES JEWELERS 1541",
         "orientation": "v",
         "showlegend": true,
         "textposition": "auto",
         "type": "bar",
         "x": [
          "2025-05"
         ],
         "xaxis": "x5",
         "y": {
          "bdata": "AAAAAAAAMUA=",
          "dtype": "f8"
         },
         "yaxis": "y5"
        },
        {
         "hovertemplate": "Ship To Name=ZALES JEWELERS 1549<br>Color=K<br>Month=%{x}<br>Line Count Int=%{y}<extra></extra>",
         "legendgroup": "ZALES JEWELERS 1549",
         "marker": {
          "color": "#ab63fa",
          "pattern": {
           "shape": ""
          }
         },
         "name": "ZALES JEWELERS 1549",
         "orientation": "v",
         "showlegend": true,
         "textposition": "auto",
         "type": "bar",
         "x": [
          "2025-05"
         ],
         "xaxis": "x5",
         "y": {
          "bdata": "AAAAAAAANkA=",
          "dtype": "f8"
         },
         "yaxis": "y5"
        },
        {
         "hovertemplate": "Ship To Name=ZALES JEWELERS 1550<br>Color=K<br>Month=%{x}<br>Line Count Int=%{y}<extra></extra>",
         "legendgroup": "ZALES JEWELERS 1550",
         "marker": {
          "color": "#FFA15A",
          "pattern": {
           "shape": ""
          }
         },
         "name": "ZALES JEWELERS 1550",
         "orientation": "v",
         "showlegend": true,
         "textposition": "auto",
         "type": "bar",
         "x": [
          "2025-05"
         ],
         "xaxis": "x5",
         "y": {
          "bdata": "AAAAAAAAOEA=",
          "dtype": "f8"
         },
         "yaxis": "y5"
        },
        {
         "hovertemplate": "Ship To Name=ZALES JEWELERS 1551<br>Color=K<br>Month=%{x}<br>Line Count Int=%{y}<extra></extra>",
         "legendgroup": "ZALES JEWELERS 1551",
         "marker": {
          "color": "#19d3f3",
          "pattern": {
           "shape": ""
          }
         },
         "name": "ZALES JEWELERS 1551",
         "orientation": "v",
         "showlegend": true,
         "textposition": "auto",
         "type": "bar",
         "x": [
          "2025-05"
         ],
         "xaxis": "x5",
         "y": {
          "bdata": "AAAAAAAAOEA=",
          "dtype": "f8"
         },
         "yaxis": "y5"
        },
        {
         "hovertemplate": "Ship To Name=ZALES JEWELERS 1561<br>Color=K<br>Month=%{x}<br>Line Count Int=%{y}<extra></extra>",
         "legendgroup": "ZALES JEWELERS 1561",
         "marker": {
          "color": "#FF6692",
          "pattern": {
           "shape": ""
          }
         },
         "name": "ZALES JEWELERS 1561",
         "orientation": "v",
         "showlegend": true,
         "textposition": "auto",
         "type": "bar",
         "x": [
          "2025-05"
         ],
         "xaxis": "x5",
         "y": {
          "bdata": "AAAAAAAA8D8=",
          "dtype": "f8"
         },
         "yaxis": "y5"
        },
        {
         "hovertemplate": "Ship To Name=ZALES JEWELERS 1576<br>Color=K<br>Month=%{x}<br>Line Count Int=%{y}<extra></extra>",
         "legendgroup": "ZALES JEWELERS 1576",
         "marker": {
          "color": "#B6E880",
          "pattern": {
           "shape": ""
          }
         },
         "name": "ZALES JEWELERS 1576",
         "orientation": "v",
         "showlegend": true,
         "textposition": "auto",
         "type": "bar",
         "x": [
          "2025-05"
         ],
         "xaxis": "x5",
         "y": {
          "bdata": "AAAAAAAAIEA=",
          "dtype": "f8"
         },
         "yaxis": "y5"
        },
        {
         "hovertemplate": "Ship To Name=ZALES JEWELERS 1585<br>Color=K<br>Month=%{x}<br>Line Count Int=%{y}<extra></extra>",
         "legendgroup": "ZALES JEWELERS 1585",
         "marker": {
          "color": "#FF97FF",
          "pattern": {
           "shape": ""
          }
         },
         "name": "ZALES JEWELERS 1585",
         "orientation": "v",
         "showlegend": true,
         "textposition": "auto",
         "type": "bar",
         "x": [
          "2025-05"
         ],
         "xaxis": "x5",
         "y": {
          "bdata": "AAAAAAAA8D8=",
          "dtype": "f8"
         },
         "yaxis": "y5"
        },
        {
         "hovertemplate": "Ship To Name=ZALES JEWELERS 1588<br>Color=K<br>Month=%{x}<br>Line Count Int=%{y}<extra></extra>",
         "legendgroup": "ZALES JEWELERS 1588",
         "marker": {
          "color": "#FECB52",
          "pattern": {
           "shape": ""
          }
         },
         "name": "ZALES JEWELERS 1588",
         "orientation": "v",
         "showlegend": true,
         "textposition": "auto",
         "type": "bar",
         "x": [
          "2025-05"
         ],
         "xaxis": "x5",
         "y": {
          "bdata": "AAAAAAAAPUA=",
          "dtype": "f8"
         },
         "yaxis": "y5"
        },
        {
         "hovertemplate": "Ship To Name=ZALES JEWELERS 1589<br>Color=K<br>Month=%{x}<br>Line Count Int=%{y}<extra></extra>",
         "legendgroup": "ZALES JEWELERS 1589",
         "marker": {
          "color": "#636efa",
          "pattern": {
           "shape": ""
          }
         },
         "name": "ZALES JEWELERS 1589",
         "orientation": "v",
         "showlegend": true,
         "textposition": "auto",
         "type": "bar",
         "x": [
          "2025-05"
         ],
         "xaxis": "x5",
         "y": {
          "bdata": "AAAAAAAALkA=",
          "dtype": "f8"
         },
         "yaxis": "y5"
        },
        {
         "hovertemplate": "Ship To Name=ZALES JEWELERS 1599<br>Color=K<br>Month=%{x}<br>Line Count Int=%{y}<extra></extra>",
         "legendgroup": "ZALES JEWELERS 1599",
         "marker": {
          "color": "#EF553B",
          "pattern": {
           "shape": ""
          }
         },
         "name": "ZALES JEWELERS 1599",
         "orientation": "v",
         "showlegend": true,
         "textposition": "auto",
         "type": "bar",
         "x": [
          "2025-05"
         ],
         "xaxis": "x5",
         "y": {
          "bdata": "AAAAAAAANkA=",
          "dtype": "f8"
         },
         "yaxis": "y5"
        },
        {
         "hovertemplate": "Ship To Name=ZALES JEWELERS 1606<br>Color=K<br>Month=%{x}<br>Line Count Int=%{y}<extra></extra>",
         "legendgroup": "ZALES JEWELERS 1606",
         "marker": {
          "color": "#00cc96",
          "pattern": {
           "shape": ""
          }
         },
         "name": "ZALES JEWELERS 1606",
         "orientation": "v",
         "showlegend": true,
         "textposition": "auto",
         "type": "bar",
         "x": [
          "2025-05"
         ],
         "xaxis": "x5",
         "y": {
          "bdata": "AAAAAAAAEEA=",
          "dtype": "f8"
         },
         "yaxis": "y5"
        },
        {
         "hovertemplate": "Ship To Name=ZALES JEWELERS 1620<br>Color=K<br>Month=%{x}<br>Line Count Int=%{y}<extra></extra>",
         "legendgroup": "ZALES JEWELERS 1620",
         "marker": {
          "color": "#ab63fa",
          "pattern": {
           "shape": ""
          }
         },
         "name": "ZALES JEWELERS 1620",
         "orientation": "v",
         "showlegend": true,
         "textposition": "auto",
         "type": "bar",
         "x": [
          "2025-05"
         ],
         "xaxis": "x5",
         "y": {
          "bdata": "AAAAAAAACEA=",
          "dtype": "f8"
         },
         "yaxis": "y5"
        },
        {
         "hovertemplate": "Ship To Name=ZALES JEWELERS 1621<br>Color=K<br>Month=%{x}<br>Line Count Int=%{y}<extra></extra>",
         "legendgroup": "ZALES JEWELERS 1621",
         "marker": {
          "color": "#FFA15A",
          "pattern": {
           "shape": ""
          }
         },
         "name": "ZALES JEWELERS 1621",
         "orientation": "v",
         "showlegend": true,
         "textposition": "auto",
         "type": "bar",
         "x": [
          "2025-05"
         ],
         "xaxis": "x5",
         "y": {
          "bdata": "AAAAAAAA8D8=",
          "dtype": "f8"
         },
         "yaxis": "y5"
        },
        {
         "hovertemplate": "Ship To Name=ZALES JEWELERS 1631<br>Color=K<br>Month=%{x}<br>Line Count Int=%{y}<extra></extra>",
         "legendgroup": "ZALES JEWELERS 1631",
         "marker": {
          "color": "#19d3f3",
          "pattern": {
           "shape": ""
          }
         },
         "name": "ZALES JEWELERS 1631",
         "orientation": "v",
         "showlegend": true,
         "textposition": "auto",
         "type": "bar",
         "x": [
          "2025-05"
         ],
         "xaxis": "x5",
         "y": {
          "bdata": "AAAAAAAAPUA=",
          "dtype": "f8"
         },
         "yaxis": "y5"
        },
        {
         "hovertemplate": "Ship To Name=ZALES JEWELERS 1641<br>Color=K<br>Month=%{x}<br>Line Count Int=%{y}<extra></extra>",
         "legendgroup": "ZALES JEWELERS 1641",
         "marker": {
          "color": "#FF6692",
          "pattern": {
           "shape": ""
          }
         },
         "name": "ZALES JEWELERS 1641",
         "orientation": "v",
         "showlegend": true,
         "textposition": "auto",
         "type": "bar",
         "x": [
          "2025-05"
         ],
         "xaxis": "x5",
         "y": {
          "bdata": "AAAAAAAA8D8=",
          "dtype": "f8"
         },
         "yaxis": "y5"
        },
        {
         "hovertemplate": "Ship To Name=ZALES JEWELERS 167<br>Color=K<br>Month=%{x}<br>Line Count Int=%{y}<extra></extra>",
         "legendgroup": "ZALES JEWELERS 167",
         "marker": {
          "color": "#B6E880",
          "pattern": {
           "shape": ""
          }
         },
         "name": "ZALES JEWELERS 167",
         "orientation": "v",
         "showlegend": true,
         "textposition": "auto",
         "type": "bar",
         "x": [
          "2025-05"
         ],
         "xaxis": "x5",
         "y": {
          "bdata": "AAAAAAAA8D8=",
          "dtype": "f8"
         },
         "yaxis": "y5"
        },
        {
         "hovertemplate": "Ship To Name=ZALES JEWELERS 1683<br>Color=K<br>Month=%{x}<br>Line Count Int=%{y}<extra></extra>",
         "legendgroup": "ZALES JEWELERS 1683",
         "marker": {
          "color": "#FF97FF",
          "pattern": {
           "shape": ""
          }
         },
         "name": "ZALES JEWELERS 1683",
         "orientation": "v",
         "showlegend": true,
         "textposition": "auto",
         "type": "bar",
         "x": [
          "2025-05"
         ],
         "xaxis": "x5",
         "y": {
          "bdata": "AAAAAAAALEA=",
          "dtype": "f8"
         },
         "yaxis": "y5"
        },
        {
         "hovertemplate": "Ship To Name=ZALES JEWELERS 1687<br>Color=K<br>Month=%{x}<br>Line Count Int=%{y}<extra></extra>",
         "legendgroup": "ZALES JEWELERS 1687",
         "marker": {
          "color": "#FECB52",
          "pattern": {
           "shape": ""
          }
         },
         "name": "ZALES JEWELERS 1687",
         "orientation": "v",
         "showlegend": true,
         "textposition": "auto",
         "type": "bar",
         "x": [
          "2025-05"
         ],
         "xaxis": "x5",
         "y": {
          "bdata": "AAAAAAAAMUA=",
          "dtype": "f8"
         },
         "yaxis": "y5"
        },
        {
         "hovertemplate": "Ship To Name=ZALES JEWELERS 1691<br>Color=K<br>Month=%{x}<br>Line Count Int=%{y}<extra></extra>",
         "legendgroup": "ZALES JEWELERS 1691",
         "marker": {
          "color": "#636efa",
          "pattern": {
           "shape": ""
          }
         },
         "name": "ZALES JEWELERS 1691",
         "orientation": "v",
         "showlegend": true,
         "textposition": "auto",
         "type": "bar",
         "x": [
          "2025-05"
         ],
         "xaxis": "x5",
         "y": {
          "bdata": "AAAAAAAAPUA=",
          "dtype": "f8"
         },
         "yaxis": "y5"
        },
        {
         "hovertemplate": "Ship To Name=ZALES JEWELERS 1692<br>Color=K<br>Month=%{x}<br>Line Count Int=%{y}<extra></extra>",
         "legendgroup": "ZALES JEWELERS 1692",
         "marker": {
          "color": "#EF553B",
          "pattern": {
           "shape": ""
          }
         },
         "name": "ZALES JEWELERS 1692",
         "orientation": "v",
         "showlegend": true,
         "textposition": "auto",
         "type": "bar",
         "x": [
          "2025-05"
         ],
         "xaxis": "x5",
         "y": {
          "bdata": "AAAAAAAALkA=",
          "dtype": "f8"
         },
         "yaxis": "y5"
        },
        {
         "hovertemplate": "Ship To Name=ZALES JEWELERS 1712<br>Color=K<br>Month=%{x}<br>Line Count Int=%{y}<extra></extra>",
         "legendgroup": "ZALES JEWELERS 1712",
         "marker": {
          "color": "#00cc96",
          "pattern": {
           "shape": ""
          }
         },
         "name": "ZALES JEWELERS 1712",
         "orientation": "v",
         "showlegend": true,
         "textposition": "auto",
         "type": "bar",
         "x": [
          "2025-05"
         ],
         "xaxis": "x5",
         "y": {
          "bdata": "AAAAAAAAJEA=",
          "dtype": "f8"
         },
         "yaxis": "y5"
        },
        {
         "hovertemplate": "Ship To Name=ZALES JEWELERS 1716<br>Color=K<br>Month=%{x}<br>Line Count Int=%{y}<extra></extra>",
         "legendgroup": "ZALES JEWELERS 1716",
         "marker": {
          "color": "#ab63fa",
          "pattern": {
           "shape": ""
          }
         },
         "name": "ZALES JEWELERS 1716",
         "orientation": "v",
         "showlegend": true,
         "textposition": "auto",
         "type": "bar",
         "x": [
          "2025-05"
         ],
         "xaxis": "x5",
         "y": {
          "bdata": "AAAAAAAA8D8=",
          "dtype": "f8"
         },
         "yaxis": "y5"
        },
        {
         "hovertemplate": "Ship To Name=ZALES JEWELERS 1721<br>Color=K<br>Month=%{x}<br>Line Count Int=%{y}<extra></extra>",
         "legendgroup": "ZALES JEWELERS 1721",
         "marker": {
          "color": "#FFA15A",
          "pattern": {
           "shape": ""
          }
         },
         "name": "ZALES JEWELERS 1721",
         "orientation": "v",
         "showlegend": true,
         "textposition": "auto",
         "type": "bar",
         "x": [
          "2025-05"
         ],
         "xaxis": "x5",
         "y": {
          "bdata": "AAAAAAAAJEA=",
          "dtype": "f8"
         },
         "yaxis": "y5"
        },
        {
         "hovertemplate": "Ship To Name=ZALES JEWELERS 1723<br>Color=K<br>Month=%{x}<br>Line Count Int=%{y}<extra></extra>",
         "legendgroup": "ZALES JEWELERS 1723",
         "marker": {
          "color": "#19d3f3",
          "pattern": {
           "shape": ""
          }
         },
         "name": "ZALES JEWELERS 1723",
         "orientation": "v",
         "showlegend": true,
         "textposition": "auto",
         "type": "bar",
         "x": [
          "2025-05"
         ],
         "xaxis": "x5",
         "y": {
          "bdata": "AAAAAAAALkA=",
          "dtype": "f8"
         },
         "yaxis": "y5"
        },
        {
         "hovertemplate": "Ship To Name=ZALES JEWELERS 1725<br>Color=K<br>Month=%{x}<br>Line Count Int=%{y}<extra></extra>",
         "legendgroup": "ZALES JEWELERS 1725",
         "marker": {
          "color": "#FF6692",
          "pattern": {
           "shape": ""
          }
         },
         "name": "ZALES JEWELERS 1725",
         "orientation": "v",
         "showlegend": true,
         "textposition": "auto",
         "type": "bar",
         "x": [
          "2025-05"
         ],
         "xaxis": "x5",
         "y": {
          "bdata": "AAAAAAAANkA=",
          "dtype": "f8"
         },
         "yaxis": "y5"
        },
        {
         "hovertemplate": "Ship To Name=ZALES JEWELERS 1726<br>Color=K<br>Month=%{x}<br>Line Count Int=%{y}<extra></extra>",
         "legendgroup": "ZALES JEWELERS 1726",
         "marker": {
          "color": "#B6E880",
          "pattern": {
           "shape": ""
          }
         },
         "name": "ZALES JEWELERS 1726",
         "orientation": "v",
         "showlegend": true,
         "textposition": "auto",
         "type": "bar",
         "x": [
          "2025-05"
         ],
         "xaxis": "x5",
         "y": {
          "bdata": "AAAAAAAALkA=",
          "dtype": "f8"
         },
         "yaxis": "y5"
        },
        {
         "hovertemplate": "Ship To Name=ZALES JEWELERS 1728<br>Color=K<br>Month=%{x}<br>Line Count Int=%{y}<extra></extra>",
         "legendgroup": "ZALES JEWELERS 1728",
         "marker": {
          "color": "#FF97FF",
          "pattern": {
           "shape": ""
          }
         },
         "name": "ZALES JEWELERS 1728",
         "orientation": "v",
         "showlegend": true,
         "textposition": "auto",
         "type": "bar",
         "x": [
          "2025-05"
         ],
         "xaxis": "x5",
         "y": {
          "bdata": "AAAAAAAAAEA=",
          "dtype": "f8"
         },
         "yaxis": "y5"
        },
        {
         "hovertemplate": "Ship To Name=ZALES JEWELERS 1730<br>Color=K<br>Month=%{x}<br>Line Count Int=%{y}<extra></extra>",
         "legendgroup": "ZALES JEWELERS 1730",
         "marker": {
          "color": "#FECB52",
          "pattern": {
           "shape": ""
          }
         },
         "name": "ZALES JEWELERS 1730",
         "orientation": "v",
         "showlegend": true,
         "textposition": "auto",
         "type": "bar",
         "x": [
          "2025-05"
         ],
         "xaxis": "x5",
         "y": {
          "bdata": "AAAAAAAAOEA=",
          "dtype": "f8"
         },
         "yaxis": "y5"
        },
        {
         "hovertemplate": "Ship To Name=ZALES JEWELERS 1735<br>Color=K<br>Month=%{x}<br>Line Count Int=%{y}<extra></extra>",
         "legendgroup": "ZALES JEWELERS 1735",
         "marker": {
          "color": "#636efa",
          "pattern": {
           "shape": ""
          }
         },
         "name": "ZALES JEWELERS 1735",
         "orientation": "v",
         "showlegend": true,
         "textposition": "auto",
         "type": "bar",
         "x": [
          "2025-05"
         ],
         "xaxis": "x5",
         "y": {
          "bdata": "AAAAAAAAOEA=",
          "dtype": "f8"
         },
         "yaxis": "y5"
        },
        {
         "hovertemplate": "Ship To Name=ZALES JEWELERS 1737<br>Color=K<br>Month=%{x}<br>Line Count Int=%{y}<extra></extra>",
         "legendgroup": "ZALES JEWELERS 1737",
         "marker": {
          "color": "#EF553B",
          "pattern": {
           "shape": ""
          }
         },
         "name": "ZALES JEWELERS 1737",
         "orientation": "v",
         "showlegend": true,
         "textposition": "auto",
         "type": "bar",
         "x": [
          "2025-05"
         ],
         "xaxis": "x5",
         "y": {
          "bdata": "AAAAAAAAJEA=",
          "dtype": "f8"
         },
         "yaxis": "y5"
        },
        {
         "hovertemplate": "Ship To Name=ZALES JEWELERS 175<br>Color=K<br>Month=%{x}<br>Line Count Int=%{y}<extra></extra>",
         "legendgroup": "ZALES JEWELERS 175",
         "marker": {
          "color": "#00cc96",
          "pattern": {
           "shape": ""
          }
         },
         "name": "ZALES JEWELERS 175",
         "orientation": "v",
         "showlegend": true,
         "textposition": "auto",
         "type": "bar",
         "x": [
          "2025-05"
         ],
         "xaxis": "x5",
         "y": {
          "bdata": "AAAAAAAA8D8=",
          "dtype": "f8"
         },
         "yaxis": "y5"
        },
        {
         "hovertemplate": "Ship To Name=ZALES JEWELERS 1757<br>Color=K<br>Month=%{x}<br>Line Count Int=%{y}<extra></extra>",
         "legendgroup": "ZALES JEWELERS 1757",
         "marker": {
          "color": "#ab63fa",
          "pattern": {
           "shape": ""
          }
         },
         "name": "ZALES JEWELERS 1757",
         "orientation": "v",
         "showlegend": true,
         "textposition": "auto",
         "type": "bar",
         "x": [
          "2025-05"
         ],
         "xaxis": "x5",
         "y": {
          "bdata": "AAAAAAAANkA=",
          "dtype": "f8"
         },
         "yaxis": "y5"
        },
        {
         "hovertemplate": "Ship To Name=ZALES JEWELERS 1767<br>Color=K<br>Month=%{x}<br>Line Count Int=%{y}<extra></extra>",
         "legendgroup": "ZALES JEWELERS 1767",
         "marker": {
          "color": "#FFA15A",
          "pattern": {
           "shape": ""
          }
         },
         "name": "ZALES JEWELERS 1767",
         "orientation": "v",
         "showlegend": true,
         "textposition": "auto",
         "type": "bar",
         "x": [
          "2025-05"
         ],
         "xaxis": "x5",
         "y": {
          "bdata": "AAAAAAAAOEA=",
          "dtype": "f8"
         },
         "yaxis": "y5"
        },
        {
         "hovertemplate": "Ship To Name=ZALES JEWELERS 1790<br>Color=K<br>Month=%{x}<br>Line Count Int=%{y}<extra></extra>",
         "legendgroup": "ZALES JEWELERS 1790",
         "marker": {
          "color": "#19d3f3",
          "pattern": {
           "shape": ""
          }
         },
         "name": "ZALES JEWELERS 1790",
         "orientation": "v",
         "showlegend": true,
         "textposition": "auto",
         "type": "bar",
         "x": [
          "2025-05"
         ],
         "xaxis": "x5",
         "y": {
          "bdata": "AAAAAAAA8D8=",
          "dtype": "f8"
         },
         "yaxis": "y5"
        },
        {
         "hovertemplate": "Ship To Name=ZALES JEWELERS 1794<br>Color=K<br>Month=%{x}<br>Line Count Int=%{y}<extra></extra>",
         "legendgroup": "ZALES JEWELERS 1794",
         "marker": {
          "color": "#FF6692",
          "pattern": {
           "shape": ""
          }
         },
         "name": "ZALES JEWELERS 1794",
         "orientation": "v",
         "showlegend": true,
         "textposition": "auto",
         "type": "bar",
         "x": [
          "2025-05"
         ],
         "xaxis": "x5",
         "y": {
          "bdata": "AAAAAAAAIEA=",
          "dtype": "f8"
         },
         "yaxis": "y5"
        },
        {
         "hovertemplate": "Ship To Name=ZALES JEWELERS 1796<br>Color=K<br>Month=%{x}<br>Line Count Int=%{y}<extra></extra>",
         "legendgroup": "ZALES JEWELERS 1796",
         "marker": {
          "color": "#B6E880",
          "pattern": {
           "shape": ""
          }
         },
         "name": "ZALES JEWELERS 1796",
         "orientation": "v",
         "showlegend": true,
         "textposition": "auto",
         "type": "bar",
         "x": [
          "2025-05"
         ],
         "xaxis": "x5",
         "y": {
          "bdata": "AAAAAAAA8D8=",
          "dtype": "f8"
         },
         "yaxis": "y5"
        },
        {
         "hovertemplate": "Ship To Name=ZALES JEWELERS 180<br>Color=K<br>Month=%{x}<br>Line Count Int=%{y}<extra></extra>",
         "legendgroup": "ZALES JEWELERS 180",
         "marker": {
          "color": "#FF97FF",
          "pattern": {
           "shape": ""
          }
         },
         "name": "ZALES JEWELERS 180",
         "orientation": "v",
         "showlegend": true,
         "textposition": "auto",
         "type": "bar",
         "x": [
          "2025-05"
         ],
         "xaxis": "x5",
         "y": {
          "bdata": "AAAAAAAALkA=",
          "dtype": "f8"
         },
         "yaxis": "y5"
        },
        {
         "hovertemplate": "Ship To Name=ZALES JEWELERS 1800<br>Color=K<br>Month=%{x}<br>Line Count Int=%{y}<extra></extra>",
         "legendgroup": "ZALES JEWELERS 1800",
         "marker": {
          "color": "#FECB52",
          "pattern": {
           "shape": ""
          }
         },
         "name": "ZALES JEWELERS 1800",
         "orientation": "v",
         "showlegend": true,
         "textposition": "auto",
         "type": "bar",
         "x": [
          "2025-05"
         ],
         "xaxis": "x5",
         "y": {
          "bdata": "AAAAAAAAIEA=",
          "dtype": "f8"
         },
         "yaxis": "y5"
        },
        {
         "hovertemplate": "Ship To Name=ZALES JEWELERS 1825<br>Color=K<br>Month=%{x}<br>Line Count Int=%{y}<extra></extra>",
         "legendgroup": "ZALES JEWELERS 1825",
         "marker": {
          "color": "#636efa",
          "pattern": {
           "shape": ""
          }
         },
         "name": "ZALES JEWELERS 1825",
         "orientation": "v",
         "showlegend": true,
         "textposition": "auto",
         "type": "bar",
         "x": [
          "2025-05"
         ],
         "xaxis": "x5",
         "y": {
          "bdata": "AAAAAAAA8D8=",
          "dtype": "f8"
         },
         "yaxis": "y5"
        },
        {
         "hovertemplate": "Ship To Name=ZALES JEWELERS 1826<br>Color=K<br>Month=%{x}<br>Line Count Int=%{y}<extra></extra>",
         "legendgroup": "ZALES JEWELERS 1826",
         "marker": {
          "color": "#EF553B",
          "pattern": {
           "shape": ""
          }
         },
         "name": "ZALES JEWELERS 1826",
         "orientation": "v",
         "showlegend": true,
         "textposition": "auto",
         "type": "bar",
         "x": [
          "2025-05"
         ],
         "xaxis": "x5",
         "y": {
          "bdata": "AAAAAAAALkA=",
          "dtype": "f8"
         },
         "yaxis": "y5"
        },
        {
         "hovertemplate": "Ship To Name=ZALES JEWELERS 1833<br>Color=K<br>Month=%{x}<br>Line Count Int=%{y}<extra></extra>",
         "legendgroup": "ZALES JEWELERS 1833",
         "marker": {
          "color": "#00cc96",
          "pattern": {
           "shape": ""
          }
         },
         "name": "ZALES JEWELERS 1833",
         "orientation": "v",
         "showlegend": true,
         "textposition": "auto",
         "type": "bar",
         "x": [
          "2025-05"
         ],
         "xaxis": "x5",
         "y": {
          "bdata": "AAAAAAAANkA=",
          "dtype": "f8"
         },
         "yaxis": "y5"
        },
        {
         "hovertemplate": "Ship To Name=ZALES JEWELERS 1889<br>Color=K<br>Month=%{x}<br>Line Count Int=%{y}<extra></extra>",
         "legendgroup": "ZALES JEWELERS 1889",
         "marker": {
          "color": "#ab63fa",
          "pattern": {
           "shape": ""
          }
         },
         "name": "ZALES JEWELERS 1889",
         "orientation": "v",
         "showlegend": true,
         "textposition": "auto",
         "type": "bar",
         "x": [
          "2025-05"
         ],
         "xaxis": "x5",
         "y": {
          "bdata": "AAAAAAAAPUA=",
          "dtype": "f8"
         },
         "yaxis": "y5"
        },
        {
         "hovertemplate": "Ship To Name=ZALES JEWELERS 1891<br>Color=K<br>Month=%{x}<br>Line Count Int=%{y}<extra></extra>",
         "legendgroup": "ZALES JEWELERS 1891",
         "marker": {
          "color": "#FFA15A",
          "pattern": {
           "shape": ""
          }
         },
         "name": "ZALES JEWELERS 1891",
         "orientation": "v",
         "showlegend": true,
         "textposition": "auto",
         "type": "bar",
         "x": [
          "2025-05"
         ],
         "xaxis": "x5",
         "y": {
          "bdata": "AAAAAAAAJEA=",
          "dtype": "f8"
         },
         "yaxis": "y5"
        },
        {
         "hovertemplate": "Ship To Name=ZALES JEWELERS 1894<br>Color=K<br>Month=%{x}<br>Line Count Int=%{y}<extra></extra>",
         "legendgroup": "ZALES JEWELERS 1894",
         "marker": {
          "color": "#19d3f3",
          "pattern": {
           "shape": ""
          }
         },
         "name": "ZALES JEWELERS 1894",
         "orientation": "v",
         "showlegend": true,
         "textposition": "auto",
         "type": "bar",
         "x": [
          "2025-05"
         ],
         "xaxis": "x5",
         "y": {
          "bdata": "AAAAAAAAMUA=",
          "dtype": "f8"
         },
         "yaxis": "y5"
        },
        {
         "hovertemplate": "Ship To Name=ZALES JEWELERS 1899<br>Color=K<br>Month=%{x}<br>Line Count Int=%{y}<extra></extra>",
         "legendgroup": "ZALES JEWELERS 1899",
         "marker": {
          "color": "#FF6692",
          "pattern": {
           "shape": ""
          }
         },
         "name": "ZALES JEWELERS 1899",
         "orientation": "v",
         "showlegend": true,
         "textposition": "auto",
         "type": "bar",
         "x": [
          "2025-05"
         ],
         "xaxis": "x5",
         "y": {
          "bdata": "AAAAAAAAIEA=",
          "dtype": "f8"
         },
         "yaxis": "y5"
        },
        {
         "hovertemplate": "Ship To Name=ZALES JEWELERS 1914<br>Color=K<br>Month=%{x}<br>Line Count Int=%{y}<extra></extra>",
         "legendgroup": "ZALES JEWELERS 1914",
         "marker": {
          "color": "#B6E880",
          "pattern": {
           "shape": ""
          }
         },
         "name": "ZALES JEWELERS 1914",
         "orientation": "v",
         "showlegend": true,
         "textposition": "auto",
         "type": "bar",
         "x": [
          "2025-05"
         ],
         "xaxis": "x5",
         "y": {
          "bdata": "AAAAAAAAIEA=",
          "dtype": "f8"
         },
         "yaxis": "y5"
        },
        {
         "hovertemplate": "Ship To Name=ZALES JEWELERS 1923<br>Color=K<br>Month=%{x}<br>Line Count Int=%{y}<extra></extra>",
         "legendgroup": "ZALES JEWELERS 1923",
         "marker": {
          "color": "#FF97FF",
          "pattern": {
           "shape": ""
          }
         },
         "name": "ZALES JEWELERS 1923",
         "orientation": "v",
         "showlegend": true,
         "textposition": "auto",
         "type": "bar",
         "x": [
          "2025-05"
         ],
         "xaxis": "x5",
         "y": {
          "bdata": "AAAAAAAANkA=",
          "dtype": "f8"
         },
         "yaxis": "y5"
        },
        {
         "hovertemplate": "Ship To Name=ZALES JEWELERS 1929<br>Color=K<br>Month=%{x}<br>Line Count Int=%{y}<extra></extra>",
         "legendgroup": "ZALES JEWELERS 1929",
         "marker": {
          "color": "#FECB52",
          "pattern": {
           "shape": ""
          }
         },
         "name": "ZALES JEWELERS 1929",
         "orientation": "v",
         "showlegend": true,
         "textposition": "auto",
         "type": "bar",
         "x": [
          "2025-05"
         ],
         "xaxis": "x5",
         "y": {
          "bdata": "AAAAAAAAIEA=",
          "dtype": "f8"
         },
         "yaxis": "y5"
        },
        {
         "hovertemplate": "Ship To Name=ZALES JEWELERS 1940<br>Color=K<br>Month=%{x}<br>Line Count Int=%{y}<extra></extra>",
         "legendgroup": "ZALES JEWELERS 1940",
         "marker": {
          "color": "#636efa",
          "pattern": {
           "shape": ""
          }
         },
         "name": "ZALES JEWELERS 1940",
         "orientation": "v",
         "showlegend": true,
         "textposition": "auto",
         "type": "bar",
         "x": [
          "2025-05"
         ],
         "xaxis": "x5",
         "y": {
          "bdata": "AAAAAAAACEA=",
          "dtype": "f8"
         },
         "yaxis": "y5"
        },
        {
         "hovertemplate": "Ship To Name=ZALES JEWELERS 1941<br>Color=K<br>Month=%{x}<br>Line Count Int=%{y}<extra></extra>",
         "legendgroup": "ZALES JEWELERS 1941",
         "marker": {
          "color": "#EF553B",
          "pattern": {
           "shape": ""
          }
         },
         "name": "ZALES JEWELERS 1941",
         "orientation": "v",
         "showlegend": true,
         "textposition": "auto",
         "type": "bar",
         "x": [
          "2025-05"
         ],
         "xaxis": "x5",
         "y": {
          "bdata": "AAAAAAAA8D8=",
          "dtype": "f8"
         },
         "yaxis": "y5"
        },
        {
         "hovertemplate": "Ship To Name=ZALES JEWELERS 1958<br>Color=K<br>Month=%{x}<br>Line Count Int=%{y}<extra></extra>",
         "legendgroup": "ZALES JEWELERS 1958",
         "marker": {
          "color": "#00cc96",
          "pattern": {
           "shape": ""
          }
         },
         "name": "ZALES JEWELERS 1958",
         "orientation": "v",
         "showlegend": true,
         "textposition": "auto",
         "type": "bar",
         "x": [
          "2025-05"
         ],
         "xaxis": "x5",
         "y": {
          "bdata": "AAAAAAAA8D8=",
          "dtype": "f8"
         },
         "yaxis": "y5"
        },
        {
         "hovertemplate": "Ship To Name=ZALES JEWELERS 1962<br>Color=K<br>Month=%{x}<br>Line Count Int=%{y}<extra></extra>",
         "legendgroup": "ZALES JEWELERS 1962",
         "marker": {
          "color": "#ab63fa",
          "pattern": {
           "shape": ""
          }
         },
         "name": "ZALES JEWELERS 1962",
         "orientation": "v",
         "showlegend": true,
         "textposition": "auto",
         "type": "bar",
         "x": [
          "2025-05"
         ],
         "xaxis": "x5",
         "y": {
          "bdata": "AAAAAAAAOEA=",
          "dtype": "f8"
         },
         "yaxis": "y5"
        },
        {
         "hovertemplate": "Ship To Name=ZALES JEWELERS 1973<br>Color=K<br>Month=%{x}<br>Line Count Int=%{y}<extra></extra>",
         "legendgroup": "ZALES JEWELERS 1973",
         "marker": {
          "color": "#FFA15A",
          "pattern": {
           "shape": ""
          }
         },
         "name": "ZALES JEWELERS 1973",
         "orientation": "v",
         "showlegend": true,
         "textposition": "auto",
         "type": "bar",
         "x": [
          "2025-05"
         ],
         "xaxis": "x5",
         "y": {
          "bdata": "AAAAAAAAMUA=",
          "dtype": "f8"
         },
         "yaxis": "y5"
        },
        {
         "hovertemplate": "Ship To Name=ZALES JEWELERS 1979<br>Color=K<br>Month=%{x}<br>Line Count Int=%{y}<extra></extra>",
         "legendgroup": "ZALES JEWELERS 1979",
         "marker": {
          "color": "#19d3f3",
          "pattern": {
           "shape": ""
          }
         },
         "name": "ZALES JEWELERS 1979",
         "orientation": "v",
         "showlegend": true,
         "textposition": "auto",
         "type": "bar",
         "x": [
          "2025-05"
         ],
         "xaxis": "x5",
         "y": {
          "bdata": "AAAAAAAAJkA=",
          "dtype": "f8"
         },
         "yaxis": "y5"
        },
        {
         "hovertemplate": "Ship To Name=ZALES JEWELERS 1986<br>Color=K<br>Month=%{x}<br>Line Count Int=%{y}<extra></extra>",
         "legendgroup": "ZALES JEWELERS 1986",
         "marker": {
          "color": "#FF6692",
          "pattern": {
           "shape": ""
          }
         },
         "name": "ZALES JEWELERS 1986",
         "orientation": "v",
         "showlegend": true,
         "textposition": "auto",
         "type": "bar",
         "x": [
          "2025-05"
         ],
         "xaxis": "x5",
         "y": {
          "bdata": "AAAAAAAA8D8=",
          "dtype": "f8"
         },
         "yaxis": "y5"
        },
        {
         "hovertemplate": "Ship To Name=ZALES JEWELERS 1989<br>Color=K<br>Month=%{x}<br>Line Count Int=%{y}<extra></extra>",
         "legendgroup": "ZALES JEWELERS 1989",
         "marker": {
          "color": "#B6E880",
          "pattern": {
           "shape": ""
          }
         },
         "name": "ZALES JEWELERS 1989",
         "orientation": "v",
         "showlegend": true,
         "textposition": "auto",
         "type": "bar",
         "x": [
          "2025-05"
         ],
         "xaxis": "x5",
         "y": {
          "bdata": "AAAAAAAAOEA=",
          "dtype": "f8"
         },
         "yaxis": "y5"
        },
        {
         "hovertemplate": "Ship To Name=ZALES JEWELERS 1992<br>Color=K<br>Month=%{x}<br>Line Count Int=%{y}<extra></extra>",
         "legendgroup": "ZALES JEWELERS 1992",
         "marker": {
          "color": "#FF97FF",
          "pattern": {
           "shape": ""
          }
         },
         "name": "ZALES JEWELERS 1992",
         "orientation": "v",
         "showlegend": true,
         "textposition": "auto",
         "type": "bar",
         "x": [
          "2025-05"
         ],
         "xaxis": "x5",
         "y": {
          "bdata": "AAAAAAAACEA=",
          "dtype": "f8"
         },
         "yaxis": "y5"
        },
        {
         "hovertemplate": "Ship To Name=ZALES JEWELERS 1995<br>Color=K<br>Month=%{x}<br>Line Count Int=%{y}<extra></extra>",
         "legendgroup": "ZALES JEWELERS 1995",
         "marker": {
          "color": "#FECB52",
          "pattern": {
           "shape": ""
          }
         },
         "name": "ZALES JEWELERS 1995",
         "orientation": "v",
         "showlegend": true,
         "textposition": "auto",
         "type": "bar",
         "x": [
          "2025-05"
         ],
         "xaxis": "x5",
         "y": {
          "bdata": "AAAAAAAANkA=",
          "dtype": "f8"
         },
         "yaxis": "y5"
        },
        {
         "hovertemplate": "Ship To Name=ZALES JEWELERS 1996<br>Color=K<br>Month=%{x}<br>Line Count Int=%{y}<extra></extra>",
         "legendgroup": "ZALES JEWELERS 1996",
         "marker": {
          "color": "#636efa",
          "pattern": {
           "shape": ""
          }
         },
         "name": "ZALES JEWELERS 1996",
         "orientation": "v",
         "showlegend": true,
         "textposition": "auto",
         "type": "bar",
         "x": [
          "2025-05"
         ],
         "xaxis": "x5",
         "y": {
          "bdata": "AAAAAAAAIEA=",
          "dtype": "f8"
         },
         "yaxis": "y5"
        },
        {
         "hovertemplate": "Ship To Name=ZALES JEWELERS 258<br>Color=K<br>Month=%{x}<br>Line Count Int=%{y}<extra></extra>",
         "legendgroup": "ZALES JEWELERS 258",
         "marker": {
          "color": "#EF553B",
          "pattern": {
           "shape": ""
          }
         },
         "name": "ZALES JEWELERS 258",
         "orientation": "v",
         "showlegend": true,
         "textposition": "auto",
         "type": "bar",
         "x": [
          "2025-05"
         ],
         "xaxis": "x5",
         "y": {
          "bdata": "AAAAAAAAOEA=",
          "dtype": "f8"
         },
         "yaxis": "y5"
        },
        {
         "hovertemplate": "Ship To Name=ZALES JEWELERS 283<br>Color=K<br>Month=%{x}<br>Line Count Int=%{y}<extra></extra>",
         "legendgroup": "ZALES JEWELERS 283",
         "marker": {
          "color": "#00cc96",
          "pattern": {
           "shape": ""
          }
         },
         "name": "ZALES JEWELERS 283",
         "orientation": "v",
         "showlegend": true,
         "textposition": "auto",
         "type": "bar",
         "x": [
          "2025-05"
         ],
         "xaxis": "x5",
         "y": {
          "bdata": "AAAAAAAAAEA=",
          "dtype": "f8"
         },
         "yaxis": "y5"
        },
        {
         "hovertemplate": "Ship To Name=ZALES JEWELERS 285<br>Color=K<br>Month=%{x}<br>Line Count Int=%{y}<extra></extra>",
         "legendgroup": "ZALES JEWELERS 285",
         "marker": {
          "color": "#ab63fa",
          "pattern": {
           "shape": ""
          }
         },
         "name": "ZALES JEWELERS 285",
         "orientation": "v",
         "showlegend": true,
         "textposition": "auto",
         "type": "bar",
         "x": [
          "2025-05"
         ],
         "xaxis": "x5",
         "y": {
          "bdata": "AAAAAAAALkA=",
          "dtype": "f8"
         },
         "yaxis": "y5"
        },
        {
         "hovertemplate": "Ship To Name=ZALES JEWELERS 336<br>Color=K<br>Month=%{x}<br>Line Count Int=%{y}<extra></extra>",
         "legendgroup": "ZALES JEWELERS 336",
         "marker": {
          "color": "#FFA15A",
          "pattern": {
           "shape": ""
          }
         },
         "name": "ZALES JEWELERS 336",
         "orientation": "v",
         "showlegend": true,
         "textposition": "auto",
         "type": "bar",
         "x": [
          "2025-05"
         ],
         "xaxis": "x5",
         "y": {
          "bdata": "AAAAAAAANkA=",
          "dtype": "f8"
         },
         "yaxis": "y5"
        },
        {
         "hovertemplate": "Ship To Name=ZALES JEWELERS 3612<br>Color=K<br>Month=%{x}<br>Line Count Int=%{y}<extra></extra>",
         "legendgroup": "ZALES JEWELERS 3612",
         "marker": {
          "color": "#19d3f3",
          "pattern": {
           "shape": ""
          }
         },
         "name": "ZALES JEWELERS 3612",
         "orientation": "v",
         "showlegend": true,
         "textposition": "auto",
         "type": "bar",
         "x": [
          "2025-05"
         ],
         "xaxis": "x5",
         "y": {
          "bdata": "AAAAAAAALkA=",
          "dtype": "f8"
         },
         "yaxis": "y5"
        },
        {
         "hovertemplate": "Ship To Name=ZALES JEWELERS 37<br>Color=K<br>Month=%{x}<br>Line Count Int=%{y}<extra></extra>",
         "legendgroup": "ZALES JEWELERS 37",
         "marker": {
          "color": "#FF6692",
          "pattern": {
           "shape": ""
          }
         },
         "name": "ZALES JEWELERS 37",
         "orientation": "v",
         "showlegend": true,
         "textposition": "auto",
         "type": "bar",
         "x": [
          "2025-05"
         ],
         "xaxis": "x5",
         "y": {
          "bdata": "AAAAAAAA8D8=",
          "dtype": "f8"
         },
         "yaxis": "y5"
        },
        {
         "hovertemplate": "Ship To Name=ZALES JEWELERS 3747<br>Color=K<br>Month=%{x}<br>Line Count Int=%{y}<extra></extra>",
         "legendgroup": "ZALES JEWELERS 3747",
         "marker": {
          "color": "#B6E880",
          "pattern": {
           "shape": ""
          }
         },
         "name": "ZALES JEWELERS 3747",
         "orientation": "v",
         "showlegend": true,
         "textposition": "auto",
         "type": "bar",
         "x": [
          "2025-05"
         ],
         "xaxis": "x5",
         "y": {
          "bdata": "AAAAAAAAOEA=",
          "dtype": "f8"
         },
         "yaxis": "y5"
        },
        {
         "hovertemplate": "Ship To Name=ZALES JEWELERS 394<br>Color=K<br>Month=%{x}<br>Line Count Int=%{y}<extra></extra>",
         "legendgroup": "ZALES JEWELERS 394",
         "marker": {
          "color": "#FF97FF",
          "pattern": {
           "shape": ""
          }
         },
         "name": "ZALES JEWELERS 394",
         "orientation": "v",
         "showlegend": true,
         "textposition": "auto",
         "type": "bar",
         "x": [
          "2025-05"
         ],
         "xaxis": "x5",
         "y": {
          "bdata": "AAAAAAAAIEA=",
          "dtype": "f8"
         },
         "yaxis": "y5"
        },
        {
         "hovertemplate": "Ship To Name=ZALES JEWELERS 40<br>Color=K<br>Month=%{x}<br>Line Count Int=%{y}<extra></extra>",
         "legendgroup": "ZALES JEWELERS 40",
         "marker": {
          "color": "#FECB52",
          "pattern": {
           "shape": ""
          }
         },
         "name": "ZALES JEWELERS 40",
         "orientation": "v",
         "showlegend": true,
         "textposition": "auto",
         "type": "bar",
         "x": [
          "2025-05"
         ],
         "xaxis": "x5",
         "y": {
          "bdata": "AAAAAAAALkA=",
          "dtype": "f8"
         },
         "yaxis": "y5"
        },
        {
         "hovertemplate": "Ship To Name=ZALES JEWELERS 426<br>Color=K<br>Month=%{x}<br>Line Count Int=%{y}<extra></extra>",
         "legendgroup": "ZALES JEWELERS 426",
         "marker": {
          "color": "#636efa",
          "pattern": {
           "shape": ""
          }
         },
         "name": "ZALES JEWELERS 426",
         "orientation": "v",
         "showlegend": true,
         "textposition": "auto",
         "type": "bar",
         "x": [
          "2025-05"
         ],
         "xaxis": "x5",
         "y": {
          "bdata": "AAAAAAAAJEA=",
          "dtype": "f8"
         },
         "yaxis": "y5"
        },
        {
         "hovertemplate": "Ship To Name=ZALES JEWELERS 429<br>Color=K<br>Month=%{x}<br>Line Count Int=%{y}<extra></extra>",
         "legendgroup": "ZALES JEWELERS 429",
         "marker": {
          "color": "#EF553B",
          "pattern": {
           "shape": ""
          }
         },
         "name": "ZALES JEWELERS 429",
         "orientation": "v",
         "showlegend": true,
         "textposition": "auto",
         "type": "bar",
         "x": [
          "2025-05"
         ],
         "xaxis": "x5",
         "y": {
          "bdata": "AAAAAAAAMUA=",
          "dtype": "f8"
         },
         "yaxis": "y5"
        },
        {
         "hovertemplate": "Ship To Name=ZALES JEWELERS 454<br>Color=K<br>Month=%{x}<br>Line Count Int=%{y}<extra></extra>",
         "legendgroup": "ZALES JEWELERS 454",
         "marker": {
          "color": "#00cc96",
          "pattern": {
           "shape": ""
          }
         },
         "name": "ZALES JEWELERS 454",
         "orientation": "v",
         "showlegend": true,
         "textposition": "auto",
         "type": "bar",
         "x": [
          "2025-05"
         ],
         "xaxis": "x5",
         "y": {
          "bdata": "AAAAAAAA8D8=",
          "dtype": "f8"
         },
         "yaxis": "y5"
        },
        {
         "hovertemplate": "Ship To Name=ZALES JEWELERS 455<br>Color=K<br>Month=%{x}<br>Line Count Int=%{y}<extra></extra>",
         "legendgroup": "ZALES JEWELERS 455",
         "marker": {
          "color": "#ab63fa",
          "pattern": {
           "shape": ""
          }
         },
         "name": "ZALES JEWELERS 455",
         "orientation": "v",
         "showlegend": true,
         "textposition": "auto",
         "type": "bar",
         "x": [
          "2025-05"
         ],
         "xaxis": "x5",
         "y": {
          "bdata": "AAAAAAAAIEA=",
          "dtype": "f8"
         },
         "yaxis": "y5"
        },
        {
         "hovertemplate": "Ship To Name=ZALES JEWELERS 482<br>Color=K<br>Month=%{x}<br>Line Count Int=%{y}<extra></extra>",
         "legendgroup": "ZALES JEWELERS 482",
         "marker": {
          "color": "#FFA15A",
          "pattern": {
           "shape": ""
          }
         },
         "name": "ZALES JEWELERS 482",
         "orientation": "v",
         "showlegend": true,
         "textposition": "auto",
         "type": "bar",
         "x": [
          "2025-05"
         ],
         "xaxis": "x5",
         "y": {
          "bdata": "AAAAAAAAPUA=",
          "dtype": "f8"
         },
         "yaxis": "y5"
        },
        {
         "hovertemplate": "Ship To Name=ZALES JEWELERS 4869<br>Color=K<br>Month=%{x}<br>Line Count Int=%{y}<extra></extra>",
         "legendgroup": "ZALES JEWELERS 4869",
         "marker": {
          "color": "#19d3f3",
          "pattern": {
           "shape": ""
          }
         },
         "name": "ZALES JEWELERS 4869",
         "orientation": "v",
         "showlegend": true,
         "textposition": "auto",
         "type": "bar",
         "x": [
          "2025-05"
         ],
         "xaxis": "x5",
         "y": {
          "bdata": "AAAAAAAAOEA=",
          "dtype": "f8"
         },
         "yaxis": "y5"
        },
        {
         "hovertemplate": "Ship To Name=ZALES JEWELERS 515<br>Color=K<br>Month=%{x}<br>Line Count Int=%{y}<extra></extra>",
         "legendgroup": "ZALES JEWELERS 515",
         "marker": {
          "color": "#FF6692",
          "pattern": {
           "shape": ""
          }
         },
         "name": "ZALES JEWELERS 515",
         "orientation": "v",
         "showlegend": true,
         "textposition": "auto",
         "type": "bar",
         "x": [
          "2025-05"
         ],
         "xaxis": "x5",
         "y": {
          "bdata": "AAAAAAAANkA=",
          "dtype": "f8"
         },
         "yaxis": "y5"
        },
        {
         "hovertemplate": "Ship To Name=ZALES JEWELERS 52<br>Color=K<br>Month=%{x}<br>Line Count Int=%{y}<extra></extra>",
         "legendgroup": "ZALES JEWELERS 52",
         "marker": {
          "color": "#B6E880",
          "pattern": {
           "shape": ""
          }
         },
         "name": "ZALES JEWELERS 52",
         "orientation": "v",
         "showlegend": true,
         "textposition": "auto",
         "type": "bar",
         "x": [
          "2025-05"
         ],
         "xaxis": "x5",
         "y": {
          "bdata": "AAAAAAAAOEA=",
          "dtype": "f8"
         },
         "yaxis": "y5"
        },
        {
         "hovertemplate": "Ship To Name=ZALES JEWELERS 528<br>Color=K<br>Month=%{x}<br>Line Count Int=%{y}<extra></extra>",
         "legendgroup": "ZALES JEWELERS 528",
         "marker": {
          "color": "#FF97FF",
          "pattern": {
           "shape": ""
          }
         },
         "name": "ZALES JEWELERS 528",
         "orientation": "v",
         "showlegend": true,
         "textposition": "auto",
         "type": "bar",
         "x": [
          "2025-05"
         ],
         "xaxis": "x5",
         "y": {
          "bdata": "AAAAAAAANUA=",
          "dtype": "f8"
         },
         "yaxis": "y5"
        },
        {
         "hovertemplate": "Ship To Name=ZALES JEWELERS 565<br>Color=K<br>Month=%{x}<br>Line Count Int=%{y}<extra></extra>",
         "legendgroup": "ZALES JEWELERS 565",
         "marker": {
          "color": "#FECB52",
          "pattern": {
           "shape": ""
          }
         },
         "name": "ZALES JEWELERS 565",
         "orientation": "v",
         "showlegend": true,
         "textposition": "auto",
         "type": "bar",
         "x": [
          "2025-05"
         ],
         "xaxis": "x5",
         "y": {
          "bdata": "AAAAAAAA8D8=",
          "dtype": "f8"
         },
         "yaxis": "y5"
        },
        {
         "hovertemplate": "Ship To Name=ZALES JEWELERS 595<br>Color=K<br>Month=%{x}<br>Line Count Int=%{y}<extra></extra>",
         "legendgroup": "ZALES JEWELERS 595",
         "marker": {
          "color": "#636efa",
          "pattern": {
           "shape": ""
          }
         },
         "name": "ZALES JEWELERS 595",
         "orientation": "v",
         "showlegend": true,
         "textposition": "auto",
         "type": "bar",
         "x": [
          "2025-05"
         ],
         "xaxis": "x5",
         "y": {
          "bdata": "AAAAAAAAIEA=",
          "dtype": "f8"
         },
         "yaxis": "y5"
        },
        {
         "hovertemplate": "Ship To Name=ZALES JEWELERS 608<br>Color=K<br>Month=%{x}<br>Line Count Int=%{y}<extra></extra>",
         "legendgroup": "ZALES JEWELERS 608",
         "marker": {
          "color": "#EF553B",
          "pattern": {
           "shape": ""
          }
         },
         "name": "ZALES JEWELERS 608",
         "orientation": "v",
         "showlegend": true,
         "textposition": "auto",
         "type": "bar",
         "x": [
          "2025-05"
         ],
         "xaxis": "x5",
         "y": {
          "bdata": "AAAAAAAAIEA=",
          "dtype": "f8"
         },
         "yaxis": "y5"
        },
        {
         "hovertemplate": "Ship To Name=ZALES JEWELERS 635<br>Color=K<br>Month=%{x}<br>Line Count Int=%{y}<extra></extra>",
         "legendgroup": "ZALES JEWELERS 635",
         "marker": {
          "color": "#00cc96",
          "pattern": {
           "shape": ""
          }
         },
         "name": "ZALES JEWELERS 635",
         "orientation": "v",
         "showlegend": true,
         "textposition": "auto",
         "type": "bar",
         "x": [
          "2025-05"
         ],
         "xaxis": "x5",
         "y": {
          "bdata": "AAAAAAAANkA=",
          "dtype": "f8"
         },
         "yaxis": "y5"
        },
        {
         "hovertemplate": "Ship To Name=ZALES JEWELERS 646<br>Color=K<br>Month=%{x}<br>Line Count Int=%{y}<extra></extra>",
         "legendgroup": "ZALES JEWELERS 646",
         "marker": {
          "color": "#ab63fa",
          "pattern": {
           "shape": ""
          }
         },
         "name": "ZALES JEWELERS 646",
         "orientation": "v",
         "showlegend": true,
         "textposition": "auto",
         "type": "bar",
         "x": [
          "2025-05"
         ],
         "xaxis": "x5",
         "y": {
          "bdata": "AAAAAAAAAEA=",
          "dtype": "f8"
         },
         "yaxis": "y5"
        },
        {
         "hovertemplate": "Ship To Name=ZALES JEWELERS 659<br>Color=K<br>Month=%{x}<br>Line Count Int=%{y}<extra></extra>",
         "legendgroup": "ZALES JEWELERS 659",
         "marker": {
          "color": "#FFA15A",
          "pattern": {
           "shape": ""
          }
         },
         "name": "ZALES JEWELERS 659",
         "orientation": "v",
         "showlegend": true,
         "textposition": "auto",
         "type": "bar",
         "x": [
          "2025-05"
         ],
         "xaxis": "x5",
         "y": {
          "bdata": "AAAAAAAAMUA=",
          "dtype": "f8"
         },
         "yaxis": "y5"
        },
        {
         "hovertemplate": "Ship To Name=ZALES JEWELERS 672<br>Color=K<br>Month=%{x}<br>Line Count Int=%{y}<extra></extra>",
         "legendgroup": "ZALES JEWELERS 672",
         "marker": {
          "color": "#19d3f3",
          "pattern": {
           "shape": ""
          }
         },
         "name": "ZALES JEWELERS 672",
         "orientation": "v",
         "showlegend": true,
         "textposition": "auto",
         "type": "bar",
         "x": [
          "2025-05"
         ],
         "xaxis": "x5",
         "y": {
          "bdata": "AAAAAAAAJEA=",
          "dtype": "f8"
         },
         "yaxis": "y5"
        },
        {
         "hovertemplate": "Ship To Name=ZALES JEWELERS 681<br>Color=K<br>Month=%{x}<br>Line Count Int=%{y}<extra></extra>",
         "legendgroup": "ZALES JEWELERS 681",
         "marker": {
          "color": "#FF6692",
          "pattern": {
           "shape": ""
          }
         },
         "name": "ZALES JEWELERS 681",
         "orientation": "v",
         "showlegend": true,
         "textposition": "auto",
         "type": "bar",
         "x": [
          "2025-05"
         ],
         "xaxis": "x5",
         "y": {
          "bdata": "AAAAAAAAJEA=",
          "dtype": "f8"
         },
         "yaxis": "y5"
        },
        {
         "hovertemplate": "Ship To Name=ZALES JEWELERS 692<br>Color=K<br>Month=%{x}<br>Line Count Int=%{y}<extra></extra>",
         "legendgroup": "ZALES JEWELERS 692",
         "marker": {
          "color": "#B6E880",
          "pattern": {
           "shape": ""
          }
         },
         "name": "ZALES JEWELERS 692",
         "orientation": "v",
         "showlegend": true,
         "textposition": "auto",
         "type": "bar",
         "x": [
          "2025-05"
         ],
         "xaxis": "x5",
         "y": {
          "bdata": "AAAAAAAAGEA=",
          "dtype": "f8"
         },
         "yaxis": "y5"
        },
        {
         "hovertemplate": "Ship To Name=ZALES JEWELERS 718<br>Color=K<br>Month=%{x}<br>Line Count Int=%{y}<extra></extra>",
         "legendgroup": "ZALES JEWELERS 718",
         "marker": {
          "color": "#FF97FF",
          "pattern": {
           "shape": ""
          }
         },
         "name": "ZALES JEWELERS 718",
         "orientation": "v",
         "showlegend": true,
         "textposition": "auto",
         "type": "bar",
         "x": [
          "2025-05"
         ],
         "xaxis": "x5",
         "y": {
          "bdata": "AAAAAAAAPUA=",
          "dtype": "f8"
         },
         "yaxis": "y5"
        },
        {
         "hovertemplate": "Ship To Name=ZALES JEWELERS 750<br>Color=K<br>Month=%{x}<br>Line Count Int=%{y}<extra></extra>",
         "legendgroup": "ZALES JEWELERS 750",
         "marker": {
          "color": "#FECB52",
          "pattern": {
           "shape": ""
          }
         },
         "name": "ZALES JEWELERS 750",
         "orientation": "v",
         "showlegend": true,
         "textposition": "auto",
         "type": "bar",
         "x": [
          "2025-05"
         ],
         "xaxis": "x5",
         "y": {
          "bdata": "AAAAAAAACEA=",
          "dtype": "f8"
         },
         "yaxis": "y5"
        },
        {
         "hovertemplate": "Ship To Name=ZALES JEWELERS 753<br>Color=K<br>Month=%{x}<br>Line Count Int=%{y}<extra></extra>",
         "legendgroup": "ZALES JEWELERS 753",
         "marker": {
          "color": "#636efa",
          "pattern": {
           "shape": ""
          }
         },
         "name": "ZALES JEWELERS 753",
         "orientation": "v",
         "showlegend": true,
         "textposition": "auto",
         "type": "bar",
         "x": [
          "2025-05"
         ],
         "xaxis": "x5",
         "y": {
          "bdata": "AAAAAAAA8D8=",
          "dtype": "f8"
         },
         "yaxis": "y5"
        },
        {
         "hovertemplate": "Ship To Name=ZALES JEWELERS 761<br>Color=K<br>Month=%{x}<br>Line Count Int=%{y}<extra></extra>",
         "legendgroup": "ZALES JEWELERS 761",
         "marker": {
          "color": "#EF553B",
          "pattern": {
           "shape": ""
          }
         },
         "name": "ZALES JEWELERS 761",
         "orientation": "v",
         "showlegend": true,
         "textposition": "auto",
         "type": "bar",
         "x": [
          "2025-05"
         ],
         "xaxis": "x5",
         "y": {
          "bdata": "AAAAAAAA8D8=",
          "dtype": "f8"
         },
         "yaxis": "y5"
        },
        {
         "hovertemplate": "Ship To Name=ZALES JEWELERS 841<br>Color=K<br>Month=%{x}<br>Line Count Int=%{y}<extra></extra>",
         "legendgroup": "ZALES JEWELERS 841",
         "marker": {
          "color": "#00cc96",
          "pattern": {
           "shape": ""
          }
         },
         "name": "ZALES JEWELERS 841",
         "orientation": "v",
         "showlegend": true,
         "textposition": "auto",
         "type": "bar",
         "x": [
          "2025-05"
         ],
         "xaxis": "x5",
         "y": {
          "bdata": "AAAAAAAAPUA=",
          "dtype": "f8"
         },
         "yaxis": "y5"
        },
        {
         "hovertemplate": "Ship To Name=ZALES JEWELERS 846<br>Color=K<br>Month=%{x}<br>Line Count Int=%{y}<extra></extra>",
         "legendgroup": "ZALES JEWELERS 846",
         "marker": {
          "color": "#ab63fa",
          "pattern": {
           "shape": ""
          }
         },
         "name": "ZALES JEWELERS 846",
         "orientation": "v",
         "showlegend": true,
         "textposition": "auto",
         "type": "bar",
         "x": [
          "2025-05"
         ],
         "xaxis": "x5",
         "y": {
          "bdata": "AAAAAAAACEA=",
          "dtype": "f8"
         },
         "yaxis": "y5"
        },
        {
         "hovertemplate": "Ship To Name=ZALES JEWELERS 8602<br>Color=K<br>Month=%{x}<br>Line Count Int=%{y}<extra></extra>",
         "legendgroup": "ZALES JEWELERS 8602",
         "marker": {
          "color": "#FFA15A",
          "pattern": {
           "shape": ""
          }
         },
         "name": "ZALES JEWELERS 8602",
         "orientation": "v",
         "showlegend": true,
         "textposition": "auto",
         "type": "bar",
         "x": [
          "2025-05"
         ],
         "xaxis": "x5",
         "y": {
          "bdata": "AAAAAAAAPUA=",
          "dtype": "f8"
         },
         "yaxis": "y5"
        },
        {
         "hovertemplate": "Ship To Name=ZALES JEWELERS 8602<br>Color=C<br>Month=%{x}<br>Line Count Int=%{y}<extra></extra>",
         "legendgroup": "ZALES JEWELERS 8602",
         "marker": {
          "color": "#FFA15A",
          "pattern": {
           "shape": ""
          }
         },
         "name": "ZALES JEWELERS 8602",
         "orientation": "v",
         "showlegend": false,
         "textposition": "auto",
         "type": "bar",
         "x": [
          "2025-05"
         ],
         "xaxis": "x4",
         "y": {
          "bdata": "AAAAAAAAPUA=",
          "dtype": "f8"
         },
         "yaxis": "y4"
        },
        {
         "hovertemplate": "Ship To Name=ZALES JEWELERS 8602<br>Color=M<br>Month=%{x}<br>Line Count Int=%{y}<extra></extra>",
         "legendgroup": "ZALES JEWELERS 8602",
         "marker": {
          "color": "#FFA15A",
          "pattern": {
           "shape": ""
          }
         },
         "name": "ZALES JEWELERS 8602",
         "orientation": "v",
         "showlegend": false,
         "textposition": "auto",
         "type": "bar",
         "x": [
          "2025-05"
         ],
         "xaxis": "x3",
         "y": {
          "bdata": "AAAAAAAAPUA=",
          "dtype": "f8"
         },
         "yaxis": "y3"
        },
        {
         "hovertemplate": "Ship To Name=ZALES JEWELERS 8602<br>Color=Unknown<br>Month=%{x}<br>Line Count Int=%{y}<extra></extra>",
         "legendgroup": "ZALES JEWELERS 8602",
         "marker": {
          "color": "#FFA15A",
          "pattern": {
           "shape": ""
          }
         },
         "name": "ZALES JEWELERS 8602",
         "orientation": "v",
         "showlegend": false,
         "textposition": "auto",
         "type": "bar",
         "x": [
          "2025-05"
         ],
         "xaxis": "x2",
         "y": {
          "bdata": "AAAAAAAATUA=",
          "dtype": "f8"
         },
         "yaxis": "y2"
        },
        {
         "hovertemplate": "Ship To Name=ZALES JEWELERS 8602<br>Color=Y<br>Month=%{x}<br>Line Count Int=%{y}<extra></extra>",
         "legendgroup": "ZALES JEWELERS 8602",
         "marker": {
          "color": "#FFA15A",
          "pattern": {
           "shape": ""
          }
         },
         "name": "ZALES JEWELERS 8602",
         "orientation": "v",
         "showlegend": false,
         "textposition": "auto",
         "type": "bar",
         "x": [
          "2025-05"
         ],
         "xaxis": "x",
         "y": {
          "bdata": "AAAAAAAAPUA=",
          "dtype": "f8"
         },
         "yaxis": "y"
        },
        {
         "hovertemplate": "Ship To Name=ZALES JEWELERS 893<br>Color=K<br>Month=%{x}<br>Line Count Int=%{y}<extra></extra>",
         "legendgroup": "ZALES JEWELERS 893",
         "marker": {
          "color": "#19d3f3",
          "pattern": {
           "shape": ""
          }
         },
         "name": "ZALES JEWELERS 893",
         "orientation": "v",
         "showlegend": true,
         "textposition": "auto",
         "type": "bar",
         "x": [
          "2025-05"
         ],
         "xaxis": "x5",
         "y": {
          "bdata": "AAAAAAAALkA=",
          "dtype": "f8"
         },
         "yaxis": "y5"
        },
        {
         "hovertemplate": "Ship To Name=ZALES JEWELERS 894<br>Color=K<br>Month=%{x}<br>Line Count Int=%{y}<extra></extra>",
         "legendgroup": "ZALES JEWELERS 894",
         "marker": {
          "color": "#FF6692",
          "pattern": {
           "shape": ""
          }
         },
         "name": "ZALES JEWELERS 894",
         "orientation": "v",
         "showlegend": true,
         "textposition": "auto",
         "type": "bar",
         "x": [
          "2025-05"
         ],
         "xaxis": "x5",
         "y": {
          "bdata": "AAAAAAAALkA=",
          "dtype": "f8"
         },
         "yaxis": "y5"
        },
        {
         "hovertemplate": "Ship To Name=ZALES JEWELERS 920<br>Color=K<br>Month=%{x}<br>Line Count Int=%{y}<extra></extra>",
         "legendgroup": "ZALES JEWELERS 920",
         "marker": {
          "color": "#B6E880",
          "pattern": {
           "shape": ""
          }
         },
         "name": "ZALES JEWELERS 920",
         "orientation": "v",
         "showlegend": true,
         "textposition": "auto",
         "type": "bar",
         "x": [
          "2025-05"
         ],
         "xaxis": "x5",
         "y": {
          "bdata": "AAAAAAAANkA=",
          "dtype": "f8"
         },
         "yaxis": "y5"
        },
        {
         "hovertemplate": "Ship To Name=ZALES JEWELERS 951<br>Color=K<br>Month=%{x}<br>Line Count Int=%{y}<extra></extra>",
         "legendgroup": "ZALES JEWELERS 951",
         "marker": {
          "color": "#FF97FF",
          "pattern": {
           "shape": ""
          }
         },
         "name": "ZALES JEWELERS 951",
         "orientation": "v",
         "showlegend": true,
         "textposition": "auto",
         "type": "bar",
         "x": [
          "2025-05"
         ],
         "xaxis": "x5",
         "y": {
          "bdata": "AAAAAAAA8D8=",
          "dtype": "f8"
         },
         "yaxis": "y5"
        },
        {
         "hovertemplate": "Ship To Name=ZALES JEWELERS 962<br>Color=K<br>Month=%{x}<br>Line Count Int=%{y}<extra></extra>",
         "legendgroup": "ZALES JEWELERS 962",
         "marker": {
          "color": "#FECB52",
          "pattern": {
           "shape": ""
          }
         },
         "name": "ZALES JEWELERS 962",
         "orientation": "v",
         "showlegend": true,
         "textposition": "auto",
         "type": "bar",
         "x": [
          "2025-05"
         ],
         "xaxis": "x5",
         "y": {
          "bdata": "AAAAAAAARUA=",
          "dtype": "f8"
         },
         "yaxis": "y5"
        },
        {
         "hovertemplate": "Ship To Name=ZALES JEWELERS 977<br>Color=K<br>Month=%{x}<br>Line Count Int=%{y}<extra></extra>",
         "legendgroup": "ZALES JEWELERS 977",
         "marker": {
          "color": "#636efa",
          "pattern": {
           "shape": ""
          }
         },
         "name": "ZALES JEWELERS 977",
         "orientation": "v",
         "showlegend": true,
         "textposition": "auto",
         "type": "bar",
         "x": [
          "2025-05"
         ],
         "xaxis": "x5",
         "y": {
          "bdata": "AAAAAAAALkA=",
          "dtype": "f8"
         },
         "yaxis": "y5"
        },
        {
         "hovertemplate": "Ship To Name=ZALES JEWELERS 989<br>Color=K<br>Month=%{x}<br>Line Count Int=%{y}<extra></extra>",
         "legendgroup": "ZALES JEWELERS 989",
         "marker": {
          "color": "#EF553B",
          "pattern": {
           "shape": ""
          }
         },
         "name": "ZALES JEWELERS 989",
         "orientation": "v",
         "showlegend": true,
         "textposition": "auto",
         "type": "bar",
         "x": [
          "2025-05"
         ],
         "xaxis": "x5",
         "y": {
          "bdata": "AAAAAAAALkA=",
          "dtype": "f8"
         },
         "yaxis": "y5"
        },
        {
         "hovertemplate": "Ship To Name=ZALES JEWELERS 990<br>Color=K<br>Month=%{x}<br>Line Count Int=%{y}<extra></extra>",
         "legendgroup": "ZALES JEWELERS 990",
         "marker": {
          "color": "#00cc96",
          "pattern": {
           "shape": ""
          }
         },
         "name": "ZALES JEWELERS 990",
         "orientation": "v",
         "showlegend": true,
         "textposition": "auto",
         "type": "bar",
         "x": [
          "2025-05"
         ],
         "xaxis": "x5",
         "y": {
          "bdata": "AAAAAACAQUA=",
          "dtype": "f8"
         },
         "yaxis": "y5"
        },
        {
         "hovertemplate": "Ship To Name=ZALES OUTLET 2660<br>Color=K<br>Month=%{x}<br>Line Count Int=%{y}<extra></extra>",
         "legendgroup": "ZALES OUTLET 2660",
         "marker": {
          "color": "#ab63fa",
          "pattern": {
           "shape": ""
          }
         },
         "name": "ZALES OUTLET 2660",
         "orientation": "v",
         "showlegend": true,
         "textposition": "auto",
         "type": "bar",
         "x": [
          "2025-05"
         ],
         "xaxis": "x5",
         "y": {
          "bdata": "AAAAAAAAMEA=",
          "dtype": "f8"
         },
         "yaxis": "y5"
        },
        {
         "hovertemplate": "Ship To Name=ZALES OUTLET 2662<br>Color=K<br>Month=%{x}<br>Line Count Int=%{y}<extra></extra>",
         "legendgroup": "ZALES OUTLET 2662",
         "marker": {
          "color": "#FFA15A",
          "pattern": {
           "shape": ""
          }
         },
         "name": "ZALES OUTLET 2662",
         "orientation": "v",
         "showlegend": true,
         "textposition": "auto",
         "type": "bar",
         "x": [
          "2025-05"
         ],
         "xaxis": "x5",
         "y": {
          "bdata": "AAAAAAAANkA=",
          "dtype": "f8"
         },
         "yaxis": "y5"
        },
        {
         "hovertemplate": "Ship To Name=ZALES OUTLET 2676<br>Color=K<br>Month=%{x}<br>Line Count Int=%{y}<extra></extra>",
         "legendgroup": "ZALES OUTLET 2676",
         "marker": {
          "color": "#19d3f3",
          "pattern": {
           "shape": ""
          }
         },
         "name": "ZALES OUTLET 2676",
         "orientation": "v",
         "showlegend": true,
         "textposition": "auto",
         "type": "bar",
         "x": [
          "2025-05"
         ],
         "xaxis": "x5",
         "y": {
          "bdata": "AAAAAAAA8D8=",
          "dtype": "f8"
         },
         "yaxis": "y5"
        },
        {
         "hovertemplate": "Ship To Name=ZALES OUTLET 2683<br>Color=K<br>Month=%{x}<br>Line Count Int=%{y}<extra></extra>",
         "legendgroup": "ZALES OUTLET 2683",
         "marker": {
          "color": "#FF6692",
          "pattern": {
           "shape": ""
          }
         },
         "name": "ZALES OUTLET 2683",
         "orientation": "v",
         "showlegend": true,
         "textposition": "auto",
         "type": "bar",
         "x": [
          "2025-05"
         ],
         "xaxis": "x5",
         "y": {
          "bdata": "AAAAAAAA8D8=",
          "dtype": "f8"
         },
         "yaxis": "y5"
        },
        {
         "hovertemplate": "Ship To Name=ZALES OUTLET 2691<br>Color=K<br>Month=%{x}<br>Line Count Int=%{y}<extra></extra>",
         "legendgroup": "ZALES OUTLET 2691",
         "marker": {
          "color": "#B6E880",
          "pattern": {
           "shape": ""
          }
         },
         "name": "ZALES OUTLET 2691",
         "orientation": "v",
         "showlegend": true,
         "textposition": "auto",
         "type": "bar",
         "x": [
          "2025-05"
         ],
         "xaxis": "x5",
         "y": {
          "bdata": "AAAAAAAANkA=",
          "dtype": "f8"
         },
         "yaxis": "y5"
        },
        {
         "hovertemplate": "Ship To Name=ZALES OUTLET 2692<br>Color=K<br>Month=%{x}<br>Line Count Int=%{y}<extra></extra>",
         "legendgroup": "ZALES OUTLET 2692",
         "marker": {
          "color": "#FF97FF",
          "pattern": {
           "shape": ""
          }
         },
         "name": "ZALES OUTLET 2692",
         "orientation": "v",
         "showlegend": true,
         "textposition": "auto",
         "type": "bar",
         "x": [
          "2025-05"
         ],
         "xaxis": "x5",
         "y": {
          "bdata": "AAAAAAAAMUA=",
          "dtype": "f8"
         },
         "yaxis": "y5"
        },
        {
         "hovertemplate": "Ship To Name=ZALES OUTLET 2716<br>Color=K<br>Month=%{x}<br>Line Count Int=%{y}<extra></extra>",
         "legendgroup": "ZALES OUTLET 2716",
         "marker": {
          "color": "#FECB52",
          "pattern": {
           "shape": ""
          }
         },
         "name": "ZALES OUTLET 2716",
         "orientation": "v",
         "showlegend": true,
         "textposition": "auto",
         "type": "bar",
         "x": [
          "2025-05"
         ],
         "xaxis": "x5",
         "y": {
          "bdata": "AAAAAAAAIEA=",
          "dtype": "f8"
         },
         "yaxis": "y5"
        },
        {
         "hovertemplate": "Ship To Name=ZALES OUTLET 2723<br>Color=K<br>Month=%{x}<br>Line Count Int=%{y}<extra></extra>",
         "legendgroup": "ZALES OUTLET 2723",
         "marker": {
          "color": "#636efa",
          "pattern": {
           "shape": ""
          }
         },
         "name": "ZALES OUTLET 2723",
         "orientation": "v",
         "showlegend": true,
         "textposition": "auto",
         "type": "bar",
         "x": [
          "2025-05"
         ],
         "xaxis": "x5",
         "y": {
          "bdata": "AAAAAAAA8D8=",
          "dtype": "f8"
         },
         "yaxis": "y5"
        },
        {
         "hovertemplate": "Ship To Name=ZALES OUTLET 2727<br>Color=K<br>Month=%{x}<br>Line Count Int=%{y}<extra></extra>",
         "legendgroup": "ZALES OUTLET 2727",
         "marker": {
          "color": "#EF553B",
          "pattern": {
           "shape": ""
          }
         },
         "name": "ZALES OUTLET 2727",
         "orientation": "v",
         "showlegend": true,
         "textposition": "auto",
         "type": "bar",
         "x": [
          "2025-05"
         ],
         "xaxis": "x5",
         "y": {
          "bdata": "AAAAAAAAPUA=",
          "dtype": "f8"
         },
         "yaxis": "y5"
        },
        {
         "hovertemplate": "Ship To Name=ZALES OUTLET 2728<br>Color=K<br>Month=%{x}<br>Line Count Int=%{y}<extra></extra>",
         "legendgroup": "ZALES OUTLET 2728",
         "marker": {
          "color": "#00cc96",
          "pattern": {
           "shape": ""
          }
         },
         "name": "ZALES OUTLET 2728",
         "orientation": "v",
         "showlegend": true,
         "textposition": "auto",
         "type": "bar",
         "x": [
          "2025-05"
         ],
         "xaxis": "x5",
         "y": {
          "bdata": "AAAAAAAA8D8=",
          "dtype": "f8"
         },
         "yaxis": "y5"
        },
        {
         "hovertemplate": "Ship To Name=ZALES OUTLET 2740<br>Color=K<br>Month=%{x}<br>Line Count Int=%{y}<extra></extra>",
         "legendgroup": "ZALES OUTLET 2740",
         "marker": {
          "color": "#ab63fa",
          "pattern": {
           "shape": ""
          }
         },
         "name": "ZALES OUTLET 2740",
         "orientation": "v",
         "showlegend": true,
         "textposition": "auto",
         "type": "bar",
         "x": [
          "2025-05"
         ],
         "xaxis": "x5",
         "y": {
          "bdata": "AAAAAAAAPUA=",
          "dtype": "f8"
         },
         "yaxis": "y5"
        },
        {
         "hovertemplate": "Ship To Name=ZALES OUTLET 2758<br>Color=K<br>Month=%{x}<br>Line Count Int=%{y}<extra></extra>",
         "legendgroup": "ZALES OUTLET 2758",
         "marker": {
          "color": "#FFA15A",
          "pattern": {
           "shape": ""
          }
         },
         "name": "ZALES OUTLET 2758",
         "orientation": "v",
         "showlegend": true,
         "textposition": "auto",
         "type": "bar",
         "x": [
          "2025-05"
         ],
         "xaxis": "x5",
         "y": {
          "bdata": "AAAAAAAANUA=",
          "dtype": "f8"
         },
         "yaxis": "y5"
        },
        {
         "hovertemplate": "Ship To Name=ZALES OUTLET 2759<br>Color=K<br>Month=%{x}<br>Line Count Int=%{y}<extra></extra>",
         "legendgroup": "ZALES OUTLET 2759",
         "marker": {
          "color": "#19d3f3",
          "pattern": {
           "shape": ""
          }
         },
         "name": "ZALES OUTLET 2759",
         "orientation": "v",
         "showlegend": true,
         "textposition": "auto",
         "type": "bar",
         "x": [
          "2025-05"
         ],
         "xaxis": "x5",
         "y": {
          "bdata": "AAAAAAAAFEA=",
          "dtype": "f8"
         },
         "yaxis": "y5"
        },
        {
         "hovertemplate": "Ship To Name=ZALES OUTLET 2779<br>Color=K<br>Month=%{x}<br>Line Count Int=%{y}<extra></extra>",
         "legendgroup": "ZALES OUTLET 2779",
         "marker": {
          "color": "#FF6692",
          "pattern": {
           "shape": ""
          }
         },
         "name": "ZALES OUTLET 2779",
         "orientation": "v",
         "showlegend": true,
         "textposition": "auto",
         "type": "bar",
         "x": [
          "2025-05"
         ],
         "xaxis": "x5",
         "y": {
          "bdata": "AAAAAAAALkA=",
          "dtype": "f8"
         },
         "yaxis": "y5"
        },
        {
         "hovertemplate": "Ship To Name=ZALES OUTLET 2784<br>Color=K<br>Month=%{x}<br>Line Count Int=%{y}<extra></extra>",
         "legendgroup": "ZALES OUTLET 2784",
         "marker": {
          "color": "#B6E880",
          "pattern": {
           "shape": ""
          }
         },
         "name": "ZALES OUTLET 2784",
         "orientation": "v",
         "showlegend": true,
         "textposition": "auto",
         "type": "bar",
         "x": [
          "2025-05"
         ],
         "xaxis": "x5",
         "y": {
          "bdata": "AAAAAAAAJEA=",
          "dtype": "f8"
         },
         "yaxis": "y5"
        },
        {
         "hovertemplate": "Ship To Name=ZALES OUTLET 2787<br>Color=K<br>Month=%{x}<br>Line Count Int=%{y}<extra></extra>",
         "legendgroup": "ZALES OUTLET 2787",
         "marker": {
          "color": "#FF97FF",
          "pattern": {
           "shape": ""
          }
         },
         "name": "ZALES OUTLET 2787",
         "orientation": "v",
         "showlegend": true,
         "textposition": "auto",
         "type": "bar",
         "x": [
          "2025-05"
         ],
         "xaxis": "x5",
         "y": {
          "bdata": "AAAAAAAAPkA=",
          "dtype": "f8"
         },
         "yaxis": "y5"
        },
        {
         "hovertemplate": "Ship To Name=ZALES OUTLET 2794<br>Color=K<br>Month=%{x}<br>Line Count Int=%{y}<extra></extra>",
         "legendgroup": "ZALES OUTLET 2794",
         "marker": {
          "color": "#FECB52",
          "pattern": {
           "shape": ""
          }
         },
         "name": "ZALES OUTLET 2794",
         "orientation": "v",
         "showlegend": true,
         "textposition": "auto",
         "type": "bar",
         "x": [
          "2025-05"
         ],
         "xaxis": "x5",
         "y": {
          "bdata": "AAAAAAAAPUA=",
          "dtype": "f8"
         },
         "yaxis": "y5"
        },
        {
         "hovertemplate": "Ship To Name=ZALES OUTLET 2798<br>Color=K<br>Month=%{x}<br>Line Count Int=%{y}<extra></extra>",
         "legendgroup": "ZALES OUTLET 2798",
         "marker": {
          "color": "#636efa",
          "pattern": {
           "shape": ""
          }
         },
         "name": "ZALES OUTLET 2798",
         "orientation": "v",
         "showlegend": true,
         "textposition": "auto",
         "type": "bar",
         "x": [
          "2025-05"
         ],
         "xaxis": "x5",
         "y": {
          "bdata": "AAAAAAAAPUA=",
          "dtype": "f8"
         },
         "yaxis": "y5"
        },
        {
         "hovertemplate": "Ship To Name=ZALES OUTLET 2804<br>Color=K<br>Month=%{x}<br>Line Count Int=%{y}<extra></extra>",
         "legendgroup": "ZALES OUTLET 2804",
         "marker": {
          "color": "#EF553B",
          "pattern": {
           "shape": ""
          }
         },
         "name": "ZALES OUTLET 2804",
         "orientation": "v",
         "showlegend": true,
         "textposition": "auto",
         "type": "bar",
         "x": [
          "2025-05"
         ],
         "xaxis": "x5",
         "y": {
          "bdata": "AAAAAAAAMUA=",
          "dtype": "f8"
         },
         "yaxis": "y5"
        },
        {
         "hovertemplate": "Ship To Name=ZALES OUTLET 2815<br>Color=K<br>Month=%{x}<br>Line Count Int=%{y}<extra></extra>",
         "legendgroup": "ZALES OUTLET 2815",
         "marker": {
          "color": "#00cc96",
          "pattern": {
           "shape": ""
          }
         },
         "name": "ZALES OUTLET 2815",
         "orientation": "v",
         "showlegend": true,
         "textposition": "auto",
         "type": "bar",
         "x": [
          "2025-05"
         ],
         "xaxis": "x5",
         "y": {
          "bdata": "AAAAAAAA8D8=",
          "dtype": "f8"
         },
         "yaxis": "y5"
        },
        {
         "hovertemplate": "Ship To Name=ZALES OUTLET 2824<br>Color=K<br>Month=%{x}<br>Line Count Int=%{y}<extra></extra>",
         "legendgroup": "ZALES OUTLET 2824",
         "marker": {
          "color": "#ab63fa",
          "pattern": {
           "shape": ""
          }
         },
         "name": "ZALES OUTLET 2824",
         "orientation": "v",
         "showlegend": true,
         "textposition": "auto",
         "type": "bar",
         "x": [
          "2025-05"
         ],
         "xaxis": "x5",
         "y": {
          "bdata": "AAAAAAAAMUA=",
          "dtype": "f8"
         },
         "yaxis": "y5"
        },
        {
         "hovertemplate": "Ship To Name=ZALES OUTLET 2856<br>Color=K<br>Month=%{x}<br>Line Count Int=%{y}<extra></extra>",
         "legendgroup": "ZALES OUTLET 2856",
         "marker": {
          "color": "#FFA15A",
          "pattern": {
           "shape": ""
          }
         },
         "name": "ZALES OUTLET 2856",
         "orientation": "v",
         "showlegend": true,
         "textposition": "auto",
         "type": "bar",
         "x": [
          "2025-05"
         ],
         "xaxis": "x5",
         "y": {
          "bdata": "AAAAAAAACEA=",
          "dtype": "f8"
         },
         "yaxis": "y5"
        },
        {
         "hovertemplate": "Ship To Name=ZALES OUTLET 2859<br>Color=K<br>Month=%{x}<br>Line Count Int=%{y}<extra></extra>",
         "legendgroup": "ZALES OUTLET 2859",
         "marker": {
          "color": "#19d3f3",
          "pattern": {
           "shape": ""
          }
         },
         "name": "ZALES OUTLET 2859",
         "orientation": "v",
         "showlegend": true,
         "textposition": "auto",
         "type": "bar",
         "x": [
          "2025-05"
         ],
         "xaxis": "x5",
         "y": {
          "bdata": "AAAAAAAALkA=",
          "dtype": "f8"
         },
         "yaxis": "y5"
        },
        {
         "hovertemplate": "Ship To Name=ZALES OUTLET 2861<br>Color=K<br>Month=%{x}<br>Line Count Int=%{y}<extra></extra>",
         "legendgroup": "ZALES OUTLET 2861",
         "marker": {
          "color": "#FF6692",
          "pattern": {
           "shape": ""
          }
         },
         "name": "ZALES OUTLET 2861",
         "orientation": "v",
         "showlegend": true,
         "textposition": "auto",
         "type": "bar",
         "x": [
          "2025-05"
         ],
         "xaxis": "x5",
         "y": {
          "bdata": "AAAAAAAANkA=",
          "dtype": "f8"
         },
         "yaxis": "y5"
        },
        {
         "hovertemplate": "Ship To Name=ZALES OUTLET 2862<br>Color=K<br>Month=%{x}<br>Line Count Int=%{y}<extra></extra>",
         "legendgroup": "ZALES OUTLET 2862",
         "marker": {
          "color": "#B6E880",
          "pattern": {
           "shape": ""
          }
         },
         "name": "ZALES OUTLET 2862",
         "orientation": "v",
         "showlegend": true,
         "textposition": "auto",
         "type": "bar",
         "x": [
          "2025-05"
         ],
         "xaxis": "x5",
         "y": {
          "bdata": "AAAAAAAAIEA=",
          "dtype": "f8"
         },
         "yaxis": "y5"
        },
        {
         "hovertemplate": "Ship To Name=ZALES OUTLET 2864<br>Color=K<br>Month=%{x}<br>Line Count Int=%{y}<extra></extra>",
         "legendgroup": "ZALES OUTLET 2864",
         "marker": {
          "color": "#FF97FF",
          "pattern": {
           "shape": ""
          }
         },
         "name": "ZALES OUTLET 2864",
         "orientation": "v",
         "showlegend": true,
         "textposition": "auto",
         "type": "bar",
         "x": [
          "2025-05"
         ],
         "xaxis": "x5",
         "y": {
          "bdata": "AAAAAACAQkA=",
          "dtype": "f8"
         },
         "yaxis": "y5"
        },
        {
         "hovertemplate": "Ship To Name=ZALES OUTLET 2891<br>Color=K<br>Month=%{x}<br>Line Count Int=%{y}<extra></extra>",
         "legendgroup": "ZALES OUTLET 2891",
         "marker": {
          "color": "#FECB52",
          "pattern": {
           "shape": ""
          }
         },
         "name": "ZALES OUTLET 2891",
         "orientation": "v",
         "showlegend": true,
         "textposition": "auto",
         "type": "bar",
         "x": [
          "2025-05"
         ],
         "xaxis": "x5",
         "y": {
          "bdata": "AAAAAAAAMUA=",
          "dtype": "f8"
         },
         "yaxis": "y5"
        },
        {
         "hovertemplate": "Ship To Name=ZALES OUTLET 2895<br>Color=K<br>Month=%{x}<br>Line Count Int=%{y}<extra></extra>",
         "legendgroup": "ZALES OUTLET 2895",
         "marker": {
          "color": "#636efa",
          "pattern": {
           "shape": ""
          }
         },
         "name": "ZALES OUTLET 2895",
         "orientation": "v",
         "showlegend": true,
         "textposition": "auto",
         "type": "bar",
         "x": [
          "2025-05"
         ],
         "xaxis": "x5",
         "y": {
          "bdata": "AAAAAAAAOEA=",
          "dtype": "f8"
         },
         "yaxis": "y5"
        },
        {
         "hovertemplate": "Ship To Name=ZALES OUTLET 2912<br>Color=K<br>Month=%{x}<br>Line Count Int=%{y}<extra></extra>",
         "legendgroup": "ZALES OUTLET 2912",
         "marker": {
          "color": "#EF553B",
          "pattern": {
           "shape": ""
          }
         },
         "name": "ZALES OUTLET 2912",
         "orientation": "v",
         "showlegend": true,
         "textposition": "auto",
         "type": "bar",
         "x": [
          "2025-05"
         ],
         "xaxis": "x5",
         "y": {
          "bdata": "AAAAAAAAOEA=",
          "dtype": "f8"
         },
         "yaxis": "y5"
        },
        {
         "hovertemplate": "Ship To Name=ZALES OUTLET 2915<br>Color=K<br>Month=%{x}<br>Line Count Int=%{y}<extra></extra>",
         "legendgroup": "ZALES OUTLET 2915",
         "marker": {
          "color": "#00cc96",
          "pattern": {
           "shape": ""
          }
         },
         "name": "ZALES OUTLET 2915",
         "orientation": "v",
         "showlegend": true,
         "textposition": "auto",
         "type": "bar",
         "x": [
          "2025-05"
         ],
         "xaxis": "x5",
         "y": {
          "bdata": "AAAAAAAALkA=",
          "dtype": "f8"
         },
         "yaxis": "y5"
        },
        {
         "hovertemplate": "Ship To Name=ZALES OUTLET 2920<br>Color=K<br>Month=%{x}<br>Line Count Int=%{y}<extra></extra>",
         "legendgroup": "ZALES OUTLET 2920",
         "marker": {
          "color": "#ab63fa",
          "pattern": {
           "shape": ""
          }
         },
         "name": "ZALES OUTLET 2920",
         "orientation": "v",
         "showlegend": true,
         "textposition": "auto",
         "type": "bar",
         "x": [
          "2025-05"
         ],
         "xaxis": "x5",
         "y": {
          "bdata": "AAAAAAAAPUA=",
          "dtype": "f8"
         },
         "yaxis": "y5"
        },
        {
         "hovertemplate": "Ship To Name=ZALES OUTLET 2927<br>Color=K<br>Month=%{x}<br>Line Count Int=%{y}<extra></extra>",
         "legendgroup": "ZALES OUTLET 2927",
         "marker": {
          "color": "#FFA15A",
          "pattern": {
           "shape": ""
          }
         },
         "name": "ZALES OUTLET 2927",
         "orientation": "v",
         "showlegend": true,
         "textposition": "auto",
         "type": "bar",
         "x": [
          "2025-05"
         ],
         "xaxis": "x5",
         "y": {
          "bdata": "AAAAAAAALkA=",
          "dtype": "f8"
         },
         "yaxis": "y5"
        }
       ],
       "layout": {
        "annotations": [
         {
          "font": {},
          "showarrow": false,
          "text": "Color=Y",
          "textangle": 90,
          "x": 0.98,
          "xanchor": "left",
          "xref": "paper",
          "y": 0.08800000000000001,
          "yanchor": "middle",
          "yref": "paper"
         },
         {
          "font": {},
          "showarrow": false,
          "text": "Color=Unknown",
          "textangle": 90,
          "x": 0.98,
          "xanchor": "left",
          "xref": "paper",
          "y": 0.29400000000000004,
          "yanchor": "middle",
          "yref": "paper"
         },
         {
          "font": {},
          "showarrow": false,
          "text": "Color=M",
          "textangle": 90,
          "x": 0.98,
          "xanchor": "left",
          "xref": "paper",
          "y": 0.5,
          "yanchor": "middle",
          "yref": "paper"
         },
         {
          "font": {},
          "showarrow": false,
          "text": "Color=C",
          "textangle": 90,
          "x": 0.98,
          "xanchor": "left",
          "xref": "paper",
          "y": 0.706,
          "yanchor": "middle",
          "yref": "paper"
         },
         {
          "font": {},
          "showarrow": false,
          "text": "Color=K",
          "textangle": 90,
          "x": 0.98,
          "xanchor": "left",
          "xref": "paper",
          "y": 0.912,
          "yanchor": "middle",
          "yref": "paper"
         }
        ],
        "barmode": "relative",
        "height": 800,
        "legend": {
         "title": {
          "text": "Ship To Name"
         },
         "tracegroupgap": 0
        },
        "margin": {
         "t": 60
        },
        "template": {
         "data": {
          "bar": [
           {
            "error_x": {
             "color": "#f2f5fa"
            },
            "error_y": {
             "color": "#f2f5fa"
            },
            "marker": {
             "line": {
              "color": "rgb(17,17,17)",
              "width": 0.5
             },
             "pattern": {
              "fillmode": "overlay",
              "size": 10,
              "solidity": 0.2
             }
            },
            "type": "bar"
           }
          ],
          "barpolar": [
           {
            "marker": {
             "line": {
              "color": "rgb(17,17,17)",
              "width": 0.5
             },
             "pattern": {
              "fillmode": "overlay",
              "size": 10,
              "solidity": 0.2
             }
            },
            "type": "barpolar"
           }
          ],
          "carpet": [
           {
            "aaxis": {
             "endlinecolor": "#A2B1C6",
             "gridcolor": "#506784",
             "linecolor": "#506784",
             "minorgridcolor": "#506784",
             "startlinecolor": "#A2B1C6"
            },
            "baxis": {
             "endlinecolor": "#A2B1C6",
             "gridcolor": "#506784",
             "linecolor": "#506784",
             "minorgridcolor": "#506784",
             "startlinecolor": "#A2B1C6"
            },
            "type": "carpet"
           }
          ],
          "choropleth": [
           {
            "colorbar": {
             "outlinewidth": 0,
             "ticks": ""
            },
            "type": "choropleth"
           }
          ],
          "contour": [
           {
            "colorbar": {
             "outlinewidth": 0,
             "ticks": ""
            },
            "colorscale": [
             [
              0,
              "#0d0887"
             ],
             [
              0.1111111111111111,
              "#46039f"
             ],
             [
              0.2222222222222222,
              "#7201a8"
             ],
             [
              0.3333333333333333,
              "#9c179e"
             ],
             [
              0.4444444444444444,
              "#bd3786"
             ],
             [
              0.5555555555555556,
              "#d8576b"
             ],
             [
              0.6666666666666666,
              "#ed7953"
             ],
             [
              0.7777777777777778,
              "#fb9f3a"
             ],
             [
              0.8888888888888888,
              "#fdca26"
             ],
             [
              1,
              "#f0f921"
             ]
            ],
            "type": "contour"
           }
          ],
          "contourcarpet": [
           {
            "colorbar": {
             "outlinewidth": 0,
             "ticks": ""
            },
            "type": "contourcarpet"
           }
          ],
          "heatmap": [
           {
            "colorbar": {
             "outlinewidth": 0,
             "ticks": ""
            },
            "colorscale": [
             [
              0,
              "#0d0887"
             ],
             [
              0.1111111111111111,
              "#46039f"
             ],
             [
              0.2222222222222222,
              "#7201a8"
             ],
             [
              0.3333333333333333,
              "#9c179e"
             ],
             [
              0.4444444444444444,
              "#bd3786"
             ],
             [
              0.5555555555555556,
              "#d8576b"
             ],
             [
              0.6666666666666666,
              "#ed7953"
             ],
             [
              0.7777777777777778,
              "#fb9f3a"
             ],
             [
              0.8888888888888888,
              "#fdca26"
             ],
             [
              1,
              "#f0f921"
             ]
            ],
            "type": "heatmap"
           }
          ],
          "histogram": [
           {
            "marker": {
             "pattern": {
              "fillmode": "overlay",
              "size": 10,
              "solidity": 0.2
             }
            },
            "type": "histogram"
           }
          ],
          "histogram2d": [
           {
            "colorbar": {
             "outlinewidth": 0,
             "ticks": ""
            },
            "colorscale": [
             [
              0,
              "#0d0887"
             ],
             [
              0.1111111111111111,
              "#46039f"
             ],
             [
              0.2222222222222222,
              "#7201a8"
             ],
             [
              0.3333333333333333,
              "#9c179e"
             ],
             [
              0.4444444444444444,
              "#bd3786"
             ],
             [
              0.5555555555555556,
              "#d8576b"
             ],
             [
              0.6666666666666666,
              "#ed7953"
             ],
             [
              0.7777777777777778,
              "#fb9f3a"
             ],
             [
              0.8888888888888888,
              "#fdca26"
             ],
             [
              1,
              "#f0f921"
             ]
            ],
            "type": "histogram2d"
           }
          ],
          "histogram2dcontour": [
           {
            "colorbar": {
             "outlinewidth": 0,
             "ticks": ""
            },
            "colorscale": [
             [
              0,
              "#0d0887"
             ],
             [
              0.1111111111111111,
              "#46039f"
             ],
             [
              0.2222222222222222,
              "#7201a8"
             ],
             [
              0.3333333333333333,
              "#9c179e"
             ],
             [
              0.4444444444444444,
              "#bd3786"
             ],
             [
              0.5555555555555556,
              "#d8576b"
             ],
             [
              0.6666666666666666,
              "#ed7953"
             ],
             [
              0.7777777777777778,
              "#fb9f3a"
             ],
             [
              0.8888888888888888,
              "#fdca26"
             ],
             [
              1,
              "#f0f921"
             ]
            ],
            "type": "histogram2dcontour"
           }
          ],
          "mesh3d": [
           {
            "colorbar": {
             "outlinewidth": 0,
             "ticks": ""
            },
            "type": "mesh3d"
           }
          ],
          "parcoords": [
           {
            "line": {
             "colorbar": {
              "outlinewidth": 0,
              "ticks": ""
             }
            },
            "type": "parcoords"
           }
          ],
          "pie": [
           {
            "automargin": true,
            "type": "pie"
           }
          ],
          "scatter": [
           {
            "marker": {
             "line": {
              "color": "#283442"
             }
            },
            "type": "scatter"
           }
          ],
          "scatter3d": [
           {
            "line": {
             "colorbar": {
              "outlinewidth": 0,
              "ticks": ""
             }
            },
            "marker": {
             "colorbar": {
              "outlinewidth": 0,
              "ticks": ""
             }
            },
            "type": "scatter3d"
           }
          ],
          "scattercarpet": [
           {
            "marker": {
             "colorbar": {
              "outlinewidth": 0,
              "ticks": ""
             }
            },
            "type": "scattercarpet"
           }
          ],
          "scattergeo": [
           {
            "marker": {
             "colorbar": {
              "outlinewidth": 0,
              "ticks": ""
             }
            },
            "type": "scattergeo"
           }
          ],
          "scattergl": [
           {
            "marker": {
             "line": {
              "color": "#283442"
             }
            },
            "type": "scattergl"
           }
          ],
          "scattermap": [
           {
            "marker": {
             "colorbar": {
              "outlinewidth": 0,
              "ticks": ""
             }
            },
            "type": "scattermap"
           }
          ],
          "scattermapbox": [
           {
            "marker": {
             "colorbar": {
              "outlinewidth": 0,
              "ticks": ""
             }
            },
            "type": "scattermapbox"
           }
          ],
          "scatterpolar": [
           {
            "marker": {
             "colorbar": {
              "outlinewidth": 0,
              "ticks": ""
             }
            },
            "type": "scatterpolar"
           }
          ],
          "scatterpolargl": [
           {
            "marker": {
             "colorbar": {
              "outlinewidth": 0,
              "ticks": ""
             }
            },
            "type": "scatterpolargl"
           }
          ],
          "scatterternary": [
           {
            "marker": {
             "colorbar": {
              "outlinewidth": 0,
              "ticks": ""
             }
            },
            "type": "scatterternary"
           }
          ],
          "surface": [
           {
            "colorbar": {
             "outlinewidth": 0,
             "ticks": ""
            },
            "colorscale": [
             [
              0,
              "#0d0887"
             ],
             [
              0.1111111111111111,
              "#46039f"
             ],
             [
              0.2222222222222222,
              "#7201a8"
             ],
             [
              0.3333333333333333,
              "#9c179e"
             ],
             [
              0.4444444444444444,
              "#bd3786"
             ],
             [
              0.5555555555555556,
              "#d8576b"
             ],
             [
              0.6666666666666666,
              "#ed7953"
             ],
             [
              0.7777777777777778,
              "#fb9f3a"
             ],
             [
              0.8888888888888888,
              "#fdca26"
             ],
             [
              1,
              "#f0f921"
             ]
            ],
            "type": "surface"
           }
          ],
          "table": [
           {
            "cells": {
             "fill": {
              "color": "#506784"
             },
             "line": {
              "color": "rgb(17,17,17)"
             }
            },
            "header": {
             "fill": {
              "color": "#2a3f5f"
             },
             "line": {
              "color": "rgb(17,17,17)"
             }
            },
            "type": "table"
           }
          ]
         },
         "layout": {
          "annotationdefaults": {
           "arrowcolor": "#f2f5fa",
           "arrowhead": 0,
           "arrowwidth": 1
          },
          "autotypenumbers": "strict",
          "coloraxis": {
           "colorbar": {
            "outlinewidth": 0,
            "ticks": ""
           }
          },
          "colorscale": {
           "diverging": [
            [
             0,
             "#8e0152"
            ],
            [
             0.1,
             "#c51b7d"
            ],
            [
             0.2,
             "#de77ae"
            ],
            [
             0.3,
             "#f1b6da"
            ],
            [
             0.4,
             "#fde0ef"
            ],
            [
             0.5,
             "#f7f7f7"
            ],
            [
             0.6,
             "#e6f5d0"
            ],
            [
             0.7,
             "#b8e186"
            ],
            [
             0.8,
             "#7fbc41"
            ],
            [
             0.9,
             "#4d9221"
            ],
            [
             1,
             "#276419"
            ]
           ],
           "sequential": [
            [
             0,
             "#0d0887"
            ],
            [
             0.1111111111111111,
             "#46039f"
            ],
            [
             0.2222222222222222,
             "#7201a8"
            ],
            [
             0.3333333333333333,
             "#9c179e"
            ],
            [
             0.4444444444444444,
             "#bd3786"
            ],
            [
             0.5555555555555556,
             "#d8576b"
            ],
            [
             0.6666666666666666,
             "#ed7953"
            ],
            [
             0.7777777777777778,
             "#fb9f3a"
            ],
            [
             0.8888888888888888,
             "#fdca26"
            ],
            [
             1,
             "#f0f921"
            ]
           ],
           "sequentialminus": [
            [
             0,
             "#0d0887"
            ],
            [
             0.1111111111111111,
             "#46039f"
            ],
            [
             0.2222222222222222,
             "#7201a8"
            ],
            [
             0.3333333333333333,
             "#9c179e"
            ],
            [
             0.4444444444444444,
             "#bd3786"
            ],
            [
             0.5555555555555556,
             "#d8576b"
            ],
            [
             0.6666666666666666,
             "#ed7953"
            ],
            [
             0.7777777777777778,
             "#fb9f3a"
            ],
            [
             0.8888888888888888,
             "#fdca26"
            ],
            [
             1,
             "#f0f921"
            ]
           ]
          },
          "colorway": [
           "#636efa",
           "#EF553B",
           "#00cc96",
           "#ab63fa",
           "#FFA15A",
           "#19d3f3",
           "#FF6692",
           "#B6E880",
           "#FF97FF",
           "#FECB52"
          ],
          "font": {
           "color": "#f2f5fa"
          },
          "geo": {
           "bgcolor": "rgb(17,17,17)",
           "lakecolor": "rgb(17,17,17)",
           "landcolor": "rgb(17,17,17)",
           "showlakes": true,
           "showland": true,
           "subunitcolor": "#506784"
          },
          "hoverlabel": {
           "align": "left"
          },
          "hovermode": "closest",
          "mapbox": {
           "style": "dark"
          },
          "paper_bgcolor": "rgb(17,17,17)",
          "plot_bgcolor": "rgb(17,17,17)",
          "polar": {
           "angularaxis": {
            "gridcolor": "#506784",
            "linecolor": "#506784",
            "ticks": ""
           },
           "bgcolor": "rgb(17,17,17)",
           "radialaxis": {
            "gridcolor": "#506784",
            "linecolor": "#506784",
            "ticks": ""
           }
          },
          "scene": {
           "xaxis": {
            "backgroundcolor": "rgb(17,17,17)",
            "gridcolor": "#506784",
            "gridwidth": 2,
            "linecolor": "#506784",
            "showbackground": true,
            "ticks": "",
            "zerolinecolor": "#C8D4E3"
           },
           "yaxis": {
            "backgroundcolor": "rgb(17,17,17)",
            "gridcolor": "#506784",
            "gridwidth": 2,
            "linecolor": "#506784",
            "showbackground": true,
            "ticks": "",
            "zerolinecolor": "#C8D4E3"
           },
           "zaxis": {
            "backgroundcolor": "rgb(17,17,17)",
            "gridcolor": "#506784",
            "gridwidth": 2,
            "linecolor": "#506784",
            "showbackground": true,
            "ticks": "",
            "zerolinecolor": "#C8D4E3"
           }
          },
          "shapedefaults": {
           "line": {
            "color": "#f2f5fa"
           }
          },
          "sliderdefaults": {
           "bgcolor": "#C8D4E3",
           "bordercolor": "rgb(17,17,17)",
           "borderwidth": 1,
           "tickwidth": 0
          },
          "ternary": {
           "aaxis": {
            "gridcolor": "#506784",
            "linecolor": "#506784",
            "ticks": ""
           },
           "baxis": {
            "gridcolor": "#506784",
            "linecolor": "#506784",
            "ticks": ""
           },
           "bgcolor": "rgb(17,17,17)",
           "caxis": {
            "gridcolor": "#506784",
            "linecolor": "#506784",
            "ticks": ""
           }
          },
          "title": {
           "x": 0.05
          },
          "updatemenudefaults": {
           "bgcolor": "#506784",
           "borderwidth": 0
          },
          "xaxis": {
           "automargin": true,
           "gridcolor": "#283442",
           "linecolor": "#506784",
           "ticks": "",
           "title": {
            "standoff": 15
           },
           "zerolinecolor": "#283442",
           "zerolinewidth": 2
          },
          "yaxis": {
           "automargin": true,
           "gridcolor": "#283442",
           "linecolor": "#506784",
           "ticks": "",
           "title": {
            "standoff": 15
           },
           "zerolinecolor": "#283442",
           "zerolinewidth": 2
          }
         }
        },
        "xaxis": {
         "anchor": "y",
         "domain": [
          0,
          0.98
         ],
         "title": {
          "text": "Month"
         }
        },
        "xaxis2": {
         "anchor": "y2",
         "domain": [
          0,
          0.98
         ],
         "matches": "x",
         "showticklabels": false
        },
        "xaxis3": {
         "anchor": "y3",
         "domain": [
          0,
          0.98
         ],
         "matches": "x",
         "showticklabels": false
        },
        "xaxis4": {
         "anchor": "y4",
         "domain": [
          0,
          0.98
         ],
         "matches": "x",
         "showticklabels": false
        },
        "xaxis5": {
         "anchor": "y5",
         "domain": [
          0,
          0.98
         ],
         "matches": "x",
         "showticklabels": false
        },
        "yaxis": {
         "anchor": "x",
         "domain": [
          0,
          0.17600000000000002
         ],
         "title": {
          "text": "Line Count Int"
         }
        },
        "yaxis2": {
         "anchor": "x2",
         "domain": [
          0.20600000000000002,
          0.382
         ],
         "matches": "y",
         "title": {
          "text": "Line Count Int"
         }
        },
        "yaxis3": {
         "anchor": "x3",
         "domain": [
          0.41200000000000003,
          0.5880000000000001
         ],
         "matches": "y",
         "title": {
          "text": "Line Count Int"
         }
        },
        "yaxis4": {
         "anchor": "x4",
         "domain": [
          0.618,
          0.794
         ],
         "matches": "y",
         "title": {
          "text": "Line Count Int"
         }
        },
        "yaxis5": {
         "anchor": "x5",
         "domain": [
          0.8240000000000001,
          1
         ],
         "matches": "y",
         "title": {
          "text": "Line Count Int"
         }
        }
       }
      }
     },
     "metadata": {},
     "output_type": "display_data"
    }
   ],
   "source": [
    "px.bar(df_group[df_group['Month']>'2025-04'],\n",
    "                x = 'Month', \n",
    "                y = 'Line Count Int', \n",
    "                color = 'Ship To Name',\n",
    "                facet_row = 'Color', \n",
    "                template = 'plotly_dark', \n",
    "                height = 800)"
   ]
  },
  {
   "cell_type": "code",
   "execution_count": 40,
   "id": "a348db82",
   "metadata": {},
   "outputs": [
    {
     "data": {
      "application/vnd.microsoft.datawrangler.viewer.v0+json": {
       "columns": [
        {
         "name": "index",
         "rawType": "int64",
         "type": "integer"
        },
        {
         "name": "Period month year",
         "rawType": "int64",
         "type": "integer"
        },
        {
         "name": "Created On",
         "rawType": "datetime64[ns]",
         "type": "datetime"
        },
        {
         "name": "Total AMV",
         "rawType": "float64",
         "type": "float"
        },
        {
         "name": "Total AMV (Avg)",
         "rawType": "float64",
         "type": "float"
        },
        {
         "name": "Days Since Creation",
         "rawType": "int64",
         "type": "integer"
        },
        {
         "name": "Color",
         "rawType": "object",
         "type": "string"
        },
        {
         "name": "Brand",
         "rawType": "object",
         "type": "string"
        },
        {
         "name": "Model (Attr)",
         "rawType": "object",
         "type": "unknown"
        },
        {
         "name": "Ship To Name",
         "rawType": "object",
         "type": "string"
        },
        {
         "name": "Serial Number",
         "rawType": "object",
         "type": "unknown"
        },
        {
         "name": "Total Read",
         "rawType": "float64",
         "type": "float"
        },
        {
         "name": "ZYIELD",
         "rawType": "float64",
         "type": "float"
        },
        {
         "name": "Line Count",
         "rawType": "int64",
         "type": "integer"
        },
        {
         "name": "month",
         "rawType": "int32",
         "type": "integer"
        },
        {
         "name": "day",
         "rawType": "int32",
         "type": "integer"
        },
        {
         "name": "day_num",
         "rawType": "int32",
         "type": "integer"
        },
        {
         "name": "Utilization Score",
         "rawType": "float64",
         "type": "float"
        }
       ],
       "ref": "dd12f566-a04b-4b7a-967b-4654121ace62",
       "rows": [
        [
         "0",
         "202112",
         "2021-12-09 00:00:00",
         null,
         "0.0",
         "1329",
         "K",
         "KAY JEWELERS",
         "LXE460",
         "KAY JEWELERS 1401",
         "45145PHH2H80D",
         null,
         "3500.0",
         "1",
         "12",
         "9",
         "3",
         null
        ],
        [
         "1",
         "202112",
         "2021-12-13 00:00:00",
         null,
         "0.0",
         "1325",
         "C",
         "JARED",
         "HPPW556XH",
         "JARED 8590",
         "CN79BBK15H",
         null,
         "6000.0",
         "1",
         "12",
         "13",
         "0",
         null
        ],
        [
         "2",
         "202112",
         "2021-12-13 00:00:00",
         null,
         "0.0",
         "1325",
         "K",
         "JARED",
         "HPPW556XH",
         "JARED 8590",
         "CN79BBK15H",
         null,
         "6000.0",
         "1",
         "12",
         "13",
         "0",
         null
        ],
        [
         "3",
         "202112",
         "2021-12-13 00:00:00",
         null,
         "0.0",
         "1325",
         "M",
         "JARED",
         "HPPW556XH",
         "JARED 8590",
         "CN79BBK15H",
         null,
         "6000.0",
         "1",
         "12",
         "13",
         "0",
         null
        ],
        [
         "4",
         "202112",
         "2021-12-13 00:00:00",
         null,
         "0.0",
         "1325",
         "Y",
         "JARED",
         "HPPW556XH",
         "JARED 8590",
         "CN79BBK15H",
         null,
         "6000.0",
         "1",
         "12",
         "13",
         "0",
         null
        ],
        [
         "5",
         "202112",
         "2021-12-14 00:00:00",
         null,
         "0.0",
         "1324",
         "K",
         "JARED",
         "LXMX521",
         "JARED 2462",
         "701795230KRKC",
         null,
         "15000.0",
         "1",
         "12",
         "14",
         "1",
         null
        ],
        [
         "6",
         "202112",
         "2021-12-16 00:00:00",
         null,
         "0.0",
         "1322",
         "Unknown",
         "KAY JEWELERS",
         "LXE460",
         "KAY JEWELERS 1840",
         "72HN5ZT",
         null,
         null,
         "1",
         "12",
         "16",
         "3",
         null
        ],
        [
         "7",
         "202112",
         "2021-12-17 00:00:00",
         null,
         null,
         "1321",
         "K",
         "JARED",
         null,
         "JARED 4125",
         null,
         null,
         null,
         "1",
         "12",
         "17",
         "4",
         null
        ],
        [
         "8",
         "202112",
         "2021-12-20 00:00:00",
         null,
         "0.0",
         "1318",
         "K",
         "JARED",
         "LXMX521",
         "JARED 470",
         "701795230KRP2",
         null,
         "15000.0",
         "1",
         "12",
         "20",
         "0",
         null
        ],
        [
         "9",
         "202112",
         "2021-12-21 00:00:00",
         null,
         "0.0",
         "1317",
         "K",
         "KAY JEWELERS",
         "LXMX521",
         "KAY JEWELERS 4088",
         "701705130PG59",
         null,
         "15000.0",
         "1",
         "12",
         "21",
         "1",
         null
        ],
        [
         "10",
         "202112",
         "2021-12-21 00:00:00",
         null,
         "0.0",
         "1317",
         "K",
         "ZALES JEWELERS",
         "HPLJM130FW",
         "ZALES JEWELERS 429",
         "VNG3L06991",
         null,
         "1600.0",
         "1",
         "12",
         "21",
         "1",
         null
        ],
        [
         "11",
         "202112",
         "2021-12-22 00:00:00",
         null,
         "0.0",
         "1316",
         "K",
         "CPT NETWORK SOLUT",
         "BIZ4020I",
         "CPT NETWORK SOLUTIONS",
         "ACER011002851",
         null,
         "12000.0",
         "1",
         "12",
         "22",
         "2",
         null
        ],
        [
         "12",
         "202112",
         "2021-12-22 00:00:00",
         null,
         "0.0",
         "1316",
         "K",
         "PIERCING PAGODA",
         "HPLJM130FW",
         "PIERCING PAGODA 2552",
         "VND4M11123",
         null,
         "1600.0",
         "1",
         "12",
         "22",
         "2",
         null
        ],
        [
         "13",
         "202112",
         "2021-12-22 00:00:00",
         null,
         null,
         "1316",
         "Unknown",
         "PIERCING PAGODA",
         null,
         "PIERCING PAGODA 2552",
         null,
         null,
         null,
         "1",
         "12",
         "22",
         "2",
         null
        ],
        [
         "14",
         "202112",
         "2021-12-27 00:00:00",
         null,
         "0.0",
         "1311",
         "K",
         "JARED",
         "LXMX521",
         "JARED 2454",
         "701795230KTLR",
         null,
         "15000.0",
         "1",
         "12",
         "27",
         "0",
         null
        ],
        [
         "15",
         "202112",
         "2021-12-28 00:00:00",
         null,
         "0.0",
         "1310",
         "Unknown",
         "ZALES JEWELERS",
         "HPLJM428",
         "ZALES JEWELERS 1609",
         "MXBPMBT0WP",
         null,
         null,
         "1",
         "12",
         "28",
         "1",
         null
        ],
        [
         "16",
         "202112",
         "2021-12-30 00:00:00",
         null,
         "0.0",
         "1308",
         "K",
         "ZALES OUTLET",
         "HPLJM1212NF",
         "ZALES OUTLET 2798",
         "CNJ8F80CV6",
         null,
         "1600.0",
         "1",
         "12",
         "30",
         "3",
         null
        ],
        [
         "17",
         "202201",
         "2022-01-03 00:00:00",
         null,
         "0.0",
         "1304",
         "K",
         "CPT NETWORK SOLUT",
         "BIZ4020I",
         "CPT NETWORK SOLUTIONS",
         "ACER011002367",
         null,
         "12000.0",
         "1",
         "1",
         "3",
         "0",
         null
        ],
        [
         "18",
         "202201",
         "2022-01-03 00:00:00",
         null,
         "0.0",
         "1304",
         "K",
         "PIERCING PAGODA",
         "HPLJM1212NF",
         "PIERCING PAGODA 1227",
         "CNC9B9BSN3",
         null,
         "1600.0",
         "1",
         "1",
         "3",
         "0",
         null
        ],
        [
         "19",
         "202201",
         "2022-01-03 00:00:00",
         null,
         null,
         "1304",
         "Unknown",
         "PIERCING PAGOD",
         null,
         "PIERCING PAGODA 66",
         null,
         null,
         null,
         "1",
         "1",
         "3",
         "0",
         null
        ],
        [
         "20",
         "202201",
         "2022-01-05 00:00:00",
         null,
         null,
         "1302",
         "Unknown",
         "ZALES OUTLET",
         null,
         "ZALES OUTLET 2784",
         null,
         null,
         null,
         "1",
         "1",
         "5",
         "2",
         null
        ],
        [
         "21",
         "202201",
         "2022-01-06 00:00:00",
         null,
         "0.0",
         "1301",
         "K",
         "KAY JEWELERS",
         "LXE460",
         "KAY JEWELERS 242",
         "701705130PG4Y",
         null,
         "3500.0",
         "1",
         "1",
         "6",
         "3",
         null
        ],
        [
         "22",
         "202201",
         "2022-01-06 00:00:00",
         null,
         "0.0",
         "1301",
         "Unknown",
         "KAY JEWELERS",
         "LXMX521",
         "KAY JEWELERS 2815",
         "701704730P661",
         null,
         null,
         "1",
         "1",
         "6",
         "3",
         null
        ],
        [
         "23",
         "202201",
         "2022-01-12 00:00:00",
         null,
         "0.0",
         "1295",
         "K",
         "JARED",
         "LXMX521",
         "JARED 8376",
         "701700130L2CH",
         null,
         "15000.0",
         "1",
         "1",
         "12",
         "2",
         null
        ],
        [
         "24",
         "202201",
         "2022-01-12 00:00:00",
         null,
         null,
         "1295",
         "Unknown",
         "KAY JEWELERS",
         null,
         "KAY JEWELERS 1490",
         null,
         null,
         null,
         "1",
         "1",
         "12",
         "2",
         null
        ],
        [
         "25",
         "202201",
         "2022-01-13 00:00:00",
         null,
         "0.0",
         "1294",
         "K",
         "KAY JEWELERS",
         "LXE460",
         "KAY JEWELERS 1840",
         "72HN5ZT",
         null,
         "3500.0",
         "1",
         "1",
         "13",
         "3",
         null
        ],
        [
         "26",
         "202201",
         "2022-01-13 00:00:00",
         null,
         "0.0",
         "1294",
         "K",
         "PIERCING PAGODA",
         "HPLJM130FW",
         "PIERCING PAGODA 421",
         "VNG3L07002",
         null,
         "1600.0",
         "1",
         "1",
         "13",
         "3",
         null
        ],
        [
         "27",
         "202201",
         "2022-01-13 00:00:00",
         null,
         "0.0",
         "1294",
         "Unknown",
         "KAY JEWELERS",
         "LXMX521",
         "KAY JEWELERS 2815",
         "701704730P661",
         null,
         null,
         "1",
         "1",
         "13",
         "3",
         null
        ],
        [
         "28",
         "202201",
         "2022-01-14 00:00:00",
         null,
         "0.0",
         "1293",
         "K",
         "KAY JEWELERS",
         "LXE460",
         "KAY JEWELERS 2948",
         "72HGHXD",
         null,
         "3500.0",
         "1",
         "1",
         "14",
         "4",
         null
        ],
        [
         "29",
         "202201",
         "2022-01-17 00:00:00",
         null,
         null,
         "1290",
         "Unknown",
         "JARED",
         null,
         "JARED 8589",
         null,
         null,
         null,
         "5",
         "1",
         "17",
         "0",
         null
        ],
        [
         "30",
         "202201",
         "2022-01-19 00:00:00",
         null,
         "0.0",
         "1288",
         "K",
         "KAY JEWELERS",
         "LXX463DE",
         "KAY JEWELERS 672",
         "35PD838",
         null,
         "3500.0",
         "1",
         "1",
         "19",
         "2",
         null
        ],
        [
         "31",
         "202201",
         "2022-01-19 00:00:00",
         null,
         null,
         "1288",
         "Unknown",
         "KAY JEWELERS",
         null,
         "KAY JEWELERS 271",
         null,
         null,
         null,
         "2",
         "1",
         "19",
         "2",
         null
        ],
        [
         "32",
         "202201",
         "2022-01-20 00:00:00",
         null,
         null,
         "1287",
         "Unknown",
         "JARED",
         null,
         "JARED 8362",
         null,
         null,
         null,
         "5",
         "1",
         "20",
         "3",
         null
        ],
        [
         "33",
         "202201",
         "2022-01-20 00:00:00",
         null,
         null,
         "1287",
         "Unknown",
         "KAY JEWELERS",
         null,
         "KAY JEWELERS 8599",
         null,
         null,
         null,
         "5",
         "1",
         "20",
         "3",
         null
        ],
        [
         "34",
         "202201",
         "2022-01-25 00:00:00",
         null,
         "0.0",
         "1282",
         "K",
         "KAY JEWELERS",
         "LXES460DN",
         "KAY JEWELERS 1569",
         "72HHPKZ",
         null,
         "3500.0",
         "1",
         "1",
         "25",
         "1",
         null
        ],
        [
         "35",
         "202201",
         "2022-01-25 00:00:00",
         null,
         null,
         "1282",
         "Unknown",
         "JARED",
         null,
         "JARED 8594",
         null,
         null,
         null,
         "5",
         "1",
         "25",
         "1",
         null
        ],
        [
         "36",
         "202201",
         "2022-01-25 00:00:00",
         null,
         null,
         "1282",
         "Unknown",
         "ZALES OUTLET",
         null,
         "ZALES OUTLET 2915",
         null,
         null,
         null,
         "2",
         "1",
         "25",
         "1",
         null
        ],
        [
         "37",
         "202201",
         "2022-01-27 00:00:00",
         null,
         "0.0",
         "1280",
         "K",
         "KAY JEWELERS",
         "LXMX521",
         "KAY JEWELERS 2233",
         "701545HH0N4N6",
         null,
         "15000.0",
         "1",
         "1",
         "27",
         "3",
         null
        ],
        [
         "38",
         "202201",
         "2022-01-28 00:00:00",
         null,
         null,
         "1279",
         "Unknown",
         "JARED",
         null,
         "JARED 8984",
         null,
         null,
         null,
         "5",
         "1",
         "28",
         "4",
         null
        ],
        [
         "39",
         "202201",
         "2022-01-28 00:00:00",
         null,
         null,
         "1279",
         "Unknown",
         "KAY JEWELERS",
         null,
         "KAY JEWELERS 4174",
         null,
         null,
         null,
         "2",
         "1",
         "28",
         "4",
         null
        ],
        [
         "40",
         "202201",
         "2022-01-29 00:00:00",
         null,
         "0.0",
         "1278",
         "K",
         "JARED",
         "LXMX521",
         "JARED 492",
         "701795130KPNH",
         null,
         "15000.0",
         "1",
         "1",
         "29",
         "5",
         null
        ],
        [
         "41",
         "202201",
         "2022-01-31 00:00:00",
         null,
         "0.0",
         "1276",
         "K",
         "JARED",
         "LXMX521",
         "JARED 2552",
         "701795230KRLG",
         null,
         "15000.0",
         "1",
         "1",
         "31",
         "0",
         null
        ],
        [
         "42",
         "202201",
         "2022-01-31 00:00:00",
         null,
         "0.0",
         "1276",
         "K",
         "KAY JEWELERS",
         "BIZ4020I",
         "KAY JEWELERS 574",
         "ACER011002820",
         null,
         "12000.0",
         "1",
         "1",
         "31",
         "0",
         null
        ],
        [
         "43",
         "202201",
         "2022-01-31 00:00:00",
         null,
         null,
         "1276",
         "Unknown",
         "JARED",
         null,
         "JARED 9283",
         null,
         null,
         null,
         "5",
         "1",
         "31",
         "0",
         null
        ],
        [
         "44",
         "202202",
         "2022-02-01 00:00:00",
         null,
         "0.0",
         "1275",
         "K",
         "KAY JEWELERS",
         "BIZ4020I",
         "KAY JEWELERS 2124",
         "ACER011002851",
         null,
         "12000.0",
         "2",
         "2",
         "1",
         "1",
         null
        ],
        [
         "45",
         "202202",
         "2022-02-04 00:00:00",
         null,
         "0.0",
         "1272",
         "K",
         "KAY JEWELERS",
         "LXX463DE",
         "KAY JEWELERS 671",
         "701711140R4RX",
         null,
         "3500.0",
         "1",
         "2",
         "4",
         "4",
         null
        ],
        [
         "46",
         "202202",
         "2022-02-07 00:00:00",
         null,
         "0.0",
         "1269",
         "K",
         "KAY JEWELERS",
         "LXE460",
         "KAY JEWELERS 1840",
         "72HN5ZT",
         null,
         "3500.0",
         "1",
         "2",
         "7",
         "0",
         null
        ],
        [
         "47",
         "202202",
         "2022-02-07 00:00:00",
         null,
         null,
         "1269",
         "Unknown",
         "JARED",
         null,
         "JARED 8250",
         null,
         null,
         null,
         "5",
         "2",
         "7",
         "0",
         null
        ],
        [
         "48",
         "202202",
         "2022-02-09 00:00:00",
         null,
         "0.0",
         "1267",
         "K",
         "KAY JEWELERS",
         "LXMX521",
         "KAY JEWELERS 2815",
         "701704730P661",
         null,
         "15000.0",
         "1",
         "2",
         "9",
         "2",
         null
        ],
        [
         "49",
         "202202",
         "2022-02-15 00:00:00",
         null,
         "0.0",
         "1261",
         "K",
         "JARED",
         "LXMX521",
         "JARED 470",
         "701795230KRP2",
         null,
         "15000.0",
         "1",
         "2",
         "15",
         "1",
         null
        ]
       ],
       "shape": {
        "columns": 17,
        "rows": 37198
       }
      },
      "text/html": [
       "<div>\n",
       "<style scoped>\n",
       "    .dataframe tbody tr th:only-of-type {\n",
       "        vertical-align: middle;\n",
       "    }\n",
       "\n",
       "    .dataframe tbody tr th {\n",
       "        vertical-align: top;\n",
       "    }\n",
       "\n",
       "    .dataframe thead th {\n",
       "        text-align: right;\n",
       "    }\n",
       "</style>\n",
       "<table border=\"1\" class=\"dataframe\">\n",
       "  <thead>\n",
       "    <tr style=\"text-align: right;\">\n",
       "      <th></th>\n",
       "      <th>Period month year</th>\n",
       "      <th>Created On</th>\n",
       "      <th>Total AMV</th>\n",
       "      <th>Total AMV (Avg)</th>\n",
       "      <th>Days Since Creation</th>\n",
       "      <th>Color</th>\n",
       "      <th>Brand</th>\n",
       "      <th>Model (Attr)</th>\n",
       "      <th>Ship To Name</th>\n",
       "      <th>Serial Number</th>\n",
       "      <th>Total Read</th>\n",
       "      <th>ZYIELD</th>\n",
       "      <th>Line Count</th>\n",
       "      <th>month</th>\n",
       "      <th>day</th>\n",
       "      <th>day_num</th>\n",
       "      <th>Utilization Score</th>\n",
       "    </tr>\n",
       "  </thead>\n",
       "  <tbody>\n",
       "    <tr>\n",
       "      <th>0</th>\n",
       "      <td>202112</td>\n",
       "      <td>2021-12-09</td>\n",
       "      <td>NaN</td>\n",
       "      <td>0.0</td>\n",
       "      <td>1329</td>\n",
       "      <td>K</td>\n",
       "      <td>KAY JEWELERS</td>\n",
       "      <td>LXE460</td>\n",
       "      <td>KAY JEWELERS 1401</td>\n",
       "      <td>45145PHH2H80D</td>\n",
       "      <td>NaN</td>\n",
       "      <td>3500.0</td>\n",
       "      <td>1</td>\n",
       "      <td>12</td>\n",
       "      <td>9</td>\n",
       "      <td>3</td>\n",
       "      <td>NaN</td>\n",
       "    </tr>\n",
       "    <tr>\n",
       "      <th>1</th>\n",
       "      <td>202112</td>\n",
       "      <td>2021-12-13</td>\n",
       "      <td>NaN</td>\n",
       "      <td>0.0</td>\n",
       "      <td>1325</td>\n",
       "      <td>C</td>\n",
       "      <td>JARED</td>\n",
       "      <td>HPPW556XH</td>\n",
       "      <td>JARED 8590</td>\n",
       "      <td>CN79BBK15H</td>\n",
       "      <td>NaN</td>\n",
       "      <td>6000.0</td>\n",
       "      <td>1</td>\n",
       "      <td>12</td>\n",
       "      <td>13</td>\n",
       "      <td>0</td>\n",
       "      <td>NaN</td>\n",
       "    </tr>\n",
       "    <tr>\n",
       "      <th>2</th>\n",
       "      <td>202112</td>\n",
       "      <td>2021-12-13</td>\n",
       "      <td>NaN</td>\n",
       "      <td>0.0</td>\n",
       "      <td>1325</td>\n",
       "      <td>K</td>\n",
       "      <td>JARED</td>\n",
       "      <td>HPPW556XH</td>\n",
       "      <td>JARED 8590</td>\n",
       "      <td>CN79BBK15H</td>\n",
       "      <td>NaN</td>\n",
       "      <td>6000.0</td>\n",
       "      <td>1</td>\n",
       "      <td>12</td>\n",
       "      <td>13</td>\n",
       "      <td>0</td>\n",
       "      <td>NaN</td>\n",
       "    </tr>\n",
       "    <tr>\n",
       "      <th>3</th>\n",
       "      <td>202112</td>\n",
       "      <td>2021-12-13</td>\n",
       "      <td>NaN</td>\n",
       "      <td>0.0</td>\n",
       "      <td>1325</td>\n",
       "      <td>M</td>\n",
       "      <td>JARED</td>\n",
       "      <td>HPPW556XH</td>\n",
       "      <td>JARED 8590</td>\n",
       "      <td>CN79BBK15H</td>\n",
       "      <td>NaN</td>\n",
       "      <td>6000.0</td>\n",
       "      <td>1</td>\n",
       "      <td>12</td>\n",
       "      <td>13</td>\n",
       "      <td>0</td>\n",
       "      <td>NaN</td>\n",
       "    </tr>\n",
       "    <tr>\n",
       "      <th>4</th>\n",
       "      <td>202112</td>\n",
       "      <td>2021-12-13</td>\n",
       "      <td>NaN</td>\n",
       "      <td>0.0</td>\n",
       "      <td>1325</td>\n",
       "      <td>Y</td>\n",
       "      <td>JARED</td>\n",
       "      <td>HPPW556XH</td>\n",
       "      <td>JARED 8590</td>\n",
       "      <td>CN79BBK15H</td>\n",
       "      <td>NaN</td>\n",
       "      <td>6000.0</td>\n",
       "      <td>1</td>\n",
       "      <td>12</td>\n",
       "      <td>13</td>\n",
       "      <td>0</td>\n",
       "      <td>NaN</td>\n",
       "    </tr>\n",
       "    <tr>\n",
       "      <th>...</th>\n",
       "      <td>...</td>\n",
       "      <td>...</td>\n",
       "      <td>...</td>\n",
       "      <td>...</td>\n",
       "      <td>...</td>\n",
       "      <td>...</td>\n",
       "      <td>...</td>\n",
       "      <td>...</td>\n",
       "      <td>...</td>\n",
       "      <td>...</td>\n",
       "      <td>...</td>\n",
       "      <td>...</td>\n",
       "      <td>...</td>\n",
       "      <td>...</td>\n",
       "      <td>...</td>\n",
       "      <td>...</td>\n",
       "      <td>...</td>\n",
       "    </tr>\n",
       "    <tr>\n",
       "      <th>37193</th>\n",
       "      <td>202504</td>\n",
       "      <td>2025-04-29</td>\n",
       "      <td>4459.0</td>\n",
       "      <td>297.0</td>\n",
       "      <td>92</td>\n",
       "      <td>Y</td>\n",
       "      <td>ZALES JEWELERS</td>\n",
       "      <td>C3300I</td>\n",
       "      <td>ZALES JEWELERS 8602</td>\n",
       "      <td>AAJT011204569</td>\n",
       "      <td>0.0</td>\n",
       "      <td>9000.0</td>\n",
       "      <td>1</td>\n",
       "      <td>4</td>\n",
       "      <td>29</td>\n",
       "      <td>1</td>\n",
       "      <td>0.990889</td>\n",
       "    </tr>\n",
       "    <tr>\n",
       "      <th>37194</th>\n",
       "      <td>202504</td>\n",
       "      <td>2025-04-30</td>\n",
       "      <td>28544.0</td>\n",
       "      <td>1902.0</td>\n",
       "      <td>91</td>\n",
       "      <td>C</td>\n",
       "      <td>JARED REPAIR SHOP</td>\n",
       "      <td>C3300I</td>\n",
       "      <td>JARED REPAIR SHOP 9283</td>\n",
       "      <td>AAJT011205960</td>\n",
       "      <td>27984.0</td>\n",
       "      <td>9000.0</td>\n",
       "      <td>1</td>\n",
       "      <td>4</td>\n",
       "      <td>30</td>\n",
       "      <td>2</td>\n",
       "      <td>6.343111</td>\n",
       "    </tr>\n",
       "    <tr>\n",
       "      <th>37195</th>\n",
       "      <td>202504</td>\n",
       "      <td>2025-04-30</td>\n",
       "      <td>28544.0</td>\n",
       "      <td>1902.0</td>\n",
       "      <td>91</td>\n",
       "      <td>K</td>\n",
       "      <td>JARED REPAIR SHOP</td>\n",
       "      <td>C3300I</td>\n",
       "      <td>JARED REPAIR SHOP 9283</td>\n",
       "      <td>AAJT011205960</td>\n",
       "      <td>27984.0</td>\n",
       "      <td>13000.0</td>\n",
       "      <td>1</td>\n",
       "      <td>4</td>\n",
       "      <td>30</td>\n",
       "      <td>2</td>\n",
       "      <td>4.391385</td>\n",
       "    </tr>\n",
       "    <tr>\n",
       "      <th>37196</th>\n",
       "      <td>202504</td>\n",
       "      <td>2025-04-30</td>\n",
       "      <td>28544.0</td>\n",
       "      <td>1902.0</td>\n",
       "      <td>91</td>\n",
       "      <td>Unknown</td>\n",
       "      <td>JARED REPAIR SHOP</td>\n",
       "      <td>C3300I</td>\n",
       "      <td>JARED REPAIR SHOP 9283</td>\n",
       "      <td>AAJT011205960</td>\n",
       "      <td>27984.0</td>\n",
       "      <td>NaN</td>\n",
       "      <td>1</td>\n",
       "      <td>4</td>\n",
       "      <td>30</td>\n",
       "      <td>2</td>\n",
       "      <td>NaN</td>\n",
       "    </tr>\n",
       "    <tr>\n",
       "      <th>37197</th>\n",
       "      <td>202504</td>\n",
       "      <td>2025-04-30</td>\n",
       "      <td>NaN</td>\n",
       "      <td>NaN</td>\n",
       "      <td>91</td>\n",
       "      <td>Y</td>\n",
       "      <td>JARED REPAIR SHOP</td>\n",
       "      <td>NaN</td>\n",
       "      <td>JARED REPAIR SHOP 9283</td>\n",
       "      <td>NaN</td>\n",
       "      <td>NaN</td>\n",
       "      <td>NaN</td>\n",
       "      <td>1</td>\n",
       "      <td>4</td>\n",
       "      <td>30</td>\n",
       "      <td>2</td>\n",
       "      <td>NaN</td>\n",
       "    </tr>\n",
       "  </tbody>\n",
       "</table>\n",
       "<p>37198 rows × 17 columns</p>\n",
       "</div>"
      ],
      "text/plain": [
       "       Period month year Created On  Total AMV  Total AMV (Avg)  \\\n",
       "0                 202112 2021-12-09        NaN              0.0   \n",
       "1                 202112 2021-12-13        NaN              0.0   \n",
       "2                 202112 2021-12-13        NaN              0.0   \n",
       "3                 202112 2021-12-13        NaN              0.0   \n",
       "4                 202112 2021-12-13        NaN              0.0   \n",
       "...                  ...        ...        ...              ...   \n",
       "37193             202504 2025-04-29     4459.0            297.0   \n",
       "37194             202504 2025-04-30    28544.0           1902.0   \n",
       "37195             202504 2025-04-30    28544.0           1902.0   \n",
       "37196             202504 2025-04-30    28544.0           1902.0   \n",
       "37197             202504 2025-04-30        NaN              NaN   \n",
       "\n",
       "       Days Since Creation    Color              Brand Model (Attr)  \\\n",
       "0                     1329        K       KAY JEWELERS       LXE460   \n",
       "1                     1325        C              JARED    HPPW556XH   \n",
       "2                     1325        K              JARED    HPPW556XH   \n",
       "3                     1325        M              JARED    HPPW556XH   \n",
       "4                     1325        Y              JARED    HPPW556XH   \n",
       "...                    ...      ...                ...          ...   \n",
       "37193                   92        Y     ZALES JEWELERS       C3300I   \n",
       "37194                   91        C  JARED REPAIR SHOP       C3300I   \n",
       "37195                   91        K  JARED REPAIR SHOP       C3300I   \n",
       "37196                   91  Unknown  JARED REPAIR SHOP       C3300I   \n",
       "37197                   91        Y  JARED REPAIR SHOP          NaN   \n",
       "\n",
       "                 Ship To Name  Serial Number  Total Read   ZYIELD  Line Count  \\\n",
       "0           KAY JEWELERS 1401  45145PHH2H80D         NaN   3500.0           1   \n",
       "1                  JARED 8590     CN79BBK15H         NaN   6000.0           1   \n",
       "2                  JARED 8590     CN79BBK15H         NaN   6000.0           1   \n",
       "3                  JARED 8590     CN79BBK15H         NaN   6000.0           1   \n",
       "4                  JARED 8590     CN79BBK15H         NaN   6000.0           1   \n",
       "...                       ...            ...         ...      ...         ...   \n",
       "37193     ZALES JEWELERS 8602  AAJT011204569         0.0   9000.0           1   \n",
       "37194  JARED REPAIR SHOP 9283  AAJT011205960     27984.0   9000.0           1   \n",
       "37195  JARED REPAIR SHOP 9283  AAJT011205960     27984.0  13000.0           1   \n",
       "37196  JARED REPAIR SHOP 9283  AAJT011205960     27984.0      NaN           1   \n",
       "37197  JARED REPAIR SHOP 9283            NaN         NaN      NaN           1   \n",
       "\n",
       "       month  day  day_num  Utilization Score  \n",
       "0         12    9        3                NaN  \n",
       "1         12   13        0                NaN  \n",
       "2         12   13        0                NaN  \n",
       "3         12   13        0                NaN  \n",
       "4         12   13        0                NaN  \n",
       "...      ...  ...      ...                ...  \n",
       "37193      4   29        1           0.990889  \n",
       "37194      4   30        2           6.343111  \n",
       "37195      4   30        2           4.391385  \n",
       "37196      4   30        2                NaN  \n",
       "37197      4   30        2                NaN  \n",
       "\n",
       "[37198 rows x 17 columns]"
      ]
     },
     "execution_count": 40,
     "metadata": {},
     "output_type": "execute_result"
    }
   ],
   "source": [
    "df_Utilization"
   ]
  },
  {
   "cell_type": "code",
   "execution_count": 46,
   "id": "545c780b",
   "metadata": {},
   "outputs": [
    {
     "data": {
      "application/vnd.microsoft.datawrangler.viewer.v0+json": {
       "columns": [
        {
         "name": "Period month year",
         "rawType": "int64",
         "type": "integer"
        },
        {
         "name": "count",
         "rawType": "int64",
         "type": "integer"
        }
       ],
       "ref": "7138e419-b0d0-4e9d-baa1-514ca69a39f0",
       "rows": [
        [
         "202301",
         "2"
        ],
        [
         "202303",
         "1"
        ],
        [
         "202304",
         "1"
        ],
        [
         "202310",
         "1"
        ],
        [
         "202401",
         "1"
        ],
        [
         "202402",
         "1"
        ],
        [
         "202404",
         "1"
        ],
        [
         "202405",
         "1"
        ],
        [
         "202409",
         "1"
        ],
        [
         "202412",
         "1"
        ],
        [
         "202503",
         "1"
        ],
        [
         "202504",
         "1"
        ]
       ],
       "shape": {
        "columns": 1,
        "rows": 12
       }
      },
      "text/plain": [
       "Period month year\n",
       "202301    2\n",
       "202303    1\n",
       "202304    1\n",
       "202310    1\n",
       "202401    1\n",
       "202402    1\n",
       "202404    1\n",
       "202405    1\n",
       "202409    1\n",
       "202412    1\n",
       "202503    1\n",
       "202504    1\n",
       "Name: count, dtype: int64"
      ]
     },
     "execution_count": 46,
     "metadata": {},
     "output_type": "execute_result"
    }
   ],
   "source": [
    "df_Utilization[(df_Utilization['Ship To Name']=='JARED 2420')]['Period month year'].value_counts()"
   ]
  },
  {
   "cell_type": "markdown",
   "id": "5f8bc7fe",
   "metadata": {},
   "source": []
  }
 ],
 "metadata": {
  "kernelspec": {
   "display_name": "venv",
   "language": "python",
   "name": "python3"
  },
  "language_info": {
   "codemirror_mode": {
    "name": "ipython",
    "version": 3
   },
   "file_extension": ".py",
   "mimetype": "text/x-python",
   "name": "python",
   "nbconvert_exporter": "python",
   "pygments_lexer": "ipython3",
   "version": "3.12.1"
  }
 },
 "nbformat": 4,
 "nbformat_minor": 5
}
